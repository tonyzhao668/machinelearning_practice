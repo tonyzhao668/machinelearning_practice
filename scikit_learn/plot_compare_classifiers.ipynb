{
 "cells": [
  {
   "cell_type": "code",
   "execution_count": 1,
   "metadata": {},
   "outputs": [],
   "source": [
    "%matplotlib inline"
   ]
  },
  {
   "cell_type": "markdown",
   "metadata": {},
   "source": [
    "\n",
    "Compare classifiers on the digits data\n",
    "=======================================\n",
    "\n",
    "Compare the performance of a variety of classifiers on a test set for the\n",
    "digits data.\n",
    "\n"
   ]
  },
  {
   "cell_type": "code",
   "execution_count": 3,
   "metadata": {},
   "outputs": [
    {
     "name": "stderr",
     "output_type": "stream",
     "text": [
      "C:\\Users\\User\\anaconda3\\envs\\PythonAdv\\lib\\site-packages\\sklearn\\svm\\_base.py:986: ConvergenceWarning: Liblinear failed to converge, increase the number of iterations.\n",
      "  \"the number of iterations.\", ConvergenceWarning)\n"
     ]
    },
    {
     "name": "stdout",
     "output_type": "stream",
     "text": [
      "LinearSVC: 0.9278180161983091\n",
      "GaussianNB: 0.8332741681010101\n",
      "KNeighborsClassifier: 0.9803567680392389\n",
      "------------------\n",
      "-------------------\n",
      "KNeighbors(n_neighbors=1): 0.9913675218842191\n",
      "KNeighbors(n_neighbors=2): 0.9848442068835102\n",
      "KNeighbors(n_neighbors=3): 0.9867753449543099\n",
      "KNeighbors(n_neighbors=4): 0.9803719053818863\n",
      "KNeighbors(n_neighbors=5): 0.9803567680392389\n",
      "KNeighbors(n_neighbors=6): 0.9757924194139573\n",
      "KNeighbors(n_neighbors=7): 0.9780645792142071\n",
      "KNeighbors(n_neighbors=8): 0.9780645792142071\n",
      "KNeighbors(n_neighbors=9): 0.9780645792142071\n",
      "KNeighbors(n_neighbors=10): 0.9755550897728812\n"
     ]
    }
   ],
   "source": [
    "from sklearn import model_selection, datasets, metrics\n",
    "from sklearn.svm import LinearSVC\n",
    "from sklearn.naive_bayes import GaussianNB\n",
    "from sklearn.neighbors import KNeighborsClassifier\n",
    "\n",
    "digits = datasets.load_digits()\n",
    "X = digits.data\n",
    "y = digits.target\n",
    "X_train, X_test, y_train, y_test = model_selection.train_test_split(X, y,\n",
    "                            test_size=0.25, random_state=0)\n",
    "\n",
    "for Model in [LinearSVC, GaussianNB, KNeighborsClassifier]:\n",
    "    clf = Model().fit(X_train, y_train)\n",
    "    y_pred = clf.predict(X_test)\n",
    "    print('%s: %s' %\n",
    "          (Model.__name__, metrics.f1_score(y_test, y_pred, average=\"macro\")))\n",
    "\n",
    "print('------------------')\n",
    "\n",
    "# # test SVC loss\n",
    "# for loss in ['l1', 'l2']:\n",
    "#     clf = LinearSVC(loss=loss).fit(X_train, y_train)\n",
    "#     y_pred = clf.predict(X_test)\n",
    "#     print(\"LinearSVC(loss='{0}'): {1}\".format(loss,\n",
    "#           metrics.f1_score(y_test, y_pred, average=\"macro\")))\n",
    "\n",
    "print('-------------------')\n",
    "\n",
    "# test the number of neighbors\n",
    "for n_neighbors in range(1, 11):\n",
    "    clf = KNeighborsClassifier(n_neighbors=n_neighbors).fit(X_train, y_train)\n",
    "    y_pred = clf.predict(X_test)\n",
    "    print(\"KNeighbors(n_neighbors={0}): {1}\".format(n_neighbors,\n",
    "        metrics.f1_score(y_test, y_pred, average=\"macro\")))"
   ]
  },
  {
   "cell_type": "code",
   "execution_count": null,
   "metadata": {},
   "outputs": [],
   "source": []
  }
 ],
 "metadata": {
  "kernelspec": {
   "display_name": "Python 3",
   "language": "python",
   "name": "python3"
  },
  "language_info": {
   "codemirror_mode": {
    "name": "ipython",
    "version": 3
   },
   "file_extension": ".py",
   "mimetype": "text/x-python",
   "name": "python",
   "nbconvert_exporter": "python",
   "pygments_lexer": "ipython3",
   "version": "3.6.13"
  }
 },
 "nbformat": 4,
 "nbformat_minor": 1
}
