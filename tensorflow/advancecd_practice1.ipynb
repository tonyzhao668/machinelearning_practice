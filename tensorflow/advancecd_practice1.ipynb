{
 "cells": [
  {
   "cell_type": "markdown",
   "id": "e7690ab9",
   "metadata": {},
   "source": [
    "# TensorFlow practice 1"
   ]
  },
  {
   "cell_type": "code",
   "execution_count": 1,
   "id": "1ed28db4",
   "metadata": {},
   "outputs": [],
   "source": [
    "# Load the TensorBoard notebook extension\n",
    "%load_ext tensorboard"
   ]
  },
  {
   "cell_type": "code",
   "execution_count": 2,
   "id": "2333a531",
   "metadata": {},
   "outputs": [],
   "source": [
    "import tensorflow as tf\n",
    "import datetime\n",
    "import pandas as pd\n",
    "import numpy as np"
   ]
  },
  {
   "cell_type": "code",
   "execution_count": 3,
   "id": "1f05df96",
   "metadata": {},
   "outputs": [],
   "source": [
    "mnist = tf.keras.datasets.mnist\n",
    "\n",
    "(x_train, y_train),(x_test, y_test) = mnist.load_data()\n",
    "x_train, x_test = x_train / 255.0, x_test / 255.0\n",
    "\n",
    "def create_model():\n",
    "    return tf.keras.models.Sequential([\n",
    "    tf.keras.layers.Flatten(input_shape=(28, 28)),\n",
    "    tf.keras.layers.Dense(512, activation='relu'),\n",
    "    tf.keras.layers.Dropout(0.2),\n",
    "    tf.keras.layers.Dense(10, activation='softmax')\n",
    "  ])"
   ]
  },
  {
   "cell_type": "code",
   "execution_count": 4,
   "id": "edbbec1a",
   "metadata": {},
   "outputs": [],
   "source": [
    "#mnist.load_data()"
   ]
  },
  {
   "cell_type": "code",
   "execution_count": 5,
   "id": "b3897000",
   "metadata": {},
   "outputs": [
    {
     "data": {
      "text/plain": [
       "(60000, 28, 28)"
      ]
     },
     "execution_count": 5,
     "metadata": {},
     "output_type": "execute_result"
    }
   ],
   "source": [
    "# this why input_shap=(28, 28)\n",
    "x_train.shape"
   ]
  },
  {
   "cell_type": "code",
   "execution_count": 6,
   "id": "081e3d70",
   "metadata": {},
   "outputs": [
    {
     "data": {
      "text/plain": [
       "array([0., 0., 0., 0., 0., 0., 0., 0., 0., 0., 0., 0., 0., 0., 0., 0., 0.,\n",
       "       0., 0., 0., 0., 0., 0., 0., 0., 0., 0., 0.])"
      ]
     },
     "execution_count": 6,
     "metadata": {},
     "output_type": "execute_result"
    }
   ],
   "source": [
    "x_train[0,0,]"
   ]
  },
  {
   "cell_type": "code",
   "execution_count": 7,
   "id": "fe8401eb",
   "metadata": {},
   "outputs": [
    {
     "data": {
      "text/plain": [
       "(60000,)"
      ]
     },
     "execution_count": 7,
     "metadata": {},
     "output_type": "execute_result"
    }
   ],
   "source": [
    "y_train.shape"
   ]
  },
  {
   "cell_type": "code",
   "execution_count": 8,
   "id": "1d2affda",
   "metadata": {},
   "outputs": [
    {
     "data": {
      "text/plain": [
       "array([5, 0, 4, ..., 5, 6, 8], dtype=uint8)"
      ]
     },
     "execution_count": 8,
     "metadata": {},
     "output_type": "execute_result"
    }
   ],
   "source": [
    "y_train"
   ]
  },
  {
   "cell_type": "code",
   "execution_count": 9,
   "id": "0565a741",
   "metadata": {},
   "outputs": [
    {
     "data": {
      "text/plain": [
       "array([0, 1, 2, 3, 4, 5, 6, 7, 8, 9], dtype=uint8)"
      ]
     },
     "execution_count": 9,
     "metadata": {},
     "output_type": "execute_result"
    }
   ],
   "source": [
    "# find out the unique values, this is why output dense is 10\n",
    "np.unique(y_train)"
   ]
  },
  {
   "cell_type": "code",
   "execution_count": 10,
   "id": "d7b06280",
   "metadata": {},
   "outputs": [
    {
     "name": "stdout",
     "output_type": "stream",
     "text": [
      "Epoch 1/70\n",
      "1875/1875 [==============================] - 8s 4ms/step - loss: 0.2201 - accuracy: 0.9351 - val_loss: 0.1171 - val_accuracy: 0.9635\n",
      "Epoch 2/70\n",
      "1875/1875 [==============================] - 7s 4ms/step - loss: 0.0980 - accuracy: 0.9705 - val_loss: 0.0744 - val_accuracy: 0.9770\n",
      "Epoch 3/70\n",
      "1875/1875 [==============================] - 7s 4ms/step - loss: 0.0685 - accuracy: 0.9786 - val_loss: 0.0716 - val_accuracy: 0.9792\n",
      "Epoch 4/70\n",
      "1875/1875 [==============================] - 7s 4ms/step - loss: 0.0513 - accuracy: 0.9839 - val_loss: 0.0724 - val_accuracy: 0.9772\n",
      "Epoch 5/70\n",
      "1875/1875 [==============================] - 7s 4ms/step - loss: 0.0451 - accuracy: 0.9855 - val_loss: 0.0673 - val_accuracy: 0.9794\n",
      "Epoch 6/70\n",
      "1875/1875 [==============================] - 7s 4ms/step - loss: 0.0376 - accuracy: 0.9879 - val_loss: 0.0657 - val_accuracy: 0.9823\n",
      "Epoch 7/70\n",
      "1875/1875 [==============================] - 7s 4ms/step - loss: 0.0310 - accuracy: 0.9891 - val_loss: 0.0638 - val_accuracy: 0.9825\n",
      "Epoch 8/70\n",
      "1875/1875 [==============================] - 7s 4ms/step - loss: 0.0256 - accuracy: 0.9910 - val_loss: 0.0680 - val_accuracy: 0.9829\n",
      "Epoch 9/70\n",
      "1875/1875 [==============================] - 7s 4ms/step - loss: 0.0242 - accuracy: 0.9920 - val_loss: 0.0687 - val_accuracy: 0.9827\n",
      "Epoch 10/70\n",
      "1875/1875 [==============================] - 7s 4ms/step - loss: 0.0212 - accuracy: 0.9929 - val_loss: 0.0785 - val_accuracy: 0.9806\n",
      "Epoch 11/70\n",
      "1875/1875 [==============================] - 7s 4ms/step - loss: 0.0196 - accuracy: 0.9933 - val_loss: 0.0712 - val_accuracy: 0.9819\n",
      "Epoch 12/70\n",
      "1875/1875 [==============================] - 7s 4ms/step - loss: 0.0207 - accuracy: 0.9931 - val_loss: 0.0783 - val_accuracy: 0.9827\n",
      "Epoch 13/70\n",
      "1875/1875 [==============================] - 7s 4ms/step - loss: 0.0195 - accuracy: 0.9937 - val_loss: 0.0716 - val_accuracy: 0.9833\n",
      "Epoch 14/70\n",
      "1875/1875 [==============================] - 7s 4ms/step - loss: 0.0164 - accuracy: 0.9947 - val_loss: 0.0725 - val_accuracy: 0.9852\n",
      "Epoch 15/70\n",
      "1875/1875 [==============================] - 7s 4ms/step - loss: 0.0151 - accuracy: 0.9949 - val_loss: 0.0771 - val_accuracy: 0.9829\n",
      "Epoch 16/70\n",
      "1875/1875 [==============================] - 7s 4ms/step - loss: 0.0154 - accuracy: 0.9945 - val_loss: 0.0817 - val_accuracy: 0.9833\n",
      "Epoch 17/70\n",
      "1875/1875 [==============================] - 7s 4ms/step - loss: 0.0147 - accuracy: 0.9949 - val_loss: 0.0859 - val_accuracy: 0.9824\n",
      "Epoch 18/70\n",
      "1875/1875 [==============================] - 7s 4ms/step - loss: 0.0134 - accuracy: 0.9954 - val_loss: 0.1022 - val_accuracy: 0.9805\n",
      "Epoch 19/70\n",
      "1875/1875 [==============================] - 7s 4ms/step - loss: 0.0143 - accuracy: 0.9952 - val_loss: 0.1065 - val_accuracy: 0.9812\n",
      "Epoch 20/70\n",
      "1875/1875 [==============================] - 7s 4ms/step - loss: 0.0123 - accuracy: 0.9959 - val_loss: 0.0838 - val_accuracy: 0.9829\n",
      "Epoch 21/70\n",
      "1875/1875 [==============================] - 7s 4ms/step - loss: 0.0116 - accuracy: 0.9964 - val_loss: 0.1099 - val_accuracy: 0.9822\n",
      "Epoch 22/70\n",
      "1875/1875 [==============================] - 7s 4ms/step - loss: 0.0126 - accuracy: 0.9956 - val_loss: 0.1016 - val_accuracy: 0.9820\n",
      "Epoch 23/70\n",
      "1875/1875 [==============================] - 7s 4ms/step - loss: 0.0122 - accuracy: 0.9960 - val_loss: 0.1074 - val_accuracy: 0.9816\n",
      "Epoch 24/70\n",
      "1875/1875 [==============================] - 7s 4ms/step - loss: 0.0108 - accuracy: 0.9964 - val_loss: 0.0928 - val_accuracy: 0.9843\n",
      "Epoch 25/70\n",
      "1875/1875 [==============================] - 7s 4ms/step - loss: 0.0114 - accuracy: 0.9963 - val_loss: 0.1100 - val_accuracy: 0.9817\n",
      "Epoch 26/70\n",
      "1875/1875 [==============================] - 7s 4ms/step - loss: 0.0123 - accuracy: 0.9961 - val_loss: 0.1074 - val_accuracy: 0.9827\n",
      "Epoch 27/70\n",
      "1875/1875 [==============================] - 7s 4ms/step - loss: 0.0103 - accuracy: 0.9966 - val_loss: 0.1175 - val_accuracy: 0.9815\n",
      "Epoch 28/70\n",
      "1875/1875 [==============================] - 7s 4ms/step - loss: 0.0115 - accuracy: 0.9961 - val_loss: 0.1072 - val_accuracy: 0.9830\n",
      "Epoch 29/70\n",
      "1875/1875 [==============================] - 7s 4ms/step - loss: 0.0098 - accuracy: 0.9969 - val_loss: 0.1144 - val_accuracy: 0.9824\n",
      "Epoch 30/70\n",
      "1875/1875 [==============================] - 7s 4ms/step - loss: 0.0104 - accuracy: 0.9967 - val_loss: 0.1292 - val_accuracy: 0.9818\n",
      "Epoch 31/70\n",
      "1875/1875 [==============================] - 7s 4ms/step - loss: 0.0104 - accuracy: 0.9971 - val_loss: 0.1257 - val_accuracy: 0.9829\n",
      "Epoch 32/70\n",
      "1875/1875 [==============================] - 7s 4ms/step - loss: 0.0109 - accuracy: 0.9968 - val_loss: 0.1552 - val_accuracy: 0.9800\n",
      "Epoch 33/70\n",
      "1875/1875 [==============================] - 7s 4ms/step - loss: 0.0119 - accuracy: 0.9965 - val_loss: 0.1236 - val_accuracy: 0.9836\n",
      "Epoch 34/70\n",
      "1875/1875 [==============================] - 7s 4ms/step - loss: 0.0081 - accuracy: 0.9976 - val_loss: 0.1286 - val_accuracy: 0.9825\n",
      "Epoch 35/70\n",
      "1875/1875 [==============================] - 7s 4ms/step - loss: 0.0107 - accuracy: 0.9970 - val_loss: 0.1577 - val_accuracy: 0.9792\n",
      "Epoch 36/70\n",
      "1875/1875 [==============================] - 7s 4ms/step - loss: 0.0131 - accuracy: 0.9963 - val_loss: 0.1214 - val_accuracy: 0.9829\n",
      "Epoch 37/70\n",
      "1875/1875 [==============================] - 7s 4ms/step - loss: 0.0096 - accuracy: 0.9972 - val_loss: 0.1290 - val_accuracy: 0.9826\n",
      "Epoch 38/70\n",
      "1875/1875 [==============================] - 7s 4ms/step - loss: 0.0093 - accuracy: 0.9975 - val_loss: 0.1278 - val_accuracy: 0.9837\n",
      "Epoch 39/70\n",
      "1875/1875 [==============================] - 7s 4ms/step - loss: 0.0116 - accuracy: 0.9966 - val_loss: 0.1303 - val_accuracy: 0.9824\n",
      "Epoch 40/70\n",
      "1875/1875 [==============================] - 7s 4ms/step - loss: 0.0086 - accuracy: 0.9977 - val_loss: 0.1396 - val_accuracy: 0.9826\n",
      "Epoch 41/70\n",
      "1875/1875 [==============================] - 7s 4ms/step - loss: 0.0105 - accuracy: 0.9969 - val_loss: 0.1468 - val_accuracy: 0.9820\n",
      "Epoch 42/70\n",
      "1875/1875 [==============================] - 7s 4ms/step - loss: 0.0090 - accuracy: 0.9974 - val_loss: 0.1419 - val_accuracy: 0.9836\n",
      "Epoch 43/70\n",
      "1875/1875 [==============================] - 7s 4ms/step - loss: 0.0084 - accuracy: 0.9977 - val_loss: 0.1508 - val_accuracy: 0.9808\n",
      "Epoch 44/70\n",
      "1875/1875 [==============================] - 7s 4ms/step - loss: 0.0112 - accuracy: 0.9969 - val_loss: 0.1390 - val_accuracy: 0.9836\n",
      "Epoch 45/70\n",
      "1875/1875 [==============================] - 7s 4ms/step - loss: 0.0059 - accuracy: 0.9982 - val_loss: 0.1422 - val_accuracy: 0.9838\n",
      "Epoch 46/70\n",
      "1875/1875 [==============================] - 7s 4ms/step - loss: 0.0095 - accuracy: 0.9973 - val_loss: 0.1371 - val_accuracy: 0.9842\n",
      "Epoch 47/70\n",
      "1875/1875 [==============================] - 7s 4ms/step - loss: 0.0104 - accuracy: 0.9976 - val_loss: 0.1393 - val_accuracy: 0.9836\n",
      "Epoch 48/70\n",
      "1875/1875 [==============================] - 7s 4ms/step - loss: 0.0079 - accuracy: 0.9978 - val_loss: 0.1336 - val_accuracy: 0.9827\n",
      "Epoch 49/70\n",
      "1875/1875 [==============================] - 7s 4ms/step - loss: 0.0104 - accuracy: 0.9972 - val_loss: 0.1482 - val_accuracy: 0.9830\n",
      "Epoch 50/70\n",
      "1875/1875 [==============================] - 7s 4ms/step - loss: 0.0070 - accuracy: 0.9981 - val_loss: 0.1600 - val_accuracy: 0.9838\n",
      "Epoch 51/70\n",
      "1875/1875 [==============================] - 7s 4ms/step - loss: 0.0098 - accuracy: 0.9973 - val_loss: 0.1547 - val_accuracy: 0.9824\n",
      "Epoch 52/70\n",
      "1875/1875 [==============================] - 7s 4ms/step - loss: 0.0077 - accuracy: 0.9980 - val_loss: 0.1480 - val_accuracy: 0.9836\n",
      "Epoch 53/70\n",
      "1875/1875 [==============================] - 7s 4ms/step - loss: 0.0071 - accuracy: 0.9980 - val_loss: 0.1507 - val_accuracy: 0.9844\n",
      "Epoch 54/70\n",
      "1875/1875 [==============================] - 7s 4ms/step - loss: 0.0060 - accuracy: 0.9984 - val_loss: 0.1458 - val_accuracy: 0.9844\n",
      "Epoch 55/70\n",
      "1875/1875 [==============================] - 7s 4ms/step - loss: 0.0113 - accuracy: 0.9972 - val_loss: 0.1497 - val_accuracy: 0.9848\n",
      "Epoch 56/70\n",
      "1875/1875 [==============================] - 7s 4ms/step - loss: 0.0077 - accuracy: 0.9979 - val_loss: 0.1685 - val_accuracy: 0.9832\n",
      "Epoch 57/70\n"
     ]
    },
    {
     "name": "stdout",
     "output_type": "stream",
     "text": [
      "1875/1875 [==============================] - 7s 4ms/step - loss: 0.0080 - accuracy: 0.9977 - val_loss: 0.1654 - val_accuracy: 0.9827\n",
      "Epoch 58/70\n",
      "1875/1875 [==============================] - 7s 4ms/step - loss: 0.0066 - accuracy: 0.9981 - val_loss: 0.1710 - val_accuracy: 0.9828\n",
      "Epoch 59/70\n",
      "1875/1875 [==============================] - 7s 4ms/step - loss: 0.0097 - accuracy: 0.9975 - val_loss: 0.1663 - val_accuracy: 0.9847\n",
      "Epoch 60/70\n",
      "1875/1875 [==============================] - 7s 4ms/step - loss: 0.0079 - accuracy: 0.9979 - val_loss: 0.1810 - val_accuracy: 0.9834\n",
      "Epoch 61/70\n",
      "1875/1875 [==============================] - 7s 4ms/step - loss: 0.0071 - accuracy: 0.9981 - val_loss: 0.1662 - val_accuracy: 0.9845\n",
      "Epoch 62/70\n",
      "1875/1875 [==============================] - 8s 4ms/step - loss: 0.0078 - accuracy: 0.9978 - val_loss: 0.1806 - val_accuracy: 0.9848\n",
      "Epoch 63/70\n",
      "1875/1875 [==============================] - 7s 4ms/step - loss: 0.0088 - accuracy: 0.9978 - val_loss: 0.1764 - val_accuracy: 0.9831\n",
      "Epoch 64/70\n",
      "1875/1875 [==============================] - 7s 4ms/step - loss: 0.0066 - accuracy: 0.9984 - val_loss: 0.1614 - val_accuracy: 0.9849\n",
      "Epoch 65/70\n",
      "1875/1875 [==============================] - 7s 4ms/step - loss: 0.0074 - accuracy: 0.9981 - val_loss: 0.1800 - val_accuracy: 0.9826\n",
      "Epoch 66/70\n",
      "1875/1875 [==============================] - 7s 4ms/step - loss: 0.0075 - accuracy: 0.9983 - val_loss: 0.1740 - val_accuracy: 0.9833\n",
      "Epoch 67/70\n",
      "1875/1875 [==============================] - 7s 4ms/step - loss: 0.0081 - accuracy: 0.9980 - val_loss: 0.1890 - val_accuracy: 0.9830\n",
      "Epoch 68/70\n",
      "1875/1875 [==============================] - 7s 4ms/step - loss: 0.0070 - accuracy: 0.9982 - val_loss: 0.1786 - val_accuracy: 0.9832\n",
      "Epoch 69/70\n",
      "1875/1875 [==============================] - 7s 4ms/step - loss: 0.0070 - accuracy: 0.9983 - val_loss: 0.1700 - val_accuracy: 0.9834\n",
      "Epoch 70/70\n",
      "1875/1875 [==============================] - 7s 4ms/step - loss: 0.0056 - accuracy: 0.9984 - val_loss: 0.1594 - val_accuracy: 0.9850\n"
     ]
    },
    {
     "data": {
      "text/plain": [
       "<tensorflow.python.keras.callbacks.History at 0x25e82f34f98>"
      ]
     },
     "execution_count": 10,
     "metadata": {},
     "output_type": "execute_result"
    }
   ],
   "source": [
    "model = create_model()\n",
    "model.compile(optimizer='adam',\n",
    "              loss='sparse_categorical_crossentropy',\n",
    "              metrics=['accuracy'])\n",
    "\n",
    "log_dir = \"logs/fit/\" + datetime.datetime.now().strftime(\"%Y%m%d-%H%M%S\")\n",
    "tensorboard_callback = tf.keras.callbacks.TensorBoard(log_dir=log_dir, histogram_freq=1)\n",
    "\n",
    "model.fit(x=x_train, \n",
    "          y=y_train, \n",
    "          epochs=70, \n",
    "          validation_data=(x_test, y_test), \n",
    "          callbacks=[tensorboard_callback])"
   ]
  },
  {
   "cell_type": "code",
   "execution_count": 11,
   "id": "92d3bdee",
   "metadata": {},
   "outputs": [
    {
     "data": {
      "text/html": [
       "\n",
       "      <iframe id=\"tensorboard-frame-3d0d69f1937c7414\" width=\"100%\" height=\"800\" frameborder=\"0\">\n",
       "      </iframe>\n",
       "      <script>\n",
       "        (function() {\n",
       "          const frame = document.getElementById(\"tensorboard-frame-3d0d69f1937c7414\");\n",
       "          const url = new URL(\"/\", window.location);\n",
       "          const port = 6006;\n",
       "          if (port) {\n",
       "            url.port = port;\n",
       "          }\n",
       "          frame.src = url;\n",
       "        })();\n",
       "      </script>\n",
       "    "
      ],
      "text/plain": [
       "<IPython.core.display.HTML object>"
      ]
     },
     "metadata": {},
     "output_type": "display_data"
    }
   ],
   "source": [
    "%tensorboard --logdir logs/fit"
   ]
  },
  {
   "cell_type": "markdown",
   "id": "6bf87795",
   "metadata": {},
   "source": [
    "## Using TensorBoard with other methods"
   ]
  },
  {
   "cell_type": "code",
   "execution_count": 12,
   "id": "b26f7db7",
   "metadata": {},
   "outputs": [],
   "source": [
    "#Use the same dataset as above, but convert it to tf.data.Dataset to take advantage of batching capabilities:\n",
    "train_dataset = tf.data.Dataset.from_tensor_slices((x_train, y_train))\n",
    "test_dataset = tf.data.Dataset.from_tensor_slices((x_test, y_test))\n",
    "\n",
    "train_dataset = train_dataset.shuffle(60000).batch(64)\n",
    "test_dataset = test_dataset.batch(64)"
   ]
  },
  {
   "cell_type": "code",
   "execution_count": 13,
   "id": "12bfd44f",
   "metadata": {},
   "outputs": [],
   "source": [
    "loss_object = tf.keras.losses.SparseCategoricalCrossentropy()\n",
    "optimizer = tf.keras.optimizers.Adam()"
   ]
  },
  {
   "cell_type": "code",
   "execution_count": 14,
   "id": "48b5039d",
   "metadata": {},
   "outputs": [],
   "source": [
    "#Create stateful metrics that can be used to accumulate values during training and logged at any point:\n",
    "\n",
    "# Define our metrics\n",
    "train_loss = tf.keras.metrics.Mean('train_loss', dtype=tf.float32)\n",
    "train_accuracy = tf.keras.metrics.SparseCategoricalAccuracy('train_accuracy')\n",
    "test_loss = tf.keras.metrics.Mean('test_loss', dtype=tf.float32)\n",
    "test_accuracy = tf.keras.metrics.SparseCategoricalAccuracy('test_accuracy')"
   ]
  },
  {
   "cell_type": "code",
   "execution_count": 15,
   "id": "9d307fd3",
   "metadata": {},
   "outputs": [],
   "source": [
    "#Define the training and test functions:\n",
    "def train_step(model, optimizer, x_train, y_train):\n",
    "    with tf.GradientTape() as tape:\n",
    "        predictions = model(x_train, training=True)\n",
    "        loss = loss_object(y_train, predictions)\n",
    "        grads = tape.gradient(loss, model.trainable_variables)\n",
    "        optimizer.apply_gradients(zip(grads, model.trainable_variables))\n",
    "\n",
    "        train_loss(loss)\n",
    "        train_accuracy(y_train, predictions)\n",
    "\n",
    "def test_step(model, x_test, y_test):\n",
    "    predictions = model(x_test)\n",
    "    loss = loss_object(y_test, predictions)\n",
    "\n",
    "    test_loss(loss)\n",
    "    test_accuracy(y_test, predictions)"
   ]
  },
  {
   "cell_type": "code",
   "execution_count": 16,
   "id": "14cb1049",
   "metadata": {},
   "outputs": [],
   "source": [
    "#Set up summary writers to write the summaries to disk in a different logs directory:\n",
    "current_time = datetime.datetime.now().strftime(\"%Y%m%d-%H%M%S\")\n",
    "train_log_dir = 'logs/gradient_tape/' + current_time + '/train'\n",
    "test_log_dir = 'logs/gradient_tape/' + current_time + '/test'\n",
    "train_summary_writer = tf.summary.create_file_writer(train_log_dir)\n",
    "test_summary_writer = tf.summary.create_file_writer(test_log_dir)"
   ]
  },
  {
   "cell_type": "code",
   "execution_count": 17,
   "id": "6dab7a3a",
   "metadata": {},
   "outputs": [
    {
     "name": "stdout",
     "output_type": "stream",
     "text": [
      "Epoch 1, Loss: 0.24611052870750427, Accuracy: 92.70166778564453, Test Loss: 0.1238837018609047, Test Accuracy: 96.21000671386719\n",
      "Epoch 2, Loss: 0.10494938492774963, Accuracy: 96.86000061035156, Test Loss: 0.08949847519397736, Test Accuracy: 97.05999755859375\n",
      "Epoch 3, Loss: 0.0724712684750557, Accuracy: 97.788330078125, Test Loss: 0.07162424921989441, Test Accuracy: 97.86000061035156\n",
      "Epoch 4, Loss: 0.0551287904381752, Accuracy: 98.2550048828125, Test Loss: 0.06464751809835434, Test Accuracy: 98.0\n",
      "Epoch 5, Loss: 0.043045539408922195, Accuracy: 98.6199951171875, Test Loss: 0.07003224641084671, Test Accuracy: 97.69999694824219\n",
      "Epoch 6, Loss: 0.03422348573803902, Accuracy: 98.9433364868164, Test Loss: 0.062081124633550644, Test Accuracy: 98.1500015258789\n",
      "Epoch 7, Loss: 0.030936535447835922, Accuracy: 99.04000091552734, Test Loss: 0.056482456624507904, Test Accuracy: 98.33999633789062\n",
      "Epoch 8, Loss: 0.02610090747475624, Accuracy: 99.1550064086914, Test Loss: 0.06350827217102051, Test Accuracy: 98.12999725341797\n"
     ]
    }
   ],
   "source": [
    "model = create_model() # reset our model\n",
    "\n",
    "EPOCHS = 8\n",
    "\n",
    "for epoch in range(EPOCHS):\n",
    "    for (x_train, y_train) in train_dataset:\n",
    "        train_step(model, optimizer, x_train, y_train)\n",
    "        with train_summary_writer.as_default():\n",
    "            tf.summary.scalar('loss', train_loss.result(), step=epoch)\n",
    "            tf.summary.scalar('accuracy', train_accuracy.result(), step=epoch)\n",
    "\n",
    "    for (x_test, y_test) in test_dataset:\n",
    "        test_step(model, x_test, y_test)\n",
    "        with test_summary_writer.as_default():\n",
    "            tf.summary.scalar('loss', test_loss.result(), step=epoch)\n",
    "            tf.summary.scalar('accuracy', test_accuracy.result(), step=epoch)\n",
    "\n",
    "    template = 'Epoch {}, Loss: {}, Accuracy: {}, Test Loss: {}, Test Accuracy: {}'\n",
    "    print (template.format(epoch+1,\n",
    "                         train_loss.result(), \n",
    "                         train_accuracy.result()*100,\n",
    "                         test_loss.result(), \n",
    "                         test_accuracy.result()*100))\n",
    "    # Reset metrics every epoch\n",
    "    train_loss.reset_states()\n",
    "    test_loss.reset_states()\n",
    "    train_accuracy.reset_states()\n",
    "    test_accuracy.reset_states()\n"
   ]
  },
  {
   "cell_type": "code",
   "execution_count": 18,
   "id": "db3d3437",
   "metadata": {},
   "outputs": [
    {
     "data": {
      "text/html": [
       "\n",
       "      <iframe id=\"tensorboard-frame-36f7904e61691a2\" width=\"100%\" height=\"800\" frameborder=\"0\">\n",
       "      </iframe>\n",
       "      <script>\n",
       "        (function() {\n",
       "          const frame = document.getElementById(\"tensorboard-frame-36f7904e61691a2\");\n",
       "          const url = new URL(\"/\", window.location);\n",
       "          const port = 6006;\n",
       "          if (port) {\n",
       "            url.port = port;\n",
       "          }\n",
       "          frame.src = url;\n",
       "        })();\n",
       "      </script>\n",
       "    "
      ],
      "text/plain": [
       "<IPython.core.display.HTML object>"
      ]
     },
     "metadata": {},
     "output_type": "display_data"
    }
   ],
   "source": [
    "%tensorboard --logdir logs/gradient_tape"
   ]
  },
  {
   "cell_type": "markdown",
   "id": "5481018d",
   "metadata": {},
   "source": [
    "## Save and reload trained model"
   ]
  },
  {
   "cell_type": "code",
   "execution_count": 19,
   "id": "59e2c715",
   "metadata": {},
   "outputs": [
    {
     "name": "stdout",
     "output_type": "stream",
     "text": [
      "WARNING:tensorflow:Compiled the loaded model, but the compiled metrics have yet to be built. `model.compile_metrics` will be empty until you train or evaluate the model.\n"
     ]
    }
   ],
   "source": [
    "# Save the model\n",
    "model.save(\"adv_model_trained.h5\")"
   ]
  },
  {
   "cell_type": "code",
   "execution_count": 20,
   "id": "f73d4de4",
   "metadata": {},
   "outputs": [
    {
     "name": "stdout",
     "output_type": "stream",
     "text": [
      "WARNING:tensorflow:No training configuration found in the save file, so the model was *not* compiled. Compile it manually.\n"
     ]
    }
   ],
   "source": [
    "# Load the model\n",
    "from tensorflow.keras.models import load_model\n",
    "adv_model = load_model(\"adv_model_trained.h5\")"
   ]
  },
  {
   "cell_type": "code",
   "execution_count": 21,
   "id": "53bca73b",
   "metadata": {},
   "outputs": [],
   "source": [
    "#reloaded model must compile before use\n",
    "adv_model.compile(optimizer='adam',\n",
    "              loss='sparse_categorical_crossentropy',\n",
    "              metrics=['accuracy'])"
   ]
  },
  {
   "cell_type": "markdown",
   "id": "52fe5373",
   "metadata": {},
   "source": [
    "## evaluate reloaded model"
   ]
  },
  {
   "cell_type": "code",
   "execution_count": 22,
   "id": "601a939a",
   "metadata": {},
   "outputs": [
    {
     "name": "stdout",
     "output_type": "stream",
     "text": [
      "1/1 - 0s - loss: 3.2503e-04 - accuracy: 1.0000\n",
      "Normal Neural Network - Loss: 0.0003250319859944284, Accuracy: 1.0\n"
     ]
    }
   ],
   "source": [
    "model_loss, model_accuracy = adv_model.evaluate(\n",
    "    x_test, y_test, verbose=2)\n",
    "print(\n",
    "    f\"Normal Neural Network - Loss: {model_loss}, Accuracy: {model_accuracy}\")"
   ]
  },
  {
   "cell_type": "code",
   "execution_count": null,
   "id": "547b3841",
   "metadata": {},
   "outputs": [],
   "source": []
  }
 ],
 "metadata": {
  "kernelspec": {
   "display_name": "Python [conda env:pythonAdv] *",
   "language": "python",
   "name": "conda-env-pythonAdv-py"
  },
  "language_info": {
   "codemirror_mode": {
    "name": "ipython",
    "version": 3
   },
   "file_extension": ".py",
   "mimetype": "text/x-python",
   "name": "python",
   "nbconvert_exporter": "python",
   "pygments_lexer": "ipython3",
   "version": "3.6.13"
  }
 },
 "nbformat": 4,
 "nbformat_minor": 5
}
