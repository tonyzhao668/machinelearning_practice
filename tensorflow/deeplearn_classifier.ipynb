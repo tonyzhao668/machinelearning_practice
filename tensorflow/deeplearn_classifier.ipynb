{
 "cells": [
  {
   "cell_type": "markdown",
   "id": "e7690ab9",
   "metadata": {},
   "source": [
    "## DEEP LEARNING Tensorflow Neural Networks with Keras for classify"
   ]
  },
  {
   "cell_type": "code",
   "execution_count": 1,
   "id": "bc82df64",
   "metadata": {},
   "outputs": [],
   "source": [
    "# Set the seed value for the notebook so the results are reproducible\n",
    "from numpy.random import seed\n",
    "seed(1)\n",
    "from tensorflow import random\n",
    "random.set_seed(1)"
   ]
  },
  {
   "cell_type": "code",
   "execution_count": 2,
   "id": "37837bdb",
   "metadata": {},
   "outputs": [],
   "source": [
    "%matplotlib inline\n",
    "import matplotlib.pyplot as plt\n",
    "import numpy as np\n",
    "import sklearn\n",
    "import sklearn.datasets"
   ]
  },
  {
   "cell_type": "markdown",
   "id": "24a58975",
   "metadata": {},
   "source": [
    "## firstly we use Neural Network without deep learning to be compared with deep learning later"
   ]
  },
  {
   "cell_type": "code",
   "execution_count": 3,
   "id": "6973a6d0",
   "metadata": {},
   "outputs": [],
   "source": [
    "# Create Data\n",
    "X, y = sklearn.datasets.make_circles(noise=0.05, factor=.2, random_state=1)"
   ]
  },
  {
   "cell_type": "code",
   "execution_count": 4,
   "id": "7a4c0e7f",
   "metadata": {},
   "outputs": [
    {
     "data": {
      "text/plain": [
       "<matplotlib.collections.PathCollection at 0x25e7ce379b0>"
      ]
     },
     "execution_count": 4,
     "metadata": {},
     "output_type": "execute_result"
    },
    {
     "data": {
      "image/png": "[encoded data removed]",
      "text/plain": [
       "<Figure size 432x288 with 1 Axes>"
      ]
     },
     "metadata": {
      "needs_background": "light"
     },
     "output_type": "display_data"
    }
   ],
   "source": [
    "# Visualize Data\n",
    "plt.scatter(X[:, 0], X[:, 1], c=y)"
   ]
  },
  {
   "cell_type": "code",
   "execution_count": 5,
   "id": "edfd7adb",
   "metadata": {},
   "outputs": [],
   "source": [
    "# Use train_test_split to create training and testing data\n",
    "from sklearn.model_selection import train_test_split\n",
    "\n",
    "X_train, X_test, y_train, y_test = train_test_split(X, y, random_state=1)"
   ]
  },
  {
   "cell_type": "code",
   "execution_count": 7,
   "id": "c2867b66",
   "metadata": {},
   "outputs": [],
   "source": [
    "from sklearn.preprocessing import StandardScaler\n",
    "\n",
    "# Create a StandardScater model and fit it to the training data\n",
    "X_scaler = StandardScaler().fit(X_train)"
   ]
  },
  {
   "cell_type": "code",
   "execution_count": 8,
   "id": "68976119",
   "metadata": {},
   "outputs": [],
   "source": [
    "# Transform the training and testing data using the X_scaler\n",
    "\n",
    "X_train_scaled = X_scaler.transform(X_train)\n",
    "X_test_scaled = X_scaler.transform(X_test)"
   ]
  },
  {
   "cell_type": "code",
   "execution_count": 9,
   "id": "d6c4ea9e",
   "metadata": {},
   "outputs": [],
   "source": [
    "from tensorflow.keras.utils import to_categorical"
   ]
  },
  {
   "cell_type": "code",
   "execution_count": 10,
   "id": "ea137a60",
   "metadata": {},
   "outputs": [],
   "source": [
    "# One-hot encoding\n",
    "y_train_categorical = to_categorical(y_train)\n",
    "y_test_categorical = to_categorical(y_test)"
   ]
  },
  {
   "cell_type": "code",
   "execution_count": 11,
   "id": "eacdcc34",
   "metadata": {},
   "outputs": [],
   "source": [
    "# first, create a normal neural network with 2 inputs, 6 hidden nodes, and 2 outputs\n",
    "from tensorflow.keras.models import Sequential\n",
    "from tensorflow.keras.layers import Dense\n",
    "\n",
    "model = Sequential()\n",
    "model.add(Dense(units=6, activation='relu', input_dim=2))\n",
    "model.add(Dense(units=2, activation='softmax'))"
   ]
  },
  {
   "cell_type": "code",
   "execution_count": 12,
   "id": "ce051f46",
   "metadata": {},
   "outputs": [
    {
     "name": "stdout",
     "output_type": "stream",
     "text": [
      "Model: \"sequential\"\n",
      "_________________________________________________________________\n",
      "Layer (type)                 Output Shape              Param #   \n",
      "=================================================================\n",
      "dense (Dense)                (None, 6)                 18        \n",
      "_________________________________________________________________\n",
      "dense_1 (Dense)              (None, 2)                 14        \n",
      "=================================================================\n",
      "Total params: 32\n",
      "Trainable params: 32\n",
      "Non-trainable params: 0\n",
      "_________________________________________________________________\n"
     ]
    }
   ],
   "source": [
    "model.summary()"
   ]
  },
  {
   "cell_type": "code",
   "execution_count": 13,
   "id": "fec52e28",
   "metadata": {},
   "outputs": [],
   "source": [
    "# Compile the model\n",
    "model.compile(optimizer='adam',\n",
    "              loss='categorical_crossentropy',\n",
    "              metrics=['accuracy'])"
   ]
  },
  {
   "cell_type": "code",
   "execution_count": 14,
   "id": "cb0af66a",
   "metadata": {},
   "outputs": [
    {
     "name": "stdout",
     "output_type": "stream",
     "text": [
      "Epoch 1/100\n",
      "3/3 - 0s - loss: 0.8458 - accuracy: 0.4933\n",
      "Epoch 2/100\n",
      "3/3 - 0s - loss: 0.8402 - accuracy: 0.4933\n",
      "Epoch 3/100\n",
      "3/3 - 0s - loss: 0.8341 - accuracy: 0.4667\n",
      "Epoch 4/100\n",
      "3/3 - 0s - loss: 0.8292 - accuracy: 0.4267\n",
      "Epoch 5/100\n",
      "3/3 - 0s - loss: 0.8238 - accuracy: 0.4400\n",
      "Epoch 6/100\n",
      "3/3 - 0s - loss: 0.8187 - accuracy: 0.4133\n",
      "Epoch 7/100\n",
      "3/3 - 0s - loss: 0.8134 - accuracy: 0.4000\n",
      "Epoch 8/100\n",
      "3/3 - 0s - loss: 0.8096 - accuracy: 0.4267\n",
      "Epoch 9/100\n",
      "3/3 - 0s - loss: 0.8043 - accuracy: 0.3733\n",
      "Epoch 10/100\n",
      "3/3 - 0s - loss: 0.8003 - accuracy: 0.3333\n",
      "Epoch 11/100\n",
      "3/3 - 0s - loss: 0.7960 - accuracy: 0.2667\n",
      "Epoch 12/100\n",
      "3/3 - 0s - loss: 0.7913 - accuracy: 0.2800\n",
      "Epoch 13/100\n",
      "3/3 - 0s - loss: 0.7877 - accuracy: 0.2667\n",
      "Epoch 14/100\n",
      "3/3 - 0s - loss: 0.7836 - accuracy: 0.2667\n",
      "Epoch 15/100\n",
      "3/3 - 0s - loss: 0.7792 - accuracy: 0.2800\n",
      "Epoch 16/100\n",
      "3/3 - 0s - loss: 0.7759 - accuracy: 0.2800\n",
      "Epoch 17/100\n",
      "3/3 - 0s - loss: 0.7715 - accuracy: 0.2800\n",
      "Epoch 18/100\n",
      "3/3 - 0s - loss: 0.7681 - accuracy: 0.2800\n",
      "Epoch 19/100\n",
      "3/3 - 0s - loss: 0.7647 - accuracy: 0.2667\n",
      "Epoch 20/100\n",
      "3/3 - 0s - loss: 0.7609 - accuracy: 0.2800\n",
      "Epoch 21/100\n",
      "3/3 - 0s - loss: 0.7578 - accuracy: 0.2933\n",
      "Epoch 22/100\n",
      "3/3 - 0s - loss: 0.7546 - accuracy: 0.2933\n",
      "Epoch 23/100\n",
      "3/3 - 0s - loss: 0.7509 - accuracy: 0.3067\n",
      "Epoch 24/100\n",
      "3/3 - 0s - loss: 0.7483 - accuracy: 0.3067\n",
      "Epoch 25/100\n",
      "3/3 - 0s - loss: 0.7450 - accuracy: 0.3200\n",
      "Epoch 26/100\n",
      "3/3 - 0s - loss: 0.7416 - accuracy: 0.3067\n",
      "Epoch 27/100\n",
      "3/3 - 0s - loss: 0.7386 - accuracy: 0.3067\n",
      "Epoch 28/100\n",
      "3/3 - 0s - loss: 0.7356 - accuracy: 0.3200\n",
      "Epoch 29/100\n",
      "3/3 - 0s - loss: 0.7328 - accuracy: 0.3200\n",
      "Epoch 30/100\n",
      "3/3 - 0s - loss: 0.7301 - accuracy: 0.3067\n",
      "Epoch 31/100\n",
      "3/3 - 0s - loss: 0.7272 - accuracy: 0.3067\n",
      "Epoch 32/100\n",
      "3/3 - 0s - loss: 0.7246 - accuracy: 0.3067\n",
      "Epoch 33/100\n",
      "3/3 - 0s - loss: 0.7221 - accuracy: 0.3067\n",
      "Epoch 34/100\n",
      "3/3 - 0s - loss: 0.7195 - accuracy: 0.3067\n",
      "Epoch 35/100\n",
      "3/3 - 0s - loss: 0.7168 - accuracy: 0.3200\n",
      "Epoch 36/100\n",
      "3/3 - 0s - loss: 0.7143 - accuracy: 0.3200\n",
      "Epoch 37/100\n",
      "3/3 - 0s - loss: 0.7118 - accuracy: 0.3067\n",
      "Epoch 38/100\n",
      "3/3 - 0s - loss: 0.7090 - accuracy: 0.3067\n",
      "Epoch 39/100\n",
      "3/3 - 0s - loss: 0.7067 - accuracy: 0.3067\n",
      "Epoch 40/100\n",
      "3/3 - 0s - loss: 0.7040 - accuracy: 0.3067\n",
      "Epoch 41/100\n",
      "3/3 - 0s - loss: 0.7016 - accuracy: 0.3200\n",
      "Epoch 42/100\n",
      "3/3 - 0s - loss: 0.6993 - accuracy: 0.3200\n",
      "Epoch 43/100\n",
      "3/3 - 0s - loss: 0.6969 - accuracy: 0.3200\n",
      "Epoch 44/100\n",
      "3/3 - 0s - loss: 0.6945 - accuracy: 0.3200\n",
      "Epoch 45/100\n",
      "3/3 - 0s - loss: 0.6922 - accuracy: 0.3200\n",
      "Epoch 46/100\n",
      "3/3 - 0s - loss: 0.6901 - accuracy: 0.3200\n",
      "Epoch 47/100\n",
      "3/3 - 0s - loss: 0.6877 - accuracy: 0.3333\n",
      "Epoch 48/100\n",
      "3/3 - 0s - loss: 0.6854 - accuracy: 0.3333\n",
      "Epoch 49/100\n",
      "3/3 - 0s - loss: 0.6832 - accuracy: 0.3467\n",
      "Epoch 50/100\n",
      "3/3 - 0s - loss: 0.6809 - accuracy: 0.3467\n",
      "Epoch 51/100\n",
      "3/3 - 0s - loss: 0.6787 - accuracy: 0.3467\n",
      "Epoch 52/100\n",
      "3/3 - 0s - loss: 0.6767 - accuracy: 0.3467\n",
      "Epoch 53/100\n",
      "3/3 - 0s - loss: 0.6745 - accuracy: 0.3467\n",
      "Epoch 54/100\n",
      "3/3 - 0s - loss: 0.6724 - accuracy: 0.3467\n",
      "Epoch 55/100\n",
      "3/3 - 0s - loss: 0.6704 - accuracy: 0.3467\n",
      "Epoch 56/100\n",
      "3/3 - 0s - loss: 0.6684 - accuracy: 0.3467\n",
      "Epoch 57/100\n",
      "3/3 - 0s - loss: 0.6663 - accuracy: 0.3467\n",
      "Epoch 58/100\n",
      "3/3 - 0s - loss: 0.6644 - accuracy: 0.3600\n",
      "Epoch 59/100\n",
      "3/3 - 0s - loss: 0.6624 - accuracy: 0.3600\n",
      "Epoch 60/100\n",
      "3/3 - 0s - loss: 0.6606 - accuracy: 0.3600\n",
      "Epoch 61/100\n",
      "3/3 - 0s - loss: 0.6585 - accuracy: 0.3867\n",
      "Epoch 62/100\n",
      "3/3 - 0s - loss: 0.6567 - accuracy: 0.4000\n",
      "Epoch 63/100\n",
      "3/3 - 0s - loss: 0.6547 - accuracy: 0.4000\n",
      "Epoch 64/100\n",
      "3/3 - 0s - loss: 0.6529 - accuracy: 0.4133\n",
      "Epoch 65/100\n",
      "3/3 - 0s - loss: 0.6510 - accuracy: 0.4267\n",
      "Epoch 66/100\n",
      "3/3 - 0s - loss: 0.6491 - accuracy: 0.4267\n",
      "Epoch 67/100\n",
      "3/3 - 0s - loss: 0.6473 - accuracy: 0.4267\n",
      "Epoch 68/100\n",
      "3/3 - 0s - loss: 0.6454 - accuracy: 0.4267\n",
      "Epoch 69/100\n",
      "3/3 - 0s - loss: 0.6435 - accuracy: 0.4667\n",
      "Epoch 70/100\n",
      "3/3 - 0s - loss: 0.6416 - accuracy: 0.4800\n",
      "Epoch 71/100\n",
      "3/3 - 0s - loss: 0.6398 - accuracy: 0.4933\n",
      "Epoch 72/100\n",
      "3/3 - 0s - loss: 0.6379 - accuracy: 0.5067\n",
      "Epoch 73/100\n",
      "3/3 - 0s - loss: 0.6360 - accuracy: 0.5200\n",
      "Epoch 74/100\n",
      "3/3 - 0s - loss: 0.6341 - accuracy: 0.5467\n",
      "Epoch 75/100\n",
      "3/3 - 0s - loss: 0.6324 - accuracy: 0.5867\n",
      "Epoch 76/100\n",
      "3/3 - 0s - loss: 0.6305 - accuracy: 0.6000\n",
      "Epoch 77/100\n",
      "3/3 - 0s - loss: 0.6287 - accuracy: 0.6133\n",
      "Epoch 78/100\n",
      "3/3 - 0s - loss: 0.6268 - accuracy: 0.6133\n",
      "Epoch 79/100\n",
      "3/3 - 0s - loss: 0.6251 - accuracy: 0.6400\n",
      "Epoch 80/100\n",
      "3/3 - 0s - loss: 0.6232 - accuracy: 0.6267\n",
      "Epoch 81/100\n",
      "3/3 - 0s - loss: 0.6215 - accuracy: 0.6133\n",
      "Epoch 82/100\n",
      "3/3 - 0s - loss: 0.6197 - accuracy: 0.6000\n",
      "Epoch 83/100\n",
      "3/3 - 0s - loss: 0.6179 - accuracy: 0.6000\n",
      "Epoch 84/100\n",
      "3/3 - 0s - loss: 0.6162 - accuracy: 0.5867\n",
      "Epoch 85/100\n",
      "3/3 - 0s - loss: 0.6146 - accuracy: 0.5733\n",
      "Epoch 86/100\n",
      "3/3 - 0s - loss: 0.6129 - accuracy: 0.5733\n",
      "Epoch 87/100\n",
      "3/3 - 0s - loss: 0.6112 - accuracy: 0.5733\n",
      "Epoch 88/100\n",
      "3/3 - 0s - loss: 0.6095 - accuracy: 0.5733\n",
      "Epoch 89/100\n",
      "3/3 - 0s - loss: 0.6079 - accuracy: 0.5733\n",
      "Epoch 90/100\n",
      "3/3 - 0s - loss: 0.6062 - accuracy: 0.5867\n",
      "Epoch 91/100\n",
      "3/3 - 0s - loss: 0.6045 - accuracy: 0.6000\n",
      "Epoch 92/100\n",
      "3/3 - 0s - loss: 0.6030 - accuracy: 0.6267\n",
      "Epoch 93/100\n",
      "3/3 - 0s - loss: 0.6012 - accuracy: 0.6267\n",
      "Epoch 94/100\n",
      "3/3 - 0s - loss: 0.5995 - accuracy: 0.6267\n",
      "Epoch 95/100\n",
      "3/3 - 0s - loss: 0.5979 - accuracy: 0.6400\n",
      "Epoch 96/100\n",
      "3/3 - 0s - loss: 0.5961 - accuracy: 0.6400\n",
      "Epoch 97/100\n",
      "3/3 - 0s - loss: 0.5945 - accuracy: 0.6400\n",
      "Epoch 98/100\n",
      "3/3 - 0s - loss: 0.5928 - accuracy: 0.6533\n",
      "Epoch 99/100\n",
      "3/3 - 0s - loss: 0.5911 - accuracy: 0.6533\n",
      "Epoch 100/100\n",
      "3/3 - 0s - loss: 0.5895 - accuracy: 0.6533\n"
     ]
    },
    {
     "data": {
      "text/plain": [
       "<tensorflow.python.keras.callbacks.History at 0x25e7e586dd8>"
      ]
     },
     "execution_count": 14,
     "metadata": {},
     "output_type": "execute_result"
    }
   ],
   "source": [
    "# Fit the model to the training data\n",
    "model.fit(\n",
    "    X_train_scaled,\n",
    "    y_train_categorical,\n",
    "    epochs=100,\n",
    "    shuffle=True,\n",
    "    verbose=2\n",
    ")"
   ]
  },
  {
   "cell_type": "markdown",
   "id": "874a6334",
   "metadata": {},
   "source": [
    "## With deep learning by simply add an additional hidden layer of 6 nodes"
   ]
  },
  {
   "cell_type": "code",
   "execution_count": 15,
   "id": "595af706",
   "metadata": {},
   "outputs": [],
   "source": [
    "deep_model = Sequential()\n",
    "deep_model.add(Dense(units=6, activation='relu', input_dim=2))\n",
    "deep_model.add(Dense(units=6, activation='relu'))\n",
    "deep_model.add(Dense(units=2, activation='softmax'))"
   ]
  },
  {
   "cell_type": "code",
   "execution_count": 16,
   "id": "e614b5a1",
   "metadata": {},
   "outputs": [
    {
     "name": "stdout",
     "output_type": "stream",
     "text": [
      "Model: \"sequential_1\"\n",
      "_________________________________________________________________\n",
      "Layer (type)                 Output Shape              Param #   \n",
      "=================================================================\n",
      "dense_2 (Dense)              (None, 6)                 18        \n",
      "_________________________________________________________________\n",
      "dense_3 (Dense)              (None, 6)                 42        \n",
      "_________________________________________________________________\n",
      "dense_4 (Dense)              (None, 2)                 14        \n",
      "=================================================================\n",
      "Total params: 74\n",
      "Trainable params: 74\n",
      "Non-trainable params: 0\n",
      "_________________________________________________________________\n"
     ]
    }
   ],
   "source": [
    "deep_model.summary()"
   ]
  },
  {
   "cell_type": "code",
   "execution_count": 17,
   "id": "095dcda1",
   "metadata": {},
   "outputs": [
    {
     "name": "stdout",
     "output_type": "stream",
     "text": [
      "Epoch 1/100\n",
      "3/3 - 0s - loss: 0.7093 - accuracy: 0.5333\n",
      "Epoch 2/100\n",
      "3/3 - 0s - loss: 0.7059 - accuracy: 0.5333\n",
      "Epoch 3/100\n",
      "3/3 - 0s - loss: 0.7031 - accuracy: 0.5067\n",
      "Epoch 4/100\n",
      "3/3 - 0s - loss: 0.6999 - accuracy: 0.4667\n",
      "Epoch 5/100\n",
      "3/3 - 0s - loss: 0.6972 - accuracy: 0.4400\n",
      "Epoch 6/100\n",
      "3/3 - 0s - loss: 0.6944 - accuracy: 0.4267\n",
      "Epoch 7/100\n",
      "3/3 - 0s - loss: 0.6914 - accuracy: 0.3867\n",
      "Epoch 8/100\n",
      "3/3 - 0s - loss: 0.6892 - accuracy: 0.3867\n",
      "Epoch 9/100\n",
      "3/3 - 0s - loss: 0.6867 - accuracy: 0.3600\n",
      "Epoch 10/100\n",
      "3/3 - 0s - loss: 0.6847 - accuracy: 0.3600\n",
      "Epoch 11/100\n",
      "3/3 - 0s - loss: 0.6823 - accuracy: 0.3467\n",
      "Epoch 12/100\n",
      "3/3 - 0s - loss: 0.6800 - accuracy: 0.3733\n",
      "Epoch 13/100\n",
      "3/3 - 0s - loss: 0.6780 - accuracy: 0.3867\n",
      "Epoch 14/100\n",
      "3/3 - 0s - loss: 0.6759 - accuracy: 0.4000\n",
      "Epoch 15/100\n",
      "3/3 - 0s - loss: 0.6736 - accuracy: 0.4133\n",
      "Epoch 16/100\n",
      "3/3 - 0s - loss: 0.6718 - accuracy: 0.4400\n",
      "Epoch 17/100\n",
      "3/3 - 0s - loss: 0.6696 - accuracy: 0.4400\n",
      "Epoch 18/100\n",
      "3/3 - 0s - loss: 0.6678 - accuracy: 0.4533\n",
      "Epoch 19/100\n",
      "3/3 - 0s - loss: 0.6659 - accuracy: 0.4667\n",
      "Epoch 20/100\n",
      "3/3 - 0s - loss: 0.6640 - accuracy: 0.4800\n",
      "Epoch 21/100\n",
      "3/3 - 0s - loss: 0.6622 - accuracy: 0.4933\n",
      "Epoch 22/100\n",
      "3/3 - 0s - loss: 0.6602 - accuracy: 0.4933\n",
      "Epoch 23/100\n",
      "3/3 - 0s - loss: 0.6583 - accuracy: 0.4933\n",
      "Epoch 24/100\n",
      "3/3 - 0s - loss: 0.6566 - accuracy: 0.4933\n",
      "Epoch 25/100\n",
      "3/3 - 0s - loss: 0.6547 - accuracy: 0.4933\n",
      "Epoch 26/100\n",
      "3/3 - 0s - loss: 0.6528 - accuracy: 0.4800\n",
      "Epoch 27/100\n",
      "3/3 - 0s - loss: 0.6511 - accuracy: 0.4800\n",
      "Epoch 28/100\n",
      "3/3 - 0s - loss: 0.6492 - accuracy: 0.4800\n",
      "Epoch 29/100\n",
      "3/3 - 0s - loss: 0.6476 - accuracy: 0.4800\n",
      "Epoch 30/100\n",
      "3/3 - 0s - loss: 0.6458 - accuracy: 0.4800\n",
      "Epoch 31/100\n",
      "3/3 - 0s - loss: 0.6440 - accuracy: 0.4800\n",
      "Epoch 32/100\n",
      "3/3 - 0s - loss: 0.6424 - accuracy: 0.4800\n",
      "Epoch 33/100\n",
      "3/3 - 0s - loss: 0.6406 - accuracy: 0.5067\n",
      "Epoch 34/100\n",
      "3/3 - 0s - loss: 0.6389 - accuracy: 0.5067\n",
      "Epoch 35/100\n",
      "3/3 - 0s - loss: 0.6371 - accuracy: 0.5067\n",
      "Epoch 36/100\n",
      "3/3 - 0s - loss: 0.6354 - accuracy: 0.5067\n",
      "Epoch 37/100\n",
      "3/3 - 0s - loss: 0.6338 - accuracy: 0.5067\n",
      "Epoch 38/100\n",
      "3/3 - 0s - loss: 0.6321 - accuracy: 0.5067\n",
      "Epoch 39/100\n",
      "3/3 - 0s - loss: 0.6304 - accuracy: 0.5467\n",
      "Epoch 40/100\n",
      "3/3 - 0s - loss: 0.6286 - accuracy: 0.5867\n",
      "Epoch 41/100\n",
      "3/3 - 0s - loss: 0.6269 - accuracy: 0.6000\n",
      "Epoch 42/100\n",
      "3/3 - 0s - loss: 0.6251 - accuracy: 0.6400\n",
      "Epoch 43/100\n",
      "3/3 - 0s - loss: 0.6232 - accuracy: 0.6267\n",
      "Epoch 44/100\n",
      "3/3 - 0s - loss: 0.6213 - accuracy: 0.6267\n",
      "Epoch 45/100\n",
      "3/3 - 0s - loss: 0.6192 - accuracy: 0.6267\n",
      "Epoch 46/100\n",
      "3/3 - 0s - loss: 0.6172 - accuracy: 0.6533\n",
      "Epoch 47/100\n",
      "3/3 - 0s - loss: 0.6151 - accuracy: 0.6533\n",
      "Epoch 48/100\n",
      "3/3 - 0s - loss: 0.6129 - accuracy: 0.6667\n",
      "Epoch 49/100\n",
      "3/3 - 0s - loss: 0.6109 - accuracy: 0.6933\n",
      "Epoch 50/100\n",
      "3/3 - 0s - loss: 0.6085 - accuracy: 0.7067\n",
      "Epoch 51/100\n",
      "3/3 - 0s - loss: 0.6063 - accuracy: 0.7600\n",
      "Epoch 52/100\n",
      "3/3 - 0s - loss: 0.6041 - accuracy: 0.7600\n",
      "Epoch 53/100\n",
      "3/3 - 0s - loss: 0.6019 - accuracy: 0.7867\n",
      "Epoch 54/100\n",
      "3/3 - 0s - loss: 0.5995 - accuracy: 0.8133\n",
      "Epoch 55/100\n",
      "3/3 - 0s - loss: 0.5973 - accuracy: 0.8133\n",
      "Epoch 56/100\n",
      "3/3 - 0s - loss: 0.5949 - accuracy: 0.8133\n",
      "Epoch 57/100\n",
      "3/3 - 0s - loss: 0.5926 - accuracy: 0.8133\n",
      "Epoch 58/100\n",
      "3/3 - 0s - loss: 0.5904 - accuracy: 0.8133\n",
      "Epoch 59/100\n",
      "3/3 - 0s - loss: 0.5880 - accuracy: 0.8133\n",
      "Epoch 60/100\n",
      "3/3 - 0s - loss: 0.5856 - accuracy: 0.8133\n",
      "Epoch 61/100\n",
      "3/3 - 0s - loss: 0.5833 - accuracy: 0.8133\n",
      "Epoch 62/100\n",
      "3/3 - 0s - loss: 0.5808 - accuracy: 0.8133\n",
      "Epoch 63/100\n",
      "3/3 - 0s - loss: 0.5785 - accuracy: 0.8267\n",
      "Epoch 64/100\n",
      "3/3 - 0s - loss: 0.5760 - accuracy: 0.8267\n",
      "Epoch 65/100\n",
      "3/3 - 0s - loss: 0.5735 - accuracy: 0.8533\n",
      "Epoch 66/100\n",
      "3/3 - 0s - loss: 0.5710 - accuracy: 0.8533\n",
      "Epoch 67/100\n",
      "3/3 - 0s - loss: 0.5684 - accuracy: 0.8533\n",
      "Epoch 68/100\n",
      "3/3 - 0s - loss: 0.5658 - accuracy: 0.8533\n",
      "Epoch 69/100\n",
      "3/3 - 0s - loss: 0.5632 - accuracy: 0.8533\n",
      "Epoch 70/100\n",
      "3/3 - 0s - loss: 0.5606 - accuracy: 0.8533\n",
      "Epoch 71/100\n",
      "3/3 - 0s - loss: 0.5580 - accuracy: 0.8533\n",
      "Epoch 72/100\n",
      "3/3 - 0s - loss: 0.5554 - accuracy: 0.8533\n",
      "Epoch 73/100\n",
      "3/3 - 0s - loss: 0.5526 - accuracy: 0.8533\n",
      "Epoch 74/100\n",
      "3/3 - 0s - loss: 0.5499 - accuracy: 0.8533\n",
      "Epoch 75/100\n",
      "3/3 - 0s - loss: 0.5473 - accuracy: 0.8533\n",
      "Epoch 76/100\n",
      "3/3 - 0s - loss: 0.5444 - accuracy: 0.8533\n",
      "Epoch 77/100\n",
      "3/3 - 0s - loss: 0.5416 - accuracy: 0.8533\n",
      "Epoch 78/100\n",
      "3/3 - 0s - loss: 0.5389 - accuracy: 0.8533\n",
      "Epoch 79/100\n",
      "3/3 - 0s - loss: 0.5360 - accuracy: 0.8533\n",
      "Epoch 80/100\n",
      "3/3 - 0s - loss: 0.5333 - accuracy: 0.8800\n",
      "Epoch 81/100\n",
      "3/3 - 0s - loss: 0.5304 - accuracy: 0.8800\n",
      "Epoch 82/100\n",
      "3/3 - 0s - loss: 0.5275 - accuracy: 0.8800\n",
      "Epoch 83/100\n",
      "3/3 - 0s - loss: 0.5246 - accuracy: 0.8800\n",
      "Epoch 84/100\n",
      "3/3 - 0s - loss: 0.5217 - accuracy: 0.8800\n",
      "Epoch 85/100\n",
      "3/3 - 0s - loss: 0.5188 - accuracy: 0.8800\n",
      "Epoch 86/100\n",
      "3/3 - 0s - loss: 0.5160 - accuracy: 0.8800\n",
      "Epoch 87/100\n",
      "3/3 - 0s - loss: 0.5127 - accuracy: 0.8933\n",
      "Epoch 88/100\n",
      "3/3 - 0s - loss: 0.5099 - accuracy: 0.8933\n",
      "Epoch 89/100\n",
      "3/3 - 0s - loss: 0.5070 - accuracy: 0.8933\n",
      "Epoch 90/100\n",
      "3/3 - 0s - loss: 0.5039 - accuracy: 0.8933\n",
      "Epoch 91/100\n",
      "3/3 - 0s - loss: 0.5010 - accuracy: 0.8933\n",
      "Epoch 92/100\n",
      "3/3 - 0s - loss: 0.4980 - accuracy: 0.9067\n",
      "Epoch 93/100\n",
      "3/3 - 0s - loss: 0.4950 - accuracy: 0.9067\n",
      "Epoch 94/100\n",
      "3/3 - 0s - loss: 0.4921 - accuracy: 0.9067\n",
      "Epoch 95/100\n",
      "3/3 - 0s - loss: 0.4891 - accuracy: 0.9067\n",
      "Epoch 96/100\n",
      "3/3 - 0s - loss: 0.4860 - accuracy: 0.9067\n",
      "Epoch 97/100\n",
      "3/3 - 0s - loss: 0.4830 - accuracy: 0.9067\n",
      "Epoch 98/100\n",
      "3/3 - 0s - loss: 0.4799 - accuracy: 0.9067\n",
      "Epoch 99/100\n",
      "3/3 - 0s - loss: 0.4770 - accuracy: 0.9067\n",
      "Epoch 100/100\n",
      "3/3 - 0s - loss: 0.4741 - accuracy: 0.9200\n"
     ]
    },
    {
     "data": {
      "text/plain": [
       "<tensorflow.python.keras.callbacks.History at 0x25e7f982588>"
      ]
     },
     "execution_count": 17,
     "metadata": {},
     "output_type": "execute_result"
    }
   ],
   "source": [
    "deep_model.compile(optimizer='adam',\n",
    "                   loss='categorical_crossentropy',\n",
    "                   metrics=['accuracy'])\n",
    "\n",
    "deep_model.fit(\n",
    "    X_train_scaled,\n",
    "    y_train_categorical,\n",
    "    epochs=100,\n",
    "    shuffle=True,\n",
    "    verbose=2\n",
    ")"
   ]
  },
  {
   "cell_type": "markdown",
   "id": "57497836",
   "metadata": {},
   "source": [
    "## Compare the models below, deep_model with much higher accuracy"
   ]
  },
  {
   "cell_type": "code",
   "execution_count": 18,
   "id": "85b210ef",
   "metadata": {},
   "outputs": [
    {
     "name": "stdout",
     "output_type": "stream",
     "text": [
      "1/1 - 0s - loss: 0.6035 - accuracy: 0.6400\n",
      "Normal Neural Network - Loss: 0.6035451889038086, Accuracy: 0.6399999856948853\n"
     ]
    }
   ],
   "source": [
    "model_loss, model_accuracy = model.evaluate(\n",
    "    X_test_scaled, y_test_categorical, verbose=2)\n",
    "print(\n",
    "    f\"Normal Neural Network - Loss: {model_loss}, Accuracy: {model_accuracy}\")"
   ]
  },
  {
   "cell_type": "code",
   "execution_count": 19,
   "id": "609a6dcd",
   "metadata": {},
   "outputs": [
    {
     "name": "stdout",
     "output_type": "stream",
     "text": [
      "1/1 - 0s - loss: 0.5345 - accuracy: 0.8800\n",
      "Deep Neural Network - Loss: 0.5345200896263123, Accuracy: 0.8799999952316284\n"
     ]
    }
   ],
   "source": [
    "model_loss, model_accuracy = deep_model.evaluate(\n",
    "    X_test_scaled, y_test_categorical, verbose=2)\n",
    "print(f\"Deep Neural Network - Loss: {model_loss}, Accuracy: {model_accuracy}\")"
   ]
  },
  {
   "cell_type": "markdown",
   "id": "da56c6df",
   "metadata": {},
   "source": [
    "## notice cann't pickle and save Tensorflow model as deep_model"
   ]
  },
  {
   "cell_type": "code",
   "execution_count": null,
   "id": "0930a869",
   "metadata": {},
   "outputs": [],
   "source": []
  }
 ],
 "metadata": {
  "kernelspec": {
   "display_name": "Python [conda env:pythonAdv] *",
   "language": "python",
   "name": "conda-env-pythonAdv-py"
  },
  "language_info": {
   "codemirror_mode": {
    "name": "ipython",
    "version": 3
   },
   "file_extension": ".py",
   "mimetype": "text/x-python",
   "name": "python",
   "nbconvert_exporter": "python",
   "pygments_lexer": "ipython3",
   "version": "3.6.13"
  }
 },
 "nbformat": 4,
 "nbformat_minor": 5
}
