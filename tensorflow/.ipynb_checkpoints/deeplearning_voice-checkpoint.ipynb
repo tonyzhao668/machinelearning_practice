{
 "cells": [
  {
   "cell_type": "markdown",
   "id": "e7690ab9",
   "metadata": {},
   "source": [
    "## DEEP LEARNING Example Voice for classify"
   ]
  },
  {
   "cell_type": "code",
   "execution_count": 2,
   "id": "f3c20c1b",
   "metadata": {},
   "outputs": [],
   "source": [
    "# Set the seed value for the notebook so the results are reproducible\n",
    "from numpy.random import seed\n",
    "seed(1)\n",
    "from tensorflow import random\n",
    "random.set_seed(1)"
   ]
  },
  {
   "cell_type": "code",
   "execution_count": 3,
   "id": "7865165d",
   "metadata": {},
   "outputs": [],
   "source": [
    "# Dependencies\n",
    "import numpy as np\n",
    "import pandas as pd"
   ]
  },
  {
   "cell_type": "code",
   "execution_count": 4,
   "id": "1db045b0",
   "metadata": {},
   "outputs": [
    {
     "data": {
      "text/plain": [
       "'2.5.0'"
      ]
     },
     "execution_count": 4,
     "metadata": {},
     "output_type": "execute_result"
    }
   ],
   "source": [
    "import tensorflow\n",
    "tensorflow.keras.__version__"
   ]
  },
  {
   "cell_type": "code",
   "execution_count": 5,
   "id": "f97baf6b",
   "metadata": {},
   "outputs": [
    {
     "data": {
      "text/html": [
       "<div>\n",
       "<style scoped>\n",
       "    .dataframe tbody tr th:only-of-type {\n",
       "        vertical-align: middle;\n",
       "    }\n",
       "\n",
       "    .dataframe tbody tr th {\n",
       "        vertical-align: top;\n",
       "    }\n",
       "\n",
       "    .dataframe thead th {\n",
       "        text-align: right;\n",
       "    }\n",
       "</style>\n",
       "<table border=\"1\" class=\"dataframe\">\n",
       "  <thead>\n",
       "    <tr style=\"text-align: right;\">\n",
       "      <th></th>\n",
       "      <th>meanfreq</th>\n",
       "      <th>sd</th>\n",
       "      <th>median</th>\n",
       "      <th>Q25</th>\n",
       "      <th>Q75</th>\n",
       "      <th>IQR</th>\n",
       "      <th>skew</th>\n",
       "      <th>kurt</th>\n",
       "      <th>sp.ent</th>\n",
       "      <th>sfm</th>\n",
       "      <th>...</th>\n",
       "      <th>centroid</th>\n",
       "      <th>meanfun</th>\n",
       "      <th>minfun</th>\n",
       "      <th>maxfun</th>\n",
       "      <th>meandom</th>\n",
       "      <th>mindom</th>\n",
       "      <th>maxdom</th>\n",
       "      <th>dfrange</th>\n",
       "      <th>modindx</th>\n",
       "      <th>label</th>\n",
       "    </tr>\n",
       "  </thead>\n",
       "  <tbody>\n",
       "    <tr>\n",
       "      <th>0</th>\n",
       "      <td>0.059781</td>\n",
       "      <td>0.064241</td>\n",
       "      <td>0.032027</td>\n",
       "      <td>0.015071</td>\n",
       "      <td>0.090193</td>\n",
       "      <td>0.075122</td>\n",
       "      <td>12.863462</td>\n",
       "      <td>274.402906</td>\n",
       "      <td>0.893369</td>\n",
       "      <td>0.491918</td>\n",
       "      <td>...</td>\n",
       "      <td>0.059781</td>\n",
       "      <td>0.084279</td>\n",
       "      <td>0.015702</td>\n",
       "      <td>0.275862</td>\n",
       "      <td>0.007812</td>\n",
       "      <td>0.007812</td>\n",
       "      <td>0.007812</td>\n",
       "      <td>0.000000</td>\n",
       "      <td>0.000000</td>\n",
       "      <td>male</td>\n",
       "    </tr>\n",
       "    <tr>\n",
       "      <th>1</th>\n",
       "      <td>0.066009</td>\n",
       "      <td>0.067310</td>\n",
       "      <td>0.040229</td>\n",
       "      <td>0.019414</td>\n",
       "      <td>0.092666</td>\n",
       "      <td>0.073252</td>\n",
       "      <td>22.423285</td>\n",
       "      <td>634.613855</td>\n",
       "      <td>0.892193</td>\n",
       "      <td>0.513724</td>\n",
       "      <td>...</td>\n",
       "      <td>0.066009</td>\n",
       "      <td>0.107937</td>\n",
       "      <td>0.015826</td>\n",
       "      <td>0.250000</td>\n",
       "      <td>0.009014</td>\n",
       "      <td>0.007812</td>\n",
       "      <td>0.054688</td>\n",
       "      <td>0.046875</td>\n",
       "      <td>0.052632</td>\n",
       "      <td>male</td>\n",
       "    </tr>\n",
       "    <tr>\n",
       "      <th>2</th>\n",
       "      <td>0.077316</td>\n",
       "      <td>0.083829</td>\n",
       "      <td>0.036718</td>\n",
       "      <td>0.008701</td>\n",
       "      <td>0.131908</td>\n",
       "      <td>0.123207</td>\n",
       "      <td>30.757155</td>\n",
       "      <td>1024.927705</td>\n",
       "      <td>0.846389</td>\n",
       "      <td>0.478905</td>\n",
       "      <td>...</td>\n",
       "      <td>0.077316</td>\n",
       "      <td>0.098706</td>\n",
       "      <td>0.015656</td>\n",
       "      <td>0.271186</td>\n",
       "      <td>0.007990</td>\n",
       "      <td>0.007812</td>\n",
       "      <td>0.015625</td>\n",
       "      <td>0.007812</td>\n",
       "      <td>0.046512</td>\n",
       "      <td>male</td>\n",
       "    </tr>\n",
       "    <tr>\n",
       "      <th>3</th>\n",
       "      <td>0.151228</td>\n",
       "      <td>0.072111</td>\n",
       "      <td>0.158011</td>\n",
       "      <td>0.096582</td>\n",
       "      <td>0.207955</td>\n",
       "      <td>0.111374</td>\n",
       "      <td>1.232831</td>\n",
       "      <td>4.177296</td>\n",
       "      <td>0.963322</td>\n",
       "      <td>0.727232</td>\n",
       "      <td>...</td>\n",
       "      <td>0.151228</td>\n",
       "      <td>0.088965</td>\n",
       "      <td>0.017798</td>\n",
       "      <td>0.250000</td>\n",
       "      <td>0.201497</td>\n",
       "      <td>0.007812</td>\n",
       "      <td>0.562500</td>\n",
       "      <td>0.554688</td>\n",
       "      <td>0.247119</td>\n",
       "      <td>male</td>\n",
       "    </tr>\n",
       "    <tr>\n",
       "      <th>4</th>\n",
       "      <td>0.135120</td>\n",
       "      <td>0.079146</td>\n",
       "      <td>0.124656</td>\n",
       "      <td>0.078720</td>\n",
       "      <td>0.206045</td>\n",
       "      <td>0.127325</td>\n",
       "      <td>1.101174</td>\n",
       "      <td>4.333713</td>\n",
       "      <td>0.971955</td>\n",
       "      <td>0.783568</td>\n",
       "      <td>...</td>\n",
       "      <td>0.135120</td>\n",
       "      <td>0.106398</td>\n",
       "      <td>0.016931</td>\n",
       "      <td>0.266667</td>\n",
       "      <td>0.712812</td>\n",
       "      <td>0.007812</td>\n",
       "      <td>5.484375</td>\n",
       "      <td>5.476562</td>\n",
       "      <td>0.208274</td>\n",
       "      <td>male</td>\n",
       "    </tr>\n",
       "  </tbody>\n",
       "</table>\n",
       "<p>5 rows × 21 columns</p>\n",
       "</div>"
      ],
      "text/plain": [
       "   meanfreq        sd    median       Q25       Q75       IQR       skew  \\\n",
       "0  0.059781  0.064241  0.032027  0.015071  0.090193  0.075122  12.863462   \n",
       "1  0.066009  0.067310  0.040229  0.019414  0.092666  0.073252  22.423285   \n",
       "2  0.077316  0.083829  0.036718  0.008701  0.131908  0.123207  30.757155   \n",
       "3  0.151228  0.072111  0.158011  0.096582  0.207955  0.111374   1.232831   \n",
       "4  0.135120  0.079146  0.124656  0.078720  0.206045  0.127325   1.101174   \n",
       "\n",
       "          kurt    sp.ent       sfm  ...  centroid   meanfun    minfun  \\\n",
       "0   274.402906  0.893369  0.491918  ...  0.059781  0.084279  0.015702   \n",
       "1   634.613855  0.892193  0.513724  ...  0.066009  0.107937  0.015826   \n",
       "2  1024.927705  0.846389  0.478905  ...  0.077316  0.098706  0.015656   \n",
       "3     4.177296  0.963322  0.727232  ...  0.151228  0.088965  0.017798   \n",
       "4     4.333713  0.971955  0.783568  ...  0.135120  0.106398  0.016931   \n",
       "\n",
       "     maxfun   meandom    mindom    maxdom   dfrange   modindx  label  \n",
       "0  0.275862  0.007812  0.007812  0.007812  0.000000  0.000000   male  \n",
       "1  0.250000  0.009014  0.007812  0.054688  0.046875  0.052632   male  \n",
       "2  0.271186  0.007990  0.007812  0.015625  0.007812  0.046512   male  \n",
       "3  0.250000  0.201497  0.007812  0.562500  0.554688  0.247119   male  \n",
       "4  0.266667  0.712812  0.007812  5.484375  5.476562  0.208274   male  \n",
       "\n",
       "[5 rows x 21 columns]"
      ]
     },
     "execution_count": 5,
     "metadata": {},
     "output_type": "execute_result"
    }
   ],
   "source": [
    "voice = pd.read_csv('data/voice.csv')\n",
    "voice.head()"
   ]
  },
  {
   "cell_type": "markdown",
   "id": "08092fd1",
   "metadata": {},
   "source": [
    "## Data Pre-Processing"
   ]
  },
  {
   "cell_type": "code",
   "execution_count": 6,
   "id": "d246f0d3",
   "metadata": {},
   "outputs": [
    {
     "name": "stdout",
     "output_type": "stream",
     "text": [
      "(3168, 20) (3168,)\n"
     ]
    }
   ],
   "source": [
    "X = voice.drop(\"label\", axis=1)\n",
    "y = voice[\"label\"]\n",
    "print(X.shape, y.shape)"
   ]
  },
  {
   "cell_type": "code",
   "execution_count": 7,
   "id": "6ad12f60",
   "metadata": {},
   "outputs": [],
   "source": [
    "from sklearn.model_selection import train_test_split\n",
    "from sklearn.preprocessing import LabelEncoder, MinMaxScaler\n",
    "from tensorflow.keras.utils import to_categorical"
   ]
  },
  {
   "cell_type": "code",
   "execution_count": 8,
   "id": "f081b53e",
   "metadata": {},
   "outputs": [],
   "source": [
    "X_train, X_test, y_train, y_test = train_test_split(\n",
    "    X, y, random_state=1)"
   ]
  },
  {
   "cell_type": "code",
   "execution_count": 9,
   "id": "7938a9ae",
   "metadata": {},
   "outputs": [],
   "source": [
    "X_scaler = MinMaxScaler().fit(X_train)\n",
    "X_train_scaled = X_scaler.transform(X_train)\n",
    "X_test_scaled = X_scaler.transform(X_test)"
   ]
  },
  {
   "cell_type": "code",
   "execution_count": 10,
   "id": "6a5271c6",
   "metadata": {},
   "outputs": [],
   "source": [
    "# Step 1: Label-encode data set\n",
    "label_encoder = LabelEncoder()\n",
    "label_encoder.fit(y_train)\n",
    "encoded_y_train = label_encoder.transform(y_train)\n",
    "encoded_y_test = label_encoder.transform(y_test)"
   ]
  },
  {
   "cell_type": "code",
   "execution_count": 11,
   "id": "32918941",
   "metadata": {},
   "outputs": [],
   "source": [
    "# Step 2: Convert encoded labels to one-hot-encoding\n",
    "y_train_categorical = to_categorical(encoded_y_train)\n",
    "y_test_categorical = to_categorical(encoded_y_test)"
   ]
  },
  {
   "cell_type": "markdown",
   "id": "18f98d56",
   "metadata": {},
   "source": [
    "## Create a Deep Learning Model"
   ]
  },
  {
   "cell_type": "code",
   "execution_count": 12,
   "id": "0d12f3cd",
   "metadata": {},
   "outputs": [],
   "source": [
    "from tensorflow.keras.models import Sequential\n",
    "from tensorflow.keras.layers import Dense"
   ]
  },
  {
   "cell_type": "code",
   "execution_count": 14,
   "id": "45ff8ef4",
   "metadata": {},
   "outputs": [],
   "source": [
    "# Create model and add layers\n",
    "model = Sequential()\n",
    "model.add(Dense(units=100, activation='relu', input_dim=20))\n",
    "model.add(Dense(units=100, activation='relu'))\n",
    "model.add(Dense(units=2, activation='softmax'))"
   ]
  },
  {
   "cell_type": "code",
   "execution_count": 15,
   "id": "c12fc372",
   "metadata": {},
   "outputs": [],
   "source": [
    "# Compile and fit the model\n",
    "model.compile(optimizer='adam',\n",
    "              loss='categorical_crossentropy',\n",
    "              metrics=['accuracy'])"
   ]
  },
  {
   "cell_type": "code",
   "execution_count": 16,
   "id": "07326294",
   "metadata": {},
   "outputs": [
    {
     "name": "stdout",
     "output_type": "stream",
     "text": [
      "Model: \"sequential_1\"\n",
      "_________________________________________________________________\n",
      "Layer (type)                 Output Shape              Param #   \n",
      "=================================================================\n",
      "dense_3 (Dense)              (None, 100)               2100      \n",
      "_________________________________________________________________\n",
      "dense_4 (Dense)              (None, 100)               10100     \n",
      "_________________________________________________________________\n",
      "dense_5 (Dense)              (None, 2)                 202       \n",
      "=================================================================\n",
      "Total params: 12,402\n",
      "Trainable params: 12,402\n",
      "Non-trainable params: 0\n",
      "_________________________________________________________________\n"
     ]
    }
   ],
   "source": [
    "model.summary()"
   ]
  },
  {
   "cell_type": "code",
   "execution_count": 17,
   "id": "255eb391",
   "metadata": {},
   "outputs": [
    {
     "name": "stdout",
     "output_type": "stream",
     "text": [
      "Epoch 1/60\n",
      "75/75 - 1s - loss: 0.5038 - accuracy: 0.8262\n",
      "Epoch 2/60\n",
      "75/75 - 0s - loss: 0.2335 - accuracy: 0.9310\n",
      "Epoch 3/60\n",
      "75/75 - 0s - loss: 0.1252 - accuracy: 0.9663\n",
      "Epoch 4/60\n",
      "75/75 - 0s - loss: 0.1049 - accuracy: 0.9680\n",
      "Epoch 5/60\n",
      "75/75 - 0s - loss: 0.0915 - accuracy: 0.9714\n",
      "Epoch 6/60\n",
      "75/75 - 0s - loss: 0.0895 - accuracy: 0.9710\n",
      "Epoch 7/60\n",
      "75/75 - 0s - loss: 0.0856 - accuracy: 0.9743\n",
      "Epoch 8/60\n",
      "75/75 - 0s - loss: 0.0825 - accuracy: 0.9752\n",
      "Epoch 9/60\n",
      "75/75 - 0s - loss: 0.0786 - accuracy: 0.9752\n",
      "Epoch 10/60\n",
      "75/75 - 0s - loss: 0.0775 - accuracy: 0.9764\n",
      "Epoch 11/60\n",
      "75/75 - 0s - loss: 0.0802 - accuracy: 0.9743\n",
      "Epoch 12/60\n",
      "75/75 - 0s - loss: 0.0817 - accuracy: 0.9743\n",
      "Epoch 13/60\n",
      "75/75 - 0s - loss: 0.0789 - accuracy: 0.9710\n",
      "Epoch 14/60\n",
      "75/75 - 0s - loss: 0.0757 - accuracy: 0.9756\n",
      "Epoch 15/60\n",
      "75/75 - 0s - loss: 0.0805 - accuracy: 0.9747\n",
      "Epoch 16/60\n",
      "75/75 - 0s - loss: 0.0708 - accuracy: 0.9756\n",
      "Epoch 17/60\n",
      "75/75 - 0s - loss: 0.0656 - accuracy: 0.9811\n",
      "Epoch 18/60\n",
      "75/75 - 0s - loss: 0.0745 - accuracy: 0.9773\n",
      "Epoch 19/60\n",
      "75/75 - 0s - loss: 0.0700 - accuracy: 0.9769\n",
      "Epoch 20/60\n",
      "75/75 - 0s - loss: 0.0666 - accuracy: 0.9785\n",
      "Epoch 21/60\n",
      "75/75 - 0s - loss: 0.0647 - accuracy: 0.9785\n",
      "Epoch 22/60\n",
      "75/75 - 0s - loss: 0.0651 - accuracy: 0.9794\n",
      "Epoch 23/60\n",
      "75/75 - 0s - loss: 0.0639 - accuracy: 0.9785\n",
      "Epoch 24/60\n",
      "75/75 - 0s - loss: 0.0637 - accuracy: 0.9794\n",
      "Epoch 25/60\n",
      "75/75 - 0s - loss: 0.0601 - accuracy: 0.9798\n",
      "Epoch 26/60\n",
      "75/75 - 0s - loss: 0.0653 - accuracy: 0.9781\n",
      "Epoch 27/60\n",
      "75/75 - 0s - loss: 0.0623 - accuracy: 0.9794\n",
      "Epoch 28/60\n",
      "75/75 - 0s - loss: 0.0687 - accuracy: 0.9756\n",
      "Epoch 29/60\n",
      "75/75 - 0s - loss: 0.0594 - accuracy: 0.9811\n",
      "Epoch 30/60\n",
      "75/75 - 0s - loss: 0.0586 - accuracy: 0.9811\n",
      "Epoch 31/60\n",
      "75/75 - 0s - loss: 0.0580 - accuracy: 0.9806\n",
      "Epoch 32/60\n",
      "75/75 - 0s - loss: 0.0582 - accuracy: 0.9815\n",
      "Epoch 33/60\n",
      "75/75 - 0s - loss: 0.0584 - accuracy: 0.9802\n",
      "Epoch 34/60\n",
      "75/75 - 0s - loss: 0.0627 - accuracy: 0.9798\n",
      "Epoch 35/60\n",
      "75/75 - 0s - loss: 0.0567 - accuracy: 0.9811\n",
      "Epoch 36/60\n",
      "75/75 - 0s - loss: 0.0537 - accuracy: 0.9832\n",
      "Epoch 37/60\n",
      "75/75 - 0s - loss: 0.0540 - accuracy: 0.9806\n",
      "Epoch 38/60\n",
      "75/75 - 0s - loss: 0.0525 - accuracy: 0.9815\n",
      "Epoch 39/60\n",
      "75/75 - 0s - loss: 0.0511 - accuracy: 0.9827\n",
      "Epoch 40/60\n",
      "75/75 - 0s - loss: 0.0537 - accuracy: 0.9802\n",
      "Epoch 41/60\n",
      "75/75 - 0s - loss: 0.0555 - accuracy: 0.9819\n",
      "Epoch 42/60\n",
      "75/75 - 0s - loss: 0.0539 - accuracy: 0.9794\n",
      "Epoch 43/60\n",
      "75/75 - 0s - loss: 0.0537 - accuracy: 0.9823\n",
      "Epoch 44/60\n",
      "75/75 - 0s - loss: 0.0465 - accuracy: 0.9832\n",
      "Epoch 45/60\n",
      "75/75 - 0s - loss: 0.0486 - accuracy: 0.9823\n",
      "Epoch 46/60\n",
      "75/75 - 0s - loss: 0.0506 - accuracy: 0.9823\n",
      "Epoch 47/60\n",
      "75/75 - 0s - loss: 0.0451 - accuracy: 0.9823\n",
      "Epoch 48/60\n",
      "75/75 - 0s - loss: 0.0461 - accuracy: 0.9823\n",
      "Epoch 49/60\n",
      "75/75 - 0s - loss: 0.0447 - accuracy: 0.9844\n",
      "Epoch 50/60\n",
      "75/75 - 0s - loss: 0.0446 - accuracy: 0.9848\n",
      "Epoch 51/60\n",
      "75/75 - 0s - loss: 0.0466 - accuracy: 0.9827\n",
      "Epoch 52/60\n",
      "75/75 - 0s - loss: 0.0452 - accuracy: 0.9832\n",
      "Epoch 53/60\n",
      "75/75 - 0s - loss: 0.0417 - accuracy: 0.9844\n",
      "Epoch 54/60\n",
      "75/75 - 0s - loss: 0.0415 - accuracy: 0.9853\n",
      "Epoch 55/60\n",
      "75/75 - 0s - loss: 0.0403 - accuracy: 0.9853\n",
      "Epoch 56/60\n",
      "75/75 - 0s - loss: 0.0421 - accuracy: 0.9840\n",
      "Epoch 57/60\n",
      "75/75 - 0s - loss: 0.0490 - accuracy: 0.9790\n",
      "Epoch 58/60\n",
      "75/75 - 0s - loss: 0.0416 - accuracy: 0.9848\n",
      "Epoch 59/60\n",
      "75/75 - 0s - loss: 0.0413 - accuracy: 0.9865\n",
      "Epoch 60/60\n",
      "75/75 - 0s - loss: 0.0396 - accuracy: 0.9857\n"
     ]
    },
    {
     "data": {
      "text/plain": [
       "<tensorflow.python.keras.callbacks.History at 0x1d73be1a7f0>"
      ]
     },
     "execution_count": 17,
     "metadata": {},
     "output_type": "execute_result"
    }
   ],
   "source": [
    "model.fit(\n",
    "    X_train_scaled,\n",
    "    y_train_categorical,\n",
    "    epochs=60,\n",
    "    shuffle=True,\n",
    "    verbose=2\n",
    ")"
   ]
  },
  {
   "cell_type": "markdown",
   "id": "9e68eceb",
   "metadata": {},
   "source": [
    "## Quantify our Trained Model"
   ]
  },
  {
   "cell_type": "code",
   "execution_count": 18,
   "id": "cff5f2f4",
   "metadata": {},
   "outputs": [
    {
     "name": "stdout",
     "output_type": "stream",
     "text": [
      "25/25 - 0s - loss: 0.0696 - accuracy: 0.9823\n",
      "Normal Neural Network - Loss: 0.06963543593883514, Accuracy: 0.9823232293128967\n"
     ]
    }
   ],
   "source": [
    "model_loss, model_accuracy = model.evaluate(\n",
    "    X_test_scaled, y_test_categorical, verbose=2)\n",
    "print(\n",
    "    f\"Normal Neural Network - Loss: {model_loss}, Accuracy: {model_accuracy}\")"
   ]
  },
  {
   "cell_type": "markdown",
   "id": "cae93da4",
   "metadata": {},
   "source": [
    "## Make Predictions"
   ]
  },
  {
   "cell_type": "code",
   "execution_count": 19,
   "id": "aa59373f",
   "metadata": {},
   "outputs": [
    {
     "name": "stderr",
     "output_type": "stream",
     "text": [
      "C:\\Users\\User\\anaconda3\\envs\\PythonAdv\\lib\\site-packages\\tensorflow\\python\\keras\\engine\\sequential.py:455: UserWarning: `model.predict_classes()` is deprecated and will be removed after 2021-01-01. Please use instead:* `np.argmax(model.predict(x), axis=-1)`,   if your model does multi-class classification   (e.g. if it uses a `softmax` last-layer activation).* `(model.predict(x) > 0.5).astype(\"int32\")`,   if your model does binary classification   (e.g. if it uses a `sigmoid` last-layer activation).\n",
      "  warnings.warn('`model.predict_classes()` is deprecated and '\n"
     ]
    }
   ],
   "source": [
    "encoded_predictions = model.predict_classes(X_test_scaled[:5])\n",
    "prediction_labels = label_encoder.inverse_transform(encoded_predictions)"
   ]
  },
  {
   "cell_type": "code",
   "execution_count": 20,
   "id": "90d04a5a",
   "metadata": {},
   "outputs": [
    {
     "name": "stdout",
     "output_type": "stream",
     "text": [
      "Predicted classes: ['female' 'female' 'female' 'female' 'female']\n",
      "Actual Labels: ['female', 'female', 'female', 'female', 'female']\n"
     ]
    }
   ],
   "source": [
    "print(f\"Predicted classes: {prediction_labels}\")\n",
    "print(f\"Actual Labels: {list(y_test[:5])}\")"
   ]
  },
  {
   "cell_type": "code",
   "execution_count": null,
   "id": "86b2070f",
   "metadata": {},
   "outputs": [],
   "source": []
  }
 ],
 "metadata": {
  "kernelspec": {
   "display_name": "Python [conda env:pythonAdv] *",
   "language": "python",
   "name": "conda-env-pythonAdv-py"
  },
  "language_info": {
   "codemirror_mode": {
    "name": "ipython",
    "version": 3
   },
   "file_extension": ".py",
   "mimetype": "text/x-python",
   "name": "python",
   "nbconvert_exporter": "python",
   "pygments_lexer": "ipython3",
   "version": "3.6.13"
  }
 },
 "nbformat": 4,
 "nbformat_minor": 5
}
