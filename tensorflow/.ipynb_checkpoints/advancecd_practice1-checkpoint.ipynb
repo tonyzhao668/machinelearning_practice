{
 "cells": [
  {
   "cell_type": "markdown",
   "id": "e7690ab9",
   "metadata": {},
   "source": [
    "# TensorFlow practice 1"
   ]
  },
  {
   "cell_type": "code",
   "execution_count": 27,
   "id": "1ed28db4",
   "metadata": {},
   "outputs": [
    {
     "name": "stdout",
     "output_type": "stream",
     "text": [
      "The tensorboard extension is already loaded. To reload it, use:\n",
      "  %reload_ext tensorboard\n"
     ]
    }
   ],
   "source": [
    "# Load the TensorBoard notebook extension\n",
    "%load_ext tensorboard"
   ]
  },
  {
   "cell_type": "code",
   "execution_count": 28,
   "id": "2333a531",
   "metadata": {},
   "outputs": [],
   "source": [
    "import tensorflow as tf\n",
    "import datetime\n",
    "import pandas as pd\n",
    "import numpy as np"
   ]
  },
  {
   "cell_type": "code",
   "execution_count": 29,
   "id": "1f05df96",
   "metadata": {},
   "outputs": [],
   "source": [
    "mnist = tf.keras.datasets.mnist\n",
    "\n",
    "(x_train, y_train),(x_test, y_test) = mnist.load_data()\n",
    "x_train, x_test = x_train / 255.0, x_test / 255.0\n",
    "\n",
    "def create_model():\n",
    "    return tf.keras.models.Sequential([\n",
    "    tf.keras.layers.Flatten(input_shape=(28, 28)),\n",
    "    tf.keras.layers.Dense(512, activation='relu'),\n",
    "    tf.keras.layers.Dropout(0.2),\n",
    "    tf.keras.layers.Dense(10, activation='softmax')\n",
    "  ])"
   ]
  },
  {
   "cell_type": "code",
   "execution_count": 30,
   "id": "b3897000",
   "metadata": {},
   "outputs": [
    {
     "data": {
      "text/plain": [
       "(60000, 28, 28)"
      ]
     },
     "execution_count": 30,
     "metadata": {},
     "output_type": "execute_result"
    }
   ],
   "source": [
    "# this why input_shap=(28, 28)\n",
    "x_train.shape"
   ]
  },
  {
   "cell_type": "code",
   "execution_count": 31,
   "id": "081e3d70",
   "metadata": {},
   "outputs": [
    {
     "data": {
      "text/plain": [
       "array([0., 0., 0., 0., 0., 0., 0., 0., 0., 0., 0., 0., 0., 0., 0., 0., 0.,\n",
       "       0., 0., 0., 0., 0., 0., 0., 0., 0., 0., 0.])"
      ]
     },
     "execution_count": 31,
     "metadata": {},
     "output_type": "execute_result"
    }
   ],
   "source": [
    "x_train[0,0,]"
   ]
  },
  {
   "cell_type": "code",
   "execution_count": 32,
   "id": "0565a741",
   "metadata": {},
   "outputs": [
    {
     "data": {
      "text/plain": [
       "array([0, 1, 2, 3, 4, 5, 6, 7, 8, 9], dtype=uint8)"
      ]
     },
     "execution_count": 32,
     "metadata": {},
     "output_type": "execute_result"
    }
   ],
   "source": [
    "# find out the unique values\n",
    "np.unique(y_train)"
   ]
  },
  {
   "cell_type": "code",
   "execution_count": 44,
   "id": "d7b06280",
   "metadata": {},
   "outputs": [
    {
     "name": "stdout",
     "output_type": "stream",
     "text": [
      "Epoch 1/70\n",
      "1/1 [==============================] - 1s 674ms/step - loss: 2.1029 - accuracy: 0.2188 - val_loss: 2.1119 - val_accuracy: 0.4375\n",
      "Epoch 2/70\n",
      "1/1 [==============================] - 0s 445ms/step - loss: 1.5952 - accuracy: 0.6875 - val_loss: 2.0893 - val_accuracy: 0.4375\n",
      "Epoch 3/70\n",
      "1/1 [==============================] - 0s 25ms/step - loss: 1.2145 - accuracy: 0.8750 - val_loss: 2.0951 - val_accuracy: 0.3750\n",
      "Epoch 4/70\n",
      "1/1 [==============================] - 0s 24ms/step - loss: 0.8962 - accuracy: 0.8750 - val_loss: 2.1079 - val_accuracy: 0.4375\n",
      "Epoch 5/70\n",
      "1/1 [==============================] - 0s 25ms/step - loss: 0.6669 - accuracy: 0.9688 - val_loss: 2.1253 - val_accuracy: 0.4375\n",
      "Epoch 6/70\n",
      "1/1 [==============================] - 0s 32ms/step - loss: 0.4477 - accuracy: 0.9688 - val_loss: 2.1413 - val_accuracy: 0.5000\n",
      "Epoch 7/70\n",
      "1/1 [==============================] - 0s 26ms/step - loss: 0.3308 - accuracy: 1.0000 - val_loss: 2.1634 - val_accuracy: 0.5000\n",
      "Epoch 8/70\n",
      "1/1 [==============================] - 0s 32ms/step - loss: 0.2402 - accuracy: 1.0000 - val_loss: 2.1845 - val_accuracy: 0.5000\n",
      "Epoch 9/70\n",
      "1/1 [==============================] - 0s 32ms/step - loss: 0.1645 - accuracy: 1.0000 - val_loss: 2.2061 - val_accuracy: 0.5000\n",
      "Epoch 10/70\n",
      "1/1 [==============================] - 0s 37ms/step - loss: 0.1062 - accuracy: 1.0000 - val_loss: 2.2331 - val_accuracy: 0.5000\n",
      "Epoch 11/70\n",
      "1/1 [==============================] - 0s 31ms/step - loss: 0.0830 - accuracy: 1.0000 - val_loss: 2.2651 - val_accuracy: 0.5000\n",
      "Epoch 12/70\n",
      "1/1 [==============================] - 0s 27ms/step - loss: 0.0609 - accuracy: 1.0000 - val_loss: 2.3018 - val_accuracy: 0.5000\n",
      "Epoch 13/70\n",
      "1/1 [==============================] - 0s 31ms/step - loss: 0.0486 - accuracy: 1.0000 - val_loss: 2.3423 - val_accuracy: 0.5000\n",
      "Epoch 14/70\n",
      "1/1 [==============================] - 0s 24ms/step - loss: 0.0385 - accuracy: 1.0000 - val_loss: 2.3882 - val_accuracy: 0.4375\n",
      "Epoch 15/70\n",
      "1/1 [==============================] - 0s 29ms/step - loss: 0.0253 - accuracy: 1.0000 - val_loss: 2.4307 - val_accuracy: 0.4375\n",
      "Epoch 16/70\n",
      "1/1 [==============================] - 0s 30ms/step - loss: 0.0235 - accuracy: 1.0000 - val_loss: 2.4738 - val_accuracy: 0.4375\n",
      "Epoch 17/70\n",
      "1/1 [==============================] - 0s 29ms/step - loss: 0.0139 - accuracy: 1.0000 - val_loss: 2.5166 - val_accuracy: 0.4375\n",
      "Epoch 18/70\n",
      "1/1 [==============================] - 0s 28ms/step - loss: 0.0135 - accuracy: 1.0000 - val_loss: 2.5569 - val_accuracy: 0.4375\n",
      "Epoch 19/70\n",
      "1/1 [==============================] - 0s 28ms/step - loss: 0.0112 - accuracy: 1.0000 - val_loss: 2.5953 - val_accuracy: 0.4375\n",
      "Epoch 20/70\n",
      "1/1 [==============================] - 0s 27ms/step - loss: 0.0070 - accuracy: 1.0000 - val_loss: 2.6311 - val_accuracy: 0.5000\n",
      "Epoch 21/70\n",
      "1/1 [==============================] - 0s 27ms/step - loss: 0.0077 - accuracy: 1.0000 - val_loss: 2.6656 - val_accuracy: 0.5000\n",
      "Epoch 22/70\n",
      "1/1 [==============================] - 0s 27ms/step - loss: 0.0051 - accuracy: 1.0000 - val_loss: 2.6984 - val_accuracy: 0.5000\n",
      "Epoch 23/70\n",
      "1/1 [==============================] - 0s 32ms/step - loss: 0.0054 - accuracy: 1.0000 - val_loss: 2.7294 - val_accuracy: 0.5000\n",
      "Epoch 24/70\n",
      "1/1 [==============================] - 0s 27ms/step - loss: 0.0053 - accuracy: 1.0000 - val_loss: 2.7592 - val_accuracy: 0.5000\n",
      "Epoch 25/70\n",
      "1/1 [==============================] - 0s 26ms/step - loss: 0.0042 - accuracy: 1.0000 - val_loss: 2.7876 - val_accuracy: 0.5000\n",
      "Epoch 26/70\n",
      "1/1 [==============================] - 0s 37ms/step - loss: 0.0035 - accuracy: 1.0000 - val_loss: 2.8139 - val_accuracy: 0.5000\n",
      "Epoch 27/70\n",
      "1/1 [==============================] - 0s 31ms/step - loss: 0.0025 - accuracy: 1.0000 - val_loss: 2.8391 - val_accuracy: 0.5000\n",
      "Epoch 28/70\n",
      "1/1 [==============================] - 0s 30ms/step - loss: 0.0040 - accuracy: 1.0000 - val_loss: 2.8637 - val_accuracy: 0.5000\n",
      "Epoch 29/70\n",
      "1/1 [==============================] - 0s 41ms/step - loss: 0.0030 - accuracy: 1.0000 - val_loss: 2.8878 - val_accuracy: 0.5000\n",
      "Epoch 30/70\n",
      "1/1 [==============================] - 0s 36ms/step - loss: 0.0021 - accuracy: 1.0000 - val_loss: 2.9110 - val_accuracy: 0.5000\n",
      "Epoch 31/70\n",
      "1/1 [==============================] - 0s 35ms/step - loss: 0.0026 - accuracy: 1.0000 - val_loss: 2.9322 - val_accuracy: 0.5000\n",
      "Epoch 32/70\n",
      "1/1 [==============================] - 0s 26ms/step - loss: 0.0020 - accuracy: 1.0000 - val_loss: 2.9524 - val_accuracy: 0.5000\n",
      "Epoch 33/70\n",
      "1/1 [==============================] - 0s 30ms/step - loss: 0.0022 - accuracy: 1.0000 - val_loss: 2.9712 - val_accuracy: 0.5000\n",
      "Epoch 34/70\n",
      "1/1 [==============================] - 0s 28ms/step - loss: 0.0019 - accuracy: 1.0000 - val_loss: 2.9896 - val_accuracy: 0.5000\n",
      "Epoch 35/70\n",
      "1/1 [==============================] - 0s 27ms/step - loss: 0.0013 - accuracy: 1.0000 - val_loss: 3.0065 - val_accuracy: 0.4375\n",
      "Epoch 36/70\n",
      "1/1 [==============================] - 0s 26ms/step - loss: 0.0019 - accuracy: 1.0000 - val_loss: 3.0225 - val_accuracy: 0.4375\n",
      "Epoch 37/70\n",
      "1/1 [==============================] - 0s 33ms/step - loss: 0.0016 - accuracy: 1.0000 - val_loss: 3.0382 - val_accuracy: 0.4375\n",
      "Epoch 38/70\n",
      "1/1 [==============================] - 0s 31ms/step - loss: 0.0014 - accuracy: 1.0000 - val_loss: 3.0527 - val_accuracy: 0.4375\n",
      "Epoch 39/70\n",
      "1/1 [==============================] - 0s 31ms/step - loss: 0.0012 - accuracy: 1.0000 - val_loss: 3.0669 - val_accuracy: 0.4375\n",
      "Epoch 40/70\n",
      "1/1 [==============================] - 0s 23ms/step - loss: 0.0012 - accuracy: 1.0000 - val_loss: 3.0801 - val_accuracy: 0.4375\n",
      "Epoch 41/70\n",
      "1/1 [==============================] - 0s 39ms/step - loss: 9.9516e-04 - accuracy: 1.0000 - val_loss: 3.0924 - val_accuracy: 0.4375\n",
      "Epoch 42/70\n",
      "1/1 [==============================] - 0s 24ms/step - loss: 0.0012 - accuracy: 1.0000 - val_loss: 3.1043 - val_accuracy: 0.4375\n",
      "Epoch 43/70\n",
      "1/1 [==============================] - 0s 26ms/step - loss: 0.0014 - accuracy: 1.0000 - val_loss: 3.1152 - val_accuracy: 0.4375\n",
      "Epoch 44/70\n",
      "1/1 [==============================] - 0s 41ms/step - loss: 0.0010 - accuracy: 1.0000 - val_loss: 3.1258 - val_accuracy: 0.4375\n",
      "Epoch 45/70\n",
      "1/1 [==============================] - 0s 24ms/step - loss: 0.0011 - accuracy: 1.0000 - val_loss: 3.1350 - val_accuracy: 0.4375\n",
      "Epoch 46/70\n",
      "1/1 [==============================] - 0s 26ms/step - loss: 9.9791e-04 - accuracy: 1.0000 - val_loss: 3.1436 - val_accuracy: 0.4375\n",
      "Epoch 47/70\n",
      "1/1 [==============================] - 0s 25ms/step - loss: 9.1949e-04 - accuracy: 1.0000 - val_loss: 3.1520 - val_accuracy: 0.4375\n",
      "Epoch 48/70\n",
      "1/1 [==============================] - 0s 26ms/step - loss: 9.1606e-04 - accuracy: 1.0000 - val_loss: 3.1595 - val_accuracy: 0.4375\n",
      "Epoch 49/70\n",
      "1/1 [==============================] - 0s 38ms/step - loss: 8.9802e-04 - accuracy: 1.0000 - val_loss: 3.1664 - val_accuracy: 0.4375\n",
      "Epoch 50/70\n",
      "1/1 [==============================] - 0s 30ms/step - loss: 8.0952e-04 - accuracy: 1.0000 - val_loss: 3.1728 - val_accuracy: 0.4375\n",
      "Epoch 51/70\n",
      "1/1 [==============================] - 0s 30ms/step - loss: 7.6747e-04 - accuracy: 1.0000 - val_loss: 3.1787 - val_accuracy: 0.4375\n",
      "Epoch 52/70\n",
      "1/1 [==============================] - 0s 23ms/step - loss: 9.1629e-04 - accuracy: 1.0000 - val_loss: 3.1840 - val_accuracy: 0.4375\n",
      "Epoch 53/70\n",
      "1/1 [==============================] - 0s 26ms/step - loss: 0.0011 - accuracy: 1.0000 - val_loss: 3.1889 - val_accuracy: 0.4375\n",
      "Epoch 54/70\n",
      "1/1 [==============================] - 0s 26ms/step - loss: 7.0682e-04 - accuracy: 1.0000 - val_loss: 3.1934 - val_accuracy: 0.4375\n",
      "Epoch 55/70\n",
      "1/1 [==============================] - 0s 27ms/step - loss: 7.0896e-04 - accuracy: 1.0000 - val_loss: 3.1976 - val_accuracy: 0.4375\n",
      "Epoch 56/70\n",
      "1/1 [==============================] - 0s 29ms/step - loss: 8.6158e-04 - accuracy: 1.0000 - val_loss: 3.2019 - val_accuracy: 0.4375\n",
      "Epoch 57/70\n",
      "1/1 [==============================] - 0s 27ms/step - loss: 7.8611e-04 - accuracy: 1.0000 - val_loss: 3.2060 - val_accuracy: 0.4375\n",
      "Epoch 58/70\n",
      "1/1 [==============================] - 0s 27ms/step - loss: 7.4434e-04 - accuracy: 1.0000 - val_loss: 3.2102 - val_accuracy: 0.4375\n",
      "Epoch 59/70\n"
     ]
    },
    {
     "name": "stdout",
     "output_type": "stream",
     "text": [
      "1/1 [==============================] - 0s 26ms/step - loss: 7.5569e-04 - accuracy: 1.0000 - val_loss: 3.2140 - val_accuracy: 0.4375\n",
      "Epoch 60/70\n",
      "1/1 [==============================] - 0s 27ms/step - loss: 7.1656e-04 - accuracy: 1.0000 - val_loss: 3.2176 - val_accuracy: 0.4375\n",
      "Epoch 61/70\n",
      "1/1 [==============================] - 0s 27ms/step - loss: 7.4085e-04 - accuracy: 1.0000 - val_loss: 3.2210 - val_accuracy: 0.4375\n",
      "Epoch 62/70\n",
      "1/1 [==============================] - 0s 27ms/step - loss: 6.2405e-04 - accuracy: 1.0000 - val_loss: 3.2244 - val_accuracy: 0.4375\n",
      "Epoch 63/70\n",
      "1/1 [==============================] - 0s 27ms/step - loss: 6.0669e-04 - accuracy: 1.0000 - val_loss: 3.2274 - val_accuracy: 0.4375\n",
      "Epoch 64/70\n",
      "1/1 [==============================] - 0s 30ms/step - loss: 6.3602e-04 - accuracy: 1.0000 - val_loss: 3.2300 - val_accuracy: 0.4375\n",
      "Epoch 65/70\n",
      "1/1 [==============================] - 0s 26ms/step - loss: 7.5042e-04 - accuracy: 1.0000 - val_loss: 3.2318 - val_accuracy: 0.4375\n",
      "Epoch 66/70\n",
      "1/1 [==============================] - 0s 27ms/step - loss: 7.6707e-04 - accuracy: 1.0000 - val_loss: 3.2335 - val_accuracy: 0.4375\n",
      "Epoch 67/70\n",
      "1/1 [==============================] - 0s 27ms/step - loss: 7.2079e-04 - accuracy: 1.0000 - val_loss: 3.2350 - val_accuracy: 0.4375\n",
      "Epoch 68/70\n",
      "1/1 [==============================] - 0s 27ms/step - loss: 5.6978e-04 - accuracy: 1.0000 - val_loss: 3.2366 - val_accuracy: 0.4375\n",
      "Epoch 69/70\n",
      "1/1 [==============================] - 0s 34ms/step - loss: 9.1347e-04 - accuracy: 1.0000 - val_loss: 3.2378 - val_accuracy: 0.4375\n",
      "Epoch 70/70\n",
      "1/1 [==============================] - 0s 29ms/step - loss: 6.9325e-04 - accuracy: 1.0000 - val_loss: 3.2393 - val_accuracy: 0.4375\n"
     ]
    },
    {
     "data": {
      "text/plain": [
       "<tensorflow.python.keras.callbacks.History at 0x247b523c8d0>"
      ]
     },
     "execution_count": 44,
     "metadata": {},
     "output_type": "execute_result"
    }
   ],
   "source": [
    "model = create_model()\n",
    "model.compile(optimizer='adam',\n",
    "              loss='sparse_categorical_crossentropy',\n",
    "              metrics=['accuracy'])\n",
    "\n",
    "log_dir = \"logs/fit/\" + datetime.datetime.now().strftime(\"%Y%m%d-%H%M%S\")\n",
    "tensorboard_callback = tf.keras.callbacks.TensorBoard(log_dir=log_dir, histogram_freq=1)\n",
    "\n",
    "model.fit(x=x_train, \n",
    "          y=y_train, \n",
    "          epochs=70, \n",
    "          validation_data=(x_test, y_test), \n",
    "          callbacks=[tensorboard_callback])"
   ]
  },
  {
   "cell_type": "code",
   "execution_count": 45,
   "id": "92d3bdee",
   "metadata": {},
   "outputs": [
    {
     "data": {
      "text/plain": [
       "Reusing TensorBoard on port 6006 (pid 6016), started 0:45:52 ago. (Use '!kill 6016' to kill it.)"
      ]
     },
     "metadata": {},
     "output_type": "display_data"
    },
    {
     "data": {
      "text/html": [
       "\n",
       "      <iframe id=\"tensorboard-frame-df80c9996c96abb9\" width=\"100%\" height=\"800\" frameborder=\"0\">\n",
       "      </iframe>\n",
       "      <script>\n",
       "        (function() {\n",
       "          const frame = document.getElementById(\"tensorboard-frame-df80c9996c96abb9\");\n",
       "          const url = new URL(\"/\", window.location);\n",
       "          const port = 6006;\n",
       "          if (port) {\n",
       "            url.port = port;\n",
       "          }\n",
       "          frame.src = url;\n",
       "        })();\n",
       "      </script>\n",
       "    "
      ],
      "text/plain": [
       "<IPython.core.display.HTML object>"
      ]
     },
     "metadata": {},
     "output_type": "display_data"
    }
   ],
   "source": [
    "%tensorboard --logdir logs/fit"
   ]
  },
  {
   "cell_type": "markdown",
   "id": "6bf87795",
   "metadata": {},
   "source": [
    "## Using TensorBoard with other methods"
   ]
  },
  {
   "cell_type": "code",
   "execution_count": 35,
   "id": "b26f7db7",
   "metadata": {},
   "outputs": [],
   "source": [
    "#Use the same dataset as above, but convert it to tf.data.Dataset to take advantage of batching capabilities:\n",
    "train_dataset = tf.data.Dataset.from_tensor_slices((x_train, y_train))\n",
    "test_dataset = tf.data.Dataset.from_tensor_slices((x_test, y_test))\n",
    "\n",
    "train_dataset = train_dataset.shuffle(60000).batch(64)\n",
    "test_dataset = test_dataset.batch(64)"
   ]
  },
  {
   "cell_type": "code",
   "execution_count": 36,
   "id": "12bfd44f",
   "metadata": {},
   "outputs": [],
   "source": [
    "loss_object = tf.keras.losses.SparseCategoricalCrossentropy()\n",
    "optimizer = tf.keras.optimizers.Adam()"
   ]
  },
  {
   "cell_type": "code",
   "execution_count": 37,
   "id": "48b5039d",
   "metadata": {},
   "outputs": [],
   "source": [
    "#Create stateful metrics that can be used to accumulate values during training and logged at any point:\n",
    "\n",
    "# Define our metrics\n",
    "train_loss = tf.keras.metrics.Mean('train_loss', dtype=tf.float32)\n",
    "train_accuracy = tf.keras.metrics.SparseCategoricalAccuracy('train_accuracy')\n",
    "test_loss = tf.keras.metrics.Mean('test_loss', dtype=tf.float32)\n",
    "test_accuracy = tf.keras.metrics.SparseCategoricalAccuracy('test_accuracy')"
   ]
  },
  {
   "cell_type": "code",
   "execution_count": 38,
   "id": "9d307fd3",
   "metadata": {},
   "outputs": [],
   "source": [
    "#Define the training and test functions:\n",
    "def train_step(model, optimizer, x_train, y_train):\n",
    "    with tf.GradientTape() as tape:\n",
    "        predictions = model(x_train, training=True)\n",
    "        loss = loss_object(y_train, predictions)\n",
    "        grads = tape.gradient(loss, model.trainable_variables)\n",
    "        optimizer.apply_gradients(zip(grads, model.trainable_variables))\n",
    "\n",
    "        train_loss(loss)\n",
    "        train_accuracy(y_train, predictions)\n",
    "\n",
    "def test_step(model, x_test, y_test):\n",
    "    predictions = model(x_test)\n",
    "    loss = loss_object(y_test, predictions)\n",
    "\n",
    "    test_loss(loss)\n",
    "    test_accuracy(y_test, predictions)"
   ]
  },
  {
   "cell_type": "code",
   "execution_count": 39,
   "id": "14cb1049",
   "metadata": {},
   "outputs": [],
   "source": [
    "#Set up summary writers to write the summaries to disk in a different logs directory:\n",
    "current_time = datetime.datetime.now().strftime(\"%Y%m%d-%H%M%S\")\n",
    "train_log_dir = 'logs/gradient_tape/' + current_time + '/train'\n",
    "test_log_dir = 'logs/gradient_tape/' + current_time + '/test'\n",
    "train_summary_writer = tf.summary.create_file_writer(train_log_dir)\n",
    "test_summary_writer = tf.summary.create_file_writer(test_log_dir)"
   ]
  },
  {
   "cell_type": "code",
   "execution_count": 40,
   "id": "6dab7a3a",
   "metadata": {},
   "outputs": [
    {
     "name": "stdout",
     "output_type": "stream",
     "text": [
      "Epoch 1, Loss: 0.24488294124603271, Accuracy: 92.88333129882812, Test Loss: 0.1162695661187172, Test Accuracy: 96.5\n",
      "Epoch 2, Loss: 0.10446560382843018, Accuracy: 96.87999725341797, Test Loss: 0.08016292005777359, Test Accuracy: 97.41999816894531\n",
      "Epoch 3, Loss: 0.07211146503686905, Accuracy: 97.80833435058594, Test Loss: 0.07443124055862427, Test Accuracy: 97.66999816894531\n",
      "Epoch 4, Loss: 0.05525840446352959, Accuracy: 98.27833557128906, Test Loss: 0.06205476075410843, Test Accuracy: 98.02999877929688\n",
      "Epoch 5, Loss: 0.04428074136376381, Accuracy: 98.54833221435547, Test Loss: 0.05914183333516121, Test Accuracy: 98.1199951171875\n"
     ]
    }
   ],
   "source": [
    "model = create_model() # reset our model\n",
    "\n",
    "EPOCHS = 5\n",
    "\n",
    "for epoch in range(EPOCHS):\n",
    "    for (x_train, y_train) in train_dataset:\n",
    "        train_step(model, optimizer, x_train, y_train)\n",
    "        with train_summary_writer.as_default():\n",
    "            tf.summary.scalar('loss', train_loss.result(), step=epoch)\n",
    "            tf.summary.scalar('accuracy', train_accuracy.result(), step=epoch)\n",
    "\n",
    "    for (x_test, y_test) in test_dataset:\n",
    "        test_step(model, x_test, y_test)\n",
    "        with test_summary_writer.as_default():\n",
    "            tf.summary.scalar('loss', test_loss.result(), step=epoch)\n",
    "            tf.summary.scalar('accuracy', test_accuracy.result(), step=epoch)\n",
    "\n",
    "    template = 'Epoch {}, Loss: {}, Accuracy: {}, Test Loss: {}, Test Accuracy: {}'\n",
    "    print (template.format(epoch+1,\n",
    "                         train_loss.result(), \n",
    "                         train_accuracy.result()*100,\n",
    "                         test_loss.result(), \n",
    "                         test_accuracy.result()*100))\n",
    "    # Reset metrics every epoch\n",
    "    train_loss.reset_states()\n",
    "    test_loss.reset_states()\n",
    "    train_accuracy.reset_states()\n",
    "    test_accuracy.reset_states()\n"
   ]
  },
  {
   "cell_type": "code",
   "execution_count": 41,
   "id": "db3d3437",
   "metadata": {},
   "outputs": [
    {
     "data": {
      "text/plain": [
       "Reusing TensorBoard on port 6006 (pid 8952), started 0:09:06 ago. (Use '!kill 8952' to kill it.)"
      ]
     },
     "metadata": {},
     "output_type": "display_data"
    },
    {
     "data": {
      "text/html": [
       "\n",
       "      <iframe id=\"tensorboard-frame-75fc8ac427deaeff\" width=\"100%\" height=\"800\" frameborder=\"0\">\n",
       "      </iframe>\n",
       "      <script>\n",
       "        (function() {\n",
       "          const frame = document.getElementById(\"tensorboard-frame-75fc8ac427deaeff\");\n",
       "          const url = new URL(\"/\", window.location);\n",
       "          const port = 6006;\n",
       "          if (port) {\n",
       "            url.port = port;\n",
       "          }\n",
       "          frame.src = url;\n",
       "        })();\n",
       "      </script>\n",
       "    "
      ],
      "text/plain": [
       "<IPython.core.display.HTML object>"
      ]
     },
     "metadata": {},
     "output_type": "display_data"
    }
   ],
   "source": [
    "%tensorboard --logdir logs/gradient_tape"
   ]
  },
  {
   "cell_type": "code",
   "execution_count": null,
   "id": "59e2c715",
   "metadata": {},
   "outputs": [],
   "source": []
  }
 ],
 "metadata": {
  "kernelspec": {
   "display_name": "Python [conda env:pythonAdv] *",
   "language": "python",
   "name": "conda-env-pythonAdv-py"
  },
  "language_info": {
   "codemirror_mode": {
    "name": "ipython",
    "version": 3
   },
   "file_extension": ".py",
   "mimetype": "text/x-python",
   "name": "python",
   "nbconvert_exporter": "python",
   "pygments_lexer": "ipython3",
   "version": "3.6.13"
  }
 },
 "nbformat": 4,
 "nbformat_minor": 5
}
