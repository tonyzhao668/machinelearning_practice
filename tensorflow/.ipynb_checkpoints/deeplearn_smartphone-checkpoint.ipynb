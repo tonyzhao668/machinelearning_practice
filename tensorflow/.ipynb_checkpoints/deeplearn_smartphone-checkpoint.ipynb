{
 "cells": [
  {
   "cell_type": "markdown",
   "id": "e7690ab9",
   "metadata": {},
   "source": [
    "# Deep Learning Smartphone Activity Detector\n",
    "\n",
    "http://archive.ics.uci.edu/ml/datasets/Smartphone-Based+Recognition+of+Human+Activities+and+Postural+Transitions"
   ]
  },
  {
   "cell_type": "markdown",
   "id": "b0cef95b",
   "metadata": {},
   "source": [
    "### Objective\n",
    "### Predict human activity using smartphone sensor data"
   ]
  },
  {
   "cell_type": "markdown",
   "id": "e5bca902",
   "metadata": {},
   "source": [
    "## Data Pre-Processing\n",
    "### Note: This dataset has already been scaled"
   ]
  },
  {
   "cell_type": "code",
   "execution_count": 1,
   "id": "ff395114",
   "metadata": {},
   "outputs": [],
   "source": [
    "import os\n",
    "import tensorflow as tf\n",
    "from tensorflow.keras.models import Sequential\n",
    "from tensorflow.keras.utils import to_categorical\n",
    "from tensorflow.keras.layers import Dense"
   ]
  },
  {
   "cell_type": "code",
   "execution_count": 2,
   "id": "e3a5db22",
   "metadata": {},
   "outputs": [],
   "source": [
    "import numpy as np\n",
    "import pandas as pd"
   ]
  },
  {
   "cell_type": "code",
   "execution_count": 3,
   "id": "e1e071ca",
   "metadata": {},
   "outputs": [],
   "source": [
    "# Training Data Paths\n",
    "X_training_data = os.path.join(\"data\", \"Resources\", \"Train\", \"X_train.txt\")\n",
    "y_training_data = os.path.join(\"data\", \"Resources\", \"Train\", \"y_train.txt\")"
   ]
  },
  {
   "cell_type": "code",
   "execution_count": 4,
   "id": "e64d4878",
   "metadata": {},
   "outputs": [],
   "source": [
    "# Testing Data Paths\n",
    "X_testing_data = os.path.join(\"data\", \"Resources\", \"Test\", \"X_test.txt\")\n",
    "y_testing_data = os.path.join(\"data\", \"Resources\", \"Test\", \"y_test.txt\")"
   ]
  },
  {
   "cell_type": "code",
   "execution_count": 5,
   "id": "abdaef7a",
   "metadata": {},
   "outputs": [
    {
     "data": {
      "text/html": [
       "<div>\n",
       "<style scoped>\n",
       "    .dataframe tbody tr th:only-of-type {\n",
       "        vertical-align: middle;\n",
       "    }\n",
       "\n",
       "    .dataframe tbody tr th {\n",
       "        vertical-align: top;\n",
       "    }\n",
       "\n",
       "    .dataframe thead th {\n",
       "        text-align: right;\n",
       "    }\n",
       "</style>\n",
       "<table border=\"1\" class=\"dataframe\">\n",
       "  <thead>\n",
       "    <tr style=\"text-align: right;\">\n",
       "      <th></th>\n",
       "      <th>0</th>\n",
       "      <th>1</th>\n",
       "      <th>2</th>\n",
       "      <th>3</th>\n",
       "      <th>4</th>\n",
       "      <th>5</th>\n",
       "      <th>6</th>\n",
       "      <th>7</th>\n",
       "      <th>8</th>\n",
       "      <th>9</th>\n",
       "      <th>...</th>\n",
       "      <th>551</th>\n",
       "      <th>552</th>\n",
       "      <th>553</th>\n",
       "      <th>554</th>\n",
       "      <th>555</th>\n",
       "      <th>556</th>\n",
       "      <th>557</th>\n",
       "      <th>558</th>\n",
       "      <th>559</th>\n",
       "      <th>560</th>\n",
       "    </tr>\n",
       "  </thead>\n",
       "  <tbody>\n",
       "    <tr>\n",
       "      <th>0</th>\n",
       "      <td>0.039480</td>\n",
       "      <td>-0.002131</td>\n",
       "      <td>-0.029067</td>\n",
       "      <td>-0.998348</td>\n",
       "      <td>-0.982945</td>\n",
       "      <td>-0.971273</td>\n",
       "      <td>-0.998702</td>\n",
       "      <td>-0.983315</td>\n",
       "      <td>-0.974000</td>\n",
       "      <td>-0.802537</td>\n",
       "      <td>...</td>\n",
       "      <td>0.202804</td>\n",
       "      <td>-0.603199</td>\n",
       "      <td>-0.860677</td>\n",
       "      <td>0.053477</td>\n",
       "      <td>-0.007435</td>\n",
       "      <td>-0.732626</td>\n",
       "      <td>0.703511</td>\n",
       "      <td>-0.845092</td>\n",
       "      <td>0.180261</td>\n",
       "      <td>-0.047436</td>\n",
       "    </tr>\n",
       "    <tr>\n",
       "      <th>1</th>\n",
       "      <td>0.039978</td>\n",
       "      <td>-0.005153</td>\n",
       "      <td>-0.022651</td>\n",
       "      <td>-0.995482</td>\n",
       "      <td>-0.977314</td>\n",
       "      <td>-0.984760</td>\n",
       "      <td>-0.996415</td>\n",
       "      <td>-0.975835</td>\n",
       "      <td>-0.985973</td>\n",
       "      <td>-0.798477</td>\n",
       "      <td>...</td>\n",
       "      <td>0.440079</td>\n",
       "      <td>-0.404427</td>\n",
       "      <td>-0.761847</td>\n",
       "      <td>-0.118559</td>\n",
       "      <td>0.177899</td>\n",
       "      <td>0.100699</td>\n",
       "      <td>0.808529</td>\n",
       "      <td>-0.849230</td>\n",
       "      <td>0.180610</td>\n",
       "      <td>-0.042271</td>\n",
       "    </tr>\n",
       "    <tr>\n",
       "      <th>2</th>\n",
       "      <td>0.039785</td>\n",
       "      <td>-0.011809</td>\n",
       "      <td>-0.028916</td>\n",
       "      <td>-0.996194</td>\n",
       "      <td>-0.988569</td>\n",
       "      <td>-0.993256</td>\n",
       "      <td>-0.996994</td>\n",
       "      <td>-0.988526</td>\n",
       "      <td>-0.993135</td>\n",
       "      <td>-0.798477</td>\n",
       "      <td>...</td>\n",
       "      <td>0.430891</td>\n",
       "      <td>-0.138373</td>\n",
       "      <td>-0.491604</td>\n",
       "      <td>-0.036788</td>\n",
       "      <td>-0.012892</td>\n",
       "      <td>0.640011</td>\n",
       "      <td>-0.485366</td>\n",
       "      <td>-0.848947</td>\n",
       "      <td>0.181907</td>\n",
       "      <td>-0.040826</td>\n",
       "    </tr>\n",
       "    <tr>\n",
       "      <th>3</th>\n",
       "      <td>0.038758</td>\n",
       "      <td>-0.002289</td>\n",
       "      <td>-0.023863</td>\n",
       "      <td>-0.998241</td>\n",
       "      <td>-0.986774</td>\n",
       "      <td>-0.993115</td>\n",
       "      <td>-0.998216</td>\n",
       "      <td>-0.986479</td>\n",
       "      <td>-0.993825</td>\n",
       "      <td>-0.801982</td>\n",
       "      <td>...</td>\n",
       "      <td>0.137735</td>\n",
       "      <td>-0.366214</td>\n",
       "      <td>-0.702490</td>\n",
       "      <td>0.123320</td>\n",
       "      <td>0.122542</td>\n",
       "      <td>0.693578</td>\n",
       "      <td>-0.615971</td>\n",
       "      <td>-0.848164</td>\n",
       "      <td>0.185124</td>\n",
       "      <td>-0.037080</td>\n",
       "    </tr>\n",
       "    <tr>\n",
       "      <th>4</th>\n",
       "      <td>0.038988</td>\n",
       "      <td>0.004109</td>\n",
       "      <td>-0.017340</td>\n",
       "      <td>-0.997438</td>\n",
       "      <td>-0.993485</td>\n",
       "      <td>-0.996692</td>\n",
       "      <td>-0.997522</td>\n",
       "      <td>-0.993494</td>\n",
       "      <td>-0.996916</td>\n",
       "      <td>-0.801982</td>\n",
       "      <td>...</td>\n",
       "      <td>0.074999</td>\n",
       "      <td>-0.554902</td>\n",
       "      <td>-0.844224</td>\n",
       "      <td>0.082632</td>\n",
       "      <td>-0.143439</td>\n",
       "      <td>0.275041</td>\n",
       "      <td>-0.368224</td>\n",
       "      <td>-0.849927</td>\n",
       "      <td>0.184795</td>\n",
       "      <td>-0.035326</td>\n",
       "    </tr>\n",
       "  </tbody>\n",
       "</table>\n",
       "<p>5 rows × 561 columns</p>\n",
       "</div>"
      ],
      "text/plain": [
       "        0         1         2         3         4         5         6    \\\n",
       "0  0.039480 -0.002131 -0.029067 -0.998348 -0.982945 -0.971273 -0.998702   \n",
       "1  0.039978 -0.005153 -0.022651 -0.995482 -0.977314 -0.984760 -0.996415   \n",
       "2  0.039785 -0.011809 -0.028916 -0.996194 -0.988569 -0.993256 -0.996994   \n",
       "3  0.038758 -0.002289 -0.023863 -0.998241 -0.986774 -0.993115 -0.998216   \n",
       "4  0.038988  0.004109 -0.017340 -0.997438 -0.993485 -0.996692 -0.997522   \n",
       "\n",
       "        7         8         9    ...       551       552       553       554  \\\n",
       "0 -0.983315 -0.974000 -0.802537  ...  0.202804 -0.603199 -0.860677  0.053477   \n",
       "1 -0.975835 -0.985973 -0.798477  ...  0.440079 -0.404427 -0.761847 -0.118559   \n",
       "2 -0.988526 -0.993135 -0.798477  ...  0.430891 -0.138373 -0.491604 -0.036788   \n",
       "3 -0.986479 -0.993825 -0.801982  ...  0.137735 -0.366214 -0.702490  0.123320   \n",
       "4 -0.993494 -0.996916 -0.801982  ...  0.074999 -0.554902 -0.844224  0.082632   \n",
       "\n",
       "        555       556       557       558       559       560  \n",
       "0 -0.007435 -0.732626  0.703511 -0.845092  0.180261 -0.047436  \n",
       "1  0.177899  0.100699  0.808529 -0.849230  0.180610 -0.042271  \n",
       "2 -0.012892  0.640011 -0.485366 -0.848947  0.181907 -0.040826  \n",
       "3  0.122542  0.693578 -0.615971 -0.848164  0.185124 -0.037080  \n",
       "4 -0.143439  0.275041 -0.368224 -0.849927  0.184795 -0.035326  \n",
       "\n",
       "[5 rows x 561 columns]"
      ]
     },
     "execution_count": 5,
     "metadata": {},
     "output_type": "execute_result"
    }
   ],
   "source": [
    "# Read the training data into a dataframe\n",
    "X_train_df = pd.read_csv(\n",
    "    X_training_data, delimiter=\" \", skiprows=1, header=None)\n",
    "X_train_df.head()"
   ]
  },
  {
   "cell_type": "code",
   "execution_count": 6,
   "id": "159f7c2d",
   "metadata": {},
   "outputs": [],
   "source": [
    "# Convert the dataframe to a numpy array for Keras\n",
    "X_train = X_train_df.values"
   ]
  },
  {
   "cell_type": "code",
   "execution_count": 7,
   "id": "d897993f",
   "metadata": {},
   "outputs": [
    {
     "data": {
      "text/plain": [
       "array([[0., 0., 0., 0., 0., 1., 0., 0., 0., 0., 0., 0., 0.],\n",
       "       [0., 0., 0., 0., 0., 1., 0., 0., 0., 0., 0., 0., 0.],\n",
       "       [0., 0., 0., 0., 0., 1., 0., 0., 0., 0., 0., 0., 0.],\n",
       "       [0., 0., 0., 0., 0., 1., 0., 0., 0., 0., 0., 0., 0.],\n",
       "       [0., 0., 0., 0., 0., 1., 0., 0., 0., 0., 0., 0., 0.],\n",
       "       [0., 0., 0., 0., 0., 1., 0., 0., 0., 0., 0., 0., 0.],\n",
       "       [0., 0., 0., 0., 0., 1., 0., 0., 0., 0., 0., 0., 0.],\n",
       "       [0., 0., 0., 0., 0., 1., 0., 0., 0., 0., 0., 0., 0.],\n",
       "       [0., 0., 0., 0., 0., 1., 0., 0., 0., 0., 0., 0., 0.],\n",
       "       [0., 0., 0., 0., 0., 1., 0., 0., 0., 0., 0., 0., 0.]],\n",
       "      dtype=float32)"
      ]
     },
     "execution_count": 7,
     "metadata": {},
     "output_type": "execute_result"
    }
   ],
   "source": [
    "# Read in the training labels as a dataframe\n",
    "y_train_df = pd.read_csv(y_training_data)\n",
    "\n",
    "# One-hot encode the integer labels\n",
    "# 1 WALKING\n",
    "# 2 WALKING_UPSTAIRS\n",
    "# 3 WALKING_DOWNSTAIRS\n",
    "# 4 SITTING\n",
    "# 5 STANDING\n",
    "# 6 LAYING\n",
    "# 7 STAND_TO_SIT\n",
    "# 8 SIT_TO_STAND\n",
    "# 9 SIT_TO_LIE\n",
    "# 10 LIE_TO_SIT\n",
    "# 11 STAND_TO_LIE\n",
    "# 12 LIE_TO_STAND\n",
    "\n",
    "y_train = to_categorical(y_train_df)\n",
    "y_train[:10]"
   ]
  },
  {
   "cell_type": "code",
   "execution_count": 8,
   "id": "45b85c98",
   "metadata": {},
   "outputs": [],
   "source": [
    "#y_train_df.head()"
   ]
  },
  {
   "cell_type": "code",
   "execution_count": 9,
   "id": "1901b414",
   "metadata": {},
   "outputs": [
    {
     "data": {
      "text/plain": [
       "(3161, 561)"
      ]
     },
     "execution_count": 9,
     "metadata": {},
     "output_type": "execute_result"
    }
   ],
   "source": [
    "# Read the testing data\n",
    "X_test_df = pd.read_csv(X_testing_data, delimiter=\" \", skiprows=1, header=None)\n",
    "X_test = X_test_df.values\n",
    "X_test.shape"
   ]
  },
  {
   "cell_type": "code",
   "execution_count": 10,
   "id": "1b8cf75e",
   "metadata": {},
   "outputs": [
    {
     "data": {
      "text/plain": [
       "(3161, 13)"
      ]
     },
     "execution_count": 10,
     "metadata": {},
     "output_type": "execute_result"
    }
   ],
   "source": [
    "# Read the testing labels\n",
    "y_test_df = pd.read_csv(y_testing_data)\n",
    "# One-hot encode the integer labels\n",
    "y_test = to_categorical(y_test_df)\n",
    "y_test.shape"
   ]
  },
  {
   "cell_type": "markdown",
   "id": "3ca7f5b3",
   "metadata": {},
   "source": [
    "# Build a Deep Neural Network"
   ]
  },
  {
   "cell_type": "code",
   "execution_count": 11,
   "id": "a8d3338f",
   "metadata": {},
   "outputs": [],
   "source": [
    "# Create an empty sequential model\n",
    "model = Sequential()"
   ]
  },
  {
   "cell_type": "code",
   "execution_count": 12,
   "id": "2b822ff8",
   "metadata": {},
   "outputs": [
    {
     "data": {
      "text/plain": [
       "(7766, 561)"
      ]
     },
     "execution_count": 12,
     "metadata": {},
     "output_type": "execute_result"
    }
   ],
   "source": [
    "X_train.shape"
   ]
  },
  {
   "cell_type": "code",
   "execution_count": 13,
   "id": "513f2d37",
   "metadata": {},
   "outputs": [],
   "source": [
    "# Add the first layer where the input dimensions are the 561 columns of the training data\n",
    "# it means the first dense layer one has 561 input as X_train.shape[1], and 100 out put\n",
    "model.add(Dense(100, activation='relu', input_dim=X_train.shape[1]))"
   ]
  },
  {
   "cell_type": "code",
   "execution_count": 14,
   "id": "858fe59b",
   "metadata": {},
   "outputs": [],
   "source": [
    "# Add a second hidden layer\n",
    "# the 2nd dense layer has 100 output and don't need to mention how many inputs, since it is connect to the 1st one(100)\n",
    "model.add(Dense(100, activation='relu'))"
   ]
  },
  {
   "cell_type": "code",
   "execution_count": 15,
   "id": "67e29d42",
   "metadata": {},
   "outputs": [
    {
     "data": {
      "text/plain": [
       "(7766, 13)"
      ]
     },
     "execution_count": 15,
     "metadata": {},
     "output_type": "execute_result"
    }
   ],
   "source": [
    "# The output layer has 13 columns that are one-hot encoded\n",
    "y_train.shape"
   ]
  },
  {
   "cell_type": "code",
   "execution_count": 16,
   "id": "8e352ead",
   "metadata": {},
   "outputs": [],
   "source": [
    "# Add output layer\n",
    "# the last dense with outputs 13 as y_train.shape[1], and don't need to mention the input as 100, as connected with 2nd dense\n",
    "model.add(Dense(y_train.shape[1], activation=\"softmax\"))"
   ]
  },
  {
   "cell_type": "code",
   "execution_count": 17,
   "id": "edda73d4",
   "metadata": {},
   "outputs": [],
   "source": [
    "# Compile the model using categorical_crossentropy for the loss function, the adam optimizer,\n",
    "# and add accuracy to the training metrics\n",
    "model.compile(loss=\"categorical_crossentropy\",\n",
    "              optimizer=\"adam\", metrics=['accuracy'])"
   ]
  },
  {
   "cell_type": "code",
   "execution_count": 18,
   "id": "a470100f",
   "metadata": {},
   "outputs": [
    {
     "name": "stdout",
     "output_type": "stream",
     "text": [
      "Epoch 1/100\n",
      "243/243 - 1s - loss: 0.5529 - accuracy: 0.8008\n",
      "Epoch 2/100\n",
      "243/243 - 0s - loss: 0.2098 - accuracy: 0.9182\n",
      "Epoch 3/100\n",
      "243/243 - 0s - loss: 0.1531 - accuracy: 0.9384\n",
      "Epoch 4/100\n",
      "243/243 - 0s - loss: 0.1365 - accuracy: 0.9441\n",
      "Epoch 5/100\n",
      "243/243 - 0s - loss: 0.1030 - accuracy: 0.9610\n",
      "Epoch 6/100\n",
      "243/243 - 0s - loss: 0.0978 - accuracy: 0.9648\n",
      "Epoch 7/100\n",
      "243/243 - 0s - loss: 0.0938 - accuracy: 0.9636\n",
      "Epoch 8/100\n",
      "243/243 - 0s - loss: 0.0849 - accuracy: 0.9665\n",
      "Epoch 9/100\n",
      "243/243 - 0s - loss: 0.0828 - accuracy: 0.9674\n",
      "Epoch 10/100\n",
      "243/243 - 0s - loss: 0.0772 - accuracy: 0.9701\n",
      "Epoch 11/100\n",
      "243/243 - 0s - loss: 0.0778 - accuracy: 0.9694\n",
      "Epoch 12/100\n",
      "243/243 - 0s - loss: 0.0603 - accuracy: 0.9790\n",
      "Epoch 13/100\n",
      "243/243 - 0s - loss: 0.0640 - accuracy: 0.9750\n",
      "Epoch 14/100\n",
      "243/243 - 0s - loss: 0.0621 - accuracy: 0.9762\n",
      "Epoch 15/100\n",
      "243/243 - 0s - loss: 0.0561 - accuracy: 0.9762\n",
      "Epoch 16/100\n",
      "243/243 - 0s - loss: 0.1138 - accuracy: 0.9621\n",
      "Epoch 17/100\n",
      "243/243 - 0s - loss: 0.0558 - accuracy: 0.9793\n",
      "Epoch 18/100\n",
      "243/243 - 0s - loss: 0.0533 - accuracy: 0.9804\n",
      "Epoch 19/100\n",
      "243/243 - 0s - loss: 0.0559 - accuracy: 0.9782\n",
      "Epoch 20/100\n",
      "243/243 - 0s - loss: 0.0468 - accuracy: 0.9811\n",
      "Epoch 21/100\n",
      "243/243 - 0s - loss: 0.0469 - accuracy: 0.9826\n",
      "Epoch 22/100\n",
      "243/243 - 0s - loss: 0.0523 - accuracy: 0.9807\n",
      "Epoch 23/100\n",
      "243/243 - 0s - loss: 0.0501 - accuracy: 0.9800\n",
      "Epoch 24/100\n",
      "243/243 - 0s - loss: 0.0568 - accuracy: 0.9784\n",
      "Epoch 25/100\n",
      "243/243 - 0s - loss: 0.0507 - accuracy: 0.9800\n",
      "Epoch 26/100\n",
      "243/243 - 0s - loss: 0.0574 - accuracy: 0.9794\n",
      "Epoch 27/100\n",
      "243/243 - 0s - loss: 0.0539 - accuracy: 0.9780\n",
      "Epoch 28/100\n",
      "243/243 - 0s - loss: 0.0477 - accuracy: 0.9825\n",
      "Epoch 29/100\n",
      "243/243 - 0s - loss: 0.0353 - accuracy: 0.9856\n",
      "Epoch 30/100\n",
      "243/243 - 0s - loss: 0.0380 - accuracy: 0.9867\n",
      "Epoch 31/100\n",
      "243/243 - 0s - loss: 0.0340 - accuracy: 0.9866\n",
      "Epoch 32/100\n",
      "243/243 - 0s - loss: 0.0303 - accuracy: 0.9885\n",
      "Epoch 33/100\n",
      "243/243 - 0s - loss: 0.0453 - accuracy: 0.9848\n",
      "Epoch 34/100\n",
      "243/243 - 0s - loss: 0.0367 - accuracy: 0.9853\n",
      "Epoch 35/100\n",
      "243/243 - 0s - loss: 0.0380 - accuracy: 0.9864\n",
      "Epoch 36/100\n",
      "243/243 - 0s - loss: 0.0452 - accuracy: 0.9820\n",
      "Epoch 37/100\n",
      "243/243 - 0s - loss: 0.0442 - accuracy: 0.9821\n",
      "Epoch 38/100\n",
      "243/243 - 0s - loss: 0.0265 - accuracy: 0.9897\n",
      "Epoch 39/100\n",
      "243/243 - 0s - loss: 0.0234 - accuracy: 0.9902\n",
      "Epoch 40/100\n",
      "243/243 - 0s - loss: 0.0236 - accuracy: 0.9910\n",
      "Epoch 41/100\n",
      "243/243 - 0s - loss: 0.0308 - accuracy: 0.9875\n",
      "Epoch 42/100\n",
      "243/243 - 0s - loss: 0.0239 - accuracy: 0.9923\n",
      "Epoch 43/100\n",
      "243/243 - 0s - loss: 0.0285 - accuracy: 0.9893\n",
      "Epoch 44/100\n",
      "243/243 - 0s - loss: 0.0428 - accuracy: 0.9848\n",
      "Epoch 45/100\n",
      "243/243 - 0s - loss: 0.0230 - accuracy: 0.9909\n",
      "Epoch 46/100\n",
      "243/243 - 0s - loss: 0.0195 - accuracy: 0.9929\n",
      "Epoch 47/100\n",
      "243/243 - 0s - loss: 0.0220 - accuracy: 0.9929\n",
      "Epoch 48/100\n",
      "243/243 - 0s - loss: 0.0180 - accuracy: 0.9933\n",
      "Epoch 49/100\n",
      "243/243 - 0s - loss: 0.0321 - accuracy: 0.9889\n",
      "Epoch 50/100\n",
      "243/243 - 0s - loss: 0.0136 - accuracy: 0.9952\n",
      "Epoch 51/100\n",
      "243/243 - 0s - loss: 0.0284 - accuracy: 0.9894\n",
      "Epoch 52/100\n",
      "243/243 - 0s - loss: 0.0307 - accuracy: 0.9888\n",
      "Epoch 53/100\n",
      "243/243 - 0s - loss: 0.0214 - accuracy: 0.9920\n",
      "Epoch 54/100\n",
      "243/243 - 0s - loss: 0.0123 - accuracy: 0.9958\n",
      "Epoch 55/100\n",
      "243/243 - 0s - loss: 0.0194 - accuracy: 0.9929\n",
      "Epoch 56/100\n",
      "243/243 - 0s - loss: 0.0313 - accuracy: 0.9911\n",
      "Epoch 57/100\n",
      "243/243 - 0s - loss: 0.0097 - accuracy: 0.9963\n",
      "Epoch 58/100\n",
      "243/243 - 0s - loss: 0.0183 - accuracy: 0.9927\n",
      "Epoch 59/100\n",
      "243/243 - 0s - loss: 0.0323 - accuracy: 0.9880\n",
      "Epoch 60/100\n",
      "243/243 - 0s - loss: 0.0215 - accuracy: 0.9929\n",
      "Epoch 61/100\n",
      "243/243 - 0s - loss: 0.0170 - accuracy: 0.9941\n",
      "Epoch 62/100\n",
      "243/243 - 0s - loss: 0.0242 - accuracy: 0.9914\n",
      "Epoch 63/100\n",
      "243/243 - 0s - loss: 0.0103 - accuracy: 0.9959\n",
      "Epoch 64/100\n",
      "243/243 - 0s - loss: 0.0196 - accuracy: 0.9936\n",
      "Epoch 65/100\n",
      "243/243 - 0s - loss: 0.0170 - accuracy: 0.9942\n",
      "Epoch 66/100\n",
      "243/243 - 0s - loss: 0.0113 - accuracy: 0.9951\n",
      "Epoch 67/100\n",
      "243/243 - 0s - loss: 0.0289 - accuracy: 0.9889\n",
      "Epoch 68/100\n",
      "243/243 - 0s - loss: 0.0233 - accuracy: 0.9912\n",
      "Epoch 69/100\n",
      "243/243 - 0s - loss: 0.0128 - accuracy: 0.9956\n",
      "Epoch 70/100\n",
      "243/243 - 0s - loss: 0.0145 - accuracy: 0.9948\n",
      "Epoch 71/100\n",
      "243/243 - 0s - loss: 0.0182 - accuracy: 0.9929\n",
      "Epoch 72/100\n",
      "243/243 - 0s - loss: 0.0405 - accuracy: 0.9873\n",
      "Epoch 73/100\n",
      "243/243 - 0s - loss: 0.0078 - accuracy: 0.9973\n",
      "Epoch 74/100\n",
      "243/243 - 0s - loss: 0.0047 - accuracy: 0.9988\n",
      "Epoch 75/100\n",
      "243/243 - 0s - loss: 0.0028 - accuracy: 0.9999\n",
      "Epoch 76/100\n",
      "243/243 - 0s - loss: 0.0090 - accuracy: 0.9972\n",
      "Epoch 77/100\n",
      "243/243 - 0s - loss: 0.0282 - accuracy: 0.9905\n",
      "Epoch 78/100\n",
      "243/243 - 0s - loss: 0.0337 - accuracy: 0.9887\n",
      "Epoch 79/100\n",
      "243/243 - 0s - loss: 0.0219 - accuracy: 0.9918\n",
      "Epoch 80/100\n",
      "243/243 - 0s - loss: 0.0116 - accuracy: 0.9959\n",
      "Epoch 81/100\n",
      "243/243 - 0s - loss: 0.0064 - accuracy: 0.9982\n",
      "Epoch 82/100\n",
      "243/243 - 0s - loss: 0.0190 - accuracy: 0.9929\n",
      "Epoch 83/100\n",
      "243/243 - 0s - loss: 0.0073 - accuracy: 0.9972\n",
      "Epoch 84/100\n",
      "243/243 - 0s - loss: 0.0327 - accuracy: 0.9880\n",
      "Epoch 85/100\n",
      "243/243 - 0s - loss: 0.0151 - accuracy: 0.9948\n",
      "Epoch 86/100\n",
      "243/243 - 0s - loss: 0.0185 - accuracy: 0.9938\n",
      "Epoch 87/100\n",
      "243/243 - 0s - loss: 0.0200 - accuracy: 0.9925\n",
      "Epoch 88/100\n",
      "243/243 - 0s - loss: 0.0090 - accuracy: 0.9964\n",
      "Epoch 89/100\n",
      "243/243 - 0s - loss: 0.0141 - accuracy: 0.9943\n",
      "Epoch 90/100\n",
      "243/243 - 0s - loss: 0.0129 - accuracy: 0.9955\n",
      "Epoch 91/100\n",
      "243/243 - 0s - loss: 0.0080 - accuracy: 0.9981\n",
      "Epoch 92/100\n",
      "243/243 - 0s - loss: 0.0123 - accuracy: 0.9956\n",
      "Epoch 93/100\n",
      "243/243 - 0s - loss: 0.0078 - accuracy: 0.9978\n",
      "Epoch 94/100\n",
      "243/243 - 0s - loss: 0.0048 - accuracy: 0.9987\n",
      "Epoch 95/100\n",
      "243/243 - 0s - loss: 0.0043 - accuracy: 0.9990\n",
      "Epoch 96/100\n",
      "243/243 - 0s - loss: 0.0683 - accuracy: 0.9818\n",
      "Epoch 97/100\n",
      "243/243 - 0s - loss: 0.0087 - accuracy: 0.9969\n",
      "Epoch 98/100\n",
      "243/243 - 0s - loss: 0.0044 - accuracy: 0.9983\n",
      "Epoch 99/100\n",
      "243/243 - 0s - loss: 0.0028 - accuracy: 0.9995\n",
      "Epoch 100/100\n",
      "243/243 - 0s - loss: 0.0075 - accuracy: 0.9972\n"
     ]
    },
    {
     "data": {
      "text/plain": [
       "<tensorflow.python.keras.callbacks.History at 0x217b24536a0>"
      ]
     },
     "execution_count": 18,
     "metadata": {},
     "output_type": "execute_result"
    }
   ],
   "source": [
    "# Use the training data to fit (train) the model\n",
    "#verbose = 2, one line shown per epoch i.e. epoch no./total no. of epochs\n",
    "\n",
    "model.fit(\n",
    "    X_train,\n",
    "    y_train,\n",
    "    epochs=100,\n",
    "    shuffle=True,\n",
    "    verbose=2\n",
    ")"
   ]
  },
  {
   "cell_type": "markdown",
   "id": "fb5589df",
   "metadata": {},
   "source": [
    "# Save the Trained Model"
   ]
  },
  {
   "cell_type": "code",
   "execution_count": 19,
   "id": "3791b001",
   "metadata": {},
   "outputs": [],
   "source": [
    "# Save the model\n",
    "model.save(\"smartphone_trained.h5\")"
   ]
  },
  {
   "cell_type": "markdown",
   "id": "3d9ca4d6",
   "metadata": {},
   "source": [
    "# Evaluate the Model"
   ]
  },
  {
   "cell_type": "code",
   "execution_count": 20,
   "id": "f5cdf620",
   "metadata": {},
   "outputs": [],
   "source": [
    "# Load the model\n",
    "from tensorflow.keras.models import load_model\n",
    "model = load_model(\"smartphone_trained.h5\")"
   ]
  },
  {
   "cell_type": "code",
   "execution_count": 21,
   "id": "d64ac014",
   "metadata": {},
   "outputs": [
    {
     "name": "stdout",
     "output_type": "stream",
     "text": [
      "99/99 - 0s - loss: 0.3508 - accuracy: 0.9351\n",
      "Loss: 0.3507867455482483, Accuracy: 0.9351471066474915\n"
     ]
    }
   ],
   "source": [
    "# Evaluate the model using the training data\n",
    "model_loss, model_accuracy = model.evaluate(X_test, y_test, verbose=2)\n",
    "print(f\"Loss: {model_loss}, Accuracy: {model_accuracy}\")"
   ]
  },
  {
   "cell_type": "code",
   "execution_count": 22,
   "id": "c363fd79",
   "metadata": {},
   "outputs": [
    {
     "data": {
      "text/plain": [
       "(1, 561)"
      ]
     },
     "execution_count": 22,
     "metadata": {},
     "output_type": "execute_result"
    }
   ],
   "source": [
    "# Grab just one data point to test with\n",
    "test = np.expand_dims(X_test[0], axis=0)\n",
    "test.shape"
   ]
  },
  {
   "cell_type": "code",
   "execution_count": 23,
   "id": "11a45e1b",
   "metadata": {},
   "outputs": [
    {
     "name": "stdout",
     "output_type": "stream",
     "text": [
      "Predicted class: [5]\n"
     ]
    },
    {
     "name": "stderr",
     "output_type": "stream",
     "text": [
      "C:\\Users\\User\\anaconda3\\envs\\PythonAdv\\lib\\site-packages\\tensorflow\\python\\keras\\engine\\sequential.py:455: UserWarning: `model.predict_classes()` is deprecated and will be removed after 2021-01-01. Please use instead:* `np.argmax(model.predict(x), axis=-1)`,   if your model does multi-class classification   (e.g. if it uses a `softmax` last-layer activation).* `(model.predict(x) > 0.5).astype(\"int32\")`,   if your model does binary classification   (e.g. if it uses a `sigmoid` last-layer activation).\n",
      "  warnings.warn('`model.predict_classes()` is deprecated and '\n"
     ]
    }
   ],
   "source": [
    "# Make a prediction. The result should be 5 - STANDING\n",
    "print(f\"Predicted class: {model.predict_classes(test)}\")"
   ]
  },
  {
   "cell_type": "code",
   "execution_count": 24,
   "id": "b339070b",
   "metadata": {},
   "outputs": [
    {
     "data": {
      "text/plain": [
       "array([0., 0., 0., 0., 0., 1., 0., 0., 0., 0., 0., 0., 0.], dtype=float32)"
      ]
     },
     "execution_count": 24,
     "metadata": {},
     "output_type": "execute_result"
    }
   ],
   "source": [
    "# the correspondent X_test[0] is y_test[0]\n",
    "y_test[0]"
   ]
  },
  {
   "cell_type": "code",
   "execution_count": 26,
   "id": "91e9a890",
   "metadata": {},
   "outputs": [
    {
     "data": {
      "text/plain": [
       "5"
      ]
     },
     "execution_count": 26,
     "metadata": {},
     "output_type": "execute_result"
    }
   ],
   "source": [
    "from numpy import argmax\n",
    "y_predicted = int(argmax(y_test[0]))\n",
    "y_predicted"
   ]
  },
  {
   "cell_type": "code",
   "execution_count": null,
   "id": "335869b3",
   "metadata": {},
   "outputs": [],
   "source": []
  }
 ],
 "metadata": {
  "kernelspec": {
   "display_name": "Python [conda env:pythonAdv] *",
   "language": "python",
   "name": "conda-env-pythonAdv-py"
  },
  "language_info": {
   "codemirror_mode": {
    "name": "ipython",
    "version": 3
   },
   "file_extension": ".py",
   "mimetype": "text/x-python",
   "name": "python",
   "nbconvert_exporter": "python",
   "pygments_lexer": "ipython3",
   "version": "3.6.13"
  }
 },
 "nbformat": 4,
 "nbformat_minor": 5
}
