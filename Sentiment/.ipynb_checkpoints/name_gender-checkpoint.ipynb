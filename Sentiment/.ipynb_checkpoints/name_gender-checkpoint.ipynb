{
 "cells": [
  {
   "cell_type": "code",
   "execution_count": 6,
   "id": "a5a18ab7",
   "metadata": {},
   "outputs": [],
   "source": [
    "from nltk.corpus import names\n",
    "import random\n",
    "import pandas as pd\n",
    "import numpy as np\n",
    "import nltk"
   ]
  },
  {
   "cell_type": "markdown",
   "id": "15acf628",
   "metadata": {},
   "source": [
    "# 1. classify a name's gender"
   ]
  },
  {
   "cell_type": "code",
   "execution_count": 7,
   "id": "b9a77fa0",
   "metadata": {},
   "outputs": [],
   "source": [
    "labeled_names = ([(name, 'male') for name in names.words('male.txt')] +\n",
    "[(name, 'female') for name in names.words('female.txt')])\n",
    "\n",
    "random.shuffle(labeled_names)"
   ]
  },
  {
   "cell_type": "code",
   "execution_count": 8,
   "id": "e515c921",
   "metadata": {},
   "outputs": [
    {
     "data": {
      "text/plain": [
       "7944"
      ]
     },
     "execution_count": 8,
     "metadata": {},
     "output_type": "execute_result"
    }
   ],
   "source": [
    "len(labeled_names)"
   ]
  },
  {
   "cell_type": "code",
   "execution_count": 9,
   "id": "c793fa32",
   "metadata": {},
   "outputs": [
    {
     "data": {
      "text/plain": [
       "{'last_letter': 'k'}"
      ]
     },
     "execution_count": 9,
     "metadata": {},
     "output_type": "execute_result"
    }
   ],
   "source": [
    "def gender_features(word):\n",
    "    return {'last_letter': word[-1]}\n",
    "\n",
    "gender_features('Shrek')\n",
    "{'last_letter': 'k'}"
   ]
  },
  {
   "cell_type": "code",
   "execution_count": 10,
   "id": "ded56d20",
   "metadata": {},
   "outputs": [],
   "source": [
    "featuresets = [(gender_features(n), gender) for (n, gender) in labeled_names]\n",
    "train_set, test_set = featuresets[1000:], featuresets[:1000]\n",
    "classifier = nltk.NaiveBayesClassifier.train(train_set)"
   ]
  },
  {
   "cell_type": "code",
   "execution_count": 11,
   "id": "719547ea",
   "metadata": {},
   "outputs": [
    {
     "name": "stdout",
     "output_type": "stream",
     "text": [
      "0.752\n"
     ]
    }
   ],
   "source": [
    "print(nltk.classify.accuracy(classifier, test_set))"
   ]
  },
  {
   "cell_type": "code",
   "execution_count": 14,
   "id": "c2198099",
   "metadata": {},
   "outputs": [
    {
     "name": "stdout",
     "output_type": "stream",
     "text": [
      "Most Informative Features\n",
      "             last_letter = 'a'            female : male   =     35.1 : 1.0\n",
      "             last_letter = 'k'              male : female =     27.7 : 1.0\n",
      "             last_letter = 'f'              male : female =     15.6 : 1.0\n",
      "             last_letter = 'p'              male : female =     11.6 : 1.0\n",
      "             last_letter = 'd'              male : female =     11.1 : 1.0\n"
     ]
    }
   ],
   "source": [
    "classifier.show_most_informative_features(5)"
   ]
  },
  {
   "cell_type": "code",
   "execution_count": 12,
   "id": "d2470443",
   "metadata": {},
   "outputs": [
    {
     "data": {
      "text/plain": [
       "'male'"
      ]
     },
     "execution_count": 12,
     "metadata": {},
     "output_type": "execute_result"
    }
   ],
   "source": [
    "classifier.classify(gender_features('Neo'))"
   ]
  },
  {
   "cell_type": "code",
   "execution_count": 13,
   "id": "d98c02f3",
   "metadata": {},
   "outputs": [
    {
     "data": {
      "text/plain": [
       "'female'"
      ]
     },
     "execution_count": 13,
     "metadata": {},
     "output_type": "execute_result"
    }
   ],
   "source": [
    "classifier.classify(gender_features('Trinity'))\n"
   ]
  },
  {
   "cell_type": "markdown",
   "id": "8023d927",
   "metadata": {},
   "source": [
    "## When working with large corpora, can split the train and test set as follows, to save memories"
   ]
  },
  {
   "cell_type": "code",
   "execution_count": 15,
   "id": "43897e85",
   "metadata": {},
   "outputs": [],
   "source": [
    "from nltk.classify import apply_features\n",
    "train_set = apply_features(gender_features, labeled_names[1000:])\n",
    "test_set = apply_features(gender_features, labeled_names[:1000])"
   ]
  },
  {
   "cell_type": "markdown",
   "id": "3d6f2963",
   "metadata": {},
   "source": [
    "## 1.2 Another way to classify name's gender"
   ]
  },
  {
   "cell_type": "code",
   "execution_count": 16,
   "id": "d45b7d78",
   "metadata": {},
   "outputs": [],
   "source": [
    "def gender_features2(name):\n",
    "    features = {}\n",
    "    features[\"first_letter\"] = name[0].lower()\n",
    "    features[\"last_letter\"] = name[-1].lower()\n",
    "    for letter in 'abcdefghijklmnopqrstuvwxyz':\n",
    "        features[\"count({})\".format(letter)] = name.lower().count(letter)\n",
    "        features[\"has({})\".format(letter)] = (letter in name.lower())\n",
    "    return features"
   ]
  },
  {
   "cell_type": "code",
   "execution_count": 18,
   "id": "2a0d3946",
   "metadata": {},
   "outputs": [],
   "source": [
    "#gender_features2('John') "
   ]
  },
  {
   "cell_type": "code",
   "execution_count": 19,
   "id": "a375e971",
   "metadata": {},
   "outputs": [
    {
     "name": "stdout",
     "output_type": "stream",
     "text": [
      "0.794\n"
     ]
    }
   ],
   "source": [
    "featuresets = [(gender_features2(n), gender) for (n, gender) in labeled_names]\n",
    "train_set, test_set = featuresets[500:], featuresets[:500]\n",
    "classifier = nltk.NaiveBayesClassifier.train(train_set)\n",
    "print(nltk.classify.accuracy(classifier, test_set))"
   ]
  },
  {
   "cell_type": "code",
   "execution_count": 22,
   "id": "1125ecef",
   "metadata": {},
   "outputs": [
    {
     "data": {
      "text/plain": [
       "tuple"
      ]
     },
     "execution_count": 22,
     "metadata": {},
     "output_type": "execute_result"
    }
   ],
   "source": [
    "# featuresets is a list, each element are tuple of dictionary + gender\n",
    "type(featuresets[0])"
   ]
  },
  {
   "cell_type": "markdown",
   "id": "e0c5fb5e",
   "metadata": {},
   "source": [
    "## 1.3 error analysis"
   ]
  },
  {
   "cell_type": "code",
   "execution_count": 23,
   "id": "c2d07b5b",
   "metadata": {},
   "outputs": [],
   "source": [
    "#original divided into 3 groups,train set, test set, and development set\n",
    "train_names = labeled_names[1500:]\n",
    "devtest_names = labeled_names[500:1500]\n",
    "test_names = labeled_names[:500]"
   ]
  },
  {
   "cell_type": "code",
   "execution_count": 24,
   "id": "d3f9d6e7",
   "metadata": {},
   "outputs": [
    {
     "name": "stdout",
     "output_type": "stream",
     "text": [
      "0.769\n"
     ]
    }
   ],
   "source": [
    "train_set = [(gender_features(n), gender) for (n, gender) in train_names]\n",
    "devtest_set = [(gender_features(n), gender) for (n, gender) in devtest_names]\n",
    "test_set = [(gender_features(n), gender) for (n, gender) in test_names]\n",
    "classifier = nltk.NaiveBayesClassifier.train(train_set) \n",
    "\n",
    "print(nltk.classify.accuracy(classifier, devtest_set))"
   ]
  },
  {
   "cell_type": "code",
   "execution_count": 26,
   "id": "c19499a9",
   "metadata": {},
   "outputs": [],
   "source": [
    "errors = []\n",
    "for (name, tag) in devtest_names:\n",
    "    guess = classifier.classify(gender_features(name))\n",
    "    if guess != tag:\n",
    "        errors.append( (tag, guess, name) ) #tuple as element appended"
   ]
  },
  {
   "cell_type": "code",
   "execution_count": 28,
   "id": "e07a1bea",
   "metadata": {},
   "outputs": [
    {
     "data": {
      "text/plain": [
       "[('female', 'male', 'Cass'),\n",
       " ('male', 'female', 'Skelly'),\n",
       " ('female', 'male', 'Lurleen'),\n",
       " ('male', 'female', 'Yancy'),\n",
       " ('male', 'female', 'Samuele'),\n",
       " ('female', 'male', 'Jennifer'),\n",
       " ('female', 'male', 'Bryn'),\n",
       " ('female', 'male', 'Fern'),\n",
       " ('female', 'male', 'Bo'),\n",
       " ('female', 'male', 'Jazmin'),\n",
       " ('male', 'female', 'Corey'),\n",
       " ('male', 'female', 'Dennie'),\n",
       " ('male', 'female', 'Greggory'),\n",
       " ('female', 'male', 'Keren'),\n",
       " ('female', 'male', 'Karin'),\n",
       " ('female', 'male', 'Starlin'),\n",
       " ('female', 'male', 'Jill'),\n",
       " ('female', 'male', 'Jackelyn'),\n",
       " ('male', 'female', 'Levy'),\n",
       " ('male', 'female', 'Allie'),\n",
       " ('male', 'female', 'Lesley'),\n",
       " ('male', 'female', 'Reggy'),\n",
       " ('male', 'female', 'Danie'),\n",
       " ('female', 'male', 'Robinet'),\n",
       " ('female', 'male', 'Sean'),\n",
       " ('female', 'male', 'Chantal'),\n",
       " ('female', 'male', 'Gennifer'),\n",
       " ('female', 'male', 'Beryl'),\n",
       " ('male', 'female', 'Ash'),\n",
       " ('male', 'female', 'Towny'),\n",
       " ('female', 'male', 'Lynett'),\n",
       " ('male', 'female', 'Mace'),\n",
       " ('male', 'female', 'Sergei'),\n",
       " ('male', 'female', 'Jonny'),\n",
       " ('male', 'female', 'Mendie'),\n",
       " ('male', 'female', 'Juanita'),\n",
       " ('female', 'male', 'Dyann'),\n",
       " ('male', 'female', 'Isa'),\n",
       " ('female', 'male', 'Brittan'),\n",
       " ('female', 'male', 'Garland'),\n",
       " ('male', 'female', 'Dory'),\n",
       " ('male', 'female', 'Filipe'),\n",
       " ('male', 'female', 'Bertie'),\n",
       " ('male', 'female', 'Lyle'),\n",
       " ('male', 'female', 'Keith'),\n",
       " ('female', 'male', 'Maryellen'),\n",
       " ('female', 'male', 'Meris'),\n",
       " ('female', 'male', 'Maryjo'),\n",
       " ('female', 'male', 'Caryn'),\n",
       " ('female', 'male', 'Dion'),\n",
       " ('male', 'female', 'Olle'),\n",
       " ('male', 'female', 'Tabby'),\n",
       " ('female', 'male', 'Janot'),\n",
       " ('male', 'female', 'Claybourne'),\n",
       " ('female', 'male', 'Francis'),\n",
       " ('female', 'male', 'Mehetabel'),\n",
       " ('male', 'female', 'Tymothy'),\n",
       " ('male', 'female', 'Conway'),\n",
       " ('female', 'male', 'Karilynn'),\n",
       " ('female', 'male', 'Gayleen'),\n",
       " ('male', 'female', 'Lenny'),\n",
       " ('male', 'female', 'Ashley'),\n",
       " ('female', 'male', 'Juliann'),\n",
       " ('female', 'male', 'Lamb'),\n",
       " ('female', 'male', 'Joelynn'),\n",
       " ('female', 'male', 'Kellyann'),\n",
       " ('female', 'male', 'Bidget'),\n",
       " ('male', 'female', 'Dwayne'),\n",
       " ('female', 'male', 'Miran'),\n",
       " ('female', 'male', 'Suzan'),\n",
       " ('male', 'female', 'Arie'),\n",
       " ('male', 'female', 'Salvatore'),\n",
       " ('female', 'male', 'Stoddard'),\n",
       " ('male', 'female', 'Zachariah'),\n",
       " ('female', 'male', 'Charmion'),\n",
       " ('female', 'male', 'Alex'),\n",
       " ('male', 'female', 'Jedediah'),\n",
       " ('male', 'female', 'Riley'),\n",
       " ('female', 'male', 'Moreen'),\n",
       " ('female', 'male', 'Ardys'),\n",
       " ('female', 'male', 'Heather'),\n",
       " ('male', 'female', 'Wayne'),\n",
       " ('male', 'female', 'Tremaine'),\n",
       " ('female', 'male', 'Margo'),\n",
       " ('female', 'male', 'Carroll'),\n",
       " ('male', 'female', 'Murray'),\n",
       " ('male', 'female', 'Tanny'),\n",
       " ('female', 'male', 'Annabel'),\n",
       " ('male', 'female', 'Felice'),\n",
       " ('male', 'female', 'Kenneth'),\n",
       " ('female', 'male', 'Iseabal'),\n",
       " ('male', 'female', 'Dietrich'),\n",
       " ('male', 'female', 'Christophe'),\n",
       " ('female', 'male', 'Arleen'),\n",
       " ('male', 'female', 'Garvy'),\n",
       " ('female', 'male', 'Sibeal'),\n",
       " ('male', 'female', 'Dewey'),\n",
       " ('female', 'male', 'Cybil'),\n",
       " ('male', 'female', 'Luigi'),\n",
       " ('female', 'male', 'Emmalynn'),\n",
       " ('female', 'male', 'Karyl'),\n",
       " ('male', 'female', 'Helmuth'),\n",
       " ('female', 'male', 'Denys'),\n",
       " ('male', 'female', 'Lennie'),\n",
       " ('female', 'male', 'Phylis'),\n",
       " ('female', 'male', 'Mead'),\n",
       " ('female', 'male', 'Pier'),\n",
       " ('female', 'male', 'Maryann'),\n",
       " ('female', 'male', 'Persis'),\n",
       " ('male', 'female', 'Brinkley'),\n",
       " ('female', 'male', 'Brigid'),\n",
       " ('female', 'male', 'Star'),\n",
       " ('female', 'male', 'Kerrin'),\n",
       " ('female', 'male', 'Cheryl'),\n",
       " ('male', 'female', 'Roy'),\n",
       " ('female', 'male', 'Gretal'),\n",
       " ('male', 'female', 'Felipe'),\n",
       " ('female', 'male', 'Angel'),\n",
       " ('female', 'male', 'Margot'),\n",
       " ('female', 'male', 'Jewell'),\n",
       " ('female', 'male', 'Ethel'),\n",
       " ('male', 'female', 'Alphonse'),\n",
       " ('male', 'female', 'Richie'),\n",
       " ('female', 'male', 'Margalit'),\n",
       " ('female', 'male', 'Gretchen'),\n",
       " ('male', 'female', 'Patrice'),\n",
       " ('male', 'female', 'Tremayne'),\n",
       " ('male', 'female', 'Frederich'),\n",
       " ('female', 'male', 'Daryl'),\n",
       " ('female', 'male', 'Meryl'),\n",
       " ('male', 'female', 'Zachary'),\n",
       " ('female', 'male', 'Jasmin'),\n",
       " ('male', 'female', 'Aristotle'),\n",
       " ('female', 'male', 'Milicent'),\n",
       " ('male', 'female', 'Shorty'),\n",
       " ('male', 'female', 'Clemmie'),\n",
       " ('male', 'female', 'Elroy'),\n",
       " ('female', 'male', 'Sioux'),\n",
       " ('male', 'female', 'Goose'),\n",
       " ('male', 'female', 'Myke'),\n",
       " ('male', 'female', 'Nickey'),\n",
       " ('female', 'male', 'Jourdan'),\n",
       " ('male', 'female', 'Jeremy'),\n",
       " ('female', 'male', 'Meagan'),\n",
       " ('female', 'male', 'Alisun'),\n",
       " ('female', 'male', 'Jocelin'),\n",
       " ('female', 'male', 'Kris'),\n",
       " ('male', 'female', 'Kane'),\n",
       " ('male', 'female', 'Jerrie'),\n",
       " ('male', 'female', 'Kennedy'),\n",
       " ('male', 'female', 'Shea'),\n",
       " ('female', 'male', 'Ryann'),\n",
       " ('male', 'female', 'Jessie'),\n",
       " ('female', 'male', 'Emlyn'),\n",
       " ('female', 'male', 'Reiko'),\n",
       " ('female', 'male', 'Ambur'),\n",
       " ('female', 'male', 'Olwen'),\n",
       " ('male', 'female', 'Demetri'),\n",
       " ('male', 'female', 'Towney'),\n",
       " ('male', 'female', 'Orville'),\n",
       " ('male', 'female', 'Teddie'),\n",
       " ('female', 'male', 'Ellen'),\n",
       " ('female', 'male', 'Shirl'),\n",
       " ('female', 'male', 'Fleur'),\n",
       " ('male', 'female', 'Maury'),\n",
       " ('female', 'male', 'Mureil'),\n",
       " ('female', 'male', 'Krystal'),\n",
       " ('male', 'female', 'Mickie'),\n",
       " ('female', 'male', 'Regan'),\n",
       " ('male', 'female', 'Paddie'),\n",
       " ('female', 'male', 'Harriot'),\n",
       " ('male', 'female', 'Cammy'),\n",
       " ('female', 'male', 'Lin'),\n",
       " ('male', 'female', 'Broddie'),\n",
       " ('male', 'female', 'Gay'),\n",
       " ('male', 'female', 'Chane'),\n",
       " ('female', 'male', 'Darleen'),\n",
       " ('female', 'male', 'Alleen'),\n",
       " ('female', 'male', 'Gen'),\n",
       " ('male', 'female', 'Monte'),\n",
       " ('male', 'female', 'Quincey'),\n",
       " ('male', 'female', 'Tracy'),\n",
       " ('female', 'male', 'Brandais'),\n",
       " ('female', 'male', 'Debor'),\n",
       " ('female', 'male', 'Charo'),\n",
       " ('male', 'female', 'Neddy'),\n",
       " ('female', 'male', 'Lilian'),\n",
       " ('female', 'male', 'Berget'),\n",
       " ('male', 'female', 'Erny'),\n",
       " ('female', 'male', 'Sallyann'),\n",
       " ('female', 'male', 'Chrysler'),\n",
       " ('male', 'female', 'Morly'),\n",
       " ('female', 'male', 'Sheryl'),\n",
       " ('male', 'female', 'Mitch'),\n",
       " ('male', 'female', 'Carleigh'),\n",
       " ('female', 'male', 'Carlynn'),\n",
       " ('female', 'male', 'Lorain'),\n",
       " ('male', 'female', 'Jeffie'),\n",
       " ('male', 'female', 'Benny'),\n",
       " ('female', 'male', 'Mavis'),\n",
       " ('female', 'male', 'Cyb'),\n",
       " ('male', 'female', 'Emile'),\n",
       " ('male', 'female', 'Hervey'),\n",
       " ('female', 'male', 'Carolyn'),\n",
       " ('male', 'female', 'Nate'),\n",
       " ('female', 'male', 'Astrix'),\n",
       " ('male', 'female', 'Lanny'),\n",
       " ('female', 'male', 'Arlen'),\n",
       " ('female', 'male', 'Kara-Lynn'),\n",
       " ('female', 'male', 'Rozamond'),\n",
       " ('male', 'female', 'Rabi'),\n",
       " ('female', 'male', 'Rayshell'),\n",
       " ('female', 'male', 'Joellen'),\n",
       " ('female', 'male', 'Sherill'),\n",
       " ('male', 'female', 'Heath'),\n",
       " ('female', 'male', 'Marieann'),\n",
       " ('female', 'male', 'Abigail'),\n",
       " ('male', 'female', 'Andy'),\n",
       " ('male', 'female', 'Rice'),\n",
       " ('male', 'female', 'Obie'),\n",
       " ('male', 'female', 'Adlai'),\n",
       " ('male', 'female', 'Hilary'),\n",
       " ('male', 'female', 'Ruddy'),\n",
       " ('male', 'female', 'Davide'),\n",
       " ('male', 'female', 'Hugh'),\n",
       " ('male', 'female', 'Morse'),\n",
       " ('female', 'male', 'Abagael'),\n",
       " ('female', 'male', 'Mellisent'),\n",
       " ('female', 'male', 'Christin'),\n",
       " ('male', 'female', 'Harvie'),\n",
       " ('male', 'female', 'Louie')]"
      ]
     },
     "execution_count": 28,
     "metadata": {},
     "output_type": "execute_result"
    }
   ],
   "source": [
    "#errors"
   ]
  },
  {
   "cell_type": "code",
   "execution_count": 27,
   "id": "6098585e",
   "metadata": {},
   "outputs": [
    {
     "name": "stdout",
     "output_type": "stream",
     "text": [
      "correct=female   guess=male     name=Abagael                       \n",
      "correct=female   guess=male     name=Abigail                       \n",
      "correct=female   guess=male     name=Alex                          \n",
      "correct=female   guess=male     name=Alisun                        \n",
      "correct=female   guess=male     name=Alleen                        \n",
      "correct=female   guess=male     name=Ambur                         \n",
      "correct=female   guess=male     name=Angel                         \n",
      "correct=female   guess=male     name=Annabel                       \n",
      "correct=female   guess=male     name=Ardys                         \n",
      "correct=female   guess=male     name=Arleen                        \n",
      "correct=female   guess=male     name=Arlen                         \n",
      "correct=female   guess=male     name=Astrix                        \n",
      "correct=female   guess=male     name=Berget                        \n",
      "correct=female   guess=male     name=Beryl                         \n",
      "correct=female   guess=male     name=Bidget                        \n",
      "correct=female   guess=male     name=Bo                            \n",
      "correct=female   guess=male     name=Brandais                      \n",
      "correct=female   guess=male     name=Brigid                        \n",
      "correct=female   guess=male     name=Brittan                       \n",
      "correct=female   guess=male     name=Bryn                          \n",
      "correct=female   guess=male     name=Carlynn                       \n",
      "correct=female   guess=male     name=Carolyn                       \n",
      "correct=female   guess=male     name=Carroll                       \n",
      "correct=female   guess=male     name=Caryn                         \n",
      "correct=female   guess=male     name=Cass                          \n",
      "correct=female   guess=male     name=Chantal                       \n",
      "correct=female   guess=male     name=Charmion                      \n",
      "correct=female   guess=male     name=Charo                         \n",
      "correct=female   guess=male     name=Cheryl                        \n",
      "correct=female   guess=male     name=Christin                      \n",
      "correct=female   guess=male     name=Chrysler                      \n",
      "correct=female   guess=male     name=Cyb                           \n",
      "correct=female   guess=male     name=Cybil                         \n",
      "correct=female   guess=male     name=Darleen                       \n",
      "correct=female   guess=male     name=Daryl                         \n",
      "correct=female   guess=male     name=Debor                         \n",
      "correct=female   guess=male     name=Denys                         \n",
      "correct=female   guess=male     name=Dion                          \n",
      "correct=female   guess=male     name=Dyann                         \n",
      "correct=female   guess=male     name=Ellen                         \n",
      "correct=female   guess=male     name=Emlyn                         \n",
      "correct=female   guess=male     name=Emmalynn                      \n",
      "correct=female   guess=male     name=Ethel                         \n",
      "correct=female   guess=male     name=Fern                          \n",
      "correct=female   guess=male     name=Fleur                         \n",
      "correct=female   guess=male     name=Francis                       \n",
      "correct=female   guess=male     name=Garland                       \n",
      "correct=female   guess=male     name=Gayleen                       \n",
      "correct=female   guess=male     name=Gen                           \n",
      "correct=female   guess=male     name=Gennifer                      \n",
      "correct=female   guess=male     name=Gretal                        \n",
      "correct=female   guess=male     name=Gretchen                      \n",
      "correct=female   guess=male     name=Harriot                       \n",
      "correct=female   guess=male     name=Heather                       \n",
      "correct=female   guess=male     name=Iseabal                       \n",
      "correct=female   guess=male     name=Jackelyn                      \n",
      "correct=female   guess=male     name=Janot                         \n",
      "correct=female   guess=male     name=Jasmin                        \n",
      "correct=female   guess=male     name=Jazmin                        \n",
      "correct=female   guess=male     name=Jennifer                      \n",
      "correct=female   guess=male     name=Jewell                        \n",
      "correct=female   guess=male     name=Jill                          \n",
      "correct=female   guess=male     name=Jocelin                       \n",
      "correct=female   guess=male     name=Joellen                       \n",
      "correct=female   guess=male     name=Joelynn                       \n",
      "correct=female   guess=male     name=Jourdan                       \n",
      "correct=female   guess=male     name=Juliann                       \n",
      "correct=female   guess=male     name=Kara-Lynn                     \n",
      "correct=female   guess=male     name=Karilynn                      \n",
      "correct=female   guess=male     name=Karin                         \n",
      "correct=female   guess=male     name=Karyl                         \n",
      "correct=female   guess=male     name=Kellyann                      \n",
      "correct=female   guess=male     name=Keren                         \n",
      "correct=female   guess=male     name=Kerrin                        \n",
      "correct=female   guess=male     name=Kris                          \n",
      "correct=female   guess=male     name=Krystal                       \n",
      "correct=female   guess=male     name=Lamb                          \n",
      "correct=female   guess=male     name=Lilian                        \n",
      "correct=female   guess=male     name=Lin                           \n",
      "correct=female   guess=male     name=Lorain                        \n",
      "correct=female   guess=male     name=Lurleen                       \n",
      "correct=female   guess=male     name=Lynett                        \n",
      "correct=female   guess=male     name=Margalit                      \n",
      "correct=female   guess=male     name=Margo                         \n",
      "correct=female   guess=male     name=Margot                        \n",
      "correct=female   guess=male     name=Marieann                      \n",
      "correct=female   guess=male     name=Maryann                       \n",
      "correct=female   guess=male     name=Maryellen                     \n",
      "correct=female   guess=male     name=Maryjo                        \n",
      "correct=female   guess=male     name=Mavis                         \n",
      "correct=female   guess=male     name=Mead                          \n",
      "correct=female   guess=male     name=Meagan                        \n",
      "correct=female   guess=male     name=Mehetabel                     \n",
      "correct=female   guess=male     name=Mellisent                     \n",
      "correct=female   guess=male     name=Meris                         \n",
      "correct=female   guess=male     name=Meryl                         \n",
      "correct=female   guess=male     name=Milicent                      \n",
      "correct=female   guess=male     name=Miran                         \n",
      "correct=female   guess=male     name=Moreen                        \n",
      "correct=female   guess=male     name=Mureil                        \n",
      "correct=female   guess=male     name=Olwen                         \n",
      "correct=female   guess=male     name=Persis                        \n",
      "correct=female   guess=male     name=Phylis                        \n",
      "correct=female   guess=male     name=Pier                          \n",
      "correct=female   guess=male     name=Rayshell                      \n",
      "correct=female   guess=male     name=Regan                         \n",
      "correct=female   guess=male     name=Reiko                         \n",
      "correct=female   guess=male     name=Robinet                       \n",
      "correct=female   guess=male     name=Rozamond                      \n",
      "correct=female   guess=male     name=Ryann                         \n",
      "correct=female   guess=male     name=Sallyann                      \n",
      "correct=female   guess=male     name=Sean                          \n",
      "correct=female   guess=male     name=Sherill                       \n",
      "correct=female   guess=male     name=Sheryl                        \n",
      "correct=female   guess=male     name=Shirl                         \n",
      "correct=female   guess=male     name=Sibeal                        \n",
      "correct=female   guess=male     name=Sioux                         \n",
      "correct=female   guess=male     name=Star                          \n",
      "correct=female   guess=male     name=Starlin                       \n",
      "correct=female   guess=male     name=Stoddard                      \n",
      "correct=female   guess=male     name=Suzan                         \n",
      "correct=male     guess=female   name=Adlai                         \n",
      "correct=male     guess=female   name=Allie                         \n",
      "correct=male     guess=female   name=Alphonse                      \n",
      "correct=male     guess=female   name=Andy                          \n",
      "correct=male     guess=female   name=Arie                          \n",
      "correct=male     guess=female   name=Aristotle                     \n",
      "correct=male     guess=female   name=Ash                           \n",
      "correct=male     guess=female   name=Ashley                        \n",
      "correct=male     guess=female   name=Benny                         \n",
      "correct=male     guess=female   name=Bertie                        \n",
      "correct=male     guess=female   name=Brinkley                      \n",
      "correct=male     guess=female   name=Broddie                       \n",
      "correct=male     guess=female   name=Cammy                         \n",
      "correct=male     guess=female   name=Carleigh                      \n",
      "correct=male     guess=female   name=Chane                         \n",
      "correct=male     guess=female   name=Christophe                    \n",
      "correct=male     guess=female   name=Claybourne                    \n",
      "correct=male     guess=female   name=Clemmie                       \n",
      "correct=male     guess=female   name=Conway                        \n",
      "correct=male     guess=female   name=Corey                         \n",
      "correct=male     guess=female   name=Danie                         \n",
      "correct=male     guess=female   name=Davide                        \n",
      "correct=male     guess=female   name=Demetri                       \n",
      "correct=male     guess=female   name=Dennie                        \n",
      "correct=male     guess=female   name=Dewey                         \n",
      "correct=male     guess=female   name=Dietrich                      \n",
      "correct=male     guess=female   name=Dory                          \n",
      "correct=male     guess=female   name=Dwayne                        \n",
      "correct=male     guess=female   name=Elroy                         \n",
      "correct=male     guess=female   name=Emile                         \n",
      "correct=male     guess=female   name=Erny                          \n",
      "correct=male     guess=female   name=Felice                        \n",
      "correct=male     guess=female   name=Felipe                        \n",
      "correct=male     guess=female   name=Filipe                        \n",
      "correct=male     guess=female   name=Frederich                     \n",
      "correct=male     guess=female   name=Garvy                         \n",
      "correct=male     guess=female   name=Gay                           \n",
      "correct=male     guess=female   name=Goose                         \n",
      "correct=male     guess=female   name=Greggory                      \n",
      "correct=male     guess=female   name=Harvie                        \n",
      "correct=male     guess=female   name=Heath                         \n",
      "correct=male     guess=female   name=Helmuth                       \n",
      "correct=male     guess=female   name=Hervey                        \n",
      "correct=male     guess=female   name=Hilary                        \n",
      "correct=male     guess=female   name=Hugh                          \n",
      "correct=male     guess=female   name=Isa                           \n",
      "correct=male     guess=female   name=Jedediah                      \n",
      "correct=male     guess=female   name=Jeffie                        \n",
      "correct=male     guess=female   name=Jeremy                        \n",
      "correct=male     guess=female   name=Jerrie                        \n",
      "correct=male     guess=female   name=Jessie                        \n",
      "correct=male     guess=female   name=Jonny                         \n",
      "correct=male     guess=female   name=Juanita                       \n",
      "correct=male     guess=female   name=Kane                          \n",
      "correct=male     guess=female   name=Keith                         \n",
      "correct=male     guess=female   name=Kennedy                       \n",
      "correct=male     guess=female   name=Kenneth                       \n",
      "correct=male     guess=female   name=Lanny                         \n",
      "correct=male     guess=female   name=Lennie                        \n",
      "correct=male     guess=female   name=Lenny                         \n",
      "correct=male     guess=female   name=Lesley                        \n",
      "correct=male     guess=female   name=Levy                          \n",
      "correct=male     guess=female   name=Louie                         \n",
      "correct=male     guess=female   name=Luigi                         \n",
      "correct=male     guess=female   name=Lyle                          \n",
      "correct=male     guess=female   name=Mace                          \n",
      "correct=male     guess=female   name=Maury                         \n",
      "correct=male     guess=female   name=Mendie                        \n",
      "correct=male     guess=female   name=Mickie                        \n",
      "correct=male     guess=female   name=Mitch                         \n",
      "correct=male     guess=female   name=Monte                         \n",
      "correct=male     guess=female   name=Morly                         \n",
      "correct=male     guess=female   name=Morse                         \n",
      "correct=male     guess=female   name=Murray                        \n",
      "correct=male     guess=female   name=Myke                          \n",
      "correct=male     guess=female   name=Nate                          \n",
      "correct=male     guess=female   name=Neddy                         \n",
      "correct=male     guess=female   name=Nickey                        \n",
      "correct=male     guess=female   name=Obie                          \n",
      "correct=male     guess=female   name=Olle                          \n",
      "correct=male     guess=female   name=Orville                       \n",
      "correct=male     guess=female   name=Paddie                        \n",
      "correct=male     guess=female   name=Patrice                       \n",
      "correct=male     guess=female   name=Quincey                       \n",
      "correct=male     guess=female   name=Rabi                          \n",
      "correct=male     guess=female   name=Reggy                         \n",
      "correct=male     guess=female   name=Rice                          \n",
      "correct=male     guess=female   name=Richie                        \n",
      "correct=male     guess=female   name=Riley                         \n",
      "correct=male     guess=female   name=Roy                           \n",
      "correct=male     guess=female   name=Ruddy                         \n",
      "correct=male     guess=female   name=Salvatore                     \n",
      "correct=male     guess=female   name=Samuele                       \n",
      "correct=male     guess=female   name=Sergei                        \n",
      "correct=male     guess=female   name=Shea                          \n",
      "correct=male     guess=female   name=Shorty                        \n",
      "correct=male     guess=female   name=Skelly                        \n",
      "correct=male     guess=female   name=Tabby                         \n",
      "correct=male     guess=female   name=Tanny                         \n",
      "correct=male     guess=female   name=Teddie                        \n",
      "correct=male     guess=female   name=Towney                        \n",
      "correct=male     guess=female   name=Towny                         \n",
      "correct=male     guess=female   name=Tracy                         \n",
      "correct=male     guess=female   name=Tremaine                      \n",
      "correct=male     guess=female   name=Tremayne                      \n",
      "correct=male     guess=female   name=Tymothy                       \n",
      "correct=male     guess=female   name=Wayne                         \n",
      "correct=male     guess=female   name=Yancy                         \n",
      "correct=male     guess=female   name=Zachariah                     \n",
      "correct=male     guess=female   name=Zachary                       \n"
     ]
    }
   ],
   "source": [
    "for (tag, guess, name) in sorted(errors):\n",
    "    print('correct={:<8} guess={:<8s} name={:<30}'.format(tag, guess, name)) #{:<30} is the printing format"
   ]
  },
  {
   "cell_type": "markdown",
   "id": "7bdf8584",
   "metadata": {},
   "source": [
    "## 1.4 improve features taken"
   ]
  },
  {
   "cell_type": "code",
   "execution_count": 30,
   "id": "54c7ff54",
   "metadata": {},
   "outputs": [],
   "source": [
    "#take 2 last letters\n",
    "def gender_features(word):\n",
    "    return {'suffix1': word[-1:],\n",
    "            'suffix2': word[-2:]}"
   ]
  },
  {
   "cell_type": "code",
   "execution_count": 31,
   "id": "f52f6c23",
   "metadata": {},
   "outputs": [
    {
     "name": "stdout",
     "output_type": "stream",
     "text": [
      "0.778\n"
     ]
    }
   ],
   "source": [
    "train_set = [(gender_features(n), gender) for (n, gender) in train_names]\n",
    "devtest_set = [(gender_features(n), gender) for (n, gender) in devtest_names]\n",
    "classifier = nltk.NaiveBayesClassifier.train(train_set)\n",
    "\n",
    "print(nltk.classify.accuracy(classifier, devtest_set))"
   ]
  },
  {
   "cell_type": "code",
   "execution_count": null,
   "id": "96337b86",
   "metadata": {},
   "outputs": [],
   "source": []
  }
 ],
 "metadata": {
  "kernelspec": {
   "display_name": "Python [conda env:PythonAdv]",
   "language": "python",
   "name": "conda-env-PythonAdv-py"
  },
  "language_info": {
   "codemirror_mode": {
    "name": "ipython",
    "version": 3
   },
   "file_extension": ".py",
   "mimetype": "text/x-python",
   "name": "python",
   "nbconvert_exporter": "python",
   "pygments_lexer": "ipython3",
   "version": "3.6.13"
  }
 },
 "nbformat": 4,
 "nbformat_minor": 5
}
