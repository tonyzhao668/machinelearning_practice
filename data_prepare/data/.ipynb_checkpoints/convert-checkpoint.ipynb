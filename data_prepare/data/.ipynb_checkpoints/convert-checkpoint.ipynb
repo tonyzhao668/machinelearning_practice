{
 "cells": [
  {
   "cell_type": "code",
   "execution_count": 7,
   "id": "667b5896",
   "metadata": {},
   "outputs": [],
   "source": [
    "import pandas as pd\n",
    "import os\n",
    "import codecs\n",
    "import chardet\n",
    "import time\n",
    "from tkinter import *\n",
    "from tkinter.filedialog import askdirectory\n",
    "from tkinter import messagebox\n",
    "import pathlib\n"
   ]
  },
  {
   "cell_type": "code",
   "execution_count": 13,
   "id": "3dd6f508",
   "metadata": {},
   "outputs": [
    {
     "ename": "TypeError",
     "evalue": "unsupported operand type(s) for +: 'WindowsPath' and 'str'",
     "output_type": "error",
     "traceback": [
      "\u001b[1;31m---------------------------------------------------------------------------\u001b[0m",
      "\u001b[1;31mTypeError\u001b[0m                                 Traceback (most recent call last)",
      "\u001b[1;32m<ipython-input-13-9a9c2f1bd7ae>\u001b[0m in \u001b[0;36m<module>\u001b[1;34m\u001b[0m\n\u001b[0;32m      1\u001b[0m \u001b[1;31m#path = pathlib.Path(\"C:\\Users\\User\\machinelearning_practice\\data_prepare\\data\").resolve()\u001b[0m\u001b[1;33m\u001b[0m\u001b[1;33m\u001b[0m\u001b[1;33m\u001b[0m\u001b[0m\n\u001b[0;32m      2\u001b[0m \u001b[0mpath\u001b[0m \u001b[1;33m=\u001b[0m \u001b[0mpathlib\u001b[0m\u001b[1;33m.\u001b[0m\u001b[0mPath\u001b[0m\u001b[1;33m(\u001b[0m\u001b[1;33m)\u001b[0m\u001b[1;33m.\u001b[0m\u001b[0mresolve\u001b[0m\u001b[1;33m(\u001b[0m\u001b[1;33m)\u001b[0m\u001b[1;33m\u001b[0m\u001b[1;33m\u001b[0m\u001b[0m\n\u001b[1;32m----> 3\u001b[1;33m \u001b[0mpath\u001b[0m \u001b[1;33m=\u001b[0m \u001b[0mpath\u001b[0m \u001b[1;33m+\u001b[0m \u001b[1;34m\"/data\"\u001b[0m\u001b[1;33m\u001b[0m\u001b[1;33m\u001b[0m\u001b[0m\n\u001b[0m\u001b[0;32m      4\u001b[0m \u001b[0mpath\u001b[0m\u001b[1;33m\u001b[0m\u001b[1;33m\u001b[0m\u001b[0m\n",
      "\u001b[1;31mTypeError\u001b[0m: unsupported operand type(s) for +: 'WindowsPath' and 'str'"
     ]
    }
   ],
   "source": [
    "#path = pathlib.Path(\"C:\\Users\\User\\machinelearning_practice\\data_prepare\\data\").resolve()\n",
    "path = pathlib.Path().resolve()\n",
    "path = path + \"/data\"\n",
    "path"
   ]
  },
  {
   "cell_type": "code",
   "execution_count": 5,
   "id": "9f127b49",
   "metadata": {},
   "outputs": [],
   "source": [
    "\n",
    "#Verify the encoding format of the text file and convert it to utf-8\n",
    "\n",
    "def gbk_2_utf8(filename,out_enc=\"UTF-8\"):\n",
    "    try:\n",
    "        content = open(filename, 'rb').read()\n",
    "        source_encoding = chardet.detect(content)\n",
    "        print(\"Encoding format: \" + source_encoding['encoding'])\n",
    "\n",
    "        if(source_encoding['encoding'] != \"utf-8\"):\n",
    "            if(source_encoding['encoding'] == 'GB2312'):\n",
    "                content = content.decode(\"GBK\")\n",
    "                content = content.encode(out_enc)\n",
    "                codecs.open(filename, 'wb').write(content)\n",
    "            else:\n",
    "                content = content.decode(source_encoding['encoding']).encode(out_enc)\n",
    "                codecs.open(filename, 'wb').write(content)\n",
    "            print(\"Conversion complete\")\n",
    "            print(\"*************************\")\n",
    "        else:\n",
    "            print(\"No conversion required\")\n",
    "            print(\"*************************\")\n",
    "\n",
    "    except IOError as err:\n",
    "        print(\"I/O error:{0}\".format(err))\n",
    "\n"
   ]
  },
  {
   "cell_type": "code",
   "execution_count": 6,
   "id": "a6db3312",
   "metadata": {},
   "outputs": [
    {
     "ename": "SyntaxError",
     "evalue": "(unicode error) 'unicodeescape' codec can't decode bytes in position 2-3: truncated \\UXXXXXXXX escape (<ipython-input-6-70148830699e>, line 32)",
     "output_type": "error",
     "traceback": [
      "\u001b[1;36m  File \u001b[1;32m\"<ipython-input-6-70148830699e>\"\u001b[1;36m, line \u001b[1;32m32\u001b[0m\n\u001b[1;33m    path = getpath(\"C:\\Users\\User\\machinelearning_practice\\data_prepare\\data\")\u001b[0m\n\u001b[1;37m                  ^\u001b[0m\n\u001b[1;31mSyntaxError\u001b[0m\u001b[1;31m:\u001b[0m (unicode error) 'unicodeescape' codec can't decode bytes in position 2-3: truncated \\UXXXXXXXX escape\n"
     ]
    }
   ],
   "source": [
    "#Traverse all txt files in the folder\n",
    "\n",
    "def explore(dir):\n",
    "       for root, dirs, files in os.walk(dir):\n",
    "           for file in files:\n",
    "               if os.path.splitext(file)[1] == '.txt':\n",
    "                   print(\"open a file:\"+file)\n",
    "                   path = os.path.join(root, file)\n",
    "                   #print(path)\n",
    "                   gbk_2_utf8(path)\n",
    "   \t\t\t\t\n",
    "# Get the folder path selected from the outside def getpath():\n",
    "       def selectPath():\n",
    "           path_ = askdirectory()\n",
    "           path.set(path_)\n",
    "       root = Tk()\n",
    "       path = StringVar()\n",
    "       def close():\n",
    "           if(path.get() == \"\"):\n",
    "               messagebox.showinfo(\" \",\"No path selected\")\n",
    "           else:\n",
    "               root.withdraw()\n",
    "               root.quit()\n",
    "       Label(root, text=\"Target path:\").grid(row=0, column=0)\n",
    "       Entry(root, textvariable=path).grid(row=0, column=1)\n",
    "       Button(root, text=\"Path Selection\", command=selectPath).grid(row=0, column=2)\n",
    "       Button(root, text=\"determine\", command=close).grid(row=0, column=3)\n",
    "       root.mainloop()\n",
    "       return path.get()\n",
    "   \n",
    "def main():\n",
    "       path = getpath(\"C:\\Users\\User\\machinelearning_practice\\data_prepare\\data\")\n",
    "       print(\"The selected path is: \" + path)\n",
    "       print(\"*************************\")\n",
    "       explore(path)\n",
    "       print(\"The conversion ends after 3 seconds\")\n",
    "       time.sleep(1)\n",
    "       print(\"The conversion will end in 2 seconds\")\n",
    "       time.sleep(1)\n",
    "       print(\"The conversion ends after 1 second\")\n",
    "       time.sleep(1)\n",
    "       print(\"Conversion completed, ready to exit\")\n",
    "   \n",
    "   \n"
   ]
  },
  {
   "cell_type": "code",
   "execution_count": null,
   "id": "7c2f74db",
   "metadata": {},
   "outputs": [],
   "source": [
    "if __name__ == \"__main__\":\n",
    "    main()"
   ]
  }
 ],
 "metadata": {
  "kernelspec": {
   "display_name": "Python 3",
   "language": "python",
   "name": "python3"
  },
  "language_info": {
   "codemirror_mode": {
    "name": "ipython",
    "version": 3
   },
   "file_extension": ".py",
   "mimetype": "text/x-python",
   "name": "python",
   "nbconvert_exporter": "python",
   "pygments_lexer": "ipython3",
   "version": "3.6.10"
  }
 },
 "nbformat": 4,
 "nbformat_minor": 5
}
