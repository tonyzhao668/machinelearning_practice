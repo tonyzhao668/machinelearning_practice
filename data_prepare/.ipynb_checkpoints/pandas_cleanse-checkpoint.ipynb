{
 "cells": [
  {
   "cell_type": "markdown",
   "id": "800e6120",
   "metadata": {},
   "source": [
    "## transform any csv file into csv UTF-8"
   ]
  },
  {
   "cell_type": "code",
   "execution_count": 1,
   "id": "7de872e1",
   "metadata": {},
   "outputs": [],
   "source": [
    "# To convert a CSV file to UTF-8 in Microsoft Excel, follow these steps.\n",
    "# Open the CSV file in Excel using \"File -> Open\" in the normal way.\n",
    "# Click \"File -> Save as...\"\n",
    "# Choose \"CSV UTF-8 (Comma delimited) (.csv)\"\n",
    "# Click \"Save\".\n",
    "# Upload this new file to Connect instead of your existing one."
   ]
  },
  {
   "cell_type": "markdown",
   "id": "2e848bbb",
   "metadata": {},
   "source": [
    "## Data cleansing by Pandas"
   ]
  },
  {
   "cell_type": "code",
   "execution_count": 2,
   "id": "9624b305",
   "metadata": {},
   "outputs": [],
   "source": [
    "import pandas as pd\n",
    "import numpy as np"
   ]
  },
  {
   "cell_type": "code",
   "execution_count": 3,
   "id": "f71ce15d",
   "metadata": {},
   "outputs": [
    {
     "data": {
      "text/html": [
       "<div>\n",
       "<style scoped>\n",
       "    .dataframe tbody tr th:only-of-type {\n",
       "        vertical-align: middle;\n",
       "    }\n",
       "\n",
       "    .dataframe tbody tr th {\n",
       "        vertical-align: top;\n",
       "    }\n",
       "\n",
       "    .dataframe thead th {\n",
       "        text-align: right;\n",
       "    }\n",
       "</style>\n",
       "<table border=\"1\" class=\"dataframe\">\n",
       "  <thead>\n",
       "    <tr style=\"text-align: right;\">\n",
       "      <th></th>\n",
       "      <th>Element</th>\n",
       "      <th>Atomic Number</th>\n",
       "    </tr>\n",
       "  </thead>\n",
       "  <tbody>\n",
       "    <tr>\n",
       "      <th>element 1</th>\n",
       "      <td>Silver</td>\n",
       "      <td>47</td>\n",
       "    </tr>\n",
       "    <tr>\n",
       "      <th>element 2</th>\n",
       "      <td>Gold</td>\n",
       "      <td>79</td>\n",
       "    </tr>\n",
       "    <tr>\n",
       "      <th>element 3</th>\n",
       "      <td>Platinum</td>\n",
       "      <td>78</td>\n",
       "    </tr>\n",
       "    <tr>\n",
       "      <th>element 4</th>\n",
       "      <td>Copper</td>\n",
       "      <td>29</td>\n",
       "    </tr>\n",
       "  </tbody>\n",
       "</table>\n",
       "</div>"
      ],
      "text/plain": [
       "            Element  Atomic Number\n",
       "element 1    Silver             47\n",
       "element 2      Gold             79\n",
       "element 3  Platinum             78\n",
       "element 4    Copper             29"
      ]
     },
     "execution_count": 3,
     "metadata": {},
     "output_type": "execute_result"
    }
   ],
   "source": [
    "data={'Element':['Silver','Gold','Platinum','Copper'],'Atomic Number':[47,79,78,29]}\n",
    "frame=pd.DataFrame(data,index=['element 1','element 2','element 3','element 4'])\n",
    "frame"
   ]
  },
  {
   "cell_type": "code",
   "execution_count": 4,
   "id": "fcdc40f1",
   "metadata": {},
   "outputs": [
    {
     "data": {
      "text/html": [
       "<div>\n",
       "<style scoped>\n",
       "    .dataframe tbody tr th:only-of-type {\n",
       "        vertical-align: middle;\n",
       "    }\n",
       "\n",
       "    .dataframe tbody tr th {\n",
       "        vertical-align: top;\n",
       "    }\n",
       "\n",
       "    .dataframe thead th {\n",
       "        text-align: right;\n",
       "    }\n",
       "</style>\n",
       "<table border=\"1\" class=\"dataframe\">\n",
       "  <thead>\n",
       "    <tr style=\"text-align: right;\">\n",
       "      <th></th>\n",
       "      <th>Element</th>\n",
       "      <th>Atomic Number</th>\n",
       "    </tr>\n",
       "  </thead>\n",
       "  <tbody>\n",
       "    <tr>\n",
       "      <th>element 1</th>\n",
       "      <td>Silver</td>\n",
       "      <td>47</td>\n",
       "    </tr>\n",
       "    <tr>\n",
       "      <th>element 2</th>\n",
       "      <td>Gold</td>\n",
       "      <td>79</td>\n",
       "    </tr>\n",
       "  </tbody>\n",
       "</table>\n",
       "</div>"
      ],
      "text/plain": [
       "          Element  Atomic Number\n",
       "element 1  Silver             47\n",
       "element 2    Gold             79"
      ]
     },
     "execution_count": 4,
     "metadata": {},
     "output_type": "execute_result"
    }
   ],
   "source": [
    "frame.iloc[0:2,:] #means slice 0:2 rows and all columns"
   ]
  },
  {
   "cell_type": "code",
   "execution_count": 5,
   "id": "12900724",
   "metadata": {},
   "outputs": [
    {
     "data": {
      "text/html": [
       "<div>\n",
       "<style scoped>\n",
       "    .dataframe tbody tr th:only-of-type {\n",
       "        vertical-align: middle;\n",
       "    }\n",
       "\n",
       "    .dataframe tbody tr th {\n",
       "        vertical-align: top;\n",
       "    }\n",
       "\n",
       "    .dataframe thead th {\n",
       "        text-align: right;\n",
       "    }\n",
       "</style>\n",
       "<table border=\"1\" class=\"dataframe\">\n",
       "  <thead>\n",
       "    <tr style=\"text-align: right;\">\n",
       "      <th></th>\n",
       "      <th>Element</th>\n",
       "      <th>Atomic Number</th>\n",
       "    </tr>\n",
       "  </thead>\n",
       "  <tbody>\n",
       "    <tr>\n",
       "      <th>element 1</th>\n",
       "      <td>Silver</td>\n",
       "      <td>47</td>\n",
       "    </tr>\n",
       "    <tr>\n",
       "      <th>element 2</th>\n",
       "      <td>Gold</td>\n",
       "      <td>79</td>\n",
       "    </tr>\n",
       "  </tbody>\n",
       "</table>\n",
       "</div>"
      ],
      "text/plain": [
       "          Element  Atomic Number\n",
       "element 1  Silver             47\n",
       "element 2    Gold             79"
      ]
     },
     "execution_count": 5,
     "metadata": {},
     "output_type": "execute_result"
    }
   ],
   "source": [
    "frame[:2]"
   ]
  },
  {
   "cell_type": "code",
   "execution_count": 6,
   "id": "dac94716",
   "metadata": {},
   "outputs": [
    {
     "data": {
      "text/plain": [
       "'Gold'"
      ]
     },
     "execution_count": 6,
     "metadata": {},
     "output_type": "execute_result"
    }
   ],
   "source": [
    "frame.loc[\"element 2\", \"Element\"]"
   ]
  },
  {
   "cell_type": "code",
   "execution_count": 7,
   "id": "0b71a4d0",
   "metadata": {},
   "outputs": [],
   "source": [
    "#frame.describe()"
   ]
  },
  {
   "cell_type": "code",
   "execution_count": 8,
   "id": "8f76db8a",
   "metadata": {},
   "outputs": [
    {
     "data": {
      "text/html": [
       "<div>\n",
       "<style scoped>\n",
       "    .dataframe tbody tr th:only-of-type {\n",
       "        vertical-align: middle;\n",
       "    }\n",
       "\n",
       "    .dataframe tbody tr th {\n",
       "        vertical-align: top;\n",
       "    }\n",
       "\n",
       "    .dataframe thead th {\n",
       "        text-align: right;\n",
       "    }\n",
       "</style>\n",
       "<table border=\"1\" class=\"dataframe\">\n",
       "  <thead>\n",
       "    <tr style=\"text-align: right;\">\n",
       "      <th></th>\n",
       "      <th>Element</th>\n",
       "      <th>Atomic Number</th>\n",
       "    </tr>\n",
       "  </thead>\n",
       "  <tbody>\n",
       "    <tr>\n",
       "      <th>element 1</th>\n",
       "      <td>4.0</td>\n",
       "      <td>2.0</td>\n",
       "    </tr>\n",
       "    <tr>\n",
       "      <th>element 2</th>\n",
       "      <td>2.0</td>\n",
       "      <td>4.0</td>\n",
       "    </tr>\n",
       "    <tr>\n",
       "      <th>element 3</th>\n",
       "      <td>3.0</td>\n",
       "      <td>3.0</td>\n",
       "    </tr>\n",
       "    <tr>\n",
       "      <th>element 4</th>\n",
       "      <td>1.0</td>\n",
       "      <td>1.0</td>\n",
       "    </tr>\n",
       "  </tbody>\n",
       "</table>\n",
       "</div>"
      ],
      "text/plain": [
       "           Element  Atomic Number\n",
       "element 1      4.0            2.0\n",
       "element 2      2.0            4.0\n",
       "element 3      3.0            3.0\n",
       "element 4      1.0            1.0"
      ]
     },
     "execution_count": 8,
     "metadata": {},
     "output_type": "execute_result"
    }
   ],
   "source": [
    "frame.rank() # rank() like sort() for every column or any specified column rank(\"Element\"), ascending default "
   ]
  },
  {
   "cell_type": "markdown",
   "id": "a8d5fdfd",
   "metadata": {},
   "source": [
    "## Pandas Cleansing"
   ]
  },
  {
   "cell_type": "code",
   "execution_count": 9,
   "id": "3d64b8a6",
   "metadata": {},
   "outputs": [
    {
     "data": {
      "text/html": [
       "<div>\n",
       "<style scoped>\n",
       "    .dataframe tbody tr th:only-of-type {\n",
       "        vertical-align: middle;\n",
       "    }\n",
       "\n",
       "    .dataframe tbody tr th {\n",
       "        vertical-align: top;\n",
       "    }\n",
       "\n",
       "    .dataframe thead th {\n",
       "        text-align: right;\n",
       "    }\n",
       "</style>\n",
       "<table border=\"1\" class=\"dataframe\">\n",
       "  <thead>\n",
       "    <tr style=\"text-align: right;\">\n",
       "      <th></th>\n",
       "      <th>A</th>\n",
       "      <th>B</th>\n",
       "      <th>C</th>\n",
       "    </tr>\n",
       "  </thead>\n",
       "  <tbody>\n",
       "    <tr>\n",
       "      <th>1</th>\n",
       "      <td>-0.060578</td>\n",
       "      <td>0.025610</td>\n",
       "      <td>2.188189</td>\n",
       "    </tr>\n",
       "    <tr>\n",
       "      <th>2</th>\n",
       "      <td>-0.721417</td>\n",
       "      <td>-0.438573</td>\n",
       "      <td>0.503458</td>\n",
       "    </tr>\n",
       "    <tr>\n",
       "      <th>3</th>\n",
       "      <td>NaN</td>\n",
       "      <td>NaN</td>\n",
       "      <td>NaN</td>\n",
       "    </tr>\n",
       "    <tr>\n",
       "      <th>4</th>\n",
       "      <td>-0.618647</td>\n",
       "      <td>1.715136</td>\n",
       "      <td>-0.935298</td>\n",
       "    </tr>\n",
       "    <tr>\n",
       "      <th>5</th>\n",
       "      <td>NaN</td>\n",
       "      <td>NaN</td>\n",
       "      <td>NaN</td>\n",
       "    </tr>\n",
       "    <tr>\n",
       "      <th>6</th>\n",
       "      <td>NaN</td>\n",
       "      <td>NaN</td>\n",
       "      <td>NaN</td>\n",
       "    </tr>\n",
       "    <tr>\n",
       "      <th>7</th>\n",
       "      <td>0.591412</td>\n",
       "      <td>-0.059735</td>\n",
       "      <td>-2.093776</td>\n",
       "    </tr>\n",
       "  </tbody>\n",
       "</table>\n",
       "</div>"
      ],
      "text/plain": [
       "          A         B         C\n",
       "1 -0.060578  0.025610  2.188189\n",
       "2 -0.721417 -0.438573  0.503458\n",
       "3       NaN       NaN       NaN\n",
       "4 -0.618647  1.715136 -0.935298\n",
       "5       NaN       NaN       NaN\n",
       "6       NaN       NaN       NaN\n",
       "7  0.591412 -0.059735 -2.093776"
      ]
     },
     "execution_count": 9,
     "metadata": {},
     "output_type": "execute_result"
    }
   ],
   "source": [
    "frame2=pd.DataFrame(np.random.randn(4,3),index=[1,2,4,7],columns=['A','B','C'])\n",
    "frame2.reindex([1,2,3,4,5,6,7])"
   ]
  },
  {
   "cell_type": "code",
   "execution_count": 10,
   "id": "a10d0e62",
   "metadata": {},
   "outputs": [],
   "source": [
    "#Finding which columns have missing values\n",
    "#frame2['B'].isnull()"
   ]
  },
  {
   "cell_type": "code",
   "execution_count": 11,
   "id": "f8ee4a5d",
   "metadata": {},
   "outputs": [
    {
     "data": {
      "text/html": [
       "<div>\n",
       "<style scoped>\n",
       "    .dataframe tbody tr th:only-of-type {\n",
       "        vertical-align: middle;\n",
       "    }\n",
       "\n",
       "    .dataframe tbody tr th {\n",
       "        vertical-align: top;\n",
       "    }\n",
       "\n",
       "    .dataframe thead th {\n",
       "        text-align: right;\n",
       "    }\n",
       "</style>\n",
       "<table border=\"1\" class=\"dataframe\">\n",
       "  <thead>\n",
       "    <tr style=\"text-align: right;\">\n",
       "      <th></th>\n",
       "      <th>A</th>\n",
       "      <th>B</th>\n",
       "      <th>C</th>\n",
       "    </tr>\n",
       "  </thead>\n",
       "  <tbody>\n",
       "    <tr>\n",
       "      <th>1</th>\n",
       "      <td>-0.060578</td>\n",
       "      <td>0.025610</td>\n",
       "      <td>2.188189</td>\n",
       "    </tr>\n",
       "    <tr>\n",
       "      <th>2</th>\n",
       "      <td>-0.721417</td>\n",
       "      <td>-0.438573</td>\n",
       "      <td>0.503458</td>\n",
       "    </tr>\n",
       "    <tr>\n",
       "      <th>4</th>\n",
       "      <td>-0.618647</td>\n",
       "      <td>1.715136</td>\n",
       "      <td>-0.935298</td>\n",
       "    </tr>\n",
       "    <tr>\n",
       "      <th>7</th>\n",
       "      <td>0.591412</td>\n",
       "      <td>-0.059735</td>\n",
       "      <td>-2.093776</td>\n",
       "    </tr>\n",
       "  </tbody>\n",
       "</table>\n",
       "</div>"
      ],
      "text/plain": [
       "          A         B         C\n",
       "1 -0.060578  0.025610  2.188189\n",
       "2 -0.721417 -0.438573  0.503458\n",
       "4 -0.618647  1.715136 -0.935298\n",
       "7  0.591412 -0.059735 -2.093776"
      ]
     },
     "execution_count": 11,
     "metadata": {},
     "output_type": "execute_result"
    }
   ],
   "source": [
    "#Dropping Missing Values\n",
    "frame2.dropna()"
   ]
  },
  {
   "cell_type": "code",
   "execution_count": 12,
   "id": "20a88d20",
   "metadata": {},
   "outputs": [
    {
     "data": {
      "text/html": [
       "<div>\n",
       "<style scoped>\n",
       "    .dataframe tbody tr th:only-of-type {\n",
       "        vertical-align: middle;\n",
       "    }\n",
       "\n",
       "    .dataframe tbody tr th {\n",
       "        vertical-align: top;\n",
       "    }\n",
       "\n",
       "    .dataframe thead th {\n",
       "        text-align: right;\n",
       "    }\n",
       "</style>\n",
       "<table border=\"1\" class=\"dataframe\">\n",
       "  <thead>\n",
       "    <tr style=\"text-align: right;\">\n",
       "      <th></th>\n",
       "      <th>A</th>\n",
       "      <th>B</th>\n",
       "      <th>C</th>\n",
       "    </tr>\n",
       "  </thead>\n",
       "  <tbody>\n",
       "    <tr>\n",
       "      <th>1</th>\n",
       "      <td>-0.060578</td>\n",
       "      <td>0.025610</td>\n",
       "      <td>2.188189</td>\n",
       "    </tr>\n",
       "    <tr>\n",
       "      <th>2</th>\n",
       "      <td>-0.721417</td>\n",
       "      <td>-0.438573</td>\n",
       "      <td>0.503458</td>\n",
       "    </tr>\n",
       "    <tr>\n",
       "      <th>4</th>\n",
       "      <td>-0.618647</td>\n",
       "      <td>1.715136</td>\n",
       "      <td>-0.935298</td>\n",
       "    </tr>\n",
       "    <tr>\n",
       "      <th>7</th>\n",
       "      <td>0.591412</td>\n",
       "      <td>-0.059735</td>\n",
       "      <td>-2.093776</td>\n",
       "    </tr>\n",
       "  </tbody>\n",
       "</table>\n",
       "</div>"
      ],
      "text/plain": [
       "          A         B         C\n",
       "1 -0.060578  0.025610  2.188189\n",
       "2 -0.721417 -0.438573  0.503458\n",
       "4 -0.618647  1.715136 -0.935298\n",
       "7  0.591412 -0.059735 -2.093776"
      ]
     },
     "execution_count": 12,
     "metadata": {},
     "output_type": "execute_result"
    }
   ],
   "source": [
    "#Replacing Missing Values\n",
    "from numpy import NaN\n",
    "frame2.replace({NaN:0.00})"
   ]
  },
  {
   "cell_type": "code",
   "execution_count": 13,
   "id": "0ce10f80",
   "metadata": {},
   "outputs": [
    {
     "data": {
      "text/html": [
       "<div>\n",
       "<style scoped>\n",
       "    .dataframe tbody tr th:only-of-type {\n",
       "        vertical-align: middle;\n",
       "    }\n",
       "\n",
       "    .dataframe tbody tr th {\n",
       "        vertical-align: top;\n",
       "    }\n",
       "\n",
       "    .dataframe thead th {\n",
       "        text-align: right;\n",
       "    }\n",
       "</style>\n",
       "<table border=\"1\" class=\"dataframe\">\n",
       "  <thead>\n",
       "    <tr style=\"text-align: right;\">\n",
       "      <th></th>\n",
       "      <th>A</th>\n",
       "      <th>B</th>\n",
       "      <th>C</th>\n",
       "    </tr>\n",
       "  </thead>\n",
       "  <tbody>\n",
       "    <tr>\n",
       "      <th>1</th>\n",
       "      <td>-0.060578</td>\n",
       "      <td>0.025610</td>\n",
       "      <td>2.188189</td>\n",
       "    </tr>\n",
       "    <tr>\n",
       "      <th>2</th>\n",
       "      <td>-0.721417</td>\n",
       "      <td>-0.438573</td>\n",
       "      <td>0.503458</td>\n",
       "    </tr>\n",
       "    <tr>\n",
       "      <th>4</th>\n",
       "      <td>-0.618647</td>\n",
       "      <td>1.715136</td>\n",
       "      <td>-0.935298</td>\n",
       "    </tr>\n",
       "    <tr>\n",
       "      <th>7</th>\n",
       "      <td>0.591412</td>\n",
       "      <td>-0.059735</td>\n",
       "      <td>-2.093776</td>\n",
       "    </tr>\n",
       "  </tbody>\n",
       "</table>\n",
       "</div>"
      ],
      "text/plain": [
       "          A         B         C\n",
       "1 -0.060578  0.025610  2.188189\n",
       "2 -0.721417 -0.438573  0.503458\n",
       "4 -0.618647  1.715136 -0.935298\n",
       "7  0.591412 -0.059735 -2.093776"
      ]
     },
     "execution_count": 13,
     "metadata": {},
     "output_type": "execute_result"
    }
   ],
   "source": [
    "#Replacing with a Scalar Value\n",
    "frame2.fillna(7) # to use 7 replace each nan"
   ]
  },
  {
   "cell_type": "code",
   "execution_count": 14,
   "id": "699cfc0f",
   "metadata": {},
   "outputs": [
    {
     "data": {
      "text/html": [
       "<div>\n",
       "<style scoped>\n",
       "    .dataframe tbody tr th:only-of-type {\n",
       "        vertical-align: middle;\n",
       "    }\n",
       "\n",
       "    .dataframe tbody tr th {\n",
       "        vertical-align: top;\n",
       "    }\n",
       "\n",
       "    .dataframe thead th {\n",
       "        text-align: right;\n",
       "    }\n",
       "</style>\n",
       "<table border=\"1\" class=\"dataframe\">\n",
       "  <thead>\n",
       "    <tr style=\"text-align: right;\">\n",
       "      <th></th>\n",
       "      <th>A</th>\n",
       "      <th>B</th>\n",
       "      <th>C</th>\n",
       "    </tr>\n",
       "  </thead>\n",
       "  <tbody>\n",
       "    <tr>\n",
       "      <th>1</th>\n",
       "      <td>-0.060578</td>\n",
       "      <td>0.025610</td>\n",
       "      <td>2.188189</td>\n",
       "    </tr>\n",
       "    <tr>\n",
       "      <th>2</th>\n",
       "      <td>-0.721417</td>\n",
       "      <td>-0.438573</td>\n",
       "      <td>0.503458</td>\n",
       "    </tr>\n",
       "    <tr>\n",
       "      <th>4</th>\n",
       "      <td>-0.618647</td>\n",
       "      <td>1.715136</td>\n",
       "      <td>-0.935298</td>\n",
       "    </tr>\n",
       "    <tr>\n",
       "      <th>7</th>\n",
       "      <td>0.591412</td>\n",
       "      <td>-0.059735</td>\n",
       "      <td>-2.093776</td>\n",
       "    </tr>\n",
       "  </tbody>\n",
       "</table>\n",
       "</div>"
      ],
      "text/plain": [
       "          A         B         C\n",
       "1 -0.060578  0.025610  2.188189\n",
       "2 -0.721417 -0.438573  0.503458\n",
       "4 -0.618647  1.715136 -0.935298\n",
       "7  0.591412 -0.059735 -2.093776"
      ]
     },
     "execution_count": 14,
     "metadata": {},
     "output_type": "execute_result"
    }
   ],
   "source": [
    "#Filling Forward or Backward\n",
    "#If we supply a method parameter to the fillna() method, we can fill forward or backward as we need. \n",
    "#To fill forward, use the methods pad or fill, and to fill backward, use bfill and backfill.\n",
    "frame2.fillna(method='pad')"
   ]
  },
  {
   "cell_type": "markdown",
   "id": "3e54c819",
   "metadata": {},
   "source": [
    "## Python Data Cleansing – Other Operations"
   ]
  },
  {
   "cell_type": "markdown",
   "id": "5f5513e5",
   "metadata": {},
   "source": [
    "## if need to drop any columns"
   ]
  },
  {
   "cell_type": "code",
   "execution_count": 15,
   "id": "9dee2953",
   "metadata": {},
   "outputs": [],
   "source": [
    "# if need to drop any columns\n",
    "# frame = frame.drop(columns=['Sex_Female','Smoker_Non'])\n",
    "# frame.head()"
   ]
  },
  {
   "cell_type": "markdown",
   "id": "4ba27be9",
   "metadata": {},
   "source": [
    "### Renaming Columns"
   ]
  },
  {
   "cell_type": "code",
   "execution_count": 16,
   "id": "9caae30c",
   "metadata": {},
   "outputs": [
    {
     "data": {
      "text/html": [
       "<div>\n",
       "<style scoped>\n",
       "    .dataframe tbody tr th:only-of-type {\n",
       "        vertical-align: middle;\n",
       "    }\n",
       "\n",
       "    .dataframe tbody tr th {\n",
       "        vertical-align: top;\n",
       "    }\n",
       "\n",
       "    .dataframe thead th {\n",
       "        text-align: right;\n",
       "    }\n",
       "</style>\n",
       "<table border=\"1\" class=\"dataframe\">\n",
       "  <thead>\n",
       "    <tr style=\"text-align: right;\">\n",
       "      <th></th>\n",
       "      <th>Name</th>\n",
       "      <th>Number</th>\n",
       "    </tr>\n",
       "  </thead>\n",
       "  <tbody>\n",
       "    <tr>\n",
       "      <th>element 1</th>\n",
       "      <td>Silver</td>\n",
       "      <td>47</td>\n",
       "    </tr>\n",
       "    <tr>\n",
       "      <th>element 2</th>\n",
       "      <td>Gold</td>\n",
       "      <td>79</td>\n",
       "    </tr>\n",
       "    <tr>\n",
       "      <th>element 3</th>\n",
       "      <td>Platinum</td>\n",
       "      <td>78</td>\n",
       "    </tr>\n",
       "    <tr>\n",
       "      <th>element 4</th>\n",
       "      <td>Copper</td>\n",
       "      <td>29</td>\n",
       "    </tr>\n",
       "  </tbody>\n",
       "</table>\n",
       "</div>"
      ],
      "text/plain": [
       "               Name  Number\n",
       "element 1    Silver      47\n",
       "element 2      Gold      79\n",
       "element 3  Platinum      78\n",
       "element 4    Copper      29"
      ]
     },
     "execution_count": 16,
     "metadata": {},
     "output_type": "execute_result"
    }
   ],
   "source": [
    "frame.rename(columns={'Atomic Number':'Number','Element':'Name'},inplace=True)\n",
    "frame"
   ]
  },
  {
   "cell_type": "markdown",
   "id": "f03b9fd7",
   "metadata": {},
   "source": [
    "## drop duplicates"
   ]
  },
  {
   "cell_type": "code",
   "execution_count": 17,
   "id": "072b7da7",
   "metadata": {},
   "outputs": [
    {
     "data": {
      "text/html": [
       "<div>\n",
       "<style scoped>\n",
       "    .dataframe tbody tr th:only-of-type {\n",
       "        vertical-align: middle;\n",
       "    }\n",
       "\n",
       "    .dataframe tbody tr th {\n",
       "        vertical-align: top;\n",
       "    }\n",
       "\n",
       "    .dataframe thead th {\n",
       "        text-align: right;\n",
       "    }\n",
       "</style>\n",
       "<table border=\"1\" class=\"dataframe\">\n",
       "  <thead>\n",
       "    <tr style=\"text-align: right;\">\n",
       "      <th></th>\n",
       "      <th>brand</th>\n",
       "      <th>style</th>\n",
       "      <th>rating</th>\n",
       "    </tr>\n",
       "  </thead>\n",
       "  <tbody>\n",
       "    <tr>\n",
       "      <th>0</th>\n",
       "      <td>Yum Yum</td>\n",
       "      <td>cup</td>\n",
       "      <td>4.0</td>\n",
       "    </tr>\n",
       "    <tr>\n",
       "      <th>1</th>\n",
       "      <td>Yum Yum</td>\n",
       "      <td>cup</td>\n",
       "      <td>4.0</td>\n",
       "    </tr>\n",
       "    <tr>\n",
       "      <th>2</th>\n",
       "      <td>Indomie</td>\n",
       "      <td>cup</td>\n",
       "      <td>3.5</td>\n",
       "    </tr>\n",
       "    <tr>\n",
       "      <th>3</th>\n",
       "      <td>Indomie</td>\n",
       "      <td>pack</td>\n",
       "      <td>15.0</td>\n",
       "    </tr>\n",
       "    <tr>\n",
       "      <th>4</th>\n",
       "      <td>Indomie</td>\n",
       "      <td>pack</td>\n",
       "      <td>5.0</td>\n",
       "    </tr>\n",
       "  </tbody>\n",
       "</table>\n",
       "</div>"
      ],
      "text/plain": [
       "     brand style  rating\n",
       "0  Yum Yum   cup     4.0\n",
       "1  Yum Yum   cup     4.0\n",
       "2  Indomie   cup     3.5\n",
       "3  Indomie  pack    15.0\n",
       "4  Indomie  pack     5.0"
      ]
     },
     "execution_count": 17,
     "metadata": {},
     "output_type": "execute_result"
    }
   ],
   "source": [
    "df = pd.DataFrame({\n",
    "    'brand': ['Yum Yum', 'Yum Yum', 'Indomie', 'Indomie', 'Indomie'],\n",
    "    'style': ['cup', 'cup', 'cup', 'pack', 'pack'],\n",
    "    'rating': [4, 4, 3.5, 15, 5]\n",
    "})\n",
    "df"
   ]
  },
  {
   "cell_type": "code",
   "execution_count": 18,
   "id": "113aae5d",
   "metadata": {},
   "outputs": [
    {
     "data": {
      "text/html": [
       "<div>\n",
       "<style scoped>\n",
       "    .dataframe tbody tr th:only-of-type {\n",
       "        vertical-align: middle;\n",
       "    }\n",
       "\n",
       "    .dataframe tbody tr th {\n",
       "        vertical-align: top;\n",
       "    }\n",
       "\n",
       "    .dataframe thead th {\n",
       "        text-align: right;\n",
       "    }\n",
       "</style>\n",
       "<table border=\"1\" class=\"dataframe\">\n",
       "  <thead>\n",
       "    <tr style=\"text-align: right;\">\n",
       "      <th></th>\n",
       "      <th>brand</th>\n",
       "      <th>style</th>\n",
       "      <th>rating</th>\n",
       "    </tr>\n",
       "  </thead>\n",
       "  <tbody>\n",
       "    <tr>\n",
       "      <th>1</th>\n",
       "      <td>Yum Yum</td>\n",
       "      <td>cup</td>\n",
       "      <td>4.0</td>\n",
       "    </tr>\n",
       "    <tr>\n",
       "      <th>2</th>\n",
       "      <td>Indomie</td>\n",
       "      <td>cup</td>\n",
       "      <td>3.5</td>\n",
       "    </tr>\n",
       "    <tr>\n",
       "      <th>3</th>\n",
       "      <td>Indomie</td>\n",
       "      <td>pack</td>\n",
       "      <td>15.0</td>\n",
       "    </tr>\n",
       "    <tr>\n",
       "      <th>4</th>\n",
       "      <td>Indomie</td>\n",
       "      <td>pack</td>\n",
       "      <td>5.0</td>\n",
       "    </tr>\n",
       "  </tbody>\n",
       "</table>\n",
       "</div>"
      ],
      "text/plain": [
       "     brand style  rating\n",
       "1  Yum Yum   cup     4.0\n",
       "2  Indomie   cup     3.5\n",
       "3  Indomie  pack    15.0\n",
       "4  Indomie  pack     5.0"
      ]
     },
     "execution_count": 18,
     "metadata": {},
     "output_type": "execute_result"
    }
   ],
   "source": [
    "#By default, it removes duplicate rows based on all columns.\n",
    "df.drop_duplicates(keep = 'last') #can use parameter keep = 'first' or 'last'"
   ]
  },
  {
   "cell_type": "code",
   "execution_count": 19,
   "id": "27dbff26",
   "metadata": {},
   "outputs": [
    {
     "data": {
      "text/html": [
       "<div>\n",
       "<style scoped>\n",
       "    .dataframe tbody tr th:only-of-type {\n",
       "        vertical-align: middle;\n",
       "    }\n",
       "\n",
       "    .dataframe tbody tr th {\n",
       "        vertical-align: top;\n",
       "    }\n",
       "\n",
       "    .dataframe thead th {\n",
       "        text-align: right;\n",
       "    }\n",
       "</style>\n",
       "<table border=\"1\" class=\"dataframe\">\n",
       "  <thead>\n",
       "    <tr style=\"text-align: right;\">\n",
       "      <th></th>\n",
       "      <th>brand</th>\n",
       "      <th>style</th>\n",
       "      <th>rating</th>\n",
       "    </tr>\n",
       "  </thead>\n",
       "  <tbody>\n",
       "    <tr>\n",
       "      <th>0</th>\n",
       "      <td>Yum Yum</td>\n",
       "      <td>cup</td>\n",
       "      <td>4.0</td>\n",
       "    </tr>\n",
       "    <tr>\n",
       "      <th>2</th>\n",
       "      <td>Indomie</td>\n",
       "      <td>cup</td>\n",
       "      <td>3.5</td>\n",
       "    </tr>\n",
       "  </tbody>\n",
       "</table>\n",
       "</div>"
      ],
      "text/plain": [
       "     brand style  rating\n",
       "0  Yum Yum   cup     4.0\n",
       "2  Indomie   cup     3.5"
      ]
     },
     "execution_count": 19,
     "metadata": {},
     "output_type": "execute_result"
    }
   ],
   "source": [
    "#To remove duplicates on specific column(s), use subset.\n",
    "#Be careful to do this, otherwise will get unwanted result compare with the above\n",
    "df.drop_duplicates(subset=['brand'])"
   ]
  },
  {
   "cell_type": "code",
   "execution_count": 20,
   "id": "10c144c1",
   "metadata": {},
   "outputs": [
    {
     "data": {
      "text/html": [
       "<div>\n",
       "<style scoped>\n",
       "    .dataframe tbody tr th:only-of-type {\n",
       "        vertical-align: middle;\n",
       "    }\n",
       "\n",
       "    .dataframe tbody tr th {\n",
       "        vertical-align: top;\n",
       "    }\n",
       "\n",
       "    .dataframe thead th {\n",
       "        text-align: right;\n",
       "    }\n",
       "</style>\n",
       "<table border=\"1\" class=\"dataframe\">\n",
       "  <thead>\n",
       "    <tr style=\"text-align: right;\">\n",
       "      <th></th>\n",
       "      <th>brand</th>\n",
       "      <th>style</th>\n",
       "      <th>rating</th>\n",
       "    </tr>\n",
       "  </thead>\n",
       "  <tbody>\n",
       "    <tr>\n",
       "      <th>1</th>\n",
       "      <td>Yum Yum</td>\n",
       "      <td>cup</td>\n",
       "      <td>4.0</td>\n",
       "    </tr>\n",
       "    <tr>\n",
       "      <th>2</th>\n",
       "      <td>Indomie</td>\n",
       "      <td>cup</td>\n",
       "      <td>3.5</td>\n",
       "    </tr>\n",
       "    <tr>\n",
       "      <th>4</th>\n",
       "      <td>Indomie</td>\n",
       "      <td>pack</td>\n",
       "      <td>5.0</td>\n",
       "    </tr>\n",
       "  </tbody>\n",
       "</table>\n",
       "</div>"
      ],
      "text/plain": [
       "     brand style  rating\n",
       "1  Yum Yum   cup     4.0\n",
       "2  Indomie   cup     3.5\n",
       "4  Indomie  pack     5.0"
      ]
     },
     "execution_count": 20,
     "metadata": {},
     "output_type": "execute_result"
    }
   ],
   "source": [
    "#To remove duplicates and keep last occurrences, use keep.\n",
    "df.drop_duplicates(subset=['brand', 'style'], keep='last')"
   ]
  },
  {
   "cell_type": "markdown",
   "id": "20a27c92",
   "metadata": {},
   "source": [
    "## remove outliers"
   ]
  },
  {
   "cell_type": "code",
   "execution_count": 21,
   "id": "057270b3",
   "metadata": {},
   "outputs": [],
   "source": [
    "# Import required libraries\n",
    "import pandas as pd\n",
    "import numpy as np \n",
    "import matplotlib.pyplot as plt"
   ]
  },
  {
   "cell_type": "code",
   "execution_count": 22,
   "id": "9e9e8155",
   "metadata": {},
   "outputs": [],
   "source": [
    "#read in data\n",
    "#df = pd.read_csv(\"data_out.csv\")"
   ]
  },
  {
   "cell_type": "code",
   "execution_count": 23,
   "id": "6c0bab71",
   "metadata": {},
   "outputs": [
    {
     "data": {
      "text/html": [
       "<div>\n",
       "<style scoped>\n",
       "    .dataframe tbody tr th:only-of-type {\n",
       "        vertical-align: middle;\n",
       "    }\n",
       "\n",
       "    .dataframe tbody tr th {\n",
       "        vertical-align: top;\n",
       "    }\n",
       "\n",
       "    .dataframe thead th {\n",
       "        text-align: right;\n",
       "    }\n",
       "</style>\n",
       "<table border=\"1\" class=\"dataframe\">\n",
       "  <thead>\n",
       "    <tr style=\"text-align: right;\">\n",
       "      <th></th>\n",
       "      <th>A</th>\n",
       "      <th>B</th>\n",
       "      <th>C</th>\n",
       "    </tr>\n",
       "  </thead>\n",
       "  <tbody>\n",
       "    <tr>\n",
       "      <th>0</th>\n",
       "      <td>-0.400876</td>\n",
       "      <td>-0.229867</td>\n",
       "      <td>0.884112</td>\n",
       "    </tr>\n",
       "    <tr>\n",
       "      <th>1</th>\n",
       "      <td>-0.303761</td>\n",
       "      <td>0.462812</td>\n",
       "      <td>0.545877</td>\n",
       "    </tr>\n",
       "    <tr>\n",
       "      <th>2</th>\n",
       "      <td>-0.642640</td>\n",
       "      <td>0.035393</td>\n",
       "      <td>-0.223416</td>\n",
       "    </tr>\n",
       "    <tr>\n",
       "      <th>3</th>\n",
       "      <td>0.383065</td>\n",
       "      <td>-0.535847</td>\n",
       "      <td>-0.597486</td>\n",
       "    </tr>\n",
       "    <tr>\n",
       "      <th>4</th>\n",
       "      <td>0.520046</td>\n",
       "      <td>0.006875</td>\n",
       "      <td>-0.289991</td>\n",
       "    </tr>\n",
       "  </tbody>\n",
       "</table>\n",
       "</div>"
      ],
      "text/plain": [
       "          A         B         C\n",
       "0 -0.400876 -0.229867  0.884112\n",
       "1 -0.303761  0.462812  0.545877\n",
       "2 -0.642640  0.035393 -0.223416\n",
       "3  0.383065 -0.535847 -0.597486\n",
       "4  0.520046  0.006875 -0.289991"
      ]
     },
     "execution_count": 23,
     "metadata": {},
     "output_type": "execute_result"
    }
   ],
   "source": [
    "frame3=pd.DataFrame(np.random.randn(200,3),columns=['A','B','C'])\n",
    "frame3.head()"
   ]
  },
  {
   "cell_type": "code",
   "execution_count": 24,
   "id": "e22f9a19",
   "metadata": {},
   "outputs": [
    {
     "name": "stdout",
     "output_type": "stream",
     "text": [
      "(200, 3)\n"
     ]
    }
   ],
   "source": [
    "print(frame3.shape)\n"
   ]
  },
  {
   "cell_type": "code",
   "execution_count": 25,
   "id": "084c2a53",
   "metadata": {},
   "outputs": [
    {
     "name": "stdout",
     "output_type": "stream",
     "text": [
      "<class 'pandas.core.frame.DataFrame'>\n",
      "RangeIndex: 200 entries, 0 to 199\n",
      "Data columns (total 3 columns):\n",
      " #   Column  Non-Null Count  Dtype  \n",
      "---  ------  --------------  -----  \n",
      " 0   A       200 non-null    float64\n",
      " 1   B       200 non-null    float64\n",
      " 2   C       200 non-null    float64\n",
      "dtypes: float64(3)\n",
      "memory usage: 4.8 KB\n",
      "None\n"
     ]
    }
   ],
   "source": [
    "print(frame3.info())"
   ]
  },
  {
   "cell_type": "code",
   "execution_count": 26,
   "id": "9a3c6e78",
   "metadata": {},
   "outputs": [
    {
     "data": {
      "text/html": [
       "<div>\n",
       "<style scoped>\n",
       "    .dataframe tbody tr th:only-of-type {\n",
       "        vertical-align: middle;\n",
       "    }\n",
       "\n",
       "    .dataframe tbody tr th {\n",
       "        vertical-align: top;\n",
       "    }\n",
       "\n",
       "    .dataframe thead th {\n",
       "        text-align: right;\n",
       "    }\n",
       "</style>\n",
       "<table border=\"1\" class=\"dataframe\">\n",
       "  <thead>\n",
       "    <tr style=\"text-align: right;\">\n",
       "      <th></th>\n",
       "      <th>A</th>\n",
       "      <th>B</th>\n",
       "      <th>C</th>\n",
       "    </tr>\n",
       "  </thead>\n",
       "  <tbody>\n",
       "    <tr>\n",
       "      <th>count</th>\n",
       "      <td>200.000000</td>\n",
       "      <td>200.000000</td>\n",
       "      <td>200.000000</td>\n",
       "    </tr>\n",
       "    <tr>\n",
       "      <th>mean</th>\n",
       "      <td>-0.008433</td>\n",
       "      <td>-0.014444</td>\n",
       "      <td>-0.041445</td>\n",
       "    </tr>\n",
       "    <tr>\n",
       "      <th>std</th>\n",
       "      <td>0.958371</td>\n",
       "      <td>0.978081</td>\n",
       "      <td>1.023360</td>\n",
       "    </tr>\n",
       "    <tr>\n",
       "      <th>min</th>\n",
       "      <td>-2.546046</td>\n",
       "      <td>-2.378900</td>\n",
       "      <td>-3.120799</td>\n",
       "    </tr>\n",
       "    <tr>\n",
       "      <th>25%</th>\n",
       "      <td>-0.670185</td>\n",
       "      <td>-0.712092</td>\n",
       "      <td>-0.765205</td>\n",
       "    </tr>\n",
       "    <tr>\n",
       "      <th>50%</th>\n",
       "      <td>-0.046992</td>\n",
       "      <td>0.004890</td>\n",
       "      <td>0.000212</td>\n",
       "    </tr>\n",
       "    <tr>\n",
       "      <th>75%</th>\n",
       "      <td>0.572149</td>\n",
       "      <td>0.644845</td>\n",
       "      <td>0.539951</td>\n",
       "    </tr>\n",
       "    <tr>\n",
       "      <th>max</th>\n",
       "      <td>2.336316</td>\n",
       "      <td>2.547504</td>\n",
       "      <td>3.212304</td>\n",
       "    </tr>\n",
       "  </tbody>\n",
       "</table>\n",
       "</div>"
      ],
      "text/plain": [
       "                A           B           C\n",
       "count  200.000000  200.000000  200.000000\n",
       "mean    -0.008433   -0.014444   -0.041445\n",
       "std      0.958371    0.978081    1.023360\n",
       "min     -2.546046   -2.378900   -3.120799\n",
       "25%     -0.670185   -0.712092   -0.765205\n",
       "50%     -0.046992    0.004890    0.000212\n",
       "75%      0.572149    0.644845    0.539951\n",
       "max      2.336316    2.547504    3.212304"
      ]
     },
     "execution_count": 26,
     "metadata": {},
     "output_type": "execute_result"
    }
   ],
   "source": [
    "frame3.describe()"
   ]
  },
  {
   "cell_type": "markdown",
   "id": "d22f2c37",
   "metadata": {},
   "source": [
    "### Identifying Outliers in each column and remove all outliers"
   ]
  },
  {
   "cell_type": "code",
   "execution_count": 30,
   "id": "0e867b54",
   "metadata": {},
   "outputs": [
    {
     "data": {
      "image/png": "[encoded data removed]",
      "text/plain": [
       "<Figure size 432x288 with 1 Axes>"
      ]
     },
     "metadata": {
      "needs_background": "light"
     },
     "output_type": "display_data"
    }
   ],
   "source": [
    "plt.boxplot(frame3)\n",
    "plt.show()"
   ]
  },
  {
   "cell_type": "code",
   "execution_count": 31,
   "id": "f9169b77",
   "metadata": {},
   "outputs": [
    {
     "data": {
      "text/plain": [
       "200"
      ]
     },
     "execution_count": 31,
     "metadata": {},
     "output_type": "execute_result"
    }
   ],
   "source": [
    "len(frame3)"
   ]
  },
  {
   "cell_type": "code",
   "execution_count": 33,
   "id": "d98a6008",
   "metadata": {},
   "outputs": [
    {
     "data": {
      "text/plain": [
       "Index(['A', 'B', 'C'], dtype='object')"
      ]
     },
     "execution_count": 33,
     "metadata": {},
     "output_type": "execute_result"
    }
   ],
   "source": [
    "columns = frame3.columns\n",
    "columns"
   ]
  },
  {
   "cell_type": "code",
   "execution_count": 34,
   "id": "f4025eb6",
   "metadata": {},
   "outputs": [],
   "source": [
    "# ### remove outliers from each column\n",
    "# columns = [x for x in frame3.columns]\n",
    "# columns"
   ]
  },
  {
   "cell_type": "markdown",
   "id": "acd2db5c",
   "metadata": {},
   "source": [
    "## remove all the outliers"
   ]
  },
  {
   "cell_type": "code",
   "execution_count": 37,
   "id": "75d23b62",
   "metadata": {},
   "outputs": [],
   "source": [
    "\n",
    "for col in columns:\n",
    "#     if col == \"Latitude\" or \"Logitude\":\n",
    "#         #print(\"passed\")\n",
    "#         pass\n",
    "    Q1 = frame3[col].quantile(0.25)\n",
    "    Q3 = frame3[col].quantile(0.75)\n",
    "    IQR = Q3 - Q1\n",
    "\n",
    "    frame3 = frame3[~((frame3[col] < (Q1 - 1.5 * IQR)) | (frame3[col] > (Q3 + 1.5 * IQR)))]\n"
   ]
  },
  {
   "cell_type": "code",
   "execution_count": 38,
   "id": "e1315bb6",
   "metadata": {},
   "outputs": [
    {
     "data": {
      "text/plain": [
       "194"
      ]
     },
     "execution_count": 38,
     "metadata": {},
     "output_type": "execute_result"
    }
   ],
   "source": [
    "len(frame3)"
   ]
  },
  {
   "cell_type": "code",
   "execution_count": 39,
   "id": "ccaedcb0",
   "metadata": {},
   "outputs": [
    {
     "data": {
      "image/png": "[encoded data removed]",
      "text/plain": [
       "<Figure size 432x288 with 1 Axes>"
      ]
     },
     "metadata": {
      "needs_background": "light"
     },
     "output_type": "display_data"
    }
   ],
   "source": [
    "#Varify that outliers have been removed\n",
    "plt.boxplot(frame3)\n",
    "plt.show()"
   ]
  },
  {
   "cell_type": "markdown",
   "id": "83e0fa0b",
   "metadata": {},
   "source": [
    "### check with skrew()"
   ]
  },
  {
   "cell_type": "code",
   "execution_count": 40,
   "id": "0d14b9f3",
   "metadata": {},
   "outputs": [
    {
     "name": "stdout",
     "output_type": "stream",
     "text": [
      "A    0.073156\n",
      "B    0.131013\n",
      "C   -0.010564\n",
      "dtype: float64\n"
     ]
    }
   ],
   "source": [
    "print(frame3.skew(axis = 0, skipna = True)) #axis = 0 column, axis = 1 row;"
   ]
  },
  {
   "cell_type": "code",
   "execution_count": 41,
   "id": "a5b8efa8",
   "metadata": {},
   "outputs": [],
   "source": [
    "# sample skewvalue = near 0 is ok\n",
    "dataVal = [(10,20,30,40,50,60,70),\n",
    "\n",
    "           (10,20,30,40,50,60,70),\n",
    "\n",
    "           (10,20,30,50,50,60,70)]"
   ]
  },
  {
   "cell_type": "code",
   "execution_count": 42,
   "id": "567fb3f9",
   "metadata": {},
   "outputs": [
    {
     "data": {
      "text/plain": [
       "0    0.000000\n",
       "1    0.000000\n",
       "2   -0.251919\n",
       "dtype: float64"
      ]
     },
     "execution_count": 42,
     "metadata": {},
     "output_type": "execute_result"
    }
   ],
   "source": [
    "dataFrame = pd.DataFrame(data=dataVal);\n",
    "\n",
    "skewValue = dataFrame.skew(axis=1)\n",
    "skewValue"
   ]
  },
  {
   "cell_type": "code",
   "execution_count": 43,
   "id": "c4f56e01",
   "metadata": {},
   "outputs": [
    {
     "data": {
      "text/plain": [
       "0    0.000000\n",
       "1   -0.259458\n",
       "2    0.568329\n",
       "dtype: float64"
      ]
     },
     "execution_count": 43,
     "metadata": {},
     "output_type": "execute_result"
    }
   ],
   "source": [
    "dataVal2 = [(10,20,30,40,50,60,70),\n",
    "\n",
    "           (10,20,40,40,50,60,70),\n",
    "\n",
    "           (10,20,30,40,50,50,80)]\n",
    "dataFrame2 = pd.DataFrame(data=dataVal2);\n",
    "\n",
    "skewValue2 = dataFrame2.skew(axis=1)\n",
    "skewValue2"
   ]
  },
  {
   "cell_type": "markdown",
   "id": "83967ebd",
   "metadata": {},
   "source": [
    "## Identifying Outliers with Visualization"
   ]
  },
  {
   "cell_type": "code",
   "execution_count": 44,
   "id": "268350fa",
   "metadata": {},
   "outputs": [
    {
     "data": {
      "image/png": "[encoded data removed]",
      "text/plain": [
       "<Figure size 432x288 with 1 Axes>"
      ]
     },
     "metadata": {
      "needs_background": "light"
     },
     "output_type": "display_data"
    }
   ],
   "source": [
    "plt.boxplot(frame3[\"A\"])\n",
    "plt.show()"
   ]
  },
  {
   "cell_type": "code",
   "execution_count": 45,
   "id": "9b42be9a",
   "metadata": {},
   "outputs": [
    {
     "data": {
      "text/plain": [
       "{'whiskers': [<matplotlib.lines.Line2D at 0x183de7a6e10>,\n",
       "  <matplotlib.lines.Line2D at 0x183de7b4128>,\n",
       "  <matplotlib.lines.Line2D at 0x183de7c2278>,\n",
       "  <matplotlib.lines.Line2D at 0x183de7c2550>,\n",
       "  <matplotlib.lines.Line2D at 0x183de7cf6a0>,\n",
       "  <matplotlib.lines.Line2D at 0x183de7cf978>],\n",
       " 'caps': [<matplotlib.lines.Line2D at 0x183de7b4400>,\n",
       "  <matplotlib.lines.Line2D at 0x183de7b46d8>,\n",
       "  <matplotlib.lines.Line2D at 0x183de7c2828>,\n",
       "  <matplotlib.lines.Line2D at 0x183de7c2b00>,\n",
       "  <matplotlib.lines.Line2D at 0x183de7cfc50>,\n",
       "  <matplotlib.lines.Line2D at 0x183de7cff28>],\n",
       " 'boxes': [<matplotlib.lines.Line2D at 0x183de7a6ba8>,\n",
       "  <matplotlib.lines.Line2D at 0x183de7b4e80>,\n",
       "  <matplotlib.lines.Line2D at 0x183de7cf2e8>],\n",
       " 'medians': [<matplotlib.lines.Line2D at 0x183de7b49b0>,\n",
       "  <matplotlib.lines.Line2D at 0x183de7c2dd8>,\n",
       "  <matplotlib.lines.Line2D at 0x183de7df240>],\n",
       " 'fliers': [<matplotlib.lines.Line2D at 0x183de7b4c88>,\n",
       "  <matplotlib.lines.Line2D at 0x183de7cf0f0>,\n",
       "  <matplotlib.lines.Line2D at 0x183de7df518>],\n",
       " 'means': []}"
      ]
     },
     "execution_count": 45,
     "metadata": {},
     "output_type": "execute_result"
    },
    {
     "data": {
      "image/png": "[encoded data removed]",
      "text/plain": [
       "<Figure size 432x288 with 1 Axes>"
      ]
     },
     "metadata": {
      "needs_background": "light"
     },
     "output_type": "display_data"
    }
   ],
   "source": [
    "# notice that frames[\"C\"] has outliers\n",
    "plt.boxplot(frame3)"
   ]
  },
  {
   "cell_type": "code",
   "execution_count": 46,
   "id": "ef40d6a6",
   "metadata": {},
   "outputs": [
    {
     "data": {
      "text/plain": [
       "<AxesSubplot:>"
      ]
     },
     "execution_count": 46,
     "metadata": {},
     "output_type": "execute_result"
    },
    {
     "data": {
      "image/png": "[encoded data removed]",
      "text/plain": [
       "<Figure size 432x288 with 1 Axes>"
      ]
     },
     "metadata": {
      "needs_background": "light"
     },
     "output_type": "display_data"
    }
   ],
   "source": [
    "#Histogram\n",
    "frame3.A.hist() # = frame3[\"C\"].hist()"
   ]
  },
  {
   "cell_type": "code",
   "execution_count": 47,
   "id": "5337619e",
   "metadata": {},
   "outputs": [
    {
     "data": {
      "image/png": "[encoded data removed]",
      "text/plain": [
       "<Figure size 864x432 with 1 Axes>"
      ]
     },
     "metadata": {
      "needs_background": "light"
     },
     "output_type": "display_data"
    }
   ],
   "source": [
    "# scatter\n",
    "fig, ax = plt.subplots(figsize=(12,6))\n",
    "ax.scatter(frame3['A'], frame3['C'])\n",
    "ax.set_xlabel('A')\n",
    "ax.set_ylabel('C')\n",
    "plt.show()"
   ]
  },
  {
   "cell_type": "markdown",
   "id": "f079cce2",
   "metadata": {},
   "source": [
    "# Outlier Treatment"
   ]
  },
  {
   "cell_type": "markdown",
   "id": "821cd190",
   "metadata": {},
   "source": [
    "### calculate floor and ceiling"
   ]
  },
  {
   "cell_type": "code",
   "execution_count": 48,
   "id": "77e7ea2e",
   "metadata": {},
   "outputs": [
    {
     "data": {
      "text/plain": [
       "194"
      ]
     },
     "execution_count": 48,
     "metadata": {},
     "output_type": "execute_result"
    }
   ],
   "source": [
    "len(frame3)"
   ]
  },
  {
   "cell_type": "code",
   "execution_count": 49,
   "id": "8555a600",
   "metadata": {},
   "outputs": [],
   "source": [
    "Q31 = frame3[\"C\"].quantile(0.25)\n",
    "Q33 = frame3[\"C\"].quantile(0.75)\n",
    "IQR3 = Q33 -Q31"
   ]
  },
  {
   "cell_type": "code",
   "execution_count": 50,
   "id": "2b1bee5c",
   "metadata": {},
   "outputs": [
    {
     "name": "stdout",
     "output_type": "stream",
     "text": [
      "-2.690457745043801 2.396081579498978\n"
     ]
    }
   ],
   "source": [
    "# since we found frames3[\"C\"] has outliers, we just keep frame3 's values \n",
    "# within frame3.query('C > (Q31-1.5 * IQR) and C < (Q33 + 1.5 * IQR)') \n",
    "floor = Q31-1.5 * IQR3\n",
    "ceiling = Q33 + 1.5 * IQR3\n",
    "print(floor, ceiling)"
   ]
  },
  {
   "cell_type": "markdown",
   "id": "b295dd3f",
   "metadata": {},
   "source": [
    "### use loc[ ]"
   ]
  },
  {
   "cell_type": "code",
   "execution_count": 44,
   "id": "296f78f1",
   "metadata": {},
   "outputs": [
    {
     "data": {
      "text/html": [
       "<div>\n",
       "<style scoped>\n",
       "    .dataframe tbody tr th:only-of-type {\n",
       "        vertical-align: middle;\n",
       "    }\n",
       "\n",
       "    .dataframe tbody tr th {\n",
       "        vertical-align: top;\n",
       "    }\n",
       "\n",
       "    .dataframe thead th {\n",
       "        text-align: right;\n",
       "    }\n",
       "</style>\n",
       "<table border=\"1\" class=\"dataframe\">\n",
       "  <thead>\n",
       "    <tr style=\"text-align: right;\">\n",
       "      <th></th>\n",
       "      <th>A</th>\n",
       "      <th>B</th>\n",
       "      <th>C</th>\n",
       "    </tr>\n",
       "  </thead>\n",
       "  <tbody>\n",
       "    <tr>\n",
       "      <th>0</th>\n",
       "      <td>-0.520434</td>\n",
       "      <td>-1.550819</td>\n",
       "      <td>1.806995</td>\n",
       "    </tr>\n",
       "    <tr>\n",
       "      <th>1</th>\n",
       "      <td>-0.626886</td>\n",
       "      <td>-0.905434</td>\n",
       "      <td>-1.170803</td>\n",
       "    </tr>\n",
       "    <tr>\n",
       "      <th>3</th>\n",
       "      <td>0.319082</td>\n",
       "      <td>-1.414271</td>\n",
       "      <td>0.428488</td>\n",
       "    </tr>\n",
       "    <tr>\n",
       "      <th>4</th>\n",
       "      <td>-1.456250</td>\n",
       "      <td>-2.037431</td>\n",
       "      <td>-0.208340</td>\n",
       "    </tr>\n",
       "    <tr>\n",
       "      <th>5</th>\n",
       "      <td>0.555636</td>\n",
       "      <td>-1.748750</td>\n",
       "      <td>0.814967</td>\n",
       "    </tr>\n",
       "    <tr>\n",
       "      <th>...</th>\n",
       "      <td>...</td>\n",
       "      <td>...</td>\n",
       "      <td>...</td>\n",
       "    </tr>\n",
       "    <tr>\n",
       "      <th>194</th>\n",
       "      <td>-0.558816</td>\n",
       "      <td>-0.305846</td>\n",
       "      <td>0.842475</td>\n",
       "    </tr>\n",
       "    <tr>\n",
       "      <th>195</th>\n",
       "      <td>-0.588076</td>\n",
       "      <td>0.351967</td>\n",
       "      <td>0.361711</td>\n",
       "    </tr>\n",
       "    <tr>\n",
       "      <th>196</th>\n",
       "      <td>0.944749</td>\n",
       "      <td>-0.170696</td>\n",
       "      <td>-2.280787</td>\n",
       "    </tr>\n",
       "    <tr>\n",
       "      <th>197</th>\n",
       "      <td>1.137627</td>\n",
       "      <td>-0.584879</td>\n",
       "      <td>-0.445621</td>\n",
       "    </tr>\n",
       "    <tr>\n",
       "      <th>198</th>\n",
       "      <td>-0.210113</td>\n",
       "      <td>-1.049719</td>\n",
       "      <td>1.108517</td>\n",
       "    </tr>\n",
       "  </tbody>\n",
       "</table>\n",
       "<p>196 rows × 3 columns</p>\n",
       "</div>"
      ],
      "text/plain": [
       "            A         B         C\n",
       "0   -0.520434 -1.550819  1.806995\n",
       "1   -0.626886 -0.905434 -1.170803\n",
       "3    0.319082 -1.414271  0.428488\n",
       "4   -1.456250 -2.037431 -0.208340\n",
       "5    0.555636 -1.748750  0.814967\n",
       "..        ...       ...       ...\n",
       "194 -0.558816 -0.305846  0.842475\n",
       "195 -0.588076  0.351967  0.361711\n",
       "196  0.944749 -0.170696 -2.280787\n",
       "197  1.137627 -0.584879 -0.445621\n",
       "198 -0.210113 -1.049719  1.108517\n",
       "\n",
       "[196 rows x 3 columns]"
      ]
     },
     "execution_count": 44,
     "metadata": {},
     "output_type": "execute_result"
    }
   ],
   "source": [
    "df3 = frame3.loc[(frame3[\"C\"] > floor) & (frame3[\"C\"] < ceiling), :]\n",
    "df3"
   ]
  },
  {
   "cell_type": "code",
   "execution_count": 45,
   "id": "e645a4f2",
   "metadata": {},
   "outputs": [
    {
     "data": {
      "text/html": [
       "<div>\n",
       "<style scoped>\n",
       "    .dataframe tbody tr th:only-of-type {\n",
       "        vertical-align: middle;\n",
       "    }\n",
       "\n",
       "    .dataframe tbody tr th {\n",
       "        vertical-align: top;\n",
       "    }\n",
       "\n",
       "    .dataframe thead th {\n",
       "        text-align: right;\n",
       "    }\n",
       "</style>\n",
       "<table border=\"1\" class=\"dataframe\">\n",
       "  <thead>\n",
       "    <tr style=\"text-align: right;\">\n",
       "      <th></th>\n",
       "      <th>A</th>\n",
       "      <th>B</th>\n",
       "      <th>C</th>\n",
       "    </tr>\n",
       "  </thead>\n",
       "  <tbody>\n",
       "    <tr>\n",
       "      <th>0</th>\n",
       "      <td>-0.520434</td>\n",
       "      <td>-1.550819</td>\n",
       "      <td>1.806995</td>\n",
       "    </tr>\n",
       "    <tr>\n",
       "      <th>1</th>\n",
       "      <td>-0.626886</td>\n",
       "      <td>-0.905434</td>\n",
       "      <td>-1.170803</td>\n",
       "    </tr>\n",
       "    <tr>\n",
       "      <th>2</th>\n",
       "      <td>0.319082</td>\n",
       "      <td>-1.414271</td>\n",
       "      <td>0.428488</td>\n",
       "    </tr>\n",
       "    <tr>\n",
       "      <th>3</th>\n",
       "      <td>-1.456250</td>\n",
       "      <td>-2.037431</td>\n",
       "      <td>-0.208340</td>\n",
       "    </tr>\n",
       "    <tr>\n",
       "      <th>4</th>\n",
       "      <td>0.555636</td>\n",
       "      <td>-1.748750</td>\n",
       "      <td>0.814967</td>\n",
       "    </tr>\n",
       "    <tr>\n",
       "      <th>...</th>\n",
       "      <td>...</td>\n",
       "      <td>...</td>\n",
       "      <td>...</td>\n",
       "    </tr>\n",
       "    <tr>\n",
       "      <th>191</th>\n",
       "      <td>-0.558816</td>\n",
       "      <td>-0.305846</td>\n",
       "      <td>0.842475</td>\n",
       "    </tr>\n",
       "    <tr>\n",
       "      <th>192</th>\n",
       "      <td>-0.588076</td>\n",
       "      <td>0.351967</td>\n",
       "      <td>0.361711</td>\n",
       "    </tr>\n",
       "    <tr>\n",
       "      <th>193</th>\n",
       "      <td>0.944749</td>\n",
       "      <td>-0.170696</td>\n",
       "      <td>-2.280787</td>\n",
       "    </tr>\n",
       "    <tr>\n",
       "      <th>194</th>\n",
       "      <td>1.137627</td>\n",
       "      <td>-0.584879</td>\n",
       "      <td>-0.445621</td>\n",
       "    </tr>\n",
       "    <tr>\n",
       "      <th>195</th>\n",
       "      <td>-0.210113</td>\n",
       "      <td>-1.049719</td>\n",
       "      <td>1.108517</td>\n",
       "    </tr>\n",
       "  </tbody>\n",
       "</table>\n",
       "<p>196 rows × 3 columns</p>\n",
       "</div>"
      ],
      "text/plain": [
       "            A         B         C\n",
       "0   -0.520434 -1.550819  1.806995\n",
       "1   -0.626886 -0.905434 -1.170803\n",
       "2    0.319082 -1.414271  0.428488\n",
       "3   -1.456250 -2.037431 -0.208340\n",
       "4    0.555636 -1.748750  0.814967\n",
       "..        ...       ...       ...\n",
       "191 -0.558816 -0.305846  0.842475\n",
       "192 -0.588076  0.351967  0.361711\n",
       "193  0.944749 -0.170696 -2.280787\n",
       "194  1.137627 -0.584879 -0.445621\n",
       "195 -0.210113 -1.049719  1.108517\n",
       "\n",
       "[196 rows x 3 columns]"
      ]
     },
     "execution_count": 45,
     "metadata": {},
     "output_type": "execute_result"
    }
   ],
   "source": [
    "#after remove outliers, reset index, drop the original ones\n",
    "df3.reset_index(drop=True)"
   ]
  },
  {
   "cell_type": "code",
   "execution_count": 46,
   "id": "df55039a",
   "metadata": {},
   "outputs": [
    {
     "data": {
      "text/plain": [
       "{'whiskers': [<matplotlib.lines.Line2D at 0x2446ab01400>,\n",
       "  <matplotlib.lines.Line2D at 0x2446ab016d8>,\n",
       "  <matplotlib.lines.Line2D at 0x2446ab11828>,\n",
       "  <matplotlib.lines.Line2D at 0x2446ab11b00>,\n",
       "  <matplotlib.lines.Line2D at 0x2446ab20c50>,\n",
       "  <matplotlib.lines.Line2D at 0x2446ab20f28>],\n",
       " 'caps': [<matplotlib.lines.Line2D at 0x2446ab019b0>,\n",
       "  <matplotlib.lines.Line2D at 0x2446ab01c88>,\n",
       "  <matplotlib.lines.Line2D at 0x2446ab11dd8>,\n",
       "  <matplotlib.lines.Line2D at 0x2446ab200f0>,\n",
       "  <matplotlib.lines.Line2D at 0x2446ab30240>,\n",
       "  <matplotlib.lines.Line2D at 0x2446ab30518>],\n",
       " 'boxes': [<matplotlib.lines.Line2D at 0x2446acb4710>,\n",
       "  <matplotlib.lines.Line2D at 0x2446ab11470>,\n",
       "  <matplotlib.lines.Line2D at 0x2446ab20898>],\n",
       " 'medians': [<matplotlib.lines.Line2D at 0x2446ab01f60>,\n",
       "  <matplotlib.lines.Line2D at 0x2446ab203c8>,\n",
       "  <matplotlib.lines.Line2D at 0x2446ab307f0>],\n",
       " 'fliers': [<matplotlib.lines.Line2D at 0x2446ab11278>,\n",
       "  <matplotlib.lines.Line2D at 0x2446ab206a0>,\n",
       "  <matplotlib.lines.Line2D at 0x2446ab30ac8>],\n",
       " 'means': []}"
      ]
     },
     "execution_count": 46,
     "metadata": {},
     "output_type": "execute_result"
    },
    {
     "data": {
      "image/png": "[encoded data removed]",
      "text/plain": [
       "<Figure size 432x288 with 1 Axes>"
      ]
     },
     "metadata": {
      "needs_background": "light"
     },
     "output_type": "display_data"
    }
   ],
   "source": [
    "plt.boxplot(df3)"
   ]
  },
  {
   "cell_type": "markdown",
   "id": "1af04c5f",
   "metadata": {},
   "source": [
    "### save df into csv"
   ]
  },
  {
   "cell_type": "code",
   "execution_count": 47,
   "id": "f771f477",
   "metadata": {},
   "outputs": [],
   "source": [
    "#save cleaned dr3 into disk\n",
    "df3.to_csv(\"df3.csv\", index=False)"
   ]
  },
  {
   "cell_type": "markdown",
   "id": "b303569a",
   "metadata": {},
   "source": [
    "### check without outlier anymore"
   ]
  },
  {
   "cell_type": "code",
   "execution_count": 48,
   "id": "7d725888",
   "metadata": {},
   "outputs": [
    {
     "data": {
      "text/html": [
       "<div>\n",
       "<style scoped>\n",
       "    .dataframe tbody tr th:only-of-type {\n",
       "        vertical-align: middle;\n",
       "    }\n",
       "\n",
       "    .dataframe tbody tr th {\n",
       "        vertical-align: top;\n",
       "    }\n",
       "\n",
       "    .dataframe thead th {\n",
       "        text-align: right;\n",
       "    }\n",
       "</style>\n",
       "<table border=\"1\" class=\"dataframe\">\n",
       "  <thead>\n",
       "    <tr style=\"text-align: right;\">\n",
       "      <th></th>\n",
       "      <th>A</th>\n",
       "      <th>B</th>\n",
       "      <th>C</th>\n",
       "    </tr>\n",
       "  </thead>\n",
       "  <tbody>\n",
       "  </tbody>\n",
       "</table>\n",
       "</div>"
      ],
      "text/plain": [
       "Empty DataFrame\n",
       "Columns: [A, B, C]\n",
       "Index: []"
      ]
     },
     "execution_count": 48,
     "metadata": {},
     "output_type": "execute_result"
    }
   ],
   "source": [
    "# check there is nothing outlier ana more\n",
    "df4 = df3.loc[(df3[\"C\"] < floor) | (df3[\"C\"] > ceiling), :]\n",
    "df4.head()"
   ]
  },
  {
   "cell_type": "markdown",
   "id": "82d3e931",
   "metadata": {},
   "source": [
    "### Use query()  to remove outliers, notice query only takes f string"
   ]
  },
  {
   "cell_type": "code",
   "execution_count": 49,
   "id": "d8e5e2ed",
   "metadata": {},
   "outputs": [
    {
     "data": {
      "text/html": [
       "<div>\n",
       "<style scoped>\n",
       "    .dataframe tbody tr th:only-of-type {\n",
       "        vertical-align: middle;\n",
       "    }\n",
       "\n",
       "    .dataframe tbody tr th {\n",
       "        vertical-align: top;\n",
       "    }\n",
       "\n",
       "    .dataframe thead th {\n",
       "        text-align: right;\n",
       "    }\n",
       "</style>\n",
       "<table border=\"1\" class=\"dataframe\">\n",
       "  <thead>\n",
       "    <tr style=\"text-align: right;\">\n",
       "      <th></th>\n",
       "      <th>A</th>\n",
       "      <th>B</th>\n",
       "      <th>C</th>\n",
       "    </tr>\n",
       "  </thead>\n",
       "  <tbody>\n",
       "    <tr>\n",
       "      <th>0</th>\n",
       "      <td>-0.520434</td>\n",
       "      <td>-1.550819</td>\n",
       "      <td>1.806995</td>\n",
       "    </tr>\n",
       "    <tr>\n",
       "      <th>1</th>\n",
       "      <td>-0.626886</td>\n",
       "      <td>-0.905434</td>\n",
       "      <td>-1.170803</td>\n",
       "    </tr>\n",
       "    <tr>\n",
       "      <th>3</th>\n",
       "      <td>0.319082</td>\n",
       "      <td>-1.414271</td>\n",
       "      <td>0.428488</td>\n",
       "    </tr>\n",
       "    <tr>\n",
       "      <th>4</th>\n",
       "      <td>-1.456250</td>\n",
       "      <td>-2.037431</td>\n",
       "      <td>-0.208340</td>\n",
       "    </tr>\n",
       "    <tr>\n",
       "      <th>5</th>\n",
       "      <td>0.555636</td>\n",
       "      <td>-1.748750</td>\n",
       "      <td>0.814967</td>\n",
       "    </tr>\n",
       "    <tr>\n",
       "      <th>...</th>\n",
       "      <td>...</td>\n",
       "      <td>...</td>\n",
       "      <td>...</td>\n",
       "    </tr>\n",
       "    <tr>\n",
       "      <th>194</th>\n",
       "      <td>-0.558816</td>\n",
       "      <td>-0.305846</td>\n",
       "      <td>0.842475</td>\n",
       "    </tr>\n",
       "    <tr>\n",
       "      <th>195</th>\n",
       "      <td>-0.588076</td>\n",
       "      <td>0.351967</td>\n",
       "      <td>0.361711</td>\n",
       "    </tr>\n",
       "    <tr>\n",
       "      <th>196</th>\n",
       "      <td>0.944749</td>\n",
       "      <td>-0.170696</td>\n",
       "      <td>-2.280787</td>\n",
       "    </tr>\n",
       "    <tr>\n",
       "      <th>197</th>\n",
       "      <td>1.137627</td>\n",
       "      <td>-0.584879</td>\n",
       "      <td>-0.445621</td>\n",
       "    </tr>\n",
       "    <tr>\n",
       "      <th>198</th>\n",
       "      <td>-0.210113</td>\n",
       "      <td>-1.049719</td>\n",
       "      <td>1.108517</td>\n",
       "    </tr>\n",
       "  </tbody>\n",
       "</table>\n",
       "<p>196 rows × 3 columns</p>\n",
       "</div>"
      ],
      "text/plain": [
       "            A         B         C\n",
       "0   -0.520434 -1.550819  1.806995\n",
       "1   -0.626886 -0.905434 -1.170803\n",
       "3    0.319082 -1.414271  0.428488\n",
       "4   -1.456250 -2.037431 -0.208340\n",
       "5    0.555636 -1.748750  0.814967\n",
       "..        ...       ...       ...\n",
       "194 -0.558816 -0.305846  0.842475\n",
       "195 -0.588076  0.351967  0.361711\n",
       "196  0.944749 -0.170696 -2.280787\n",
       "197  1.137627 -0.584879 -0.445621\n",
       "198 -0.210113 -1.049719  1.108517\n",
       "\n",
       "[196 rows x 3 columns]"
      ]
     },
     "execution_count": 49,
     "metadata": {},
     "output_type": "execute_result"
    }
   ],
   "source": [
    "df6 = frame3.query(f'C >= {floor} & C < {ceiling}')\n",
    "df6"
   ]
  },
  {
   "cell_type": "code",
   "execution_count": 50,
   "id": "1736eb5b",
   "metadata": {},
   "outputs": [
    {
     "data": {
      "text/html": [
       "<div>\n",
       "<style scoped>\n",
       "    .dataframe tbody tr th:only-of-type {\n",
       "        vertical-align: middle;\n",
       "    }\n",
       "\n",
       "    .dataframe tbody tr th {\n",
       "        vertical-align: top;\n",
       "    }\n",
       "\n",
       "    .dataframe thead th {\n",
       "        text-align: right;\n",
       "    }\n",
       "</style>\n",
       "<table border=\"1\" class=\"dataframe\">\n",
       "  <thead>\n",
       "    <tr style=\"text-align: right;\">\n",
       "      <th></th>\n",
       "      <th>A</th>\n",
       "      <th>B</th>\n",
       "      <th>C</th>\n",
       "    </tr>\n",
       "  </thead>\n",
       "  <tbody>\n",
       "    <tr>\n",
       "      <th>80</th>\n",
       "      <td>-0.787421</td>\n",
       "      <td>0.866028</td>\n",
       "      <td>2.823968</td>\n",
       "    </tr>\n",
       "  </tbody>\n",
       "</table>\n",
       "</div>"
      ],
      "text/plain": [
       "           A         B         C\n",
       "80 -0.787421  0.866028  2.823968"
      ]
     },
     "execution_count": 50,
     "metadata": {},
     "output_type": "execute_result"
    }
   ],
   "source": [
    "# check df6 without any outlier any more\n",
    "df7 = frame3.query(f'C < {floor} | C > {ceiling}')\n",
    "df7"
   ]
  },
  {
   "cell_type": "code",
   "execution_count": 51,
   "id": "c09a4402",
   "metadata": {},
   "outputs": [
    {
     "data": {
      "text/plain": [
       "{'whiskers': [<matplotlib.lines.Line2D at 0x2446abaedd8>,\n",
       "  <matplotlib.lines.Line2D at 0x2446abba0f0>,\n",
       "  <matplotlib.lines.Line2D at 0x2446abca240>,\n",
       "  <matplotlib.lines.Line2D at 0x2446abca518>,\n",
       "  <matplotlib.lines.Line2D at 0x2446abdb668>,\n",
       "  <matplotlib.lines.Line2D at 0x2446abdb940>],\n",
       " 'caps': [<matplotlib.lines.Line2D at 0x2446abba3c8>,\n",
       "  <matplotlib.lines.Line2D at 0x2446abba6a0>,\n",
       "  <matplotlib.lines.Line2D at 0x2446abca7f0>,\n",
       "  <matplotlib.lines.Line2D at 0x2446abcaac8>,\n",
       "  <matplotlib.lines.Line2D at 0x2446abdbc18>,\n",
       "  <matplotlib.lines.Line2D at 0x2446abdbef0>],\n",
       " 'boxes': [<matplotlib.lines.Line2D at 0x2446abae0f0>,\n",
       "  <matplotlib.lines.Line2D at 0x2446abbae48>,\n",
       "  <matplotlib.lines.Line2D at 0x2446abdb2b0>],\n",
       " 'medians': [<matplotlib.lines.Line2D at 0x2446abba978>,\n",
       "  <matplotlib.lines.Line2D at 0x2446abcada0>,\n",
       "  <matplotlib.lines.Line2D at 0x2446abe8208>],\n",
       " 'fliers': [<matplotlib.lines.Line2D at 0x2446abbac50>,\n",
       "  <matplotlib.lines.Line2D at 0x2446abdb0b8>,\n",
       "  <matplotlib.lines.Line2D at 0x2446abe84e0>],\n",
       " 'means': []}"
      ]
     },
     "execution_count": 51,
     "metadata": {},
     "output_type": "execute_result"
    },
    {
     "data": {
      "image/png": "[encoded data removed]",
      "text/plain": [
       "<Figure size 432x288 with 1 Axes>"
      ]
     },
     "metadata": {
      "needs_background": "light"
     },
     "output_type": "display_data"
    }
   ],
   "source": [
    "plt.boxplot(df3)"
   ]
  },
  {
   "cell_type": "markdown",
   "id": "7214f94b",
   "metadata": {},
   "source": [
    "### use iloc[ ] to slicing df"
   ]
  },
  {
   "cell_type": "code",
   "execution_count": 52,
   "id": "1f8ce512",
   "metadata": {},
   "outputs": [
    {
     "data": {
      "text/html": [
       "<div>\n",
       "<style scoped>\n",
       "    .dataframe tbody tr th:only-of-type {\n",
       "        vertical-align: middle;\n",
       "    }\n",
       "\n",
       "    .dataframe tbody tr th {\n",
       "        vertical-align: top;\n",
       "    }\n",
       "\n",
       "    .dataframe thead th {\n",
       "        text-align: right;\n",
       "    }\n",
       "</style>\n",
       "<table border=\"1\" class=\"dataframe\">\n",
       "  <thead>\n",
       "    <tr style=\"text-align: right;\">\n",
       "      <th></th>\n",
       "      <th>B</th>\n",
       "      <th>C</th>\n",
       "    </tr>\n",
       "  </thead>\n",
       "  <tbody>\n",
       "    <tr>\n",
       "      <th>3</th>\n",
       "      <td>-1.414271</td>\n",
       "      <td>0.428488</td>\n",
       "    </tr>\n",
       "    <tr>\n",
       "      <th>4</th>\n",
       "      <td>-2.037431</td>\n",
       "      <td>-0.208340</td>\n",
       "    </tr>\n",
       "  </tbody>\n",
       "</table>\n",
       "</div>"
      ],
      "text/plain": [
       "          B         C\n",
       "3 -1.414271  0.428488\n",
       "4 -2.037431 -0.208340"
      ]
     },
     "execution_count": 52,
     "metadata": {},
     "output_type": "execute_result"
    }
   ],
   "source": [
    "# test use iloc[] to slicing df\n",
    "df31 = frame3.iloc[[2, 3], [1, 2]]\n",
    "df31.head()"
   ]
  },
  {
   "cell_type": "markdown",
   "id": "508acc99",
   "metadata": {},
   "source": [
    "## reset index"
   ]
  },
  {
   "cell_type": "code",
   "execution_count": 53,
   "id": "feeb4d6b",
   "metadata": {},
   "outputs": [
    {
     "data": {
      "text/html": [
       "<div>\n",
       "<style scoped>\n",
       "    .dataframe tbody tr th:only-of-type {\n",
       "        vertical-align: middle;\n",
       "    }\n",
       "\n",
       "    .dataframe tbody tr th {\n",
       "        vertical-align: top;\n",
       "    }\n",
       "\n",
       "    .dataframe thead th {\n",
       "        text-align: right;\n",
       "    }\n",
       "</style>\n",
       "<table border=\"1\" class=\"dataframe\">\n",
       "  <thead>\n",
       "    <tr style=\"text-align: right;\">\n",
       "      <th></th>\n",
       "      <th>class</th>\n",
       "      <th>max_speed</th>\n",
       "    </tr>\n",
       "  </thead>\n",
       "  <tbody>\n",
       "    <tr>\n",
       "      <th>falcon</th>\n",
       "      <td>bird</td>\n",
       "      <td>389.0</td>\n",
       "    </tr>\n",
       "    <tr>\n",
       "      <th>parrot</th>\n",
       "      <td>bird</td>\n",
       "      <td>24.0</td>\n",
       "    </tr>\n",
       "    <tr>\n",
       "      <th>lion</th>\n",
       "      <td>mammal</td>\n",
       "      <td>80.5</td>\n",
       "    </tr>\n",
       "    <tr>\n",
       "      <th>monkey</th>\n",
       "      <td>mammal</td>\n",
       "      <td>NaN</td>\n",
       "    </tr>\n",
       "  </tbody>\n",
       "</table>\n",
       "</div>"
      ],
      "text/plain": [
       "         class  max_speed\n",
       "falcon    bird      389.0\n",
       "parrot    bird       24.0\n",
       "lion    mammal       80.5\n",
       "monkey  mammal        NaN"
      ]
     },
     "execution_count": 53,
     "metadata": {},
     "output_type": "execute_result"
    }
   ],
   "source": [
    "df4 = pd.DataFrame([('bird', 389.0),\n",
    "                   ('bird', 24.0),\n",
    "                   ('mammal', 80.5),\n",
    "                   ('mammal', np.nan)],\n",
    "                  index=['falcon', 'parrot', 'lion', 'monkey'],\n",
    "                  columns=('class', 'max_speed'))\n",
    "df4"
   ]
  },
  {
   "cell_type": "code",
   "execution_count": 54,
   "id": "d0961b82",
   "metadata": {},
   "outputs": [
    {
     "data": {
      "text/html": [
       "<div>\n",
       "<style scoped>\n",
       "    .dataframe tbody tr th:only-of-type {\n",
       "        vertical-align: middle;\n",
       "    }\n",
       "\n",
       "    .dataframe tbody tr th {\n",
       "        vertical-align: top;\n",
       "    }\n",
       "\n",
       "    .dataframe thead th {\n",
       "        text-align: right;\n",
       "    }\n",
       "</style>\n",
       "<table border=\"1\" class=\"dataframe\">\n",
       "  <thead>\n",
       "    <tr style=\"text-align: right;\">\n",
       "      <th></th>\n",
       "      <th>class</th>\n",
       "      <th>max_speed</th>\n",
       "    </tr>\n",
       "  </thead>\n",
       "  <tbody>\n",
       "    <tr>\n",
       "      <th>0</th>\n",
       "      <td>bird</td>\n",
       "      <td>389.0</td>\n",
       "    </tr>\n",
       "    <tr>\n",
       "      <th>1</th>\n",
       "      <td>bird</td>\n",
       "      <td>24.0</td>\n",
       "    </tr>\n",
       "    <tr>\n",
       "      <th>2</th>\n",
       "      <td>mammal</td>\n",
       "      <td>80.5</td>\n",
       "    </tr>\n",
       "    <tr>\n",
       "      <th>3</th>\n",
       "      <td>mammal</td>\n",
       "      <td>NaN</td>\n",
       "    </tr>\n",
       "  </tbody>\n",
       "</table>\n",
       "</div>"
      ],
      "text/plain": [
       "    class  max_speed\n",
       "0    bird      389.0\n",
       "1    bird       24.0\n",
       "2  mammal       80.5\n",
       "3  mammal        NaN"
      ]
     },
     "execution_count": 54,
     "metadata": {},
     "output_type": "execute_result"
    }
   ],
   "source": [
    "#use the drop parameter to avoid the old index being added as a column:\n",
    "df4.reset_index(drop=True)"
   ]
  },
  {
   "cell_type": "markdown",
   "id": "822c7c96",
   "metadata": {},
   "source": [
    "## save to csv"
   ]
  },
  {
   "cell_type": "code",
   "execution_count": 55,
   "id": "ee2328ba",
   "metadata": {},
   "outputs": [
    {
     "data": {
      "text/html": [
       "<div>\n",
       "<style scoped>\n",
       "    .dataframe tbody tr th:only-of-type {\n",
       "        vertical-align: middle;\n",
       "    }\n",
       "\n",
       "    .dataframe tbody tr th {\n",
       "        vertical-align: top;\n",
       "    }\n",
       "\n",
       "    .dataframe thead th {\n",
       "        text-align: right;\n",
       "    }\n",
       "</style>\n",
       "<table border=\"1\" class=\"dataframe\">\n",
       "  <thead>\n",
       "    <tr style=\"text-align: right;\">\n",
       "      <th></th>\n",
       "      <th>name</th>\n",
       "      <th>mask</th>\n",
       "      <th>weapon</th>\n",
       "    </tr>\n",
       "  </thead>\n",
       "  <tbody>\n",
       "    <tr>\n",
       "      <th>0</th>\n",
       "      <td>Raphael</td>\n",
       "      <td>red</td>\n",
       "      <td>sai</td>\n",
       "    </tr>\n",
       "    <tr>\n",
       "      <th>1</th>\n",
       "      <td>Donatello</td>\n",
       "      <td>purple</td>\n",
       "      <td>bo staff</td>\n",
       "    </tr>\n",
       "  </tbody>\n",
       "</table>\n",
       "</div>"
      ],
      "text/plain": [
       "        name    mask    weapon\n",
       "0    Raphael     red       sai\n",
       "1  Donatello  purple  bo staff"
      ]
     },
     "execution_count": 55,
     "metadata": {},
     "output_type": "execute_result"
    }
   ],
   "source": [
    "df5 = pd.DataFrame({'name': ['Raphael', 'Donatello'],\n",
    "                   'mask': ['red', 'purple'],\n",
    "                   'weapon': ['sai', 'bo staff']})\n",
    "df5"
   ]
  },
  {
   "cell_type": "code",
   "execution_count": 56,
   "id": "b2208d44",
   "metadata": {},
   "outputs": [],
   "source": [
    "# save as test.csv\n",
    "df5.to_csv(\"test.csv\", index=False)"
   ]
  },
  {
   "cell_type": "code",
   "execution_count": null,
   "id": "c6326c1e",
   "metadata": {},
   "outputs": [],
   "source": []
  }
 ],
 "metadata": {
  "kernelspec": {
   "display_name": "Python [conda env:pythondata]",
   "language": "python",
   "name": "conda-env-pythondata-py"
  },
  "language_info": {
   "codemirror_mode": {
    "name": "ipython",
    "version": 3
   },
   "file_extension": ".py",
   "mimetype": "text/x-python",
   "name": "python",
   "nbconvert_exporter": "python",
   "pygments_lexer": "ipython3",
   "version": "3.6.10"
  }
 },
 "nbformat": 4,
 "nbformat_minor": 5
}
