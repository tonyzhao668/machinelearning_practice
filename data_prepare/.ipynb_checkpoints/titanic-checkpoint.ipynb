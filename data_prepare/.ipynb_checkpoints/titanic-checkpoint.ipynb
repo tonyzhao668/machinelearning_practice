{
 "cells": [
  {
   "cell_type": "markdown",
   "id": "e7690ab9",
   "metadata": {},
   "source": [
    "## TensorFlow Titanic training"
   ]
  },
  {
   "cell_type": "code",
   "execution_count": 1,
   "id": "b2377676",
   "metadata": {},
   "outputs": [],
   "source": [
    "import os\n",
    "import sys\n",
    "\n",
    "import numpy as np\n",
    "import pandas as pd\n",
    "import matplotlib.pyplot as plt\n",
    "from IPython.display import clear_output\n",
    "from six.moves import urllib"
   ]
  },
  {
   "cell_type": "code",
   "execution_count": 2,
   "id": "d3e87f41",
   "metadata": {},
   "outputs": [],
   "source": [
    "import tensorflow.compat.v2.feature_column as fc\n",
    "import tensorflow as tf\n",
    "# Load the TensorBoard notebook extension\n",
    "%load_ext tensorboard\n",
    "import datetime"
   ]
  },
  {
   "cell_type": "code",
   "execution_count": 3,
   "id": "9fe6915d",
   "metadata": {},
   "outputs": [],
   "source": [
    "# Load dataset.\n",
    "dftrain = pd.read_csv('https://storage.googleapis.com/tf-datasets/titanic/train.csv')\n",
    "dfeval = pd.read_csv('https://storage.googleapis.com/tf-datasets/titanic/eval.csv')\n",
    "y_train = dftrain.pop('survived') #pop removed column 'survived'\n",
    "y_eval = dfeval.pop('survived')"
   ]
  },
  {
   "cell_type": "code",
   "execution_count": 4,
   "id": "58b00c91",
   "metadata": {},
   "outputs": [
    {
     "data": {
      "text/html": [
       "<div>\n",
       "<style scoped>\n",
       "    .dataframe tbody tr th:only-of-type {\n",
       "        vertical-align: middle;\n",
       "    }\n",
       "\n",
       "    .dataframe tbody tr th {\n",
       "        vertical-align: top;\n",
       "    }\n",
       "\n",
       "    .dataframe thead th {\n",
       "        text-align: right;\n",
       "    }\n",
       "</style>\n",
       "<table border=\"1\" class=\"dataframe\">\n",
       "  <thead>\n",
       "    <tr style=\"text-align: right;\">\n",
       "      <th></th>\n",
       "      <th>sex</th>\n",
       "      <th>age</th>\n",
       "      <th>n_siblings_spouses</th>\n",
       "      <th>parch</th>\n",
       "      <th>fare</th>\n",
       "      <th>class</th>\n",
       "      <th>deck</th>\n",
       "      <th>embark_town</th>\n",
       "      <th>alone</th>\n",
       "    </tr>\n",
       "  </thead>\n",
       "  <tbody>\n",
       "    <tr>\n",
       "      <th>0</th>\n",
       "      <td>male</td>\n",
       "      <td>22.0</td>\n",
       "      <td>1</td>\n",
       "      <td>0</td>\n",
       "      <td>7.2500</td>\n",
       "      <td>Third</td>\n",
       "      <td>unknown</td>\n",
       "      <td>Southampton</td>\n",
       "      <td>n</td>\n",
       "    </tr>\n",
       "    <tr>\n",
       "      <th>1</th>\n",
       "      <td>female</td>\n",
       "      <td>38.0</td>\n",
       "      <td>1</td>\n",
       "      <td>0</td>\n",
       "      <td>71.2833</td>\n",
       "      <td>First</td>\n",
       "      <td>C</td>\n",
       "      <td>Cherbourg</td>\n",
       "      <td>n</td>\n",
       "    </tr>\n",
       "    <tr>\n",
       "      <th>2</th>\n",
       "      <td>female</td>\n",
       "      <td>26.0</td>\n",
       "      <td>0</td>\n",
       "      <td>0</td>\n",
       "      <td>7.9250</td>\n",
       "      <td>Third</td>\n",
       "      <td>unknown</td>\n",
       "      <td>Southampton</td>\n",
       "      <td>y</td>\n",
       "    </tr>\n",
       "    <tr>\n",
       "      <th>3</th>\n",
       "      <td>female</td>\n",
       "      <td>35.0</td>\n",
       "      <td>1</td>\n",
       "      <td>0</td>\n",
       "      <td>53.1000</td>\n",
       "      <td>First</td>\n",
       "      <td>C</td>\n",
       "      <td>Southampton</td>\n",
       "      <td>n</td>\n",
       "    </tr>\n",
       "    <tr>\n",
       "      <th>4</th>\n",
       "      <td>male</td>\n",
       "      <td>28.0</td>\n",
       "      <td>0</td>\n",
       "      <td>0</td>\n",
       "      <td>8.4583</td>\n",
       "      <td>Third</td>\n",
       "      <td>unknown</td>\n",
       "      <td>Queenstown</td>\n",
       "      <td>y</td>\n",
       "    </tr>\n",
       "  </tbody>\n",
       "</table>\n",
       "</div>"
      ],
      "text/plain": [
       "      sex   age  n_siblings_spouses  parch     fare  class     deck  \\\n",
       "0    male  22.0                   1      0   7.2500  Third  unknown   \n",
       "1  female  38.0                   1      0  71.2833  First        C   \n",
       "2  female  26.0                   0      0   7.9250  Third  unknown   \n",
       "3  female  35.0                   1      0  53.1000  First        C   \n",
       "4    male  28.0                   0      0   8.4583  Third  unknown   \n",
       "\n",
       "   embark_town alone  \n",
       "0  Southampton     n  \n",
       "1    Cherbourg     n  \n",
       "2  Southampton     y  \n",
       "3  Southampton     n  \n",
       "4   Queenstown     y  "
      ]
     },
     "execution_count": 4,
     "metadata": {},
     "output_type": "execute_result"
    }
   ],
   "source": [
    "dftrain.head()"
   ]
  },
  {
   "cell_type": "code",
   "execution_count": 5,
   "id": "4e7b4422",
   "metadata": {},
   "outputs": [
    {
     "data": {
      "text/plain": [
       "0    0\n",
       "1    1\n",
       "2    1\n",
       "3    1\n",
       "4    0\n",
       "Name: survived, dtype: int64"
      ]
     },
     "execution_count": 5,
     "metadata": {},
     "output_type": "execute_result"
    }
   ],
   "source": [
    "y_train.head()"
   ]
  },
  {
   "cell_type": "code",
   "execution_count": 6,
   "id": "ead4daf0",
   "metadata": {},
   "outputs": [],
   "source": [
    "#dftrain.describe()"
   ]
  },
  {
   "cell_type": "code",
   "execution_count": 7,
   "id": "1498c976",
   "metadata": {},
   "outputs": [],
   "source": [
    "#dftrain.shape"
   ]
  },
  {
   "cell_type": "code",
   "execution_count": 8,
   "id": "4fef46ed",
   "metadata": {},
   "outputs": [],
   "source": [
    "#dftrain.age.hist(bins=20)"
   ]
  },
  {
   "cell_type": "code",
   "execution_count": 9,
   "id": "806b5af2",
   "metadata": {},
   "outputs": [],
   "source": [
    "#dftrain.sex.value_counts().plot(kind='barh')"
   ]
  },
  {
   "cell_type": "code",
   "execution_count": 10,
   "id": "2e05e636",
   "metadata": {},
   "outputs": [],
   "source": [
    "#dftrain['class'].value_counts().plot(kind='barh')"
   ]
  },
  {
   "cell_type": "code",
   "execution_count": 11,
   "id": "d0ee8624",
   "metadata": {},
   "outputs": [
    {
     "data": {
      "text/plain": [
       "Text(0.5, 0, '% survive')"
      ]
     },
     "execution_count": 11,
     "metadata": {},
     "output_type": "execute_result"
    },
    {
     "data": {
      "image/png": "[encoded data removed]",
      "text/plain": [
       "<Figure size 432x288 with 1 Axes>"
      ]
     },
     "metadata": {
      "needs_background": "light"
     },
     "output_type": "display_data"
    }
   ],
   "source": [
    "pd.concat([dftrain, y_train], axis=1).groupby('sex').survived.mean().plot(kind='barh').set_xlabel('% survive')"
   ]
  },
  {
   "cell_type": "code",
   "execution_count": 12,
   "id": "78893a7b",
   "metadata": {},
   "outputs": [],
   "source": [
    "f =pd.concat([dftrain, y_train], axis=1)\n",
    "#f.head()"
   ]
  },
  {
   "cell_type": "code",
   "execution_count": 13,
   "id": "ffb5b19b",
   "metadata": {},
   "outputs": [],
   "source": [
    "#f.tail()"
   ]
  },
  {
   "cell_type": "code",
   "execution_count": 14,
   "id": "179a962e",
   "metadata": {},
   "outputs": [
    {
     "data": {
      "text/plain": [
       "Index(['sex', 'age', 'n_siblings_spouses', 'parch', 'fare', 'class', 'deck',\n",
       "       'embark_town', 'alone', 'survived'],\n",
       "      dtype='object')"
      ]
     },
     "execution_count": 14,
     "metadata": {},
     "output_type": "execute_result"
    }
   ],
   "source": [
    "f.columns"
   ]
  },
  {
   "cell_type": "code",
   "execution_count": 15,
   "id": "0930bbae",
   "metadata": {},
   "outputs": [
    {
     "name": "stdout",
     "output_type": "stream",
     "text": [
      "['n', 'y']\n"
     ]
    }
   ],
   "source": [
    "a = np.unique(f['alone'])\n",
    "b = [t for t in a]\n",
    "print(b)"
   ]
  },
  {
   "cell_type": "code",
   "execution_count": 16,
   "id": "ee63fd7c",
   "metadata": {},
   "outputs": [
    {
     "data": {
      "text/plain": [
       "627"
      ]
     },
     "execution_count": 16,
     "metadata": {},
     "output_type": "execute_result"
    }
   ],
   "source": [
    "len(f)"
   ]
  },
  {
   "cell_type": "code",
   "execution_count": 17,
   "id": "24ef0aa6",
   "metadata": {},
   "outputs": [
    {
     "data": {
      "text/html": [
       "<div>\n",
       "<style scoped>\n",
       "    .dataframe tbody tr th:only-of-type {\n",
       "        vertical-align: middle;\n",
       "    }\n",
       "\n",
       "    .dataframe tbody tr th {\n",
       "        vertical-align: top;\n",
       "    }\n",
       "\n",
       "    .dataframe thead th {\n",
       "        text-align: right;\n",
       "    }\n",
       "</style>\n",
       "<table border=\"1\" class=\"dataframe\">\n",
       "  <thead>\n",
       "    <tr style=\"text-align: right;\">\n",
       "      <th></th>\n",
       "      <th>sex</th>\n",
       "      <th>age</th>\n",
       "      <th>n_siblings_spouses</th>\n",
       "      <th>parch</th>\n",
       "      <th>fare</th>\n",
       "      <th>class</th>\n",
       "      <th>deck</th>\n",
       "      <th>embark_town</th>\n",
       "      <th>alone</th>\n",
       "      <th>survived</th>\n",
       "    </tr>\n",
       "  </thead>\n",
       "  <tbody>\n",
       "    <tr>\n",
       "      <th>0</th>\n",
       "      <td>male</td>\n",
       "      <td>35.0</td>\n",
       "      <td>0</td>\n",
       "      <td>0</td>\n",
       "      <td>8.0500</td>\n",
       "      <td>Third</td>\n",
       "      <td>unknown</td>\n",
       "      <td>Southampton</td>\n",
       "      <td>y</td>\n",
       "      <td>0</td>\n",
       "    </tr>\n",
       "    <tr>\n",
       "      <th>1</th>\n",
       "      <td>male</td>\n",
       "      <td>54.0</td>\n",
       "      <td>0</td>\n",
       "      <td>0</td>\n",
       "      <td>51.8625</td>\n",
       "      <td>First</td>\n",
       "      <td>E</td>\n",
       "      <td>Southampton</td>\n",
       "      <td>y</td>\n",
       "      <td>0</td>\n",
       "    </tr>\n",
       "    <tr>\n",
       "      <th>2</th>\n",
       "      <td>female</td>\n",
       "      <td>58.0</td>\n",
       "      <td>0</td>\n",
       "      <td>0</td>\n",
       "      <td>26.5500</td>\n",
       "      <td>First</td>\n",
       "      <td>C</td>\n",
       "      <td>Southampton</td>\n",
       "      <td>y</td>\n",
       "      <td>1</td>\n",
       "    </tr>\n",
       "    <tr>\n",
       "      <th>3</th>\n",
       "      <td>female</td>\n",
       "      <td>55.0</td>\n",
       "      <td>0</td>\n",
       "      <td>0</td>\n",
       "      <td>16.0000</td>\n",
       "      <td>Second</td>\n",
       "      <td>unknown</td>\n",
       "      <td>Southampton</td>\n",
       "      <td>y</td>\n",
       "      <td>1</td>\n",
       "    </tr>\n",
       "    <tr>\n",
       "      <th>4</th>\n",
       "      <td>male</td>\n",
       "      <td>34.0</td>\n",
       "      <td>0</td>\n",
       "      <td>0</td>\n",
       "      <td>13.0000</td>\n",
       "      <td>Second</td>\n",
       "      <td>D</td>\n",
       "      <td>Southampton</td>\n",
       "      <td>y</td>\n",
       "      <td>1</td>\n",
       "    </tr>\n",
       "  </tbody>\n",
       "</table>\n",
       "</div>"
      ],
      "text/plain": [
       "      sex   age  n_siblings_spouses  parch     fare   class     deck  \\\n",
       "0    male  35.0                   0      0   8.0500   Third  unknown   \n",
       "1    male  54.0                   0      0  51.8625   First        E   \n",
       "2  female  58.0                   0      0  26.5500   First        C   \n",
       "3  female  55.0                   0      0  16.0000  Second  unknown   \n",
       "4    male  34.0                   0      0  13.0000  Second        D   \n",
       "\n",
       "   embark_town alone  survived  \n",
       "0  Southampton     y         0  \n",
       "1  Southampton     y         0  \n",
       "2  Southampton     y         1  \n",
       "3  Southampton     y         1  \n",
       "4  Southampton     y         1  "
      ]
     },
     "execution_count": 17,
     "metadata": {},
     "output_type": "execute_result"
    }
   ],
   "source": [
    "f_test =pd.concat([dfeval, y_eval], axis=1)\n",
    "f_test.head()"
   ]
  },
  {
   "cell_type": "code",
   "execution_count": 18,
   "id": "59ffec8e",
   "metadata": {},
   "outputs": [],
   "source": [
    "#Notice pd.concat() to join two df together\n",
    "ff = pd.concat([f, f_test])"
   ]
  },
  {
   "cell_type": "code",
   "execution_count": 19,
   "id": "38a44771",
   "metadata": {},
   "outputs": [],
   "source": [
    "ff.drop_duplicates(keep = 'last', inplace = True)"
   ]
  },
  {
   "cell_type": "code",
   "execution_count": 20,
   "id": "01ce6240",
   "metadata": {},
   "outputs": [
    {
     "data": {
      "text/plain": [
       "781"
      ]
     },
     "execution_count": 20,
     "metadata": {},
     "output_type": "execute_result"
    }
   ],
   "source": [
    "len(ff)"
   ]
  },
  {
   "cell_type": "code",
   "execution_count": 21,
   "id": "a0102339",
   "metadata": {},
   "outputs": [
    {
     "name": "stdout",
     "output_type": "stream",
     "text": [
      "0    male\n",
      "0    male\n",
      "Name: sex, dtype: object\n"
     ]
    }
   ],
   "source": [
    "print(ff['sex'][0])"
   ]
  },
  {
   "cell_type": "code",
   "execution_count": 22,
   "id": "bd3c55e6",
   "metadata": {},
   "outputs": [],
   "source": [
    "df = ff.copy()"
   ]
  },
  {
   "cell_type": "code",
   "execution_count": 23,
   "id": "6706085a",
   "metadata": {},
   "outputs": [
    {
     "data": {
      "text/html": [
       "<div>\n",
       "<style scoped>\n",
       "    .dataframe tbody tr th:only-of-type {\n",
       "        vertical-align: middle;\n",
       "    }\n",
       "\n",
       "    .dataframe tbody tr th {\n",
       "        vertical-align: top;\n",
       "    }\n",
       "\n",
       "    .dataframe thead th {\n",
       "        text-align: right;\n",
       "    }\n",
       "</style>\n",
       "<table border=\"1\" class=\"dataframe\">\n",
       "  <thead>\n",
       "    <tr style=\"text-align: right;\">\n",
       "      <th></th>\n",
       "      <th>sex</th>\n",
       "      <th>age</th>\n",
       "      <th>n_siblings_spouses</th>\n",
       "      <th>parch</th>\n",
       "      <th>fare</th>\n",
       "      <th>class</th>\n",
       "      <th>deck</th>\n",
       "      <th>embark_town</th>\n",
       "      <th>alone</th>\n",
       "      <th>survived</th>\n",
       "    </tr>\n",
       "  </thead>\n",
       "  <tbody>\n",
       "    <tr>\n",
       "      <th>0</th>\n",
       "      <td>male</td>\n",
       "      <td>22.0</td>\n",
       "      <td>1</td>\n",
       "      <td>0</td>\n",
       "      <td>7.2500</td>\n",
       "      <td>Third</td>\n",
       "      <td>unknown</td>\n",
       "      <td>Southampton</td>\n",
       "      <td>n</td>\n",
       "      <td>0</td>\n",
       "    </tr>\n",
       "    <tr>\n",
       "      <th>1</th>\n",
       "      <td>female</td>\n",
       "      <td>38.0</td>\n",
       "      <td>1</td>\n",
       "      <td>0</td>\n",
       "      <td>71.2833</td>\n",
       "      <td>First</td>\n",
       "      <td>C</td>\n",
       "      <td>Cherbourg</td>\n",
       "      <td>n</td>\n",
       "      <td>1</td>\n",
       "    </tr>\n",
       "    <tr>\n",
       "      <th>2</th>\n",
       "      <td>female</td>\n",
       "      <td>26.0</td>\n",
       "      <td>0</td>\n",
       "      <td>0</td>\n",
       "      <td>7.9250</td>\n",
       "      <td>Third</td>\n",
       "      <td>unknown</td>\n",
       "      <td>Southampton</td>\n",
       "      <td>y</td>\n",
       "      <td>1</td>\n",
       "    </tr>\n",
       "    <tr>\n",
       "      <th>3</th>\n",
       "      <td>female</td>\n",
       "      <td>35.0</td>\n",
       "      <td>1</td>\n",
       "      <td>0</td>\n",
       "      <td>53.1000</td>\n",
       "      <td>First</td>\n",
       "      <td>C</td>\n",
       "      <td>Southampton</td>\n",
       "      <td>n</td>\n",
       "      <td>1</td>\n",
       "    </tr>\n",
       "    <tr>\n",
       "      <th>4</th>\n",
       "      <td>male</td>\n",
       "      <td>28.0</td>\n",
       "      <td>0</td>\n",
       "      <td>0</td>\n",
       "      <td>8.4583</td>\n",
       "      <td>Third</td>\n",
       "      <td>unknown</td>\n",
       "      <td>Queenstown</td>\n",
       "      <td>y</td>\n",
       "      <td>0</td>\n",
       "    </tr>\n",
       "    <tr>\n",
       "      <th>...</th>\n",
       "      <td>...</td>\n",
       "      <td>...</td>\n",
       "      <td>...</td>\n",
       "      <td>...</td>\n",
       "      <td>...</td>\n",
       "      <td>...</td>\n",
       "      <td>...</td>\n",
       "      <td>...</td>\n",
       "      <td>...</td>\n",
       "      <td>...</td>\n",
       "    </tr>\n",
       "    <tr>\n",
       "      <th>776</th>\n",
       "      <td>female</td>\n",
       "      <td>25.0</td>\n",
       "      <td>0</td>\n",
       "      <td>1</td>\n",
       "      <td>26.0000</td>\n",
       "      <td>Second</td>\n",
       "      <td>unknown</td>\n",
       "      <td>Southampton</td>\n",
       "      <td>n</td>\n",
       "      <td>1</td>\n",
       "    </tr>\n",
       "    <tr>\n",
       "      <th>777</th>\n",
       "      <td>male</td>\n",
       "      <td>33.0</td>\n",
       "      <td>0</td>\n",
       "      <td>0</td>\n",
       "      <td>7.8958</td>\n",
       "      <td>Third</td>\n",
       "      <td>unknown</td>\n",
       "      <td>Southampton</td>\n",
       "      <td>y</td>\n",
       "      <td>0</td>\n",
       "    </tr>\n",
       "    <tr>\n",
       "      <th>778</th>\n",
       "      <td>female</td>\n",
       "      <td>39.0</td>\n",
       "      <td>0</td>\n",
       "      <td>5</td>\n",
       "      <td>29.1250</td>\n",
       "      <td>Third</td>\n",
       "      <td>unknown</td>\n",
       "      <td>Queenstown</td>\n",
       "      <td>n</td>\n",
       "      <td>0</td>\n",
       "    </tr>\n",
       "    <tr>\n",
       "      <th>779</th>\n",
       "      <td>male</td>\n",
       "      <td>27.0</td>\n",
       "      <td>0</td>\n",
       "      <td>0</td>\n",
       "      <td>13.0000</td>\n",
       "      <td>Second</td>\n",
       "      <td>unknown</td>\n",
       "      <td>Southampton</td>\n",
       "      <td>y</td>\n",
       "      <td>0</td>\n",
       "    </tr>\n",
       "    <tr>\n",
       "      <th>780</th>\n",
       "      <td>male</td>\n",
       "      <td>26.0</td>\n",
       "      <td>0</td>\n",
       "      <td>0</td>\n",
       "      <td>30.0000</td>\n",
       "      <td>First</td>\n",
       "      <td>C</td>\n",
       "      <td>Cherbourg</td>\n",
       "      <td>y</td>\n",
       "      <td>1</td>\n",
       "    </tr>\n",
       "  </tbody>\n",
       "</table>\n",
       "<p>781 rows × 10 columns</p>\n",
       "</div>"
      ],
      "text/plain": [
       "        sex   age  n_siblings_spouses  parch     fare   class     deck  \\\n",
       "0      male  22.0                   1      0   7.2500   Third  unknown   \n",
       "1    female  38.0                   1      0  71.2833   First        C   \n",
       "2    female  26.0                   0      0   7.9250   Third  unknown   \n",
       "3    female  35.0                   1      0  53.1000   First        C   \n",
       "4      male  28.0                   0      0   8.4583   Third  unknown   \n",
       "..      ...   ...                 ...    ...      ...     ...      ...   \n",
       "776  female  25.0                   0      1  26.0000  Second  unknown   \n",
       "777    male  33.0                   0      0   7.8958   Third  unknown   \n",
       "778  female  39.0                   0      5  29.1250   Third  unknown   \n",
       "779    male  27.0                   0      0  13.0000  Second  unknown   \n",
       "780    male  26.0                   0      0  30.0000   First        C   \n",
       "\n",
       "     embark_town alone  survived  \n",
       "0    Southampton     n         0  \n",
       "1      Cherbourg     n         1  \n",
       "2    Southampton     y         1  \n",
       "3    Southampton     n         1  \n",
       "4     Queenstown     y         0  \n",
       "..           ...   ...       ...  \n",
       "776  Southampton     n         1  \n",
       "777  Southampton     y         0  \n",
       "778   Queenstown     n         0  \n",
       "779  Southampton     y         0  \n",
       "780    Cherbourg     y         1  \n",
       "\n",
       "[781 rows x 10 columns]"
      ]
     },
     "execution_count": 23,
     "metadata": {},
     "output_type": "execute_result"
    }
   ],
   "source": [
    "df.reset_index(drop = True)"
   ]
  },
  {
   "cell_type": "markdown",
   "id": "752b709e",
   "metadata": {},
   "source": [
    "# my encoding engineering  for all non-numerical columns"
   ]
  },
  {
   "cell_type": "code",
   "execution_count": 92,
   "id": "a551ee95",
   "metadata": {},
   "outputs": [],
   "source": [
    "# if column element isalpha(), then use its unique values' list index encoding them\n",
    "for j in range(len(df.columns)):\n",
    "    #print(j)\n",
    "    if str(df.iloc[0, j]).isalpha():\n",
    "        bag = []\n",
    "        bag_dict = {}\n",
    "        bag = [m for m in np.unique(df.iloc[:,j])]\n",
    "        #print(bag)\n",
    "        for k in bag:\n",
    "            bag_dict[k]=bag.index(k)       \n",
    "        for l in bag_dict:\n",
    "            for i in range(len(df)):\n",
    "                if df.iloc[i,j] == l:\n",
    "                    df.iloc[i,j] = bag_dict[l]"
   ]
  },
  {
   "cell_type": "code",
   "execution_count": 93,
   "id": "bd04b27c",
   "metadata": {},
   "outputs": [
    {
     "data": {
      "text/html": [
       "<div>\n",
       "<style scoped>\n",
       "    .dataframe tbody tr th:only-of-type {\n",
       "        vertical-align: middle;\n",
       "    }\n",
       "\n",
       "    .dataframe tbody tr th {\n",
       "        vertical-align: top;\n",
       "    }\n",
       "\n",
       "    .dataframe thead th {\n",
       "        text-align: right;\n",
       "    }\n",
       "</style>\n",
       "<table border=\"1\" class=\"dataframe\">\n",
       "  <thead>\n",
       "    <tr style=\"text-align: right;\">\n",
       "      <th></th>\n",
       "      <th>sex</th>\n",
       "      <th>age</th>\n",
       "      <th>n_siblings_spouses</th>\n",
       "      <th>parch</th>\n",
       "      <th>fare</th>\n",
       "      <th>class</th>\n",
       "      <th>deck</th>\n",
       "      <th>embark_town</th>\n",
       "      <th>alone</th>\n",
       "      <th>survived</th>\n",
       "    </tr>\n",
       "  </thead>\n",
       "  <tbody>\n",
       "    <tr>\n",
       "      <th>0</th>\n",
       "      <td>1</td>\n",
       "      <td>22.0</td>\n",
       "      <td>1</td>\n",
       "      <td>0</td>\n",
       "      <td>7.2500</td>\n",
       "      <td>2</td>\n",
       "      <td>7</td>\n",
       "      <td>2</td>\n",
       "      <td>0</td>\n",
       "      <td>0</td>\n",
       "    </tr>\n",
       "    <tr>\n",
       "      <th>1</th>\n",
       "      <td>0</td>\n",
       "      <td>38.0</td>\n",
       "      <td>1</td>\n",
       "      <td>0</td>\n",
       "      <td>71.2833</td>\n",
       "      <td>0</td>\n",
       "      <td>2</td>\n",
       "      <td>0</td>\n",
       "      <td>0</td>\n",
       "      <td>1</td>\n",
       "    </tr>\n",
       "    <tr>\n",
       "      <th>2</th>\n",
       "      <td>0</td>\n",
       "      <td>26.0</td>\n",
       "      <td>0</td>\n",
       "      <td>0</td>\n",
       "      <td>7.9250</td>\n",
       "      <td>2</td>\n",
       "      <td>7</td>\n",
       "      <td>2</td>\n",
       "      <td>1</td>\n",
       "      <td>1</td>\n",
       "    </tr>\n",
       "    <tr>\n",
       "      <th>3</th>\n",
       "      <td>0</td>\n",
       "      <td>35.0</td>\n",
       "      <td>1</td>\n",
       "      <td>0</td>\n",
       "      <td>53.1000</td>\n",
       "      <td>0</td>\n",
       "      <td>2</td>\n",
       "      <td>2</td>\n",
       "      <td>0</td>\n",
       "      <td>1</td>\n",
       "    </tr>\n",
       "    <tr>\n",
       "      <th>4</th>\n",
       "      <td>1</td>\n",
       "      <td>28.0</td>\n",
       "      <td>0</td>\n",
       "      <td>0</td>\n",
       "      <td>8.4583</td>\n",
       "      <td>2</td>\n",
       "      <td>7</td>\n",
       "      <td>1</td>\n",
       "      <td>1</td>\n",
       "      <td>0</td>\n",
       "    </tr>\n",
       "  </tbody>\n",
       "</table>\n",
       "</div>"
      ],
      "text/plain": [
       "  sex   age  n_siblings_spouses  parch     fare class deck embark_town alone  \\\n",
       "0   1  22.0                   1      0   7.2500     2    7           2     0   \n",
       "1   0  38.0                   1      0  71.2833     0    2           0     0   \n",
       "2   0  26.0                   0      0   7.9250     2    7           2     1   \n",
       "3   0  35.0                   1      0  53.1000     0    2           2     0   \n",
       "4   1  28.0                   0      0   8.4583     2    7           1     1   \n",
       "\n",
       "   survived  \n",
       "0         0  \n",
       "1         1  \n",
       "2         1  \n",
       "3         1  \n",
       "4         0  "
      ]
     },
     "execution_count": 93,
     "metadata": {},
     "output_type": "execute_result"
    }
   ],
   "source": [
    "#f is for the train group\n",
    "df.head()"
   ]
  },
  {
   "cell_type": "code",
   "execution_count": 94,
   "id": "b1ff2fd2",
   "metadata": {},
   "outputs": [
    {
     "name": "stdout",
     "output_type": "stream",
     "text": [
      "(781, 9) (781,)\n"
     ]
    }
   ],
   "source": [
    "X = df.drop(\"survived\", axis=1)\n",
    "y = df[\"survived\"]\n",
    "print(X.shape, y.shape)"
   ]
  },
  {
   "cell_type": "code",
   "execution_count": 95,
   "id": "f2c3ce88",
   "metadata": {},
   "outputs": [],
   "source": [
    "from tensorflow.keras.utils import to_categorical\n",
    "onehot_y= to_categorical(y)"
   ]
  },
  {
   "cell_type": "markdown",
   "id": "67a32cd0",
   "metadata": {},
   "source": [
    "## split train, test groups"
   ]
  },
  {
   "cell_type": "code",
   "execution_count": 96,
   "id": "ad2059f9",
   "metadata": {},
   "outputs": [],
   "source": [
    "# Use train_test_split to create training and testing data\n",
    "from sklearn.model_selection import train_test_split\n",
    "\n",
    "X_train, X_test, y_train, y_test = train_test_split(X, onehot_y, random_state=1)"
   ]
  },
  {
   "cell_type": "code",
   "execution_count": 97,
   "id": "a7831fcd",
   "metadata": {},
   "outputs": [],
   "source": [
    "from tensorflow.keras.models import Sequential\n",
    "from tensorflow.keras.layers import Dense\n",
    "from sklearn.preprocessing import LabelEncoder, MinMaxScaler"
   ]
  },
  {
   "cell_type": "code",
   "execution_count": 98,
   "id": "cada7cff",
   "metadata": {},
   "outputs": [],
   "source": [
    "X_scaler = MinMaxScaler().fit(X_train)\n",
    "X_train_scaled = X_scaler.transform(X_train)\n",
    "X_test_scaled = X_scaler.transform(X_test)"
   ]
  },
  {
   "cell_type": "code",
   "execution_count": 99,
   "id": "0c5ccb91",
   "metadata": {},
   "outputs": [],
   "source": [
    "#alternative way\n",
    "# # Create model and add layers\n",
    "# model = Sequential()\n",
    "# model.add(Dense(units=100, activation='relu', input_dim=9))\n",
    "# model.add(Dense(units=100, activation='relu'))\n",
    "# model.add(Dense(units=2, activation='softmax'))\n",
    "\n",
    "# # Compile and fit the model\n",
    "# model.compile(optimizer='adam',\n",
    "#               loss='categorical_crossentropy',\n",
    "#               metrics=['accuracy'])\n",
    "\n",
    "\n",
    "# model.fit(\n",
    "#     X_train_scaled,\n",
    "#     y_train,\n",
    "#     epochs=60,\n",
    "#     shuffle=True,\n",
    "#     verbose=2\n",
    "# )"
   ]
  },
  {
   "cell_type": "code",
   "execution_count": 100,
   "id": "a5a1661d",
   "metadata": {},
   "outputs": [],
   "source": [
    "def create_model():\n",
    "    return tf.keras.models.Sequential([\n",
    "    tf.keras.layers.Flatten(input_dim=X_train.shape[1]),\n",
    "    tf.keras.layers.Dense(512, activation='relu'),\n",
    "    tf.keras.layers.Dropout(0.2),\n",
    "    tf.keras.layers.Dense(2, activation='softmax')\n",
    "  ])"
   ]
  },
  {
   "cell_type": "code",
   "execution_count": 101,
   "id": "caef140f",
   "metadata": {},
   "outputs": [],
   "source": [
    "model = create_model()\n",
    "model.compile(optimizer='adam',\n",
    "              loss='categorical_crossentropy',\n",
    "              metrics=['accuracy'])\n"
   ]
  },
  {
   "cell_type": "code",
   "execution_count": 102,
   "id": "9f148c40",
   "metadata": {},
   "outputs": [],
   "source": [
    "log_dir = \"logs/fit/\" + datetime.datetime.now().strftime(\"%Y%m%d-%H%M%S\")\n",
    "tensorboard_callback = tf.keras.callbacks.TensorBoard(log_dir=log_dir, histogram_freq=1)"
   ]
  },
  {
   "cell_type": "code",
   "execution_count": 103,
   "id": "5693f544",
   "metadata": {},
   "outputs": [
    {
     "name": "stdout",
     "output_type": "stream",
     "text": [
      "Model: \"sequential_4\"\n",
      "_________________________________________________________________\n",
      "Layer (type)                 Output Shape              Param #   \n",
      "=================================================================\n",
      "flatten_1 (Flatten)          (None, 9)                 0         \n",
      "_________________________________________________________________\n",
      "dense_11 (Dense)             (None, 512)               5120      \n",
      "_________________________________________________________________\n",
      "dropout_1 (Dropout)          (None, 512)               0         \n",
      "_________________________________________________________________\n",
      "dense_12 (Dense)             (None, 2)                 1026      \n",
      "=================================================================\n",
      "Total params: 6,146\n",
      "Trainable params: 6,146\n",
      "Non-trainable params: 0\n",
      "_________________________________________________________________\n"
     ]
    }
   ],
   "source": [
    "model.summary()"
   ]
  },
  {
   "cell_type": "code",
   "execution_count": 104,
   "id": "a467f83a",
   "metadata": {},
   "outputs": [
    {
     "name": "stdout",
     "output_type": "stream",
     "text": [
      "Epoch 1/70\n",
      "19/19 [==============================] - 2s 68ms/step - loss: 0.6402 - accuracy: 0.5897 - val_loss: 0.5658 - val_accuracy: 0.7551\n",
      "Epoch 2/70\n",
      "19/19 [==============================] - 0s 4ms/step - loss: 0.5652 - accuracy: 0.7504 - val_loss: 0.5264 - val_accuracy: 0.7653\n",
      "Epoch 3/70\n",
      "19/19 [==============================] - 0s 3ms/step - loss: 0.5330 - accuracy: 0.7692 - val_loss: 0.5121 - val_accuracy: 0.7653\n",
      "Epoch 4/70\n",
      "19/19 [==============================] - 0s 3ms/step - loss: 0.5175 - accuracy: 0.7709 - val_loss: 0.4850 - val_accuracy: 0.7653\n",
      "Epoch 5/70\n",
      "19/19 [==============================] - 0s 3ms/step - loss: 0.5061 - accuracy: 0.7624 - val_loss: 0.4780 - val_accuracy: 0.7755\n",
      "Epoch 6/70\n",
      "19/19 [==============================] - 0s 3ms/step - loss: 0.4974 - accuracy: 0.7692 - val_loss: 0.4772 - val_accuracy: 0.7551\n",
      "Epoch 7/70\n",
      "19/19 [==============================] - 0s 3ms/step - loss: 0.4933 - accuracy: 0.7658 - val_loss: 0.4658 - val_accuracy: 0.7704\n",
      "Epoch 8/70\n",
      "19/19 [==============================] - 0s 3ms/step - loss: 0.4840 - accuracy: 0.7726 - val_loss: 0.4622 - val_accuracy: 0.7653\n",
      "Epoch 9/70\n",
      "19/19 [==============================] - 0s 4ms/step - loss: 0.4791 - accuracy: 0.7778 - val_loss: 0.4586 - val_accuracy: 0.7704\n",
      "Epoch 10/70\n",
      "19/19 [==============================] - 0s 4ms/step - loss: 0.4820 - accuracy: 0.7675 - val_loss: 0.4494 - val_accuracy: 0.7806\n",
      "Epoch 11/70\n",
      "19/19 [==============================] - 0s 3ms/step - loss: 0.4741 - accuracy: 0.7863 - val_loss: 0.4534 - val_accuracy: 0.7704\n",
      "Epoch 12/70\n",
      "19/19 [==============================] - 0s 3ms/step - loss: 0.4724 - accuracy: 0.7829 - val_loss: 0.4479 - val_accuracy: 0.7551\n",
      "Epoch 13/70\n",
      "19/19 [==============================] - 0s 3ms/step - loss: 0.4712 - accuracy: 0.7812 - val_loss: 0.4428 - val_accuracy: 0.7806\n",
      "Epoch 14/70\n",
      "19/19 [==============================] - 0s 3ms/step - loss: 0.4656 - accuracy: 0.7795 - val_loss: 0.4504 - val_accuracy: 0.7500\n",
      "Epoch 15/70\n",
      "19/19 [==============================] - 0s 3ms/step - loss: 0.4655 - accuracy: 0.7829 - val_loss: 0.4530 - val_accuracy: 0.7602\n",
      "Epoch 16/70\n",
      "19/19 [==============================] - 0s 3ms/step - loss: 0.4676 - accuracy: 0.7880 - val_loss: 0.4360 - val_accuracy: 0.8061\n",
      "Epoch 17/70\n",
      "19/19 [==============================] - 0s 4ms/step - loss: 0.4617 - accuracy: 0.7863 - val_loss: 0.4429 - val_accuracy: 0.7653\n",
      "Epoch 18/70\n",
      "19/19 [==============================] - 0s 4ms/step - loss: 0.4569 - accuracy: 0.7829 - val_loss: 0.4399 - val_accuracy: 0.7908\n",
      "Epoch 19/70\n",
      "19/19 [==============================] - 0s 3ms/step - loss: 0.4569 - accuracy: 0.7795 - val_loss: 0.4383 - val_accuracy: 0.8010\n",
      "Epoch 20/70\n",
      "19/19 [==============================] - 0s 3ms/step - loss: 0.4551 - accuracy: 0.7897 - val_loss: 0.4344 - val_accuracy: 0.8061\n",
      "Epoch 21/70\n",
      "19/19 [==============================] - 0s 3ms/step - loss: 0.4516 - accuracy: 0.7949 - val_loss: 0.4359 - val_accuracy: 0.7908\n",
      "Epoch 22/70\n",
      "19/19 [==============================] - 0s 3ms/step - loss: 0.4507 - accuracy: 0.7915 - val_loss: 0.4386 - val_accuracy: 0.7806\n",
      "Epoch 23/70\n",
      "19/19 [==============================] - 0s 4ms/step - loss: 0.4502 - accuracy: 0.7897 - val_loss: 0.4249 - val_accuracy: 0.8010\n",
      "Epoch 24/70\n",
      "19/19 [==============================] - 0s 4ms/step - loss: 0.4502 - accuracy: 0.7949 - val_loss: 0.4410 - val_accuracy: 0.7704\n",
      "Epoch 25/70\n",
      "19/19 [==============================] - 0s 3ms/step - loss: 0.4438 - accuracy: 0.7949 - val_loss: 0.4218 - val_accuracy: 0.8265\n",
      "Epoch 26/70\n",
      "19/19 [==============================] - 0s 3ms/step - loss: 0.4457 - accuracy: 0.7966 - val_loss: 0.4364 - val_accuracy: 0.7806\n",
      "Epoch 27/70\n",
      "19/19 [==============================] - 0s 3ms/step - loss: 0.4475 - accuracy: 0.7932 - val_loss: 0.4256 - val_accuracy: 0.8010\n",
      "Epoch 28/70\n",
      "19/19 [==============================] - 0s 3ms/step - loss: 0.4423 - accuracy: 0.7915 - val_loss: 0.4230 - val_accuracy: 0.8010\n",
      "Epoch 29/70\n",
      "19/19 [==============================] - 0s 3ms/step - loss: 0.4411 - accuracy: 0.8000 - val_loss: 0.4194 - val_accuracy: 0.8061\n",
      "Epoch 30/70\n",
      "19/19 [==============================] - 0s 3ms/step - loss: 0.4370 - accuracy: 0.7983 - val_loss: 0.4311 - val_accuracy: 0.8010\n",
      "Epoch 31/70\n",
      "19/19 [==============================] - 0s 3ms/step - loss: 0.4417 - accuracy: 0.8103 - val_loss: 0.4188 - val_accuracy: 0.8163\n",
      "Epoch 32/70\n",
      "19/19 [==============================] - 0s 3ms/step - loss: 0.4349 - accuracy: 0.8000 - val_loss: 0.4291 - val_accuracy: 0.8010\n",
      "Epoch 33/70\n",
      "19/19 [==============================] - 0s 3ms/step - loss: 0.4352 - accuracy: 0.7949 - val_loss: 0.4182 - val_accuracy: 0.8163\n",
      "Epoch 34/70\n",
      "19/19 [==============================] - 0s 3ms/step - loss: 0.4419 - accuracy: 0.7949 - val_loss: 0.4221 - val_accuracy: 0.8061\n",
      "Epoch 35/70\n",
      "19/19 [==============================] - 0s 3ms/step - loss: 0.4302 - accuracy: 0.8034 - val_loss: 0.4230 - val_accuracy: 0.8112\n",
      "Epoch 36/70\n",
      "19/19 [==============================] - 0s 3ms/step - loss: 0.4409 - accuracy: 0.7897 - val_loss: 0.4203 - val_accuracy: 0.8061\n",
      "Epoch 37/70\n",
      "19/19 [==============================] - 0s 3ms/step - loss: 0.4317 - accuracy: 0.8120 - val_loss: 0.4268 - val_accuracy: 0.7959\n",
      "Epoch 38/70\n",
      "19/19 [==============================] - 0s 3ms/step - loss: 0.4358 - accuracy: 0.8051 - val_loss: 0.4184 - val_accuracy: 0.8163\n",
      "Epoch 39/70\n",
      "19/19 [==============================] - 0s 3ms/step - loss: 0.4338 - accuracy: 0.8085 - val_loss: 0.4313 - val_accuracy: 0.7959\n",
      "Epoch 40/70\n",
      "19/19 [==============================] - 0s 3ms/step - loss: 0.4323 - accuracy: 0.8034 - val_loss: 0.4252 - val_accuracy: 0.8061\n",
      "Epoch 41/70\n",
      "19/19 [==============================] - 0s 3ms/step - loss: 0.4342 - accuracy: 0.8068 - val_loss: 0.4194 - val_accuracy: 0.8112\n",
      "Epoch 42/70\n",
      "19/19 [==============================] - 0s 4ms/step - loss: 0.4325 - accuracy: 0.8085 - val_loss: 0.4144 - val_accuracy: 0.8316\n",
      "Epoch 43/70\n",
      "19/19 [==============================] - 0s 3ms/step - loss: 0.4431 - accuracy: 0.8085 - val_loss: 0.4214 - val_accuracy: 0.8010\n",
      "Epoch 44/70\n",
      "19/19 [==============================] - 0s 3ms/step - loss: 0.4288 - accuracy: 0.8068 - val_loss: 0.4159 - val_accuracy: 0.8163\n",
      "Epoch 45/70\n",
      "19/19 [==============================] - 0s 3ms/step - loss: 0.4285 - accuracy: 0.8103 - val_loss: 0.4160 - val_accuracy: 0.8316\n",
      "Epoch 46/70\n",
      "19/19 [==============================] - 0s 3ms/step - loss: 0.4280 - accuracy: 0.8051 - val_loss: 0.4238 - val_accuracy: 0.7908\n",
      "Epoch 47/70\n",
      "19/19 [==============================] - 0s 3ms/step - loss: 0.4275 - accuracy: 0.8137 - val_loss: 0.4293 - val_accuracy: 0.7908\n",
      "Epoch 48/70\n",
      "19/19 [==============================] - 0s 3ms/step - loss: 0.4303 - accuracy: 0.8051 - val_loss: 0.4205 - val_accuracy: 0.8112\n",
      "Epoch 49/70\n",
      "19/19 [==============================] - 0s 3ms/step - loss: 0.4265 - accuracy: 0.8068 - val_loss: 0.4167 - val_accuracy: 0.8214\n",
      "Epoch 50/70\n",
      "19/19 [==============================] - 0s 3ms/step - loss: 0.4312 - accuracy: 0.8068 - val_loss: 0.4174 - val_accuracy: 0.8214\n",
      "Epoch 51/70\n",
      "19/19 [==============================] - 0s 3ms/step - loss: 0.4239 - accuracy: 0.8137 - val_loss: 0.4215 - val_accuracy: 0.8061\n",
      "Epoch 52/70\n",
      "19/19 [==============================] - 0s 3ms/step - loss: 0.4255 - accuracy: 0.8205 - val_loss: 0.4274 - val_accuracy: 0.8061\n",
      "Epoch 53/70\n",
      "19/19 [==============================] - 0s 3ms/step - loss: 0.4282 - accuracy: 0.8085 - val_loss: 0.4154 - val_accuracy: 0.8214\n",
      "Epoch 54/70\n",
      "19/19 [==============================] - 0s 3ms/step - loss: 0.4259 - accuracy: 0.8154 - val_loss: 0.4224 - val_accuracy: 0.8061\n",
      "Epoch 55/70\n",
      "19/19 [==============================] - 0s 3ms/step - loss: 0.4219 - accuracy: 0.8120 - val_loss: 0.4191 - val_accuracy: 0.8112\n",
      "Epoch 56/70\n",
      "19/19 [==============================] - 0s 3ms/step - loss: 0.4209 - accuracy: 0.8154 - val_loss: 0.4227 - val_accuracy: 0.8061\n",
      "Epoch 57/70\n",
      "19/19 [==============================] - 0s 3ms/step - loss: 0.4179 - accuracy: 0.8154 - val_loss: 0.4218 - val_accuracy: 0.8163\n",
      "Epoch 58/70\n",
      "19/19 [==============================] - 0s 3ms/step - loss: 0.4268 - accuracy: 0.8154 - val_loss: 0.4220 - val_accuracy: 0.8112\n",
      "Epoch 59/70\n"
     ]
    },
    {
     "name": "stdout",
     "output_type": "stream",
     "text": [
      "19/19 [==============================] - 0s 3ms/step - loss: 0.4230 - accuracy: 0.8120 - val_loss: 0.4155 - val_accuracy: 0.8265\n",
      "Epoch 60/70\n",
      "19/19 [==============================] - 0s 3ms/step - loss: 0.4181 - accuracy: 0.8171 - val_loss: 0.4180 - val_accuracy: 0.8163\n",
      "Epoch 61/70\n",
      "19/19 [==============================] - 0s 3ms/step - loss: 0.4163 - accuracy: 0.8137 - val_loss: 0.4342 - val_accuracy: 0.7857\n",
      "Epoch 62/70\n",
      "19/19 [==============================] - 0s 3ms/step - loss: 0.4182 - accuracy: 0.8239 - val_loss: 0.4139 - val_accuracy: 0.8265\n",
      "Epoch 63/70\n",
      "19/19 [==============================] - 0s 3ms/step - loss: 0.4253 - accuracy: 0.8154 - val_loss: 0.4575 - val_accuracy: 0.7704\n",
      "Epoch 64/70\n",
      "19/19 [==============================] - 0s 4ms/step - loss: 0.4350 - accuracy: 0.8085 - val_loss: 0.4185 - val_accuracy: 0.8214\n",
      "Epoch 65/70\n",
      "19/19 [==============================] - 0s 3ms/step - loss: 0.4178 - accuracy: 0.8205 - val_loss: 0.4180 - val_accuracy: 0.8112\n",
      "Epoch 66/70\n",
      "19/19 [==============================] - 0s 3ms/step - loss: 0.4161 - accuracy: 0.8205 - val_loss: 0.4288 - val_accuracy: 0.8112\n",
      "Epoch 67/70\n",
      "19/19 [==============================] - 0s 3ms/step - loss: 0.4186 - accuracy: 0.8239 - val_loss: 0.4157 - val_accuracy: 0.8214\n",
      "Epoch 68/70\n",
      "19/19 [==============================] - 0s 3ms/step - loss: 0.4154 - accuracy: 0.8154 - val_loss: 0.4213 - val_accuracy: 0.8112\n",
      "Epoch 69/70\n",
      "19/19 [==============================] - 0s 3ms/step - loss: 0.4140 - accuracy: 0.8120 - val_loss: 0.4260 - val_accuracy: 0.7959\n",
      "Epoch 70/70\n",
      "19/19 [==============================] - 0s 3ms/step - loss: 0.4230 - accuracy: 0.8205 - val_loss: 0.4172 - val_accuracy: 0.8316\n"
     ]
    },
    {
     "data": {
      "text/plain": [
       "<tensorflow.python.keras.callbacks.History at 0x1ef65251a90>"
      ]
     },
     "execution_count": 104,
     "metadata": {},
     "output_type": "execute_result"
    }
   ],
   "source": [
    "model.fit(x=X_train_scaled, \n",
    "          y=y_train, \n",
    "          epochs=70, \n",
    "          validation_data=(X_test_scaled, y_test), \n",
    "          callbacks=[tensorboard_callback])"
   ]
  },
  {
   "cell_type": "code",
   "execution_count": 105,
   "id": "071489a6",
   "metadata": {},
   "outputs": [
    {
     "data": {
      "text/plain": [
       "Reusing TensorBoard on port 6006 (pid 12788), started 0:30:32 ago. (Use '!kill 12788' to kill it.)"
      ]
     },
     "metadata": {},
     "output_type": "display_data"
    },
    {
     "data": {
      "text/html": [
       "\n",
       "      <iframe id=\"tensorboard-frame-a88480a0bd2df6c2\" width=\"100%\" height=\"800\" frameborder=\"0\">\n",
       "      </iframe>\n",
       "      <script>\n",
       "        (function() {\n",
       "          const frame = document.getElementById(\"tensorboard-frame-a88480a0bd2df6c2\");\n",
       "          const url = new URL(\"/\", window.location);\n",
       "          const port = 6006;\n",
       "          if (port) {\n",
       "            url.port = port;\n",
       "          }\n",
       "          frame.src = url;\n",
       "        })();\n",
       "      </script>\n",
       "    "
      ],
      "text/plain": [
       "<IPython.core.display.HTML object>"
      ]
     },
     "metadata": {},
     "output_type": "display_data"
    }
   ],
   "source": [
    "%tensorboard --logdir logs/fit"
   ]
  },
  {
   "cell_type": "markdown",
   "id": "d583e99a",
   "metadata": {},
   "source": [
    "## Quantify our Trained Model"
   ]
  },
  {
   "cell_type": "code",
   "execution_count": 106,
   "id": "8e84a08d",
   "metadata": {},
   "outputs": [
    {
     "name": "stdout",
     "output_type": "stream",
     "text": [
      "7/7 - 0s - loss: 0.4172 - accuracy: 0.8316\n",
      "Normal Neural Network - Loss: 0.41719895601272583, Accuracy: 0.831632673740387\n"
     ]
    }
   ],
   "source": [
    "model_loss, model_accuracy = model.evaluate(\n",
    "    X_test_scaled, y_test, verbose=2)\n",
    "print(\n",
    "    f\"Normal Neural Network - Loss: {model_loss}, Accuracy: {model_accuracy}\")"
   ]
  },
  {
   "cell_type": "code",
   "execution_count": 107,
   "id": "da25ea53",
   "metadata": {},
   "outputs": [
    {
     "data": {
      "text/plain": [
       "array([1, 0, 0, 1, 0], dtype=int64)"
      ]
     },
     "execution_count": 107,
     "metadata": {},
     "output_type": "execute_result"
    }
   ],
   "source": [
    "#encoded_predictions = model.predict_classes(X_test_scaled[:5])\n",
    "encoded_predictions = np.argmax(model.predict(X_test_scaled[:5]), axis = -1)\n",
    "#prediction_labels = label_encoder.inverse_transform(encoded_predictions)\n",
    "encoded_predictions"
   ]
  },
  {
   "cell_type": "code",
   "execution_count": 108,
   "id": "20295137",
   "metadata": {},
   "outputs": [
    {
     "data": {
      "text/plain": [
       "[1, 1, 0, 1, 0]"
      ]
     },
     "execution_count": 108,
     "metadata": {},
     "output_type": "execute_result"
    }
   ],
   "source": [
    "y_reality = []\n",
    "for i in range(5):    \n",
    "    s = np.argmax(y_test[i])\n",
    "    y_reality.append(s)\n",
    "    \n",
    "y_reality"
   ]
  },
  {
   "cell_type": "markdown",
   "id": "4fb0fb5e",
   "metadata": {},
   "source": [
    "## save and reload trained model"
   ]
  },
  {
   "cell_type": "code",
   "execution_count": 109,
   "id": "34f9c13b",
   "metadata": {},
   "outputs": [],
   "source": [
    "# Save the model\n",
    "model.save(\"titanic_trained.h5\")"
   ]
  },
  {
   "cell_type": "code",
   "execution_count": 110,
   "id": "5b59ca9a",
   "metadata": {},
   "outputs": [],
   "source": [
    "# Load the model\n",
    "from tensorflow.keras.models import load_model\n",
    "model = load_model(\"titanic_trained.h5\")"
   ]
  },
  {
   "cell_type": "code",
   "execution_count": 111,
   "id": "3fbbe661",
   "metadata": {},
   "outputs": [],
   "source": [
    "# Compile and fit the model\n",
    "model.compile(optimizer='adam',\n",
    "              loss='categorical_crossentropy',\n",
    "              metrics=['accuracy'])"
   ]
  },
  {
   "cell_type": "code",
   "execution_count": 112,
   "id": "a8fb8135",
   "metadata": {},
   "outputs": [
    {
     "name": "stdout",
     "output_type": "stream",
     "text": [
      "7/7 - 0s - loss: 0.4172 - accuracy: 0.8316\n",
      "Loss: 0.41719895601272583, Accuracy: 0.831632673740387\n"
     ]
    }
   ],
   "source": [
    "# Evaluate the model using the training data\n",
    "model_loss, model_accuracy = model.evaluate(X_test_scaled, y_test, verbose=2)\n",
    "print(f\"Loss: {model_loss}, Accuracy: {model_accuracy}\")"
   ]
  },
  {
   "cell_type": "code",
   "execution_count": null,
   "id": "b7994d36",
   "metadata": {},
   "outputs": [],
   "source": []
  }
 ],
 "metadata": {
  "kernelspec": {
   "display_name": "Python [conda env:pythonAdv] *",
   "language": "python",
   "name": "conda-env-pythonAdv-py"
  },
  "language_info": {
   "codemirror_mode": {
    "name": "ipython",
    "version": 3
   },
   "file_extension": ".py",
   "mimetype": "text/x-python",
   "name": "python",
   "nbconvert_exporter": "python",
   "pygments_lexer": "ipython3",
   "version": "3.6.13"
  }
 },
 "nbformat": 4,
 "nbformat_minor": 5
}
