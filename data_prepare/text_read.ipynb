{
 "cells": [
  {
   "cell_type": "markdown",
   "id": "44d533a7",
   "metadata": {},
   "source": [
    "## text file read in and make it into tuple (wordlist, category)"
   ]
  },
  {
   "cell_type": "code",
   "execution_count": 9,
   "id": "31308bec",
   "metadata": {},
   "outputs": [],
   "source": [
    "import pandas as pd\n",
    "import numpy as np\n",
    "import chardet\n",
    "import nltk"
   ]
  },
  {
   "cell_type": "code",
   "execution_count": 2,
   "id": "4710d72e",
   "metadata": {},
   "outputs": [],
   "source": [
    "file = \"data/perth.txt\""
   ]
  },
  {
   "cell_type": "markdown",
   "id": "8c77bc71",
   "metadata": {},
   "source": [
    "## check the original file"
   ]
  },
  {
   "cell_type": "code",
   "execution_count": 4,
   "id": "7096fc0b",
   "metadata": {},
   "outputs": [
    {
     "name": "stdout",
     "output_type": "stream",
     "text": [
      "Line1: Mark McGowan has revealed a FIFO worker has “probably or possibly” been COVID positive in the community in recent weeks.\n",
      "\n",
      "Line2: However, the Premier did not announce that Perth would be plunged into its fourth lockdown of the year.\n",
      "\n",
      "Line3: Mr McGowan said the FIFO worker, a maintenance contractor in his 30s from Fortescue’s Cloudbreak mine site, had returned a “very, very weak” positive test result.\n",
      "\n",
      "Line4: “The suspicion is that he may well have been positive at some point in the community,” Mr McGowan said.\n",
      "\n",
      "Line5: “We don’t know if he’s infectious because, to further complicated matters, this person had been COVID positive back in March and April of last year.”\n",
      "\n",
      "Line6: The FIFO worker was at Perth Airport between 4am and 7am on July 20 at the same time as an infected man who flew from Queensland to WA after completing hotel quarantine.\n",
      "\n",
      "Line7: Encouragingly, that man had the Alpha strain of the virus rather than the much faster spreading Delta variant.\n",
      "\n",
      "Line8: Genomic sequencing is not possible for the WA FIFO worker because his viral load is so low.\n",
      "\n",
      "Line9: It’s not known if the mine site worker acquired it from the Queensland traveller but Mr McGowan said that was the strong suspicion.\n",
      "\n",
      "Line10: After spending a week at Cloudbreak, the FIFO worker then flew back to Perth Airport on July 27.\n",
      "\n",
      "Line11: Encouragingly, the FIFO worker’s partner has returned a negative test result.\n",
      "\n",
      "Line12: Three other workmates regarded as close contacts have also been tested, with one of those swabs coming back negative so far.\n",
      "\n",
      "Line13: Three pubs – the Old Faithful Bar and BBQ in Fremantle on July 28, Indian Ocean Hotel in Scarborough on July 29 and Subiaco Hotel on July 31 – have been listed as exposure sites, as has the PathWest waiting room at Fremantle Hospital between 1pm and 3pm on Monday.\n",
      "\n",
      "Line14: Perth Airport Terminal 3 and 4 between 4am and 7am on July 20 and between 4.30pm and 6pm on July 27 are also listed as exposure sites.\n",
      "\n",
      "Line15: Anyone that visited those locations at the same time as the FIFO worker must be tested immediately and quarantine until they return a negative result.\n",
      "\n",
      "Line16: Fortescue Metals Group said it had been advised by the WA Health Department that a maintenance contractor who was at Cloudbreak from July 20 to 27 had returned a weak positive test result.\n",
      "\n",
      "Line17: “This person was asymptomatic while on site and is currently in isolation awaiting the outcome of further testing,” a statement from the iron ore miner said.\n",
      "\n",
      "Line18: “The health and safety of our team members remains our highest priority and we are working closely with the Department of Health to assist with contact tracing.\n",
      "\n",
      "Line19: “Fortescue believes that vaccination is the key to protecting our workforce and all team members are encouraged to receive a COVID-19 vaccine in line with current directions from the Commonwealth Government.”\n",
      "\n",
      "Line20: Fortescue shipped a record 49.3 million tonnes of iron ore in the three months to the end of June, taking total exports for the year to a record 182.2mt — just above its forecast of 182mt and comfortably beating the previous year’s record of 178.2mt.\n"
     ]
    }
   ],
   "source": [
    "#when use with, you do not need to close the file, it is closed automatically\n",
    "#you can read() read small file into a string\n",
    "# readline() read the text file line by line and return all the lines as strings.\n",
    "# readlines() – read all the lines of the text file and return them as a list of strings.\n",
    "count = 0\n",
    "with open(file, encoding=\"utf8\") as f:\n",
    "    lines = f.readlines()   \n",
    "    for line in lines:\n",
    "        if not line.isspace():\n",
    "            count += 1\n",
    "            ss = line.replace(\"\\r\\n\", \"\")\n",
    "            print(\"Line{}: {}\".format(count, ss))"
   ]
  },
  {
   "cell_type": "code",
   "execution_count": 5,
   "id": "08abe806",
   "metadata": {},
   "outputs": [
    {
     "data": {
      "text/plain": [
       "'English Springer Spaniel'"
      ]
     },
     "execution_count": 5,
     "metadata": {},
     "output_type": "execute_result"
    }
   ],
   "source": [
    "str = \"English Springer Spaniel\\r\\n\"\n",
    "s = str.replace(\"\\r\\n\", \"\")\n",
    "s"
   ]
  },
  {
   "cell_type": "code",
   "execution_count": 6,
   "id": "8c59a462",
   "metadata": {},
   "outputs": [],
   "source": [
    "# alternatively \n",
    "#f = open('the-zen-of-python.txt','r')\n",
    "#f.close()"
   ]
  },
  {
   "cell_type": "markdown",
   "id": "92c5338b",
   "metadata": {},
   "source": [
    "## Use Regex takes only words into list, ignor all punctuations"
   ]
  },
  {
   "cell_type": "markdown",
   "id": "620be818",
   "metadata": {},
   "source": [
    "## build words_bag and documents"
   ]
  },
  {
   "cell_type": "code",
   "execution_count": 27,
   "id": "7bfdd926",
   "metadata": {},
   "outputs": [],
   "source": [
    "# Python3 code to demonstrate\n",
    "# to extract words from string\n",
    "# using regex( findall() )\n",
    "import re\n",
    "\n",
    "words_bag = {}\n",
    "docs =[]\n",
    "\n",
    "with open(file, encoding=\"utf8\") as f:\n",
    "    line = f.readline()\n",
    "    while line:\n",
    "        line = f.readline().lower()\n",
    "        if not line.isspace(): # neglect all blank lines\n",
    "            resline = re.findall(r'\\w+', line)\n",
    "            res_tuple = (resline,)\n",
    "            docs.append(res_tuple)\n",
    "            #print(resline)\n",
    "            #get the unique words into words_bag\n",
    "            for j in range(len(resline)):\n",
    "                if resline[j] in words_bag:\n",
    "                    words_bag[resline[j]] += 1\n",
    "                else:\n",
    "                    words_bag[resline[j]] = 1\n",
    "            #print(words_bag)\n",
    "            "
   ]
  },
  {
   "cell_type": "code",
   "execution_count": 26,
   "id": "abcd38cf",
   "metadata": {},
   "outputs": [],
   "source": [
    "#docs"
   ]
  },
  {
   "cell_type": "code",
   "execution_count": 23,
   "id": "55b8c0fa",
   "metadata": {},
   "outputs": [
    {
     "data": {
      "text/plain": [
       "241"
      ]
     },
     "execution_count": 23,
     "metadata": {},
     "output_type": "execute_result"
    }
   ],
   "source": [
    "all_words = list(words_bag)\n",
    "len(all_words)"
   ]
  },
  {
   "cell_type": "markdown",
   "id": "9019b94f",
   "metadata": {},
   "source": [
    "## Made the words list into tuple with catagories"
   ]
  },
  {
   "cell_type": "code",
   "execution_count": 7,
   "id": "71a44a56",
   "metadata": {},
   "outputs": [],
   "source": [
    "wordlist1 = ['Fortescue', 'shipped', 'a', 'record', '49', '3', 'million', 'tonnes', 'of', \n",
    "             'iron', 'ore', 'in', 'the', 'three', 'months', 'to', 'the', 'end', 'of', 'June', \n",
    "             'taking', 'total', 'exports', 'for', 'the', 'year', 'to', 'a', 'record', '182', '2mt', \n",
    "             'just', 'above', 'its', 'forecast', 'of', '182mt', 'and', 'comfortably', 'beating', 'the', \n",
    "             'previous', 'year', 's', 'record', 'of', '178', '2mt']"
   ]
  },
  {
   "cell_type": "code",
   "execution_count": 8,
   "id": "91863e47",
   "metadata": {},
   "outputs": [],
   "source": [
    "wordtuple = (wordlist1,)"
   ]
  },
  {
   "cell_type": "code",
   "execution_count": 9,
   "id": "c6d49a48",
   "metadata": {},
   "outputs": [
    {
     "name": "stdout",
     "output_type": "stream",
     "text": [
      "(['Fortescue', 'shipped', 'a', 'record', '49', '3', 'million', 'tonnes', 'of', 'iron', 'ore', 'in', 'the', 'three', 'months', 'to', 'the', 'end', 'of', 'June', 'taking', 'total', 'exports', 'for', 'the', 'year', 'to', 'a', 'record', '182', '2mt', 'just', 'above', 'its', 'forecast', 'of', '182mt', 'and', 'comfortably', 'beating', 'the', 'previous', 'year', 's', 'record', 'of', '178', '2mt'],)\n"
     ]
    }
   ],
   "source": [
    "print(wordtuple)"
   ]
  },
  {
   "cell_type": "code",
   "execution_count": 10,
   "id": "bd660d2a",
   "metadata": {},
   "outputs": [
    {
     "data": {
      "text/plain": [
       "('neg',)"
      ]
     },
     "execution_count": 10,
     "metadata": {},
     "output_type": "execute_result"
    }
   ],
   "source": [
    "ptuple = tuple((\"pos\",))\n",
    "ntuple = tuple((\"neg\",))\n",
    "neutuple = tuple((\"neu\",))\n",
    "ntuple"
   ]
  },
  {
   "cell_type": "code",
   "execution_count": 11,
   "id": "0737db14",
   "metadata": {},
   "outputs": [
    {
     "data": {
      "text/plain": [
       "(['Fortescue',\n",
       "  'shipped',\n",
       "  'a',\n",
       "  'record',\n",
       "  '49',\n",
       "  '3',\n",
       "  'million',\n",
       "  'tonnes',\n",
       "  'of',\n",
       "  'iron',\n",
       "  'ore',\n",
       "  'in',\n",
       "  'the',\n",
       "  'three',\n",
       "  'months',\n",
       "  'to',\n",
       "  'the',\n",
       "  'end',\n",
       "  'of',\n",
       "  'June',\n",
       "  'taking',\n",
       "  'total',\n",
       "  'exports',\n",
       "  'for',\n",
       "  'the',\n",
       "  'year',\n",
       "  'to',\n",
       "  'a',\n",
       "  'record',\n",
       "  '182',\n",
       "  '2mt',\n",
       "  'just',\n",
       "  'above',\n",
       "  'its',\n",
       "  'forecast',\n",
       "  'of',\n",
       "  '182mt',\n",
       "  'and',\n",
       "  'comfortably',\n",
       "  'beating',\n",
       "  'the',\n",
       "  'previous',\n",
       "  'year',\n",
       "  's',\n",
       "  'record',\n",
       "  'of',\n",
       "  '178',\n",
       "  '2mt'],\n",
       " 'pos')"
      ]
     },
     "execution_count": 11,
     "metadata": {},
     "output_type": "execute_result"
    }
   ],
   "source": [
    "docs1 = wordtuple + ptuple\n",
    "docs1"
   ]
  },
  {
   "cell_type": "code",
   "execution_count": 12,
   "id": "3cfa0df6",
   "metadata": {},
   "outputs": [
    {
     "data": {
      "text/plain": [
       "tuple"
      ]
     },
     "execution_count": 12,
     "metadata": {},
     "output_type": "execute_result"
    }
   ],
   "source": [
    "type(docs1)"
   ]
  },
  {
   "cell_type": "code",
   "execution_count": null,
   "id": "2bf7abe8",
   "metadata": {},
   "outputs": [],
   "source": []
  }
 ],
 "metadata": {
  "kernelspec": {
   "display_name": "Python [conda env:pythondata]",
   "language": "python",
   "name": "conda-env-pythondata-py"
  },
  "language_info": {
   "codemirror_mode": {
    "name": "ipython",
    "version": 3
   },
   "file_extension": ".py",
   "mimetype": "text/x-python",
   "name": "python",
   "nbconvert_exporter": "python",
   "pygments_lexer": "ipython3",
   "version": "3.6.10"
  }
 },
 "nbformat": 4,
 "nbformat_minor": 5
}
