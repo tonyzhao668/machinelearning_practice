{
 "cells": [
  {
   "cell_type": "code",
   "execution_count": 74,
   "id": "5fc4c372",
   "metadata": {},
   "outputs": [],
   "source": [
    "%matplotlib inline\n",
    "import matplotlib.pyplot as plt\n",
    "import numpy as np\n",
    "import pandas as pd"
   ]
  },
  {
   "cell_type": "markdown",
   "id": "f8293755",
   "metadata": {},
   "source": [
    "## make random dataset for regression"
   ]
  },
  {
   "cell_type": "markdown",
   "id": "e8349f69",
   "metadata": {},
   "source": [
    "### make linear dataset"
   ]
  },
  {
   "cell_type": "code",
   "execution_count": 75,
   "id": "3f0d48e6",
   "metadata": {},
   "outputs": [],
   "source": [
    "from sklearn.datasets import make_regression\n",
    "\n",
    "X, y = make_regression(n_samples=20, n_features=1, random_state=0, noise=4, bias=100.0)"
   ]
  },
  {
   "cell_type": "code",
   "execution_count": 76,
   "id": "ced2113e",
   "metadata": {},
   "outputs": [
    {
     "data": {
      "text/plain": [
       "(20, 1)"
      ]
     },
     "execution_count": 76,
     "metadata": {},
     "output_type": "execute_result"
    }
   ],
   "source": [
    "X.shape"
   ]
  },
  {
   "cell_type": "code",
   "execution_count": 77,
   "id": "c8ef70ff",
   "metadata": {},
   "outputs": [
    {
     "data": {
      "text/plain": [
       "(20,)"
      ]
     },
     "execution_count": 77,
     "metadata": {},
     "output_type": "execute_result"
    }
   ],
   "source": [
    "y.shape"
   ]
  },
  {
   "cell_type": "code",
   "execution_count": 78,
   "id": "4164003b",
   "metadata": {},
   "outputs": [
    {
     "data": {
      "text/plain": [
       "<matplotlib.collections.PathCollection at 0x28bfe8b1c88>"
      ]
     },
     "execution_count": 78,
     "metadata": {},
     "output_type": "execute_result"
    },
    {
     "data": {
      "image/png": "[encoded data removed]",
      "text/plain": [
       "<Figure size 432x288 with 1 Axes>"
      ]
     },
     "metadata": {
      "needs_background": "light"
     },
     "output_type": "display_data"
    }
   ],
   "source": [
    "plt.scatter(X, y)"
   ]
  },
  {
   "cell_type": "markdown",
   "id": "4d601fd5",
   "metadata": {},
   "source": [
    "### make s dataset"
   ]
  },
  {
   "cell_type": "code",
   "execution_count": 79,
   "id": "2e6b6b1d",
   "metadata": {},
   "outputs": [],
   "source": [
    "from sklearn.datasets import make_s_curve\n",
    "\n",
    "data, color = make_s_curve(200, random_state=0)"
   ]
  },
  {
   "cell_type": "code",
   "execution_count": 80,
   "id": "531dff86",
   "metadata": {},
   "outputs": [
    {
     "data": {
      "text/plain": [
       "<matplotlib.collections.PathCollection at 0x28bfe916f28>"
      ]
     },
     "execution_count": 80,
     "metadata": {},
     "output_type": "execute_result"
    },
    {
     "data": {
      "image/png": "[encoded data removed]",
      "text/plain": [
       "<Figure size 432x288 with 1 Axes>"
      ]
     },
     "metadata": {
      "needs_background": "light"
     },
     "output_type": "display_data"
    }
   ],
   "source": [
    "plt.scatter(data[:,0], color)"
   ]
  },
  {
   "cell_type": "markdown",
   "id": "27554f99",
   "metadata": {},
   "source": [
    "## Linear regression model build"
   ]
  },
  {
   "cell_type": "code",
   "execution_count": 81,
   "id": "af68a847",
   "metadata": {},
   "outputs": [
    {
     "data": {
      "text/plain": [
       "LinearRegression()"
      ]
     },
     "execution_count": 81,
     "metadata": {},
     "output_type": "execute_result"
    }
   ],
   "source": [
    "from sklearn.linear_model import LinearRegression\n",
    "model = LinearRegression()\n",
    "model"
   ]
  },
  {
   "cell_type": "code",
   "execution_count": 82,
   "id": "c2dfc513",
   "metadata": {},
   "outputs": [
    {
     "name": "stdout",
     "output_type": "stream",
     "text": [
      "LinearRegression()\n"
     ]
    }
   ],
   "source": [
    "model.fit(X, y)\n",
    "print(model)"
   ]
  },
  {
   "cell_type": "code",
   "execution_count": 83,
   "id": "6896b91d",
   "metadata": {},
   "outputs": [
    {
     "name": "stdout",
     "output_type": "stream",
     "text": [
      "Weight coefficients:  [12.44002424]\n",
      "y-axis intercept:  101.89622505659258\n"
     ]
    }
   ],
   "source": [
    "print('Weight coefficients: ', model.coef_)\n",
    "print('y-axis intercept: ', model.intercept_) "
   ]
  },
  {
   "cell_type": "code",
   "execution_count": 84,
   "id": "0d95b582",
   "metadata": {},
   "outputs": [
    {
     "name": "stdout",
     "output_type": "stream",
     "text": [
      "True output: 98.01970393090812\n",
      "Predicted output: 100.01333771669648\n",
      "Prediction Error: 1.9936337857883615\n"
     ]
    }
   ],
   "source": [
    "predictions = model.predict(X)\n",
    "print(f\"True output: {y[0]}\") # f string print\n",
    "print(f\"Predicted output: {predictions[0]}\") # predictions is also a ndarray\n",
    "print(f\"Prediction Error: {predictions[0]-y[0]}\")"
   ]
  },
  {
   "cell_type": "markdown",
   "id": "056cd8de",
   "metadata": {},
   "source": [
    "### error check results into DataFrame"
   ]
  },
  {
   "cell_type": "code",
   "execution_count": 85,
   "id": "c29fb0a3",
   "metadata": {},
   "outputs": [
    {
     "data": {
      "text/html": [
       "<div>\n",
       "<style scoped>\n",
       "    .dataframe tbody tr th:only-of-type {\n",
       "        vertical-align: middle;\n",
       "    }\n",
       "\n",
       "    .dataframe tbody tr th {\n",
       "        vertical-align: top;\n",
       "    }\n",
       "\n",
       "    .dataframe thead th {\n",
       "        text-align: right;\n",
       "    }\n",
       "</style>\n",
       "<table border=\"1\" class=\"dataframe\">\n",
       "  <thead>\n",
       "    <tr style=\"text-align: right;\">\n",
       "      <th></th>\n",
       "      <th>Predicted</th>\n",
       "      <th>Actual</th>\n",
       "      <th>Error</th>\n",
       "    </tr>\n",
       "  </thead>\n",
       "  <tbody>\n",
       "    <tr>\n",
       "      <th>0</th>\n",
       "      <td>100.013338</td>\n",
       "      <td>98.019704</td>\n",
       "      <td>1.993634</td>\n",
       "    </tr>\n",
       "    <tr>\n",
       "      <th>1</th>\n",
       "      <td>106.874190</td>\n",
       "      <td>108.458654</td>\n",
       "      <td>-1.584464</td>\n",
       "    </tr>\n",
       "    <tr>\n",
       "      <th>2</th>\n",
       "      <td>114.071749</td>\n",
       "      <td>107.776544</td>\n",
       "      <td>6.295205</td>\n",
       "    </tr>\n",
       "    <tr>\n",
       "      <th>3</th>\n",
       "      <td>91.271253</td>\n",
       "      <td>90.315201</td>\n",
       "      <td>0.956053</td>\n",
       "    </tr>\n",
       "    <tr>\n",
       "      <th>4</th>\n",
       "      <td>89.738865</td>\n",
       "      <td>92.047965</td>\n",
       "      <td>-2.309101</td>\n",
       "    </tr>\n",
       "    <tr>\n",
       "      <th>5</th>\n",
       "      <td>105.790795</td>\n",
       "      <td>100.144726</td>\n",
       "      <td>5.646069</td>\n",
       "    </tr>\n",
       "    <tr>\n",
       "      <th>6</th>\n",
       "      <td>100.612180</td>\n",
       "      <td>104.371286</td>\n",
       "      <td>-3.759106</td>\n",
       "    </tr>\n",
       "    <tr>\n",
       "      <th>7</th>\n",
       "      <td>99.344051</td>\n",
       "      <td>95.208967</td>\n",
       "      <td>4.135085</td>\n",
       "    </tr>\n",
       "    <tr>\n",
       "      <th>8</th>\n",
       "      <td>106.047142</td>\n",
       "      <td>102.505262</td>\n",
       "      <td>3.541880</td>\n",
       "    </tr>\n",
       "    <tr>\n",
       "      <th>9</th>\n",
       "      <td>120.482605</td>\n",
       "      <td>122.119661</td>\n",
       "      <td>-1.637056</td>\n",
       "    </tr>\n",
       "    <tr>\n",
       "      <th>10</th>\n",
       "      <td>113.715348</td>\n",
       "      <td>112.287600</td>\n",
       "      <td>1.427748</td>\n",
       "    </tr>\n",
       "    <tr>\n",
       "      <th>11</th>\n",
       "      <td>103.409865</td>\n",
       "      <td>107.326140</td>\n",
       "      <td>-3.916275</td>\n",
       "    </tr>\n",
       "    <tr>\n",
       "      <th>12</th>\n",
       "      <td>119.987423</td>\n",
       "      <td>121.444549</td>\n",
       "      <td>-1.457126</td>\n",
       "    </tr>\n",
       "    <tr>\n",
       "      <th>13</th>\n",
       "      <td>125.128692</td>\n",
       "      <td>125.803460</td>\n",
       "      <td>-0.674768</td>\n",
       "    </tr>\n",
       "    <tr>\n",
       "      <th>14</th>\n",
       "      <td>103.688131</td>\n",
       "      <td>104.330672</td>\n",
       "      <td>-0.642542</td>\n",
       "    </tr>\n",
       "    <tr>\n",
       "      <th>15</th>\n",
       "      <td>107.004080</td>\n",
       "      <td>112.026181</td>\n",
       "      <td>-5.022101</td>\n",
       "    </tr>\n",
       "    <tr>\n",
       "      <th>16</th>\n",
       "      <td>111.363553</td>\n",
       "      <td>106.596614</td>\n",
       "      <td>4.766939</td>\n",
       "    </tr>\n",
       "    <tr>\n",
       "      <th>17</th>\n",
       "      <td>129.772991</td>\n",
       "      <td>129.857150</td>\n",
       "      <td>-0.084159</td>\n",
       "    </tr>\n",
       "    <tr>\n",
       "      <th>18</th>\n",
       "      <td>107.417894</td>\n",
       "      <td>113.512862</td>\n",
       "      <td>-6.094967</td>\n",
       "    </tr>\n",
       "    <tr>\n",
       "      <th>19</th>\n",
       "      <td>123.841079</td>\n",
       "      <td>125.422026</td>\n",
       "      <td>-1.580947</td>\n",
       "    </tr>\n",
       "  </tbody>\n",
       "</table>\n",
       "</div>"
      ],
      "text/plain": [
       "     Predicted      Actual     Error\n",
       "0   100.013338   98.019704  1.993634\n",
       "1   106.874190  108.458654 -1.584464\n",
       "2   114.071749  107.776544  6.295205\n",
       "3    91.271253   90.315201  0.956053\n",
       "4    89.738865   92.047965 -2.309101\n",
       "5   105.790795  100.144726  5.646069\n",
       "6   100.612180  104.371286 -3.759106\n",
       "7    99.344051   95.208967  4.135085\n",
       "8   106.047142  102.505262  3.541880\n",
       "9   120.482605  122.119661 -1.637056\n",
       "10  113.715348  112.287600  1.427748\n",
       "11  103.409865  107.326140 -3.916275\n",
       "12  119.987423  121.444549 -1.457126\n",
       "13  125.128692  125.803460 -0.674768\n",
       "14  103.688131  104.330672 -0.642542\n",
       "15  107.004080  112.026181 -5.022101\n",
       "16  111.363553  106.596614  4.766939\n",
       "17  129.772991  129.857150 -0.084159\n",
       "18  107.417894  113.512862 -6.094967\n",
       "19  123.841079  125.422026 -1.580947"
      ]
     },
     "execution_count": 85,
     "metadata": {},
     "output_type": "execute_result"
    }
   ],
   "source": [
    "pd.DataFrame({\"Predicted\": predictions, \"Actual\": y, \"Error\": predictions - y})[[\"Predicted\", \"Actual\", \"Error\"]]"
   ]
  },
  {
   "cell_type": "code",
   "execution_count": 86,
   "id": "3d3acb74",
   "metadata": {},
   "outputs": [],
   "source": [
    "# real x_min and x_max\n",
    "x_min = X.min()\n",
    "x_max = X.max()"
   ]
  },
  {
   "cell_type": "code",
   "execution_count": 87,
   "id": "61a127e6",
   "metadata": {},
   "outputs": [],
   "source": [
    "y_min_actual = y.min()\n",
    "y_max_actual = y.max()"
   ]
  },
  {
   "cell_type": "code",
   "execution_count": 88,
   "id": "f11c8854",
   "metadata": {},
   "outputs": [
    {
     "name": "stdout",
     "output_type": "stream",
     "text": [
      "Actual Min Value: 90.31520078064568\n",
      "Calculated Min Value: 89.73886454212163\n",
      "Actual Max Value: 129.85715020208258\n",
      "Calculated Max Value: 129.7729907743173\n"
     ]
    }
   ],
   "source": [
    "y_min = 101.896225057 + 12.44002424 * x_min #this y_min is a predicted y_min\n",
    "y_max = 101.896225057 + 12.44002424 * x_max #this y_max is a predicted y_max\n",
    "print(f\"Actual Min Value: {y_min_actual}\")\n",
    "print(f\"Calculated Min Value: {y_min}\")\n",
    "print(f\"Actual Max Value: {y_max_actual}\")\n",
    "print(f\"Calculated Max Value: {y_max}\")"
   ]
  },
  {
   "cell_type": "code",
   "execution_count": 89,
   "id": "e85ddb40",
   "metadata": {},
   "outputs": [
    {
     "data": {
      "text/plain": [
       "[<matplotlib.lines.Line2D at 0x28bfe935c18>]"
      ]
     },
     "execution_count": 89,
     "metadata": {},
     "output_type": "execute_result"
    },
    {
     "data": {
      "image/png": "[encoded data removed]",
      "text/plain": [
       "<Figure size 432x288 with 1 Axes>"
      ]
     },
     "metadata": {
      "needs_background": "light"
     },
     "output_type": "display_data"
    }
   ],
   "source": [
    "plt.scatter(X, y, c='blue')\n",
    "plt.plot([x_min, x_max], [y_min, y_max], c='red')"
   ]
  },
  {
   "cell_type": "markdown",
   "id": "663c7256",
   "metadata": {},
   "source": [
    "### you also can use any X[0], predicted y[0] and X[19] predicted y[19] to plot "
   ]
  },
  {
   "cell_type": "code",
   "execution_count": 90,
   "id": "a69bac09",
   "metadata": {},
   "outputs": [],
   "source": [
    "y0 = 101.896225057 + 12.44002424 * X[0] #this y_min is a predicted y_min\n",
    "y19 = 101.896225057 + 12.44002424 * X[19]"
   ]
  },
  {
   "cell_type": "code",
   "execution_count": 91,
   "id": "beab139f",
   "metadata": {},
   "outputs": [
    {
     "data": {
      "text/plain": [
       "[<matplotlib.lines.Line2D at 0x28bfe9bc748>]"
      ]
     },
     "execution_count": 91,
     "metadata": {},
     "output_type": "execute_result"
    },
    {
     "data": {
      "image/png": "[encoded data removed]",
      "text/plain": [
       "<Figure size 432x288 with 1 Axes>"
      ]
     },
     "metadata": {
      "needs_background": "light"
     },
     "output_type": "display_data"
    }
   ],
   "source": [
    "plt.scatter(X, y, c='blue')\n",
    "plt.plot([X[0], X[19]], [y0, y19], c='red')"
   ]
  },
  {
   "cell_type": "markdown",
   "id": "33a242be",
   "metadata": {},
   "source": [
    "### use predicted values to plot"
   ]
  },
  {
   "cell_type": "code",
   "execution_count": 92,
   "id": "b7ad71fe",
   "metadata": {},
   "outputs": [
    {
     "data": {
      "text/plain": [
       "20"
      ]
     },
     "execution_count": 92,
     "metadata": {},
     "output_type": "execute_result"
    }
   ],
   "source": [
    "len(predictions)"
   ]
  },
  {
   "cell_type": "code",
   "execution_count": 93,
   "id": "c925d436",
   "metadata": {},
   "outputs": [],
   "source": [
    "y0 = predictions[0]\n",
    "y19 = predictions[19]"
   ]
  },
  {
   "cell_type": "code",
   "execution_count": 94,
   "id": "905257ab",
   "metadata": {},
   "outputs": [
    {
     "data": {
      "text/plain": [
       "[<matplotlib.lines.Line2D at 0x28bff9efef0>]"
      ]
     },
     "execution_count": 94,
     "metadata": {},
     "output_type": "execute_result"
    },
    {
     "data": {
      "image/png": "[encoded data removed]",
      "text/plain": [
       "<Figure size 432x288 with 1 Axes>"
      ]
     },
     "metadata": {
      "needs_background": "light"
     },
     "output_type": "display_data"
    }
   ],
   "source": [
    "plt.scatter(X, y, c='blue')\n",
    "plt.plot([X[0], X[19]], [y0, y19], c='red')"
   ]
  },
  {
   "cell_type": "markdown",
   "id": "bd3dc2be",
   "metadata": {},
   "source": [
    "## use X[0] and X[19] to plot only need to form it into 2d array"
   ]
  },
  {
   "cell_type": "markdown",
   "id": "28e3c4cc",
   "metadata": {},
   "source": [
    "### sklearn requires X must be in the format of array([[-0.15135721]])"
   ]
  },
  {
   "cell_type": "code",
   "execution_count": 95,
   "id": "41a4092b",
   "metadata": {},
   "outputs": [
    {
     "data": {
      "text/plain": [
       "array([-0.15135721])"
      ]
     },
     "execution_count": 95,
     "metadata": {},
     "output_type": "execute_result"
    }
   ],
   "source": [
    "X[0]"
   ]
  },
  {
   "cell_type": "code",
   "execution_count": 101,
   "id": "25c8703b",
   "metadata": {},
   "outputs": [],
   "source": [
    "#this is why we need to use np.array() to transfer it\n",
    "x0 = np.array([X[0]])\n",
    "y0 = model.predict(x0)\n",
    "x19 = np.array([X[19]])\n",
    "y19 = model.predict(x19)"
   ]
  },
  {
   "cell_type": "code",
   "execution_count": 102,
   "id": "17d954ea",
   "metadata": {},
   "outputs": [
    {
     "data": {
      "text/plain": [
       "[<matplotlib.lines.Line2D at 0x28bffae12b0>]"
      ]
     },
     "execution_count": 102,
     "metadata": {},
     "output_type": "execute_result"
    },
    {
     "data": {
      "image/png": "[encoded data removed]",
      "text/plain": [
       "<Figure size 432x288 with 1 Axes>"
      ]
     },
     "metadata": {
      "needs_background": "light"
     },
     "output_type": "display_data"
    }
   ],
   "source": [
    "#for plot we only need value like [-0.15135721], so the x0[0] change x0 = [[-0.15135721]] into x0[0] = [-0.15135721]\n",
    "plt.scatter(X, y, c='blue')\n",
    "plt.plot([x0[0], x19[0]], [y0[0], y19[0]], c='red')"
   ]
  },
  {
   "cell_type": "code",
   "execution_count": null,
   "id": "4817f645",
   "metadata": {},
   "outputs": [],
   "source": []
  }
 ],
 "metadata": {
  "kernelspec": {
   "display_name": "Python [conda env:pythonAdv] *",
   "language": "python",
   "name": "conda-env-pythonAdv-py"
  },
  "language_info": {
   "codemirror_mode": {
    "name": "ipython",
    "version": 3
   },
   "file_extension": ".py",
   "mimetype": "text/x-python",
   "name": "python",
   "nbconvert_exporter": "python",
   "pygments_lexer": "ipython3",
   "version": "3.6.13"
  }
 },
 "nbformat": 4,
 "nbformat_minor": 5
}
