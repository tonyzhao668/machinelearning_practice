{
 "cells": [
  {
   "cell_type": "markdown",
   "id": "6c82e35b",
   "metadata": {},
   "source": [
    "## Scikit_Learn California Housing Data\n",
    "## Regression Analysis and Prediction"
   ]
  },
  {
   "cell_type": "code",
   "execution_count": 92,
   "id": "9bd005b5",
   "metadata": {},
   "outputs": [],
   "source": [
    "%matplotlib inline\n",
    "import numpy as np\n",
    "import pandas as pd\n",
    "\n",
    "from matplotlib import pyplot as plt\n",
    "\n",
    "from sklearn.preprocessing import MinMaxScaler\n",
    "from sklearn.preprocessing import StandardScaler\n",
    "from sklearn.preprocessing import QuantileTransformer"
   ]
  },
  {
   "cell_type": "code",
   "execution_count": 93,
   "id": "b6da026a",
   "metadata": {},
   "outputs": [],
   "source": [
    "from sklearn.datasets import fetch_california_housing"
   ]
  },
  {
   "cell_type": "code",
   "execution_count": 94,
   "id": "8875d13f",
   "metadata": {},
   "outputs": [
    {
     "name": "stdout",
     "output_type": "stream",
     "text": [
      "Automatically created module for IPython interactive environment\n"
     ]
    }
   ],
   "source": [
    "print(__doc__)"
   ]
  },
  {
   "cell_type": "code",
   "execution_count": 95,
   "id": "63254d21",
   "metadata": {},
   "outputs": [
    {
     "name": "stdout",
     "output_type": "stream",
     "text": [
      ".. _california_housing_dataset:\n",
      "\n",
      "California Housing dataset\n",
      "--------------------------\n",
      "\n",
      "**Data Set Characteristics:**\n",
      "\n",
      "    :Number of Instances: 20640\n",
      "\n",
      "    :Number of Attributes: 8 numeric, predictive attributes and the target\n",
      "\n",
      "    :Attribute Information:\n",
      "        - MedInc        median income in block\n",
      "        - HouseAge      median house age in block\n",
      "        - AveRooms      average number of rooms\n",
      "        - AveBedrms     average number of bedrooms\n",
      "        - Population    block population\n",
      "        - AveOccup      average house occupancy\n",
      "        - Latitude      house block latitude\n",
      "        - Longitude     house block longitude\n",
      "\n",
      "    :Missing Attribute Values: None\n",
      "\n",
      "This dataset was obtained from the StatLib repository.\n",
      "http://lib.stat.cmu.edu/datasets/\n",
      "\n",
      "The target variable is the median house value for California districts.\n",
      "\n",
      "This dataset was derived from the 1990 U.S. census, using one row per census\n",
      "block group. A block group is the smallest geographical unit for which the U.S.\n",
      "Census Bureau publishes sample data (a block group typically has a population\n",
      "of 600 to 3,000 people).\n",
      "\n",
      "It can be downloaded/loaded using the\n",
      ":func:`sklearn.datasets.fetch_california_housing` function.\n",
      "\n",
      ".. topic:: References\n",
      "\n",
      "    - Pace, R. Kelley and Ronald Barry, Sparse Spatial Autoregressions,\n",
      "      Statistics and Probability Letters, 33 (1997) 291-297\n",
      "\n"
     ]
    }
   ],
   "source": [
    "cal_housing = fetch_california_housing()\n",
    "print(cal_housing.DESCR)"
   ]
  },
  {
   "cell_type": "markdown",
   "id": "a032709f",
   "metadata": {},
   "source": [
    "## Data Load, Check, Clean, Split for Train and Test"
   ]
  },
  {
   "cell_type": "markdown",
   "id": "c9ac48fa",
   "metadata": {},
   "source": [
    "### loading"
   ]
  },
  {
   "cell_type": "code",
   "execution_count": 96,
   "id": "c24ddad1",
   "metadata": {},
   "outputs": [],
   "source": [
    "# extract data, target\n",
    "X = pd.DataFrame(cal_housing.data, columns=cal_housing.feature_names)\n",
    "y = cal_housing.target"
   ]
  },
  {
   "cell_type": "code",
   "execution_count": 97,
   "id": "7818f21e",
   "metadata": {},
   "outputs": [
    {
     "data": {
      "text/html": [
       "<div>\n",
       "<style scoped>\n",
       "    .dataframe tbody tr th:only-of-type {\n",
       "        vertical-align: middle;\n",
       "    }\n",
       "\n",
       "    .dataframe tbody tr th {\n",
       "        vertical-align: top;\n",
       "    }\n",
       "\n",
       "    .dataframe thead th {\n",
       "        text-align: right;\n",
       "    }\n",
       "</style>\n",
       "<table border=\"1\" class=\"dataframe\">\n",
       "  <thead>\n",
       "    <tr style=\"text-align: right;\">\n",
       "      <th></th>\n",
       "      <th>MedInc</th>\n",
       "      <th>HouseAge</th>\n",
       "      <th>AveRooms</th>\n",
       "      <th>AveBedrms</th>\n",
       "      <th>Population</th>\n",
       "      <th>AveOccup</th>\n",
       "      <th>Latitude</th>\n",
       "      <th>Longitude</th>\n",
       "    </tr>\n",
       "  </thead>\n",
       "  <tbody>\n",
       "    <tr>\n",
       "      <th>0</th>\n",
       "      <td>8.3252</td>\n",
       "      <td>41.0</td>\n",
       "      <td>6.984127</td>\n",
       "      <td>1.023810</td>\n",
       "      <td>322.0</td>\n",
       "      <td>2.555556</td>\n",
       "      <td>37.88</td>\n",
       "      <td>-122.23</td>\n",
       "    </tr>\n",
       "    <tr>\n",
       "      <th>1</th>\n",
       "      <td>8.3014</td>\n",
       "      <td>21.0</td>\n",
       "      <td>6.238137</td>\n",
       "      <td>0.971880</td>\n",
       "      <td>2401.0</td>\n",
       "      <td>2.109842</td>\n",
       "      <td>37.86</td>\n",
       "      <td>-122.22</td>\n",
       "    </tr>\n",
       "    <tr>\n",
       "      <th>2</th>\n",
       "      <td>7.2574</td>\n",
       "      <td>52.0</td>\n",
       "      <td>8.288136</td>\n",
       "      <td>1.073446</td>\n",
       "      <td>496.0</td>\n",
       "      <td>2.802260</td>\n",
       "      <td>37.85</td>\n",
       "      <td>-122.24</td>\n",
       "    </tr>\n",
       "    <tr>\n",
       "      <th>3</th>\n",
       "      <td>5.6431</td>\n",
       "      <td>52.0</td>\n",
       "      <td>5.817352</td>\n",
       "      <td>1.073059</td>\n",
       "      <td>558.0</td>\n",
       "      <td>2.547945</td>\n",
       "      <td>37.85</td>\n",
       "      <td>-122.25</td>\n",
       "    </tr>\n",
       "    <tr>\n",
       "      <th>4</th>\n",
       "      <td>3.8462</td>\n",
       "      <td>52.0</td>\n",
       "      <td>6.281853</td>\n",
       "      <td>1.081081</td>\n",
       "      <td>565.0</td>\n",
       "      <td>2.181467</td>\n",
       "      <td>37.85</td>\n",
       "      <td>-122.25</td>\n",
       "    </tr>\n",
       "  </tbody>\n",
       "</table>\n",
       "</div>"
      ],
      "text/plain": [
       "   MedInc  HouseAge  AveRooms  AveBedrms  Population  AveOccup  Latitude  \\\n",
       "0  8.3252      41.0  6.984127   1.023810       322.0  2.555556     37.88   \n",
       "1  8.3014      21.0  6.238137   0.971880      2401.0  2.109842     37.86   \n",
       "2  7.2574      52.0  8.288136   1.073446       496.0  2.802260     37.85   \n",
       "3  5.6431      52.0  5.817352   1.073059       558.0  2.547945     37.85   \n",
       "4  3.8462      52.0  6.281853   1.081081       565.0  2.181467     37.85   \n",
       "\n",
       "   Longitude  \n",
       "0    -122.23  \n",
       "1    -122.22  \n",
       "2    -122.24  \n",
       "3    -122.25  \n",
       "4    -122.25  "
      ]
     },
     "execution_count": 97,
     "metadata": {},
     "output_type": "execute_result"
    }
   ],
   "source": [
    "X.head()"
   ]
  },
  {
   "cell_type": "code",
   "execution_count": 98,
   "id": "95d23e4e",
   "metadata": {},
   "outputs": [
    {
     "name": "stdout",
     "output_type": "stream",
     "text": [
      "(20640, 8) (20640,)\n"
     ]
    }
   ],
   "source": [
    "# data shape\n",
    "print(X.shape, y.shape)"
   ]
  },
  {
   "cell_type": "code",
   "execution_count": 99,
   "id": "da51f800",
   "metadata": {},
   "outputs": [],
   "source": [
    "# save cal_df into csv for futher operation\n",
    "cal_df = X.copy()\n",
    "cal_df[\"midhouseval\"] = y\n",
    "cal_df.to_csv(\"data/cal_housing.csv\")\n",
    "# cal_df.head()"
   ]
  },
  {
   "cell_type": "code",
   "execution_count": 100,
   "id": "23aec702",
   "metadata": {},
   "outputs": [
    {
     "data": {
      "text/html": [
       "<div>\n",
       "<style scoped>\n",
       "    .dataframe tbody tr th:only-of-type {\n",
       "        vertical-align: middle;\n",
       "    }\n",
       "\n",
       "    .dataframe tbody tr th {\n",
       "        vertical-align: top;\n",
       "    }\n",
       "\n",
       "    .dataframe thead th {\n",
       "        text-align: right;\n",
       "    }\n",
       "</style>\n",
       "<table border=\"1\" class=\"dataframe\">\n",
       "  <thead>\n",
       "    <tr style=\"text-align: right;\">\n",
       "      <th></th>\n",
       "      <th>MedInc</th>\n",
       "      <th>HouseAge</th>\n",
       "      <th>AveRooms</th>\n",
       "      <th>AveBedrms</th>\n",
       "      <th>Population</th>\n",
       "      <th>AveOccup</th>\n",
       "      <th>Latitude</th>\n",
       "      <th>Longitude</th>\n",
       "      <th>midhouseval</th>\n",
       "    </tr>\n",
       "  </thead>\n",
       "  <tbody>\n",
       "    <tr>\n",
       "      <th>0</th>\n",
       "      <td>8.3252</td>\n",
       "      <td>41.0</td>\n",
       "      <td>6.984127</td>\n",
       "      <td>1.023810</td>\n",
       "      <td>322.0</td>\n",
       "      <td>2.555556</td>\n",
       "      <td>37.88</td>\n",
       "      <td>-122.23</td>\n",
       "      <td>4.526</td>\n",
       "    </tr>\n",
       "    <tr>\n",
       "      <th>1</th>\n",
       "      <td>8.3014</td>\n",
       "      <td>21.0</td>\n",
       "      <td>6.238137</td>\n",
       "      <td>0.971880</td>\n",
       "      <td>2401.0</td>\n",
       "      <td>2.109842</td>\n",
       "      <td>37.86</td>\n",
       "      <td>-122.22</td>\n",
       "      <td>3.585</td>\n",
       "    </tr>\n",
       "    <tr>\n",
       "      <th>2</th>\n",
       "      <td>7.2574</td>\n",
       "      <td>52.0</td>\n",
       "      <td>8.288136</td>\n",
       "      <td>1.073446</td>\n",
       "      <td>496.0</td>\n",
       "      <td>2.802260</td>\n",
       "      <td>37.85</td>\n",
       "      <td>-122.24</td>\n",
       "      <td>3.521</td>\n",
       "    </tr>\n",
       "    <tr>\n",
       "      <th>3</th>\n",
       "      <td>5.6431</td>\n",
       "      <td>52.0</td>\n",
       "      <td>5.817352</td>\n",
       "      <td>1.073059</td>\n",
       "      <td>558.0</td>\n",
       "      <td>2.547945</td>\n",
       "      <td>37.85</td>\n",
       "      <td>-122.25</td>\n",
       "      <td>3.413</td>\n",
       "    </tr>\n",
       "    <tr>\n",
       "      <th>4</th>\n",
       "      <td>3.8462</td>\n",
       "      <td>52.0</td>\n",
       "      <td>6.281853</td>\n",
       "      <td>1.081081</td>\n",
       "      <td>565.0</td>\n",
       "      <td>2.181467</td>\n",
       "      <td>37.85</td>\n",
       "      <td>-122.25</td>\n",
       "      <td>3.422</td>\n",
       "    </tr>\n",
       "  </tbody>\n",
       "</table>\n",
       "</div>"
      ],
      "text/plain": [
       "   MedInc  HouseAge  AveRooms  AveBedrms  Population  AveOccup  Latitude  \\\n",
       "0  8.3252      41.0  6.984127   1.023810       322.0  2.555556     37.88   \n",
       "1  8.3014      21.0  6.238137   0.971880      2401.0  2.109842     37.86   \n",
       "2  7.2574      52.0  8.288136   1.073446       496.0  2.802260     37.85   \n",
       "3  5.6431      52.0  5.817352   1.073059       558.0  2.547945     37.85   \n",
       "4  3.8462      52.0  6.281853   1.081081       565.0  2.181467     37.85   \n",
       "\n",
       "   Longitude  midhouseval  \n",
       "0    -122.23        4.526  \n",
       "1    -122.22        3.585  \n",
       "2    -122.24        3.521  \n",
       "3    -122.25        3.413  \n",
       "4    -122.25        3.422  "
      ]
     },
     "execution_count": 100,
     "metadata": {},
     "output_type": "execute_result"
    }
   ],
   "source": [
    "cal_df.head()"
   ]
  },
  {
   "cell_type": "markdown",
   "id": "072a0533",
   "metadata": {},
   "source": [
    "### drop nan"
   ]
  },
  {
   "cell_type": "code",
   "execution_count": 101,
   "id": "3ff80dcb",
   "metadata": {},
   "outputs": [
    {
     "data": {
      "text/html": [
       "<div>\n",
       "<style scoped>\n",
       "    .dataframe tbody tr th:only-of-type {\n",
       "        vertical-align: middle;\n",
       "    }\n",
       "\n",
       "    .dataframe tbody tr th {\n",
       "        vertical-align: top;\n",
       "    }\n",
       "\n",
       "    .dataframe thead th {\n",
       "        text-align: right;\n",
       "    }\n",
       "</style>\n",
       "<table border=\"1\" class=\"dataframe\">\n",
       "  <thead>\n",
       "    <tr style=\"text-align: right;\">\n",
       "      <th></th>\n",
       "      <th>MedInc</th>\n",
       "      <th>HouseAge</th>\n",
       "      <th>AveRooms</th>\n",
       "      <th>AveBedrms</th>\n",
       "      <th>Population</th>\n",
       "      <th>AveOccup</th>\n",
       "      <th>Latitude</th>\n",
       "      <th>Longitude</th>\n",
       "      <th>midhouseval</th>\n",
       "    </tr>\n",
       "  </thead>\n",
       "  <tbody>\n",
       "    <tr>\n",
       "      <th>0</th>\n",
       "      <td>8.3252</td>\n",
       "      <td>41.0</td>\n",
       "      <td>6.984127</td>\n",
       "      <td>1.023810</td>\n",
       "      <td>322.0</td>\n",
       "      <td>2.555556</td>\n",
       "      <td>37.88</td>\n",
       "      <td>-122.23</td>\n",
       "      <td>4.526</td>\n",
       "    </tr>\n",
       "    <tr>\n",
       "      <th>1</th>\n",
       "      <td>8.3014</td>\n",
       "      <td>21.0</td>\n",
       "      <td>6.238137</td>\n",
       "      <td>0.971880</td>\n",
       "      <td>2401.0</td>\n",
       "      <td>2.109842</td>\n",
       "      <td>37.86</td>\n",
       "      <td>-122.22</td>\n",
       "      <td>3.585</td>\n",
       "    </tr>\n",
       "    <tr>\n",
       "      <th>2</th>\n",
       "      <td>7.2574</td>\n",
       "      <td>52.0</td>\n",
       "      <td>8.288136</td>\n",
       "      <td>1.073446</td>\n",
       "      <td>496.0</td>\n",
       "      <td>2.802260</td>\n",
       "      <td>37.85</td>\n",
       "      <td>-122.24</td>\n",
       "      <td>3.521</td>\n",
       "    </tr>\n",
       "    <tr>\n",
       "      <th>3</th>\n",
       "      <td>5.6431</td>\n",
       "      <td>52.0</td>\n",
       "      <td>5.817352</td>\n",
       "      <td>1.073059</td>\n",
       "      <td>558.0</td>\n",
       "      <td>2.547945</td>\n",
       "      <td>37.85</td>\n",
       "      <td>-122.25</td>\n",
       "      <td>3.413</td>\n",
       "    </tr>\n",
       "    <tr>\n",
       "      <th>4</th>\n",
       "      <td>3.8462</td>\n",
       "      <td>52.0</td>\n",
       "      <td>6.281853</td>\n",
       "      <td>1.081081</td>\n",
       "      <td>565.0</td>\n",
       "      <td>2.181467</td>\n",
       "      <td>37.85</td>\n",
       "      <td>-122.25</td>\n",
       "      <td>3.422</td>\n",
       "    </tr>\n",
       "    <tr>\n",
       "      <th>...</th>\n",
       "      <td>...</td>\n",
       "      <td>...</td>\n",
       "      <td>...</td>\n",
       "      <td>...</td>\n",
       "      <td>...</td>\n",
       "      <td>...</td>\n",
       "      <td>...</td>\n",
       "      <td>...</td>\n",
       "      <td>...</td>\n",
       "    </tr>\n",
       "    <tr>\n",
       "      <th>20635</th>\n",
       "      <td>1.5603</td>\n",
       "      <td>25.0</td>\n",
       "      <td>5.045455</td>\n",
       "      <td>1.133333</td>\n",
       "      <td>845.0</td>\n",
       "      <td>2.560606</td>\n",
       "      <td>39.48</td>\n",
       "      <td>-121.09</td>\n",
       "      <td>0.781</td>\n",
       "    </tr>\n",
       "    <tr>\n",
       "      <th>20636</th>\n",
       "      <td>2.5568</td>\n",
       "      <td>18.0</td>\n",
       "      <td>6.114035</td>\n",
       "      <td>1.315789</td>\n",
       "      <td>356.0</td>\n",
       "      <td>3.122807</td>\n",
       "      <td>39.49</td>\n",
       "      <td>-121.21</td>\n",
       "      <td>0.771</td>\n",
       "    </tr>\n",
       "    <tr>\n",
       "      <th>20637</th>\n",
       "      <td>1.7000</td>\n",
       "      <td>17.0</td>\n",
       "      <td>5.205543</td>\n",
       "      <td>1.120092</td>\n",
       "      <td>1007.0</td>\n",
       "      <td>2.325635</td>\n",
       "      <td>39.43</td>\n",
       "      <td>-121.22</td>\n",
       "      <td>0.923</td>\n",
       "    </tr>\n",
       "    <tr>\n",
       "      <th>20638</th>\n",
       "      <td>1.8672</td>\n",
       "      <td>18.0</td>\n",
       "      <td>5.329513</td>\n",
       "      <td>1.171920</td>\n",
       "      <td>741.0</td>\n",
       "      <td>2.123209</td>\n",
       "      <td>39.43</td>\n",
       "      <td>-121.32</td>\n",
       "      <td>0.847</td>\n",
       "    </tr>\n",
       "    <tr>\n",
       "      <th>20639</th>\n",
       "      <td>2.3886</td>\n",
       "      <td>16.0</td>\n",
       "      <td>5.254717</td>\n",
       "      <td>1.162264</td>\n",
       "      <td>1387.0</td>\n",
       "      <td>2.616981</td>\n",
       "      <td>39.37</td>\n",
       "      <td>-121.24</td>\n",
       "      <td>0.894</td>\n",
       "    </tr>\n",
       "  </tbody>\n",
       "</table>\n",
       "<p>20640 rows × 9 columns</p>\n",
       "</div>"
      ],
      "text/plain": [
       "       MedInc  HouseAge  AveRooms  AveBedrms  Population  AveOccup  Latitude  \\\n",
       "0      8.3252      41.0  6.984127   1.023810       322.0  2.555556     37.88   \n",
       "1      8.3014      21.0  6.238137   0.971880      2401.0  2.109842     37.86   \n",
       "2      7.2574      52.0  8.288136   1.073446       496.0  2.802260     37.85   \n",
       "3      5.6431      52.0  5.817352   1.073059       558.0  2.547945     37.85   \n",
       "4      3.8462      52.0  6.281853   1.081081       565.0  2.181467     37.85   \n",
       "...       ...       ...       ...        ...         ...       ...       ...   \n",
       "20635  1.5603      25.0  5.045455   1.133333       845.0  2.560606     39.48   \n",
       "20636  2.5568      18.0  6.114035   1.315789       356.0  3.122807     39.49   \n",
       "20637  1.7000      17.0  5.205543   1.120092      1007.0  2.325635     39.43   \n",
       "20638  1.8672      18.0  5.329513   1.171920       741.0  2.123209     39.43   \n",
       "20639  2.3886      16.0  5.254717   1.162264      1387.0  2.616981     39.37   \n",
       "\n",
       "       Longitude  midhouseval  \n",
       "0        -122.23        4.526  \n",
       "1        -122.22        3.585  \n",
       "2        -122.24        3.521  \n",
       "3        -122.25        3.413  \n",
       "4        -122.25        3.422  \n",
       "...          ...          ...  \n",
       "20635    -121.09        0.781  \n",
       "20636    -121.21        0.771  \n",
       "20637    -121.22        0.923  \n",
       "20638    -121.32        0.847  \n",
       "20639    -121.24        0.894  \n",
       "\n",
       "[20640 rows x 9 columns]"
      ]
     },
     "execution_count": 101,
     "metadata": {},
     "output_type": "execute_result"
    }
   ],
   "source": [
    "#drop nan\n",
    "cal_df.dropna()"
   ]
  },
  {
   "cell_type": "markdown",
   "id": "bae6b24f",
   "metadata": {},
   "source": [
    "### drop duplicates"
   ]
  },
  {
   "cell_type": "code",
   "execution_count": 102,
   "id": "5aa425d0",
   "metadata": {},
   "outputs": [
    {
     "data": {
      "text/html": [
       "<div>\n",
       "<style scoped>\n",
       "    .dataframe tbody tr th:only-of-type {\n",
       "        vertical-align: middle;\n",
       "    }\n",
       "\n",
       "    .dataframe tbody tr th {\n",
       "        vertical-align: top;\n",
       "    }\n",
       "\n",
       "    .dataframe thead th {\n",
       "        text-align: right;\n",
       "    }\n",
       "</style>\n",
       "<table border=\"1\" class=\"dataframe\">\n",
       "  <thead>\n",
       "    <tr style=\"text-align: right;\">\n",
       "      <th></th>\n",
       "      <th>MedInc</th>\n",
       "      <th>HouseAge</th>\n",
       "      <th>AveRooms</th>\n",
       "      <th>AveBedrms</th>\n",
       "      <th>Population</th>\n",
       "      <th>AveOccup</th>\n",
       "      <th>Latitude</th>\n",
       "      <th>Longitude</th>\n",
       "      <th>midhouseval</th>\n",
       "    </tr>\n",
       "  </thead>\n",
       "  <tbody>\n",
       "    <tr>\n",
       "      <th>0</th>\n",
       "      <td>8.3252</td>\n",
       "      <td>41.0</td>\n",
       "      <td>6.984127</td>\n",
       "      <td>1.023810</td>\n",
       "      <td>322.0</td>\n",
       "      <td>2.555556</td>\n",
       "      <td>37.88</td>\n",
       "      <td>-122.23</td>\n",
       "      <td>4.526</td>\n",
       "    </tr>\n",
       "    <tr>\n",
       "      <th>1</th>\n",
       "      <td>8.3014</td>\n",
       "      <td>21.0</td>\n",
       "      <td>6.238137</td>\n",
       "      <td>0.971880</td>\n",
       "      <td>2401.0</td>\n",
       "      <td>2.109842</td>\n",
       "      <td>37.86</td>\n",
       "      <td>-122.22</td>\n",
       "      <td>3.585</td>\n",
       "    </tr>\n",
       "    <tr>\n",
       "      <th>2</th>\n",
       "      <td>7.2574</td>\n",
       "      <td>52.0</td>\n",
       "      <td>8.288136</td>\n",
       "      <td>1.073446</td>\n",
       "      <td>496.0</td>\n",
       "      <td>2.802260</td>\n",
       "      <td>37.85</td>\n",
       "      <td>-122.24</td>\n",
       "      <td>3.521</td>\n",
       "    </tr>\n",
       "    <tr>\n",
       "      <th>3</th>\n",
       "      <td>5.6431</td>\n",
       "      <td>52.0</td>\n",
       "      <td>5.817352</td>\n",
       "      <td>1.073059</td>\n",
       "      <td>558.0</td>\n",
       "      <td>2.547945</td>\n",
       "      <td>37.85</td>\n",
       "      <td>-122.25</td>\n",
       "      <td>3.413</td>\n",
       "    </tr>\n",
       "    <tr>\n",
       "      <th>4</th>\n",
       "      <td>3.8462</td>\n",
       "      <td>52.0</td>\n",
       "      <td>6.281853</td>\n",
       "      <td>1.081081</td>\n",
       "      <td>565.0</td>\n",
       "      <td>2.181467</td>\n",
       "      <td>37.85</td>\n",
       "      <td>-122.25</td>\n",
       "      <td>3.422</td>\n",
       "    </tr>\n",
       "    <tr>\n",
       "      <th>...</th>\n",
       "      <td>...</td>\n",
       "      <td>...</td>\n",
       "      <td>...</td>\n",
       "      <td>...</td>\n",
       "      <td>...</td>\n",
       "      <td>...</td>\n",
       "      <td>...</td>\n",
       "      <td>...</td>\n",
       "      <td>...</td>\n",
       "    </tr>\n",
       "    <tr>\n",
       "      <th>20635</th>\n",
       "      <td>1.5603</td>\n",
       "      <td>25.0</td>\n",
       "      <td>5.045455</td>\n",
       "      <td>1.133333</td>\n",
       "      <td>845.0</td>\n",
       "      <td>2.560606</td>\n",
       "      <td>39.48</td>\n",
       "      <td>-121.09</td>\n",
       "      <td>0.781</td>\n",
       "    </tr>\n",
       "    <tr>\n",
       "      <th>20636</th>\n",
       "      <td>2.5568</td>\n",
       "      <td>18.0</td>\n",
       "      <td>6.114035</td>\n",
       "      <td>1.315789</td>\n",
       "      <td>356.0</td>\n",
       "      <td>3.122807</td>\n",
       "      <td>39.49</td>\n",
       "      <td>-121.21</td>\n",
       "      <td>0.771</td>\n",
       "    </tr>\n",
       "    <tr>\n",
       "      <th>20637</th>\n",
       "      <td>1.7000</td>\n",
       "      <td>17.0</td>\n",
       "      <td>5.205543</td>\n",
       "      <td>1.120092</td>\n",
       "      <td>1007.0</td>\n",
       "      <td>2.325635</td>\n",
       "      <td>39.43</td>\n",
       "      <td>-121.22</td>\n",
       "      <td>0.923</td>\n",
       "    </tr>\n",
       "    <tr>\n",
       "      <th>20638</th>\n",
       "      <td>1.8672</td>\n",
       "      <td>18.0</td>\n",
       "      <td>5.329513</td>\n",
       "      <td>1.171920</td>\n",
       "      <td>741.0</td>\n",
       "      <td>2.123209</td>\n",
       "      <td>39.43</td>\n",
       "      <td>-121.32</td>\n",
       "      <td>0.847</td>\n",
       "    </tr>\n",
       "    <tr>\n",
       "      <th>20639</th>\n",
       "      <td>2.3886</td>\n",
       "      <td>16.0</td>\n",
       "      <td>5.254717</td>\n",
       "      <td>1.162264</td>\n",
       "      <td>1387.0</td>\n",
       "      <td>2.616981</td>\n",
       "      <td>39.37</td>\n",
       "      <td>-121.24</td>\n",
       "      <td>0.894</td>\n",
       "    </tr>\n",
       "  </tbody>\n",
       "</table>\n",
       "<p>20640 rows × 9 columns</p>\n",
       "</div>"
      ],
      "text/plain": [
       "       MedInc  HouseAge  AveRooms  AveBedrms  Population  AveOccup  Latitude  \\\n",
       "0      8.3252      41.0  6.984127   1.023810       322.0  2.555556     37.88   \n",
       "1      8.3014      21.0  6.238137   0.971880      2401.0  2.109842     37.86   \n",
       "2      7.2574      52.0  8.288136   1.073446       496.0  2.802260     37.85   \n",
       "3      5.6431      52.0  5.817352   1.073059       558.0  2.547945     37.85   \n",
       "4      3.8462      52.0  6.281853   1.081081       565.0  2.181467     37.85   \n",
       "...       ...       ...       ...        ...         ...       ...       ...   \n",
       "20635  1.5603      25.0  5.045455   1.133333       845.0  2.560606     39.48   \n",
       "20636  2.5568      18.0  6.114035   1.315789       356.0  3.122807     39.49   \n",
       "20637  1.7000      17.0  5.205543   1.120092      1007.0  2.325635     39.43   \n",
       "20638  1.8672      18.0  5.329513   1.171920       741.0  2.123209     39.43   \n",
       "20639  2.3886      16.0  5.254717   1.162264      1387.0  2.616981     39.37   \n",
       "\n",
       "       Longitude  midhouseval  \n",
       "0        -122.23        4.526  \n",
       "1        -122.22        3.585  \n",
       "2        -122.24        3.521  \n",
       "3        -122.25        3.413  \n",
       "4        -122.25        3.422  \n",
       "...          ...          ...  \n",
       "20635    -121.09        0.781  \n",
       "20636    -121.21        0.771  \n",
       "20637    -121.22        0.923  \n",
       "20638    -121.32        0.847  \n",
       "20639    -121.24        0.894  \n",
       "\n",
       "[20640 rows x 9 columns]"
      ]
     },
     "execution_count": 102,
     "metadata": {},
     "output_type": "execute_result"
    }
   ],
   "source": [
    "#drop duplicates\n",
    "cal_df.drop_duplicates(keep = 'last') "
   ]
  },
  {
   "cell_type": "markdown",
   "id": "4fa1cf5a",
   "metadata": {},
   "source": [
    "### use boxplot check there is any outliers?"
   ]
  },
  {
   "cell_type": "code",
   "execution_count": 103,
   "id": "e07c5b29",
   "metadata": {},
   "outputs": [
    {
     "data": {
      "text/plain": [
       "{'whiskers': [<matplotlib.lines.Line2D at 0x2b9e50f3390>,\n",
       "  <matplotlib.lines.Line2D at 0x2b9e50f3668>,\n",
       "  <matplotlib.lines.Line2D at 0x2b9e51047b8>,\n",
       "  <matplotlib.lines.Line2D at 0x2b9e5104a90>,\n",
       "  <matplotlib.lines.Line2D at 0x2b9e5112be0>,\n",
       "  <matplotlib.lines.Line2D at 0x2b9e5112eb8>,\n",
       "  <matplotlib.lines.Line2D at 0x2b9e512f048>,\n",
       "  <matplotlib.lines.Line2D at 0x2b9e512f320>,\n",
       "  <matplotlib.lines.Line2D at 0x2b9e513b470>,\n",
       "  <matplotlib.lines.Line2D at 0x2b9e513b748>,\n",
       "  <matplotlib.lines.Line2D at 0x2b9e5149898>,\n",
       "  <matplotlib.lines.Line2D at 0x2b9e5149b70>,\n",
       "  <matplotlib.lines.Line2D at 0x2b9e5158cc0>,\n",
       "  <matplotlib.lines.Line2D at 0x2b9e5158f98>,\n",
       "  <matplotlib.lines.Line2D at 0x2b9e5172128>,\n",
       "  <matplotlib.lines.Line2D at 0x2b9e5172400>,\n",
       "  <matplotlib.lines.Line2D at 0x2b9e5180550>,\n",
       "  <matplotlib.lines.Line2D at 0x2b9e5180828>],\n",
       " 'caps': [<matplotlib.lines.Line2D at 0x2b9e50f3940>,\n",
       "  <matplotlib.lines.Line2D at 0x2b9e50f3c18>,\n",
       "  <matplotlib.lines.Line2D at 0x2b9e5104d68>,\n",
       "  <matplotlib.lines.Line2D at 0x2b9e5112080>,\n",
       "  <matplotlib.lines.Line2D at 0x2b9e511e1d0>,\n",
       "  <matplotlib.lines.Line2D at 0x2b9e511e4a8>,\n",
       "  <matplotlib.lines.Line2D at 0x2b9e512f5f8>,\n",
       "  <matplotlib.lines.Line2D at 0x2b9e512f8d0>,\n",
       "  <matplotlib.lines.Line2D at 0x2b9e513ba20>,\n",
       "  <matplotlib.lines.Line2D at 0x2b9e513bcf8>,\n",
       "  <matplotlib.lines.Line2D at 0x2b9e5149e48>,\n",
       "  <matplotlib.lines.Line2D at 0x2b9e5158160>,\n",
       "  <matplotlib.lines.Line2D at 0x2b9e51662b0>,\n",
       "  <matplotlib.lines.Line2D at 0x2b9e5166588>,\n",
       "  <matplotlib.lines.Line2D at 0x2b9e51726d8>,\n",
       "  <matplotlib.lines.Line2D at 0x2b9e51729b0>,\n",
       "  <matplotlib.lines.Line2D at 0x2b9e5180b00>,\n",
       "  <matplotlib.lines.Line2D at 0x2b9e5180dd8>],\n",
       " 'boxes': [<matplotlib.lines.Line2D at 0x2b9e50f30f0>,\n",
       "  <matplotlib.lines.Line2D at 0x2b9e5104400>,\n",
       "  <matplotlib.lines.Line2D at 0x2b9e5112828>,\n",
       "  <matplotlib.lines.Line2D at 0x2b9e511ec50>,\n",
       "  <matplotlib.lines.Line2D at 0x2b9e513b0b8>,\n",
       "  <matplotlib.lines.Line2D at 0x2b9e51494e0>,\n",
       "  <matplotlib.lines.Line2D at 0x2b9e5158908>,\n",
       "  <matplotlib.lines.Line2D at 0x2b9e5166d30>,\n",
       "  <matplotlib.lines.Line2D at 0x2b9e5180198>],\n",
       " 'medians': [<matplotlib.lines.Line2D at 0x2b9e50f3ef0>,\n",
       "  <matplotlib.lines.Line2D at 0x2b9e5112358>,\n",
       "  <matplotlib.lines.Line2D at 0x2b9e511e780>,\n",
       "  <matplotlib.lines.Line2D at 0x2b9e512fba8>,\n",
       "  <matplotlib.lines.Line2D at 0x2b9e513bfd0>,\n",
       "  <matplotlib.lines.Line2D at 0x2b9e5158438>,\n",
       "  <matplotlib.lines.Line2D at 0x2b9e5166860>,\n",
       "  <matplotlib.lines.Line2D at 0x2b9e5172c88>,\n",
       "  <matplotlib.lines.Line2D at 0x2b9e518d0f0>],\n",
       " 'fliers': [<matplotlib.lines.Line2D at 0x2b9e5104208>,\n",
       "  <matplotlib.lines.Line2D at 0x2b9e5112630>,\n",
       "  <matplotlib.lines.Line2D at 0x2b9e511ea58>,\n",
       "  <matplotlib.lines.Line2D at 0x2b9e512fe80>,\n",
       "  <matplotlib.lines.Line2D at 0x2b9e51492e8>,\n",
       "  <matplotlib.lines.Line2D at 0x2b9e5158710>,\n",
       "  <matplotlib.lines.Line2D at 0x2b9e5166b38>,\n",
       "  <matplotlib.lines.Line2D at 0x2b9e5172f60>,\n",
       "  <matplotlib.lines.Line2D at 0x2b9e518d3c8>],\n",
       " 'means': []}"
      ]
     },
     "execution_count": 103,
     "metadata": {},
     "output_type": "execute_result"
    },
    {
     "data": {
      "image/png": "[encoded data removed]",
      "text/plain": [
       "<Figure size 432x288 with 1 Axes>"
      ]
     },
     "metadata": {
      "needs_background": "light"
     },
     "output_type": "display_data"
    }
   ],
   "source": [
    "# check for outliers find there are quite few outliers in column Population\n",
    "plt.boxplot(cal_df)"
   ]
  },
  {
   "cell_type": "markdown",
   "id": "6af23ec7",
   "metadata": {},
   "source": [
    "### check quantiles for each column"
   ]
  },
  {
   "cell_type": "code",
   "execution_count": 104,
   "id": "c096d8e4",
   "metadata": {},
   "outputs": [
    {
     "data": {
      "text/html": [
       "<div>\n",
       "<style scoped>\n",
       "    .dataframe tbody tr th:only-of-type {\n",
       "        vertical-align: middle;\n",
       "    }\n",
       "\n",
       "    .dataframe tbody tr th {\n",
       "        vertical-align: top;\n",
       "    }\n",
       "\n",
       "    .dataframe thead th {\n",
       "        text-align: right;\n",
       "    }\n",
       "</style>\n",
       "<table border=\"1\" class=\"dataframe\">\n",
       "  <thead>\n",
       "    <tr style=\"text-align: right;\">\n",
       "      <th></th>\n",
       "      <th>MedInc</th>\n",
       "      <th>HouseAge</th>\n",
       "      <th>AveRooms</th>\n",
       "      <th>AveBedrms</th>\n",
       "      <th>Population</th>\n",
       "      <th>AveOccup</th>\n",
       "      <th>Latitude</th>\n",
       "      <th>Longitude</th>\n",
       "      <th>midhouseval</th>\n",
       "    </tr>\n",
       "  </thead>\n",
       "  <tbody>\n",
       "    <tr>\n",
       "      <th>count</th>\n",
       "      <td>20640.000000</td>\n",
       "      <td>20640.000000</td>\n",
       "      <td>20640.000000</td>\n",
       "      <td>20640.000000</td>\n",
       "      <td>20640.000000</td>\n",
       "      <td>20640.000000</td>\n",
       "      <td>20640.000000</td>\n",
       "      <td>20640.000000</td>\n",
       "      <td>20640.000000</td>\n",
       "    </tr>\n",
       "    <tr>\n",
       "      <th>mean</th>\n",
       "      <td>3.870671</td>\n",
       "      <td>28.639486</td>\n",
       "      <td>5.429000</td>\n",
       "      <td>1.096675</td>\n",
       "      <td>1425.476744</td>\n",
       "      <td>3.070655</td>\n",
       "      <td>35.631861</td>\n",
       "      <td>-119.569704</td>\n",
       "      <td>2.068558</td>\n",
       "    </tr>\n",
       "    <tr>\n",
       "      <th>std</th>\n",
       "      <td>1.899822</td>\n",
       "      <td>12.585558</td>\n",
       "      <td>2.474173</td>\n",
       "      <td>0.473911</td>\n",
       "      <td>1132.462122</td>\n",
       "      <td>10.386050</td>\n",
       "      <td>2.135952</td>\n",
       "      <td>2.003532</td>\n",
       "      <td>1.153956</td>\n",
       "    </tr>\n",
       "    <tr>\n",
       "      <th>min</th>\n",
       "      <td>0.499900</td>\n",
       "      <td>1.000000</td>\n",
       "      <td>0.846154</td>\n",
       "      <td>0.333333</td>\n",
       "      <td>3.000000</td>\n",
       "      <td>0.692308</td>\n",
       "      <td>32.540000</td>\n",
       "      <td>-124.350000</td>\n",
       "      <td>0.149990</td>\n",
       "    </tr>\n",
       "    <tr>\n",
       "      <th>25%</th>\n",
       "      <td>2.563400</td>\n",
       "      <td>18.000000</td>\n",
       "      <td>4.440716</td>\n",
       "      <td>1.006079</td>\n",
       "      <td>787.000000</td>\n",
       "      <td>2.429741</td>\n",
       "      <td>33.930000</td>\n",
       "      <td>-121.800000</td>\n",
       "      <td>1.196000</td>\n",
       "    </tr>\n",
       "    <tr>\n",
       "      <th>50%</th>\n",
       "      <td>3.534800</td>\n",
       "      <td>29.000000</td>\n",
       "      <td>5.229129</td>\n",
       "      <td>1.048780</td>\n",
       "      <td>1166.000000</td>\n",
       "      <td>2.818116</td>\n",
       "      <td>34.260000</td>\n",
       "      <td>-118.490000</td>\n",
       "      <td>1.797000</td>\n",
       "    </tr>\n",
       "    <tr>\n",
       "      <th>75%</th>\n",
       "      <td>4.743250</td>\n",
       "      <td>37.000000</td>\n",
       "      <td>6.052381</td>\n",
       "      <td>1.099526</td>\n",
       "      <td>1725.000000</td>\n",
       "      <td>3.282261</td>\n",
       "      <td>37.710000</td>\n",
       "      <td>-118.010000</td>\n",
       "      <td>2.647250</td>\n",
       "    </tr>\n",
       "    <tr>\n",
       "      <th>max</th>\n",
       "      <td>15.000100</td>\n",
       "      <td>52.000000</td>\n",
       "      <td>141.909091</td>\n",
       "      <td>34.066667</td>\n",
       "      <td>35682.000000</td>\n",
       "      <td>1243.333333</td>\n",
       "      <td>41.950000</td>\n",
       "      <td>-114.310000</td>\n",
       "      <td>5.000010</td>\n",
       "    </tr>\n",
       "  </tbody>\n",
       "</table>\n",
       "</div>"
      ],
      "text/plain": [
       "             MedInc      HouseAge      AveRooms     AveBedrms    Population  \\\n",
       "count  20640.000000  20640.000000  20640.000000  20640.000000  20640.000000   \n",
       "mean       3.870671     28.639486      5.429000      1.096675   1425.476744   \n",
       "std        1.899822     12.585558      2.474173      0.473911   1132.462122   \n",
       "min        0.499900      1.000000      0.846154      0.333333      3.000000   \n",
       "25%        2.563400     18.000000      4.440716      1.006079    787.000000   \n",
       "50%        3.534800     29.000000      5.229129      1.048780   1166.000000   \n",
       "75%        4.743250     37.000000      6.052381      1.099526   1725.000000   \n",
       "max       15.000100     52.000000    141.909091     34.066667  35682.000000   \n",
       "\n",
       "           AveOccup      Latitude     Longitude   midhouseval  \n",
       "count  20640.000000  20640.000000  20640.000000  20640.000000  \n",
       "mean       3.070655     35.631861   -119.569704      2.068558  \n",
       "std       10.386050      2.135952      2.003532      1.153956  \n",
       "min        0.692308     32.540000   -124.350000      0.149990  \n",
       "25%        2.429741     33.930000   -121.800000      1.196000  \n",
       "50%        2.818116     34.260000   -118.490000      1.797000  \n",
       "75%        3.282261     37.710000   -118.010000      2.647250  \n",
       "max     1243.333333     41.950000   -114.310000      5.000010  "
      ]
     },
     "execution_count": 104,
     "metadata": {},
     "output_type": "execute_result"
    }
   ],
   "source": [
    "cal_df.describe()"
   ]
  },
  {
   "cell_type": "code",
   "execution_count": 106,
   "id": "5abda54a",
   "metadata": {},
   "outputs": [
    {
     "data": {
      "text/plain": [
       "20640"
      ]
     },
     "execution_count": 106,
     "metadata": {},
     "output_type": "execute_result"
    }
   ],
   "source": [
    "#check the original len()\n",
    "rows_original = len(cal_df)\n",
    "rows_original"
   ]
  },
  {
   "cell_type": "markdown",
   "id": "1a6a06ee",
   "metadata": {},
   "source": [
    "## remove all the outliers from each column except \"Latitude\" and \"Logitude\""
   ]
  },
  {
   "cell_type": "code",
   "execution_count": 107,
   "id": "599d6562",
   "metadata": {},
   "outputs": [],
   "source": [
    "columns = [x for x in cal_df.columns]\n",
    "# columns"
   ]
  },
  {
   "cell_type": "code",
   "execution_count": 108,
   "id": "79bd5065",
   "metadata": {},
   "outputs": [],
   "source": [
    "for col in columns:\n",
    "    if col == \"Latitude\" or \"Logitude\":\n",
    "        #print(\"passed\")\n",
    "        pass\n",
    "    Q1 = cal_df[col].quantile(0.25)\n",
    "    Q3 = cal_df[col].quantile(0.75)\n",
    "    IQR = Q3 - Q1\n",
    "\n",
    "    cal_df = cal_df[~((cal_df[col] < (Q1 - 1.5 * IQR)) | (cal_df[col] > (Q3 + 1.5 * IQR)))]\n"
   ]
  },
  {
   "cell_type": "code",
   "execution_count": 109,
   "id": "b55b4e8b",
   "metadata": {},
   "outputs": [
    {
     "data": {
      "text/plain": [
       "4408"
      ]
     },
     "execution_count": 109,
     "metadata": {},
     "output_type": "execute_result"
    }
   ],
   "source": [
    "rows_after = len(cal_df)\n",
    "outlier_rows = rows_original - rows_after\n",
    "outlier_rows"
   ]
  },
  {
   "cell_type": "code",
   "execution_count": 110,
   "id": "edd01424",
   "metadata": {},
   "outputs": [
    {
     "data": {
      "text/plain": [
       "{'whiskers': [<matplotlib.lines.Line2D at 0x2b9e52781d0>,\n",
       "  <matplotlib.lines.Line2D at 0x2b9e52784a8>,\n",
       "  <matplotlib.lines.Line2D at 0x2b9e52845f8>,\n",
       "  <matplotlib.lines.Line2D at 0x2b9e52848d0>,\n",
       "  <matplotlib.lines.Line2D at 0x2b9e5292a20>,\n",
       "  <matplotlib.lines.Line2D at 0x2b9e5292cf8>,\n",
       "  <matplotlib.lines.Line2D at 0x2b9e529de48>,\n",
       "  <matplotlib.lines.Line2D at 0x2b9e52ad160>,\n",
       "  <matplotlib.lines.Line2D at 0x2b9e52bb2b0>,\n",
       "  <matplotlib.lines.Line2D at 0x2b9e52bb588>,\n",
       "  <matplotlib.lines.Line2D at 0x2b9e52c76d8>,\n",
       "  <matplotlib.lines.Line2D at 0x2b9e52c79b0>,\n",
       "  <matplotlib.lines.Line2D at 0x2b9e5a47b00>,\n",
       "  <matplotlib.lines.Line2D at 0x2b9e5a47dd8>,\n",
       "  <matplotlib.lines.Line2D at 0x2b9e5a56f28>,\n",
       "  <matplotlib.lines.Line2D at 0x2b9e5a63240>,\n",
       "  <matplotlib.lines.Line2D at 0x2b9e5a71390>,\n",
       "  <matplotlib.lines.Line2D at 0x2b9e5a71668>],\n",
       " 'caps': [<matplotlib.lines.Line2D at 0x2b9e5278780>,\n",
       "  <matplotlib.lines.Line2D at 0x2b9e5278a58>,\n",
       "  <matplotlib.lines.Line2D at 0x2b9e5284ba8>,\n",
       "  <matplotlib.lines.Line2D at 0x2b9e5284e80>,\n",
       "  <matplotlib.lines.Line2D at 0x2b9e5292fd0>,\n",
       "  <matplotlib.lines.Line2D at 0x2b9e529d2e8>,\n",
       "  <matplotlib.lines.Line2D at 0x2b9e52ad438>,\n",
       "  <matplotlib.lines.Line2D at 0x2b9e52ad710>,\n",
       "  <matplotlib.lines.Line2D at 0x2b9e52bb860>,\n",
       "  <matplotlib.lines.Line2D at 0x2b9e52bbb38>,\n",
       "  <matplotlib.lines.Line2D at 0x2b9e52c7c88>,\n",
       "  <matplotlib.lines.Line2D at 0x2b9e52c7f60>,\n",
       "  <matplotlib.lines.Line2D at 0x2b9e5a560f0>,\n",
       "  <matplotlib.lines.Line2D at 0x2b9e5a563c8>,\n",
       "  <matplotlib.lines.Line2D at 0x2b9e5a63518>,\n",
       "  <matplotlib.lines.Line2D at 0x2b9e5a637f0>,\n",
       "  <matplotlib.lines.Line2D at 0x2b9e5a71940>,\n",
       "  <matplotlib.lines.Line2D at 0x2b9e5a71c18>],\n",
       " 'boxes': [<matplotlib.lines.Line2D at 0x2b9e5267f28>,\n",
       "  <matplotlib.lines.Line2D at 0x2b9e5284240>,\n",
       "  <matplotlib.lines.Line2D at 0x2b9e5292668>,\n",
       "  <matplotlib.lines.Line2D at 0x2b9e529da90>,\n",
       "  <matplotlib.lines.Line2D at 0x2b9e52adeb8>,\n",
       "  <matplotlib.lines.Line2D at 0x2b9e52c7320>,\n",
       "  <matplotlib.lines.Line2D at 0x2b9e5a47748>,\n",
       "  <matplotlib.lines.Line2D at 0x2b9e5a56b70>,\n",
       "  <matplotlib.lines.Line2D at 0x2b9e5a71048>],\n",
       " 'medians': [<matplotlib.lines.Line2D at 0x2b9e5278d30>,\n",
       "  <matplotlib.lines.Line2D at 0x2b9e5292198>,\n",
       "  <matplotlib.lines.Line2D at 0x2b9e529d5c0>,\n",
       "  <matplotlib.lines.Line2D at 0x2b9e52ad9e8>,\n",
       "  <matplotlib.lines.Line2D at 0x2b9e52bbe10>,\n",
       "  <matplotlib.lines.Line2D at 0x2b9e5a47278>,\n",
       "  <matplotlib.lines.Line2D at 0x2b9e5a566a0>,\n",
       "  <matplotlib.lines.Line2D at 0x2b9e5a63ac8>,\n",
       "  <matplotlib.lines.Line2D at 0x2b9e5a71ef0>],\n",
       " 'fliers': [<matplotlib.lines.Line2D at 0x2b9e5284048>,\n",
       "  <matplotlib.lines.Line2D at 0x2b9e5292470>,\n",
       "  <matplotlib.lines.Line2D at 0x2b9e529d898>,\n",
       "  <matplotlib.lines.Line2D at 0x2b9e52adcc0>,\n",
       "  <matplotlib.lines.Line2D at 0x2b9e52c7128>,\n",
       "  <matplotlib.lines.Line2D at 0x2b9e5a47550>,\n",
       "  <matplotlib.lines.Line2D at 0x2b9e5a56978>,\n",
       "  <matplotlib.lines.Line2D at 0x2b9e5a63da0>,\n",
       "  <matplotlib.lines.Line2D at 0x2b9e5a7c208>],\n",
       " 'means': []}"
      ]
     },
     "execution_count": 110,
     "metadata": {},
     "output_type": "execute_result"
    },
    {
     "data": {
      "image/png": "[encoded data removed]",
      "text/plain": [
       "<Figure size 432x288 with 1 Axes>"
      ]
     },
     "metadata": {
      "needs_background": "light"
     },
     "output_type": "display_data"
    }
   ],
   "source": [
    "plt.boxplot(cal_df)"
   ]
  },
  {
   "cell_type": "code",
   "execution_count": 111,
   "id": "7a6acad0",
   "metadata": {},
   "outputs": [],
   "source": [
    "clean_df = cal_df.copy()\n",
    "clean_df.to_csv(\"data/clearned_cal_housing.csv\", index = False)"
   ]
  },
  {
   "cell_type": "code",
   "execution_count": 164,
   "id": "7689f67b",
   "metadata": {},
   "outputs": [
    {
     "data": {
      "text/html": [
       "<div>\n",
       "<style scoped>\n",
       "    .dataframe tbody tr th:only-of-type {\n",
       "        vertical-align: middle;\n",
       "    }\n",
       "\n",
       "    .dataframe tbody tr th {\n",
       "        vertical-align: top;\n",
       "    }\n",
       "\n",
       "    .dataframe thead th {\n",
       "        text-align: right;\n",
       "    }\n",
       "</style>\n",
       "<table border=\"1\" class=\"dataframe\">\n",
       "  <thead>\n",
       "    <tr style=\"text-align: right;\">\n",
       "      <th></th>\n",
       "      <th>MedInc</th>\n",
       "      <th>HouseAge</th>\n",
       "      <th>AveRooms</th>\n",
       "      <th>AveBedrms</th>\n",
       "      <th>Population</th>\n",
       "      <th>AveOccup</th>\n",
       "      <th>Latitude</th>\n",
       "      <th>Longitude</th>\n",
       "      <th>midhouseval</th>\n",
       "    </tr>\n",
       "  </thead>\n",
       "  <tbody>\n",
       "    <tr>\n",
       "      <th>0</th>\n",
       "      <td>5.6431</td>\n",
       "      <td>52.0</td>\n",
       "      <td>5.817352</td>\n",
       "      <td>1.073059</td>\n",
       "      <td>558.0</td>\n",
       "      <td>2.547945</td>\n",
       "      <td>37.85</td>\n",
       "      <td>-122.25</td>\n",
       "      <td>3.413</td>\n",
       "    </tr>\n",
       "    <tr>\n",
       "      <th>1</th>\n",
       "      <td>3.8462</td>\n",
       "      <td>52.0</td>\n",
       "      <td>6.281853</td>\n",
       "      <td>1.081081</td>\n",
       "      <td>565.0</td>\n",
       "      <td>2.181467</td>\n",
       "      <td>37.85</td>\n",
       "      <td>-122.25</td>\n",
       "      <td>3.422</td>\n",
       "    </tr>\n",
       "    <tr>\n",
       "      <th>2</th>\n",
       "      <td>4.0368</td>\n",
       "      <td>52.0</td>\n",
       "      <td>4.761658</td>\n",
       "      <td>1.103627</td>\n",
       "      <td>413.0</td>\n",
       "      <td>2.139896</td>\n",
       "      <td>37.85</td>\n",
       "      <td>-122.25</td>\n",
       "      <td>2.697</td>\n",
       "    </tr>\n",
       "    <tr>\n",
       "      <th>3</th>\n",
       "      <td>3.6591</td>\n",
       "      <td>52.0</td>\n",
       "      <td>4.931907</td>\n",
       "      <td>0.951362</td>\n",
       "      <td>1094.0</td>\n",
       "      <td>2.128405</td>\n",
       "      <td>37.84</td>\n",
       "      <td>-122.25</td>\n",
       "      <td>2.992</td>\n",
       "    </tr>\n",
       "    <tr>\n",
       "      <th>4</th>\n",
       "      <td>3.1200</td>\n",
       "      <td>52.0</td>\n",
       "      <td>4.797527</td>\n",
       "      <td>1.061824</td>\n",
       "      <td>1157.0</td>\n",
       "      <td>1.788253</td>\n",
       "      <td>37.84</td>\n",
       "      <td>-122.25</td>\n",
       "      <td>2.414</td>\n",
       "    </tr>\n",
       "  </tbody>\n",
       "</table>\n",
       "</div>"
      ],
      "text/plain": [
       "   MedInc  HouseAge  AveRooms  AveBedrms  Population  AveOccup  Latitude  \\\n",
       "0  5.6431      52.0  5.817352   1.073059       558.0  2.547945     37.85   \n",
       "1  3.8462      52.0  6.281853   1.081081       565.0  2.181467     37.85   \n",
       "2  4.0368      52.0  4.761658   1.103627       413.0  2.139896     37.85   \n",
       "3  3.6591      52.0  4.931907   0.951362      1094.0  2.128405     37.84   \n",
       "4  3.1200      52.0  4.797527   1.061824      1157.0  1.788253     37.84   \n",
       "\n",
       "   Longitude  midhouseval  \n",
       "0    -122.25        3.413  \n",
       "1    -122.25        3.422  \n",
       "2    -122.25        2.697  \n",
       "3    -122.25        2.992  \n",
       "4    -122.25        2.414  "
      ]
     },
     "execution_count": 164,
     "metadata": {},
     "output_type": "execute_result"
    }
   ],
   "source": [
    "newdf = pd.read_csv(\"data/clearned_cal_housing.csv\")\n",
    "newdf.head()"
   ]
  },
  {
   "cell_type": "code",
   "execution_count": 165,
   "id": "bee33a94",
   "metadata": {},
   "outputs": [
    {
     "data": {
      "text/html": [
       "<div>\n",
       "<style scoped>\n",
       "    .dataframe tbody tr th:only-of-type {\n",
       "        vertical-align: middle;\n",
       "    }\n",
       "\n",
       "    .dataframe tbody tr th {\n",
       "        vertical-align: top;\n",
       "    }\n",
       "\n",
       "    .dataframe thead th {\n",
       "        text-align: right;\n",
       "    }\n",
       "</style>\n",
       "<table border=\"1\" class=\"dataframe\">\n",
       "  <thead>\n",
       "    <tr style=\"text-align: right;\">\n",
       "      <th></th>\n",
       "      <th>MedInc</th>\n",
       "      <th>HouseAge</th>\n",
       "      <th>AveRooms</th>\n",
       "      <th>AveBedrms</th>\n",
       "      <th>Population</th>\n",
       "      <th>AveOccup</th>\n",
       "      <th>Latitude</th>\n",
       "      <th>Longitude</th>\n",
       "    </tr>\n",
       "  </thead>\n",
       "  <tbody>\n",
       "    <tr>\n",
       "      <th>0</th>\n",
       "      <td>5.6431</td>\n",
       "      <td>52.0</td>\n",
       "      <td>5.817352</td>\n",
       "      <td>1.073059</td>\n",
       "      <td>558.0</td>\n",
       "      <td>2.547945</td>\n",
       "      <td>37.85</td>\n",
       "      <td>-122.25</td>\n",
       "    </tr>\n",
       "    <tr>\n",
       "      <th>1</th>\n",
       "      <td>3.8462</td>\n",
       "      <td>52.0</td>\n",
       "      <td>6.281853</td>\n",
       "      <td>1.081081</td>\n",
       "      <td>565.0</td>\n",
       "      <td>2.181467</td>\n",
       "      <td>37.85</td>\n",
       "      <td>-122.25</td>\n",
       "    </tr>\n",
       "    <tr>\n",
       "      <th>2</th>\n",
       "      <td>4.0368</td>\n",
       "      <td>52.0</td>\n",
       "      <td>4.761658</td>\n",
       "      <td>1.103627</td>\n",
       "      <td>413.0</td>\n",
       "      <td>2.139896</td>\n",
       "      <td>37.85</td>\n",
       "      <td>-122.25</td>\n",
       "    </tr>\n",
       "    <tr>\n",
       "      <th>3</th>\n",
       "      <td>3.6591</td>\n",
       "      <td>52.0</td>\n",
       "      <td>4.931907</td>\n",
       "      <td>0.951362</td>\n",
       "      <td>1094.0</td>\n",
       "      <td>2.128405</td>\n",
       "      <td>37.84</td>\n",
       "      <td>-122.25</td>\n",
       "    </tr>\n",
       "    <tr>\n",
       "      <th>4</th>\n",
       "      <td>3.1200</td>\n",
       "      <td>52.0</td>\n",
       "      <td>4.797527</td>\n",
       "      <td>1.061824</td>\n",
       "      <td>1157.0</td>\n",
       "      <td>1.788253</td>\n",
       "      <td>37.84</td>\n",
       "      <td>-122.25</td>\n",
       "    </tr>\n",
       "  </tbody>\n",
       "</table>\n",
       "</div>"
      ],
      "text/plain": [
       "   MedInc  HouseAge  AveRooms  AveBedrms  Population  AveOccup  Latitude  \\\n",
       "0  5.6431      52.0  5.817352   1.073059       558.0  2.547945     37.85   \n",
       "1  3.8462      52.0  6.281853   1.081081       565.0  2.181467     37.85   \n",
       "2  4.0368      52.0  4.761658   1.103627       413.0  2.139896     37.85   \n",
       "3  3.6591      52.0  4.931907   0.951362      1094.0  2.128405     37.84   \n",
       "4  3.1200      52.0  4.797527   1.061824      1157.0  1.788253     37.84   \n",
       "\n",
       "   Longitude  \n",
       "0    -122.25  \n",
       "1    -122.25  \n",
       "2    -122.25  \n",
       "3    -122.25  \n",
       "4    -122.25  "
      ]
     },
     "execution_count": 165,
     "metadata": {},
     "output_type": "execute_result"
    }
   ],
   "source": [
    "X = newdf.drop(['midhouseval'], axis=1)\n",
    "y = newdf['midhouseval']\n",
    "X.head()"
   ]
  },
  {
   "cell_type": "code",
   "execution_count": 166,
   "id": "72541372",
   "metadata": {},
   "outputs": [
    {
     "data": {
      "text/plain": [
       "array([3.413, 3.422, 2.697, ..., 0.923, 0.847, 0.894])"
      ]
     },
     "execution_count": 166,
     "metadata": {},
     "output_type": "execute_result"
    }
   ],
   "source": [
    "#y = y.values.reshape(-1, 1)\n",
    "y = np.array(y)\n",
    "y"
   ]
  },
  {
   "cell_type": "code",
   "execution_count": 163,
   "id": "ccc52ab2",
   "metadata": {},
   "outputs": [
    {
     "name": "stdout",
     "output_type": "stream",
     "text": [
      "(16232, 8) (16232, 1)\n"
     ]
    }
   ],
   "source": [
    "print(X.shape, y.shape)"
   ]
  },
  {
   "cell_type": "markdown",
   "id": "7b782f5d",
   "metadata": {},
   "source": [
    "### split data into train and test sets"
   ]
  },
  {
   "cell_type": "code",
   "execution_count": 167,
   "id": "a76ed0b1",
   "metadata": {},
   "outputs": [
    {
     "data": {
      "text/plain": [
       "0.14999"
      ]
     },
     "execution_count": 167,
     "metadata": {},
     "output_type": "execute_result"
    }
   ],
   "source": [
    "y.min()"
   ]
  },
  {
   "cell_type": "code",
   "execution_count": 168,
   "id": "960cb539",
   "metadata": {},
   "outputs": [],
   "source": [
    "# split the data into train(0.8) and test(0.2), to facilitate use y -= y.mean()\n",
    "\n",
    "from sklearn.model_selection import train_test_split\n",
    "\n",
    "#y -= y.mean()\n",
    "\n",
    "X_train, X_test, y_train, y_test = train_test_split(\n",
    "    X, y, test_size=0.2)"
   ]
  },
  {
   "cell_type": "markdown",
   "id": "739455e4",
   "metadata": {},
   "source": [
    "## Test LinearRegression Without Preprocessing, R2 Score = 0.65"
   ]
  },
  {
   "cell_type": "code",
   "execution_count": 169,
   "id": "261b8464",
   "metadata": {},
   "outputs": [],
   "source": [
    "from time import time\n",
    "from sklearn.pipeline import make_pipeline\n",
    "from sklearn.metrics import mean_squared_error, r2_score"
   ]
  },
  {
   "cell_type": "code",
   "execution_count": 170,
   "id": "a6a8aaff",
   "metadata": {},
   "outputs": [
    {
     "name": "stdout",
     "output_type": "stream",
     "text": [
      "done in 0.007s\n",
      " MSE : 0.30\n",
      "Test R2 score: 0.64\n"
     ]
    }
   ],
   "source": [
    "from sklearn.linear_model import LinearRegression\n",
    "model = LinearRegression()\n",
    "\n",
    "# Fitting our model with all of our features in X\n",
    "t = time()\n",
    "model.fit(X_train, y_train)\n",
    "print(f\"done in {time() - t:.3f}s\")\n",
    "predictions = model.predict(X_test)\n",
    "MSE = mean_squared_error(y_test, predictions)\n",
    "print(f\" MSE : {MSE :.2f}\")\n",
    "print(f\"Test R2 score: {model.score(X_test, y_test):.2f}\")"
   ]
  },
  {
   "cell_type": "code",
   "execution_count": 171,
   "id": "a120b810",
   "metadata": {},
   "outputs": [
    {
     "data": {
      "text/html": [
       "<div>\n",
       "<style scoped>\n",
       "    .dataframe tbody tr th:only-of-type {\n",
       "        vertical-align: middle;\n",
       "    }\n",
       "\n",
       "    .dataframe tbody tr th {\n",
       "        vertical-align: top;\n",
       "    }\n",
       "\n",
       "    .dataframe thead th {\n",
       "        text-align: right;\n",
       "    }\n",
       "</style>\n",
       "<table border=\"1\" class=\"dataframe\">\n",
       "  <thead>\n",
       "    <tr style=\"text-align: right;\">\n",
       "      <th></th>\n",
       "      <th>Prediction</th>\n",
       "      <th>Actual</th>\n",
       "    </tr>\n",
       "  </thead>\n",
       "  <tbody>\n",
       "    <tr>\n",
       "      <th>0</th>\n",
       "      <td>1.906240</td>\n",
       "      <td>1.657</td>\n",
       "    </tr>\n",
       "    <tr>\n",
       "      <th>1</th>\n",
       "      <td>1.807845</td>\n",
       "      <td>1.372</td>\n",
       "    </tr>\n",
       "    <tr>\n",
       "      <th>2</th>\n",
       "      <td>1.133843</td>\n",
       "      <td>0.940</td>\n",
       "    </tr>\n",
       "    <tr>\n",
       "      <th>3</th>\n",
       "      <td>0.543252</td>\n",
       "      <td>0.932</td>\n",
       "    </tr>\n",
       "    <tr>\n",
       "      <th>4</th>\n",
       "      <td>2.312856</td>\n",
       "      <td>2.664</td>\n",
       "    </tr>\n",
       "    <tr>\n",
       "      <th>...</th>\n",
       "      <td>...</td>\n",
       "      <td>...</td>\n",
       "    </tr>\n",
       "    <tr>\n",
       "      <th>3242</th>\n",
       "      <td>1.898437</td>\n",
       "      <td>1.695</td>\n",
       "    </tr>\n",
       "    <tr>\n",
       "      <th>3243</th>\n",
       "      <td>0.144827</td>\n",
       "      <td>0.764</td>\n",
       "    </tr>\n",
       "    <tr>\n",
       "      <th>3244</th>\n",
       "      <td>1.642703</td>\n",
       "      <td>1.370</td>\n",
       "    </tr>\n",
       "    <tr>\n",
       "      <th>3245</th>\n",
       "      <td>1.503416</td>\n",
       "      <td>0.928</td>\n",
       "    </tr>\n",
       "    <tr>\n",
       "      <th>3246</th>\n",
       "      <td>2.900437</td>\n",
       "      <td>2.679</td>\n",
       "    </tr>\n",
       "  </tbody>\n",
       "</table>\n",
       "<p>3247 rows × 2 columns</p>\n",
       "</div>"
      ],
      "text/plain": [
       "      Prediction  Actual\n",
       "0       1.906240   1.657\n",
       "1       1.807845   1.372\n",
       "2       1.133843   0.940\n",
       "3       0.543252   0.932\n",
       "4       2.312856   2.664\n",
       "...          ...     ...\n",
       "3242    1.898437   1.695\n",
       "3243    0.144827   0.764\n",
       "3244    1.642703   1.370\n",
       "3245    1.503416   0.928\n",
       "3246    2.900437   2.679\n",
       "\n",
       "[3247 rows x 2 columns]"
      ]
     },
     "execution_count": 171,
     "metadata": {},
     "output_type": "execute_result"
    }
   ],
   "source": [
    "prediction = model.predict(X_test)\n",
    "pred1_df = pd.DataFrame({\"Prediction\": prediction, \"Actual\": y_test})\n",
    "pd.DataFrame({\"Prediction\": prediction, \"Actual\": y_test})"
   ]
  },
  {
   "cell_type": "code",
   "execution_count": 172,
   "id": "508276f0",
   "metadata": {},
   "outputs": [
    {
     "data": {
      "text/plain": [
       "Text(0.5, 1.0, 'Prediction vs Actual')"
      ]
     },
     "execution_count": 172,
     "metadata": {},
     "output_type": "execute_result"
    },
    {
     "data": {
      "image/png": "[encoded data removed]",
      "text/plain": [
       "<Figure size 432x288 with 1 Axes>"
      ]
     },
     "metadata": {
      "needs_background": "light"
     },
     "output_type": "display_data"
    }
   ],
   "source": [
    "plt.scatter(pred1_df[\"Prediction\"], pred1_df[\"Actual\"], c=\"#0DCE9E\")\n",
    "plt.title(\"Prediction vs Actual\")"
   ]
  },
  {
   "cell_type": "code",
   "execution_count": 173,
   "id": "5c7dc1d8",
   "metadata": {},
   "outputs": [
    {
     "data": {
      "image/png": "[encoded data removed]",
      "text/plain": [
       "<Figure size 432x288 with 1 Axes>"
      ]
     },
     "metadata": {
      "needs_background": "light"
     },
     "output_type": "display_data"
    }
   ],
   "source": [
    "# residual plot\n",
    "plt.scatter(model.predict(X_train), y_train - model.predict(X_train), c=\"#450303\", label=\"Training Data\")\n",
    "plt.scatter(model.predict(X_test), y_test - model.predict(X_test), c=\"#F08989\", label=\"Testing Data\")\n",
    "plt.legend()\n",
    "plt.hlines(y=0, xmin=y_test.min(), xmax=y_test.max())\n",
    "plt.title(\"Residual Plot\")\n",
    "plt.show()"
   ]
  },
  {
   "cell_type": "markdown",
   "id": "659844d0",
   "metadata": {},
   "source": [
    "## Test with Preprocessing StandardScaler and LinearRegressor Test R2 Score = 0.64"
   ]
  },
  {
   "cell_type": "code",
   "execution_count": 174,
   "id": "701982c7",
   "metadata": {},
   "outputs": [],
   "source": [
    "#Preprocessing X_train, X_test with StandardScaler\n",
    "from sklearn.preprocessing import StandardScaler\n",
    "X_scaler = StandardScaler().fit(X_train)\n",
    "#y_scaler = StandardScaler().fit(y_train)\n",
    "\n",
    "X_train_scaled = X_scaler.transform(X_train)\n",
    "X_test_scaled = X_scaler.transform(X_test)\n",
    "#y_train_scaled = y_scaler.transform(y_train)\n",
    "#y_test_scaled = y_scaler.transform(y_test)"
   ]
  },
  {
   "cell_type": "code",
   "execution_count": 175,
   "id": "11b28304",
   "metadata": {},
   "outputs": [
    {
     "data": {
      "image/png": "[encoded data removed]",
      "text/plain": [
       "<Figure size 432x288 with 1 Axes>"
      ]
     },
     "metadata": {
      "needs_background": "light"
     },
     "output_type": "display_data"
    }
   ],
   "source": [
    "#Train Model2 and calculate the residual plot\n",
    "model2 = LinearRegression()\n",
    "model2.fit(X_train_scaled, y_train)\n",
    "plt.scatter(model2.predict(X_train_scaled), model2.predict(X_train_scaled) - y_train, c=\"#450349\", label=\"Training Data\")\n",
    "plt.scatter(model2.predict(X_test_scaled), model2.predict(X_test_scaled) - y_test, c=\"#3DA5FF\", label=\"Testing Data\")\n",
    "plt.legend()\n",
    "plt.hlines(y=0, xmin=y_test.min(), xmax=y_test.max())\n",
    "plt.title(\"Residual Plot\")\n",
    "plt.show()"
   ]
  },
  {
   "cell_type": "code",
   "execution_count": 176,
   "id": "479aa251",
   "metadata": {},
   "outputs": [
    {
     "name": "stdout",
     "output_type": "stream",
     "text": [
      "MSE: 0.3018138928144292, R2: 0.640742009933803\n"
     ]
    }
   ],
   "source": [
    "predictions = model2.predict(X_test_scaled)\n",
    "MSE2 = mean_squared_error(y_test, predictions)\n",
    "r2_2 = model2.score(X_test_scaled, y_test)\n",
    "\n",
    "print(f\"MSE: {MSE2}, R2: {r2_2}\")"
   ]
  },
  {
   "cell_type": "markdown",
   "id": "3fd604fb",
   "metadata": {},
   "source": [
    "## Test Lasso Model with Test R2 = 0.64"
   ]
  },
  {
   "cell_type": "code",
   "execution_count": 177,
   "id": "cb857bde",
   "metadata": {},
   "outputs": [
    {
     "name": "stdout",
     "output_type": "stream",
     "text": [
      "MSE: 0.3023486267413657, R2: 0.6401055003483098\n"
     ]
    }
   ],
   "source": [
    "# LASSO model\n",
    "# Note: Use an alpha of .01 when creating the model for this activity\n",
    "from sklearn.linear_model import Lasso\n",
    "\n",
    "### BEGIN SOLUTION\n",
    "lasso = Lasso(alpha=.01).fit(X_train_scaled, y_train)\n",
    "\n",
    "predictions = lasso.predict(X_test_scaled)\n",
    "\n",
    "MSE3 = mean_squared_error(y_test, predictions)\n",
    "r2_3 = lasso.score(X_test_scaled, y_test)\n",
    "### END SOLUTION\n",
    "\n",
    "print(f\"MSE: {MSE3}, R2: {r2_3}\")"
   ]
  },
  {
   "cell_type": "markdown",
   "id": "b5025877",
   "metadata": {},
   "source": [
    "## Test ElasticNet Model with Test R2 = 0.64"
   ]
  },
  {
   "cell_type": "code",
   "execution_count": 178,
   "id": "d21a66b3",
   "metadata": {},
   "outputs": [
    {
     "name": "stdout",
     "output_type": "stream",
     "text": [
      "MSE: 0.3017645836570111, R2: 0.6408007040801218\n"
     ]
    }
   ],
   "source": [
    "# ElasticNet model\n",
    "# Note: Use an alpha of .01 when creating the model for this activity\n",
    "from sklearn.linear_model import ElasticNet\n",
    "\n",
    "### BEGIN SOLUTION\n",
    "elasticnet = ElasticNet(alpha=.01).fit(X_train_scaled, y_train)\n",
    "\n",
    "predictions4 = elasticnet.predict(X_test_scaled)\n",
    "\n",
    "MSE4 = mean_squared_error(y_test, predictions4)\n",
    "r2_4 = elasticnet.score(X_test_scaled, y_test)\n",
    "### END SOLUTION\n",
    "\n",
    "print(f\"MSE: {MSE4}, R2: {r2_4}\")"
   ]
  },
  {
   "cell_type": "markdown",
   "id": "22d84629",
   "metadata": {},
   "source": [
    "## Test Ridge Model with Test R2 = 0.65"
   ]
  },
  {
   "cell_type": "code",
   "execution_count": 179,
   "id": "c1b8ef0f",
   "metadata": {},
   "outputs": [
    {
     "name": "stdout",
     "output_type": "stream",
     "text": [
      "MSE: 0.30181372985360067, R2: 0.6407422039108899\n"
     ]
    }
   ],
   "source": [
    "# Ridge model\n",
    "# Note: Use an alpha of .01 when creating the model for this activity\n",
    "from sklearn.linear_model import Ridge\n",
    "\n",
    "### BEGIN SOLUTION\n",
    "ridge = Ridge(alpha=.01).fit(X_train_scaled, y_train)\n",
    "\n",
    "predictions5 = ridge.predict(X_test_scaled)\n",
    "\n",
    "MSE5 = mean_squared_error(y_test, predictions5)\n",
    "r2_5 = ridge.score(X_test_scaled, y_test)\n",
    "### END SOLUTION\n",
    "\n",
    "print(f\"MSE: {MSE5}, R2: {r2_5}\")"
   ]
  },
  {
   "cell_type": "markdown",
   "id": "48aa0218",
   "metadata": {},
   "source": [
    "## Test Preprocessing QuantileTransformer, and MLPRegressor\n",
    "## Test R2 Score = 0.79"
   ]
  },
  {
   "cell_type": "code",
   "execution_count": 180,
   "id": "306e33ee",
   "metadata": {},
   "outputs": [
    {
     "name": "stdout",
     "output_type": "stream",
     "text": [
      "Training MLPRegressor...\n",
      "done in 5.333s\n",
      "Test R2 score: 0.77\n"
     ]
    }
   ],
   "source": [
    "# build pipeline to do the job and check the score\n",
    "from sklearn.preprocessing import QuantileTransformer\n",
    "from sklearn.neural_network import MLPRegressor\n",
    "\n",
    "print(\"Training MLPRegressor...\")\n",
    "tic = time()\n",
    "est = make_pipeline(QuantileTransformer(),\n",
    "                    MLPRegressor(hidden_layer_sizes=(50, 50),\n",
    "                                 learning_rate_init=0.01,\n",
    "                                 early_stopping=True))\n",
    "est.fit(X_train, y_train)\n",
    "# predictions6 = est.predict(X_test_scaled)\n",
    "# MSE6 = mean_squared_error(y_test, predictions6)\n",
    "print(f\"done in {time() - tic:.3f}s\")\n",
    "#print(f\"MSE : {MSE6 : .2f}\")\n",
    "print(f\"Test R2 score: {est.score(X_test, y_test):.2f}\")"
   ]
  },
  {
   "cell_type": "code",
   "execution_count": 181,
   "id": "807e165f",
   "metadata": {},
   "outputs": [],
   "source": [
    "# build predction df with columns Prediction and Actual\n",
    "predicted6 = est.predict(X_test)\n",
    "pred_df = pd.DataFrame({\"Prediction\": predicted6, \"Actual\": y_test})"
   ]
  },
  {
   "cell_type": "code",
   "execution_count": 182,
   "id": "4e29cdf6",
   "metadata": {},
   "outputs": [
    {
     "name": "stdout",
     "output_type": "stream",
     "text": [
      "Mean Squared Error (MSE): 0.19170882221754248\n",
      "R-squared (R2 ): 0.7718033271908432\n"
     ]
    }
   ],
   "source": [
    "# alculate MeanSquared Error(MSE) and R-Squared (R2)\n",
    "mse = mean_squared_error(y_test, predicted6)\n",
    "r2 = r2_score(y_test, predicted6)\n",
    "\n",
    "print(f\"Mean Squared Error (MSE): {mse}\")\n",
    "print(f\"R-squared (R2 ): {r2}\")"
   ]
  },
  {
   "cell_type": "code",
   "execution_count": 183,
   "id": "c39c4360",
   "metadata": {},
   "outputs": [
    {
     "data": {
      "text/plain": [
       "Text(0.5, 1.0, 'Prediction vs Actual')"
      ]
     },
     "execution_count": 183,
     "metadata": {},
     "output_type": "execute_result"
    },
    {
     "data": {
      "image/png": "[encoded data removed]",
      "text/plain": [
       "<Figure size 432x288 with 1 Axes>"
      ]
     },
     "metadata": {
      "needs_background": "light"
     },
     "output_type": "display_data"
    }
   ],
   "source": [
    "# plot prediction vs Actual\n",
    "plt.scatter(pred_df[\"Prediction\"], pred_df[\"Actual\"], c=\"#8806B7\")\n",
    "plt.title(\"Prediction vs Actual\")"
   ]
  },
  {
   "cell_type": "code",
   "execution_count": 184,
   "id": "e0d873d4",
   "metadata": {},
   "outputs": [
    {
     "data": {
      "image/png": "[encoded data removed]",
      "text/plain": [
       "<Figure size 432x288 with 1 Axes>"
      ]
     },
     "metadata": {
      "needs_background": "light"
     },
     "output_type": "display_data"
    }
   ],
   "source": [
    "# residual plot\n",
    "plt.scatter(est.predict(X_train), y_train - est.predict(X_train), c=\"blue\", label=\"Training Data\")\n",
    "plt.scatter(est.predict(X_test), y_test - est.predict(X_test), c=\"orange\", label=\"Testing Data\")\n",
    "plt.legend()\n",
    "plt.hlines(y=0, xmin=y_test.min(), xmax=y_test.max())\n",
    "plt.title(\"Residual Plot\")\n",
    "plt.show()"
   ]
  },
  {
   "cell_type": "markdown",
   "id": "21c9fba3",
   "metadata": {},
   "source": [
    "## Test HistGradientBoostingRegressor,\n",
    "## Test R2 Score = 0.83 and MSE = 0.16"
   ]
  },
  {
   "cell_type": "code",
   "execution_count": 185,
   "id": "c029b0a6",
   "metadata": {},
   "outputs": [
    {
     "name": "stdout",
     "output_type": "stream",
     "text": [
      "Training HistGradientBoostingRegressor...\n",
      "done in 1.203s\n",
      "Test R2 score: 0.82\n"
     ]
    }
   ],
   "source": [
    "# Use HistGradientBoostingRegressor and calculate r2 score\n",
    "from sklearn.experimental import enable_hist_gradient_boosting\n",
    "from sklearn.ensemble import HistGradientBoostingRegressor\n",
    "\n",
    "print(\"Training HistGradientBoostingRegressor...\")\n",
    "tic2 = time()\n",
    "est2 = HistGradientBoostingRegressor()\n",
    "est2.fit(X_train, y_train)\n",
    "print(f\"done in {time() - tic2:.3f}s\")\n",
    "print(f\"Test R2 score: {est2.score(X_test, y_test):.2f}\")"
   ]
  },
  {
   "cell_type": "code",
   "execution_count": 186,
   "id": "0e5b3667",
   "metadata": {},
   "outputs": [
    {
     "data": {
      "text/html": [
       "<div>\n",
       "<style scoped>\n",
       "    .dataframe tbody tr th:only-of-type {\n",
       "        vertical-align: middle;\n",
       "    }\n",
       "\n",
       "    .dataframe tbody tr th {\n",
       "        vertical-align: top;\n",
       "    }\n",
       "\n",
       "    .dataframe thead th {\n",
       "        text-align: right;\n",
       "    }\n",
       "</style>\n",
       "<table border=\"1\" class=\"dataframe\">\n",
       "  <thead>\n",
       "    <tr style=\"text-align: right;\">\n",
       "      <th></th>\n",
       "      <th>Prediction</th>\n",
       "      <th>Actual</th>\n",
       "    </tr>\n",
       "  </thead>\n",
       "  <tbody>\n",
       "    <tr>\n",
       "      <th>0</th>\n",
       "      <td>1.281369</td>\n",
       "      <td>1.657</td>\n",
       "    </tr>\n",
       "    <tr>\n",
       "      <th>1</th>\n",
       "      <td>1.790969</td>\n",
       "      <td>1.372</td>\n",
       "    </tr>\n",
       "    <tr>\n",
       "      <th>2</th>\n",
       "      <td>0.999014</td>\n",
       "      <td>0.940</td>\n",
       "    </tr>\n",
       "    <tr>\n",
       "      <th>3</th>\n",
       "      <td>0.900192</td>\n",
       "      <td>0.932</td>\n",
       "    </tr>\n",
       "    <tr>\n",
       "      <th>4</th>\n",
       "      <td>2.127355</td>\n",
       "      <td>2.664</td>\n",
       "    </tr>\n",
       "    <tr>\n",
       "      <th>...</th>\n",
       "      <td>...</td>\n",
       "      <td>...</td>\n",
       "    </tr>\n",
       "    <tr>\n",
       "      <th>3242</th>\n",
       "      <td>1.775974</td>\n",
       "      <td>1.695</td>\n",
       "    </tr>\n",
       "    <tr>\n",
       "      <th>3243</th>\n",
       "      <td>0.701496</td>\n",
       "      <td>0.764</td>\n",
       "    </tr>\n",
       "    <tr>\n",
       "      <th>3244</th>\n",
       "      <td>1.475165</td>\n",
       "      <td>1.370</td>\n",
       "    </tr>\n",
       "    <tr>\n",
       "      <th>3245</th>\n",
       "      <td>1.332856</td>\n",
       "      <td>0.928</td>\n",
       "    </tr>\n",
       "    <tr>\n",
       "      <th>3246</th>\n",
       "      <td>3.311804</td>\n",
       "      <td>2.679</td>\n",
       "    </tr>\n",
       "  </tbody>\n",
       "</table>\n",
       "<p>3247 rows × 2 columns</p>\n",
       "</div>"
      ],
      "text/plain": [
       "      Prediction  Actual\n",
       "0       1.281369   1.657\n",
       "1       1.790969   1.372\n",
       "2       0.999014   0.940\n",
       "3       0.900192   0.932\n",
       "4       2.127355   2.664\n",
       "...          ...     ...\n",
       "3242    1.775974   1.695\n",
       "3243    0.701496   0.764\n",
       "3244    1.475165   1.370\n",
       "3245    1.332856   0.928\n",
       "3246    3.311804   2.679\n",
       "\n",
       "[3247 rows x 2 columns]"
      ]
     },
     "execution_count": 186,
     "metadata": {},
     "output_type": "execute_result"
    }
   ],
   "source": [
    "# build predction df with columns Prediction and Actual\n",
    "predicted7 = est2.predict(X_test)\n",
    "pd.DataFrame({\"Prediction\": predicted7, \"Actual\": y_test})"
   ]
  },
  {
   "cell_type": "code",
   "execution_count": 187,
   "id": "f1a6e444",
   "metadata": {},
   "outputs": [
    {
     "name": "stdout",
     "output_type": "stream",
     "text": [
      "Mean Squared Error (MSE): 0.15348348815741164\n"
     ]
    }
   ],
   "source": [
    "mse7 = mean_squared_error(y_test, predicted7)\n",
    "print(f\"Mean Squared Error (MSE): {mse7}\")"
   ]
  },
  {
   "cell_type": "code",
   "execution_count": 188,
   "id": "2d2b7d96",
   "metadata": {},
   "outputs": [
    {
     "data": {
      "image/png": "[encoded data removed]",
      "text/plain": [
       "<Figure size 432x288 with 1 Axes>"
      ]
     },
     "metadata": {
      "needs_background": "light"
     },
     "output_type": "display_data"
    }
   ],
   "source": [
    "# residual plot\n",
    "plt.scatter(est2.predict(X_train), y_train - est2.predict(X_train), c=\"#EA2E2E\", label=\"Training Data\")\n",
    "plt.scatter(est2.predict(X_test), y_test - est2.predict(X_test), c=\"#EFFB46\", label=\"Testing Data\")\n",
    "plt.legend()\n",
    "plt.hlines(y=0, xmin=y_test.min(), xmax=y_test.max())\n",
    "plt.title(\"Residual Plot\")\n",
    "plt.show()"
   ]
  },
  {
   "cell_type": "code",
   "execution_count": null,
   "id": "b55670b5",
   "metadata": {},
   "outputs": [],
   "source": []
  }
 ],
 "metadata": {
  "kernelspec": {
   "display_name": "Python [conda env:pythonAdv] *",
   "language": "python",
   "name": "conda-env-pythonAdv-py"
  },
  "language_info": {
   "codemirror_mode": {
    "name": "ipython",
    "version": 3
   },
   "file_extension": ".py",
   "mimetype": "text/x-python",
   "name": "python",
   "nbconvert_exporter": "python",
   "pygments_lexer": "ipython3",
   "version": "3.6.13"
  }
 },
 "nbformat": 4,
 "nbformat_minor": 5
}
