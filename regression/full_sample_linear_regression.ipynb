{
 "cells": [
  {
   "cell_type": "code",
   "execution_count": 1,
   "id": "38face6c",
   "metadata": {},
   "outputs": [],
   "source": [
    "%matplotlib inline\n",
    "import matplotlib.pyplot as plt\n",
    "import numpy as np\n",
    "import pandas as pd"
   ]
  },
  {
   "cell_type": "markdown",
   "id": "00ae2ba7",
   "metadata": {},
   "source": [
    "### read in csv into dataframe"
   ]
  },
  {
   "cell_type": "code",
   "execution_count": 2,
   "id": "35d5eb96",
   "metadata": {},
   "outputs": [
    {
     "data": {
      "text/html": [
       "<div>\n",
       "<style scoped>\n",
       "    .dataframe tbody tr th:only-of-type {\n",
       "        vertical-align: middle;\n",
       "    }\n",
       "\n",
       "    .dataframe tbody tr th {\n",
       "        vertical-align: top;\n",
       "    }\n",
       "\n",
       "    .dataframe thead th {\n",
       "        text-align: right;\n",
       "    }\n",
       "</style>\n",
       "<table border=\"1\" class=\"dataframe\">\n",
       "  <thead>\n",
       "    <tr style=\"text-align: right;\">\n",
       "      <th></th>\n",
       "      <th>gender</th>\n",
       "      <th>age</th>\n",
       "      <th>size</th>\n",
       "      <th>weight</th>\n",
       "    </tr>\n",
       "  </thead>\n",
       "  <tbody>\n",
       "    <tr>\n",
       "      <th>0</th>\n",
       "      <td>1</td>\n",
       "      <td>1</td>\n",
       "      <td>4512</td>\n",
       "      <td>1530</td>\n",
       "    </tr>\n",
       "    <tr>\n",
       "      <th>1</th>\n",
       "      <td>1</td>\n",
       "      <td>1</td>\n",
       "      <td>3738</td>\n",
       "      <td>1297</td>\n",
       "    </tr>\n",
       "    <tr>\n",
       "      <th>2</th>\n",
       "      <td>1</td>\n",
       "      <td>1</td>\n",
       "      <td>4261</td>\n",
       "      <td>1335</td>\n",
       "    </tr>\n",
       "    <tr>\n",
       "      <th>3</th>\n",
       "      <td>1</td>\n",
       "      <td>1</td>\n",
       "      <td>3777</td>\n",
       "      <td>1282</td>\n",
       "    </tr>\n",
       "    <tr>\n",
       "      <th>4</th>\n",
       "      <td>1</td>\n",
       "      <td>1</td>\n",
       "      <td>4177</td>\n",
       "      <td>1590</td>\n",
       "    </tr>\n",
       "  </tbody>\n",
       "</table>\n",
       "</div>"
      ],
      "text/plain": [
       "   gender  age  size  weight\n",
       "0       1    1  4512    1530\n",
       "1       1    1  3738    1297\n",
       "2       1    1  4261    1335\n",
       "3       1    1  3777    1282\n",
       "4       1    1  4177    1590"
      ]
     },
     "execution_count": 2,
     "metadata": {},
     "output_type": "execute_result"
    }
   ],
   "source": [
    "# Read the csv file into a pandas DataFrame\n",
    "brains = pd.read_csv('data/brain.csv')\n",
    "brains.head()"
   ]
  },
  {
   "cell_type": "markdown",
   "id": "50306d27",
   "metadata": {},
   "source": [
    "### reshape values into ndarray"
   ]
  },
  {
   "cell_type": "code",
   "execution_count": 3,
   "id": "819eb020",
   "metadata": {},
   "outputs": [
    {
     "name": "stdout",
     "output_type": "stream",
     "text": [
      "Shape:  (237, 1) (237, 1)\n"
     ]
    }
   ],
   "source": [
    "# Assign the data to X and y\n",
    "# Note: Sklearn requires a two-dimensional array of values\n",
    "# so we use reshape to create this\n",
    "\n",
    "X = brains[\"weight\"].values.reshape(-1, 1)\n",
    "y = brains[\"size\"].values.reshape(-1, 1)\n",
    "\n",
    "print(\"Shape: \", X.shape, y.shape)"
   ]
  },
  {
   "cell_type": "code",
   "execution_count": 4,
   "id": "c40fb7e8",
   "metadata": {},
   "outputs": [
    {
     "data": {
      "text/plain": [
       "Text(0, 0.5, 'Head Size')"
      ]
     },
     "execution_count": 4,
     "metadata": {},
     "output_type": "execute_result"
    },
    {
     "data": {
      "image/png": "[encoded data removed]",
      "text/plain": [
       "<Figure size 432x288 with 1 Axes>"
      ]
     },
     "metadata": {
      "needs_background": "light"
     },
     "output_type": "display_data"
    }
   ],
   "source": [
    "# Plot the data to see if a linear trend exists\n",
    "\n",
    "### BEGIN SOLUTION\n",
    "plt.scatter(X, y)\n",
    "plt.xlabel(\"Brain Weight\")\n",
    "plt.ylabel(\"Head Size\")\n",
    "### END SOLUTION"
   ]
  },
  {
   "cell_type": "markdown",
   "id": "ed2d2643",
   "metadata": {},
   "source": [
    "### linear regression model build"
   ]
  },
  {
   "cell_type": "code",
   "execution_count": 5,
   "id": "476a1d93",
   "metadata": {},
   "outputs": [],
   "source": [
    "from sklearn.model_selection import train_test_split\n",
    "\n",
    "X_train, X_test, y_train, y_test = train_test_split(X, y, random_state=42)"
   ]
  },
  {
   "cell_type": "code",
   "execution_count": 6,
   "id": "b8703412",
   "metadata": {},
   "outputs": [],
   "source": [
    "from sklearn.linear_model import LinearRegression\n",
    "\n",
    "model = LinearRegression()"
   ]
  },
  {
   "cell_type": "code",
   "execution_count": 7,
   "id": "8e47de61",
   "metadata": {},
   "outputs": [
    {
     "data": {
      "text/plain": [
       "LinearRegression()"
      ]
     },
     "execution_count": 7,
     "metadata": {},
     "output_type": "execute_result"
    }
   ],
   "source": [
    "model.fit(X_train, y_train)"
   ]
  },
  {
   "cell_type": "markdown",
   "id": "5dbca11e",
   "metadata": {},
   "source": [
    "## quantify the model"
   ]
  },
  {
   "cell_type": "code",
   "execution_count": 8,
   "id": "3f6dd0a1",
   "metadata": {},
   "outputs": [
    {
     "name": "stdout",
     "output_type": "stream",
     "text": [
      "Mean Squared Error (MSE): 51228.19330570998\n",
      "R-squared (R2 ): 0.6568088729208812\n"
     ]
    }
   ],
   "source": [
    "from sklearn.metrics import mean_squared_error, r2_score\n",
    "\n",
    "# Use our model to make predictions\n",
    "predicted = model.predict(X_test)\n",
    "\n",
    "# Score the predictions with mse and r2\n",
    "mse = mean_squared_error(y_test, predicted)\n",
    "r2 = r2_score(y_test, predicted)\n",
    "\n",
    "print(f\"Mean Squared Error (MSE): {mse}\")\n",
    "print(f\"R-squared (R2 ): {r2}\")\n"
   ]
  },
  {
   "cell_type": "code",
   "execution_count": 9,
   "id": "1db8e198",
   "metadata": {},
   "outputs": [
    {
     "data": {
      "text/plain": [
       "0.6568088729208812"
      ]
     },
     "execution_count": 9,
     "metadata": {},
     "output_type": "execute_result"
    }
   ],
   "source": [
    "model.score(X_test, y_test)"
   ]
  },
  {
   "cell_type": "markdown",
   "id": "946a01f3",
   "metadata": {},
   "source": [
    "## plot the line"
   ]
  },
  {
   "cell_type": "code",
   "execution_count": 10,
   "id": "6d94a5e2",
   "metadata": {},
   "outputs": [],
   "source": [
    "x_min = np.array([[X.min()]])\n",
    "x_max = np.array([[X.max()]])"
   ]
  },
  {
   "cell_type": "code",
   "execution_count": 11,
   "id": "1268dde8",
   "metadata": {},
   "outputs": [],
   "source": [
    "y_min = model.predict(x_min)\n",
    "y_max = model.predict(x_max)"
   ]
  },
  {
   "cell_type": "code",
   "execution_count": 12,
   "id": "9e687b6c",
   "metadata": {},
   "outputs": [
    {
     "data": {
      "text/plain": [
       "[<matplotlib.lines.Line2D at 0x156350d29b0>]"
      ]
     },
     "execution_count": 12,
     "metadata": {},
     "output_type": "execute_result"
    },
    {
     "data": {
      "image/png": "[encoded data removed]",
      "text/plain": [
       "<Figure size 432x288 with 1 Axes>"
      ]
     },
     "metadata": {
      "needs_background": "light"
     },
     "output_type": "display_data"
    }
   ],
   "source": [
    "plt.scatter(X, y, c='blue')\n",
    "plt.plot([x_min[0], x_max[0]], [y_min[0], y_max[0]], c='red')"
   ]
  },
  {
   "cell_type": "markdown",
   "id": "c62796ac",
   "metadata": {},
   "source": [
    "## print the model.coef_ and model.intercept_"
   ]
  },
  {
   "cell_type": "code",
   "execution_count": 13,
   "id": "85dca44e",
   "metadata": {},
   "outputs": [
    {
     "name": "stdout",
     "output_type": "stream",
     "text": [
      "Weight coefficients:  [[2.35989976]]\n",
      "y-axis intercept:  [613.3001767]\n"
     ]
    }
   ],
   "source": [
    "print('Weight coefficients: ', model.coef_)\n",
    "print('y-axis intercept: ', model.intercept_) "
   ]
  },
  {
   "cell_type": "markdown",
   "id": "7de07f19",
   "metadata": {},
   "source": [
    "## save and reload the trained model"
   ]
  },
  {
   "cell_type": "code",
   "execution_count": 14,
   "id": "e9b85961",
   "metadata": {},
   "outputs": [],
   "source": [
    "import pickle\n",
    "# save the model to disk\n",
    "filename = 'linearregression_model.sav'\n",
    "pickle.dump(model, open(filename, 'wb'))"
   ]
  },
  {
   "cell_type": "code",
   "execution_count": 15,
   "id": "e8a603b5",
   "metadata": {},
   "outputs": [
    {
     "name": "stdout",
     "output_type": "stream",
     "text": [
      "0.6568088729208812\n"
     ]
    }
   ],
   "source": [
    "# some time later...\n",
    " \n",
    "# load the model from disk\n",
    "loaded_model = pickle.load(open(filename, 'rb'))\n",
    "result = loaded_model.score(X_test, y_test)\n",
    "print(result)"
   ]
  },
  {
   "cell_type": "code",
   "execution_count": null,
   "id": "9b6951cf",
   "metadata": {},
   "outputs": [],
   "source": []
  }
 ],
 "metadata": {
  "kernelspec": {
   "display_name": "Python [conda env:pythonAdv] *",
   "language": "python",
   "name": "conda-env-pythonAdv-py"
  },
  "language_info": {
   "codemirror_mode": {
    "name": "ipython",
    "version": 3
   },
   "file_extension": ".py",
   "mimetype": "text/x-python",
   "name": "python",
   "nbconvert_exporter": "python",
   "pygments_lexer": "ipython3",
   "version": "3.6.13"
  }
 },
 "nbformat": 4,
 "nbformat_minor": 5
}
