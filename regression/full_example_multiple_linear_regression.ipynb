{
 "cells": [
  {
   "cell_type": "code",
   "execution_count": 2,
   "id": "38face6c",
   "metadata": {},
   "outputs": [],
   "source": [
    "%matplotlib inline\n",
    "import matplotlib.pyplot as plt\n",
    "import numpy as np\n",
    "import pandas as pd"
   ]
  },
  {
   "cell_type": "markdown",
   "id": "00ae2ba7",
   "metadata": {},
   "source": [
    "### read in csv into dataframe"
   ]
  },
  {
   "cell_type": "code",
   "execution_count": 4,
   "id": "35d5eb96",
   "metadata": {},
   "outputs": [
    {
     "data": {
      "text/html": [
       "<div>\n",
       "<style scoped>\n",
       "    .dataframe tbody tr th:only-of-type {\n",
       "        vertical-align: middle;\n",
       "    }\n",
       "\n",
       "    .dataframe tbody tr th {\n",
       "        vertical-align: top;\n",
       "    }\n",
       "\n",
       "    .dataframe thead th {\n",
       "        text-align: right;\n",
       "    }\n",
       "</style>\n",
       "<table border=\"1\" class=\"dataframe\">\n",
       "  <thead>\n",
       "    <tr style=\"text-align: right;\">\n",
       "      <th></th>\n",
       "      <th>time</th>\n",
       "      <th>foam</th>\n",
       "      <th>beer</th>\n",
       "    </tr>\n",
       "  </thead>\n",
       "  <tbody>\n",
       "    <tr>\n",
       "      <th>0</th>\n",
       "      <td>0</td>\n",
       "      <td>17.4</td>\n",
       "      <td>0.60</td>\n",
       "    </tr>\n",
       "    <tr>\n",
       "      <th>1</th>\n",
       "      <td>15</td>\n",
       "      <td>15.1</td>\n",
       "      <td>2.20</td>\n",
       "    </tr>\n",
       "    <tr>\n",
       "      <th>2</th>\n",
       "      <td>30</td>\n",
       "      <td>13.1</td>\n",
       "      <td>3.40</td>\n",
       "    </tr>\n",
       "    <tr>\n",
       "      <th>3</th>\n",
       "      <td>45</td>\n",
       "      <td>11.6</td>\n",
       "      <td>4.15</td>\n",
       "    </tr>\n",
       "    <tr>\n",
       "      <th>4</th>\n",
       "      <td>60</td>\n",
       "      <td>10.6</td>\n",
       "      <td>4.50</td>\n",
       "    </tr>\n",
       "  </tbody>\n",
       "</table>\n",
       "</div>"
      ],
      "text/plain": [
       "   time  foam  beer\n",
       "0     0  17.4  0.60\n",
       "1    15  15.1  2.20\n",
       "2    30  13.1  3.40\n",
       "3    45  11.6  4.15\n",
       "4    60  10.6  4.50"
      ]
     },
     "execution_count": 4,
     "metadata": {},
     "output_type": "execute_result"
    }
   ],
   "source": [
    "# Read the csv file into a pandas DataFrame\n",
    "foam = pd.read_csv('data/foam.csv')\n",
    "foam.head()"
   ]
  },
  {
   "cell_type": "code",
   "execution_count": null,
   "id": "0ef83a19",
   "metadata": {},
   "outputs": [],
   "source": [
    "# foam.dropna()\n",
    "# foam.drop_duplicates(keep = 'last', inplace = True)"
   ]
  },
  {
   "cell_type": "markdown",
   "id": "50306d27",
   "metadata": {},
   "source": [
    "### reshape values into ndarray"
   ]
  },
  {
   "cell_type": "code",
   "execution_count": 5,
   "id": "819eb020",
   "metadata": {},
   "outputs": [
    {
     "name": "stdout",
     "output_type": "stream",
     "text": [
      "(13, 2) (13, 1)\n"
     ]
    }
   ],
   "source": [
    "# Assign the data to X and y\n",
    "# Note: Sklearn requires a two-dimensional array of values\n",
    "# so we use reshape to create this\n",
    "\n",
    "X = foam[[\"foam\", \"beer\"]]\n",
    "y = foam[\"time\"].values.reshape(-1, 1)\n",
    "print(X.shape, y.shape)"
   ]
  },
  {
   "cell_type": "code",
   "execution_count": 20,
   "id": "5b0391d1",
   "metadata": {},
   "outputs": [
    {
     "data": {
      "text/plain": [
       "pandas.core.frame.DataFrame"
      ]
     },
     "execution_count": 20,
     "metadata": {},
     "output_type": "execute_result"
    }
   ],
   "source": [
    "#notice X is a dataframe\n",
    "type(X)"
   ]
  },
  {
   "cell_type": "code",
   "execution_count": 19,
   "id": "abf1c22a",
   "metadata": {},
   "outputs": [
    {
     "data": {
      "text/plain": [
       "numpy.ndarray"
      ]
     },
     "execution_count": 19,
     "metadata": {},
     "output_type": "execute_result"
    }
   ],
   "source": [
    "type(y)"
   ]
  },
  {
   "cell_type": "markdown",
   "id": "ed2d2643",
   "metadata": {},
   "source": [
    "### linear regression model build & Score"
   ]
  },
  {
   "cell_type": "code",
   "execution_count": 6,
   "id": "476a1d93",
   "metadata": {},
   "outputs": [],
   "source": [
    "from sklearn.model_selection import train_test_split\n",
    "\n",
    "X_train, X_test, y_train, y_test = train_test_split(X, y, random_state=42)"
   ]
  },
  {
   "cell_type": "code",
   "execution_count": 7,
   "id": "605c31b6",
   "metadata": {},
   "outputs": [],
   "source": [
    "from sklearn.linear_model import LinearRegression\n",
    "\n",
    "model = LinearRegression()"
   ]
  },
  {
   "cell_type": "code",
   "execution_count": 9,
   "id": "c717cea1",
   "metadata": {},
   "outputs": [
    {
     "name": "stdout",
     "output_type": "stream",
     "text": [
      "Training Score: 0.9907390608835368\n",
      "Testing Score: 0.940081803648188\n"
     ]
    }
   ],
   "source": [
    "model.fit(X_train, y_train)\n",
    "training_score = model.score(X_train, y_train)\n",
    "testing_score = model.score(X_test, y_test)\n",
    "print(f\"Training Score: {training_score}\")\n",
    "print(f\"Testing Score: {testing_score}\")"
   ]
  },
  {
   "cell_type": "markdown",
   "id": "077212e3",
   "metadata": {},
   "source": [
    "## plot the residuals chart"
   ]
  },
  {
   "cell_type": "code",
   "execution_count": 10,
   "id": "22ede448",
   "metadata": {},
   "outputs": [
    {
     "data": {
      "text/plain": [
       "Text(0.5, 1.0, 'Residual Plot')"
      ]
     },
     "execution_count": 10,
     "metadata": {},
     "output_type": "execute_result"
    },
    {
     "data": {
      "image/png": "[encoded data removed]",
      "text/plain": [
       "<Figure size 432x288 with 1 Axes>"
      ]
     },
     "metadata": {
      "needs_background": "light"
     },
     "output_type": "display_data"
    }
   ],
   "source": [
    "# Plot the Residuals for the Training and Testing data\n",
    "### BEGIN SOLUTION\n",
    "plt.scatter(model.predict(X_train), model.predict(X_train) - y_train, c=\"blue\", label=\"Training Data\")\n",
    "plt.scatter(model.predict(X_test), model.predict(X_test) - y_test, c=\"orange\", label=\"Testing Data\")\n",
    "plt.legend()\n",
    "plt.hlines(y=0, xmin=y.min(), xmax=y.max())\n",
    "plt.title(\"Residual Plot\")\n",
    "### END SOLUTION"
   ]
  },
  {
   "cell_type": "markdown",
   "id": "2da64f4d",
   "metadata": {},
   "source": [
    "## try to predict one value, say X line 3"
   ]
  },
  {
   "cell_type": "code",
   "execution_count": 26,
   "id": "54941ded",
   "metadata": {},
   "outputs": [],
   "source": [
    "x3 = X.loc[3, :]\n",
    "X3 = np.array([x3])"
   ]
  },
  {
   "cell_type": "code",
   "execution_count": 27,
   "id": "9e6f2b57",
   "metadata": {},
   "outputs": [],
   "source": [
    "y3_predict = model.predict(X3)"
   ]
  },
  {
   "cell_type": "code",
   "execution_count": 28,
   "id": "c5a398ec",
   "metadata": {},
   "outputs": [
    {
     "data": {
      "text/plain": [
       "array([[33.40578521]])"
      ]
     },
     "execution_count": 28,
     "metadata": {},
     "output_type": "execute_result"
    }
   ],
   "source": [
    "y3_predict"
   ]
  },
  {
   "cell_type": "code",
   "execution_count": 30,
   "id": "2c3519c2",
   "metadata": {},
   "outputs": [
    {
     "data": {
      "text/plain": [
       "array([45], dtype=int64)"
      ]
     },
     "execution_count": 30,
     "metadata": {},
     "output_type": "execute_result"
    }
   ],
   "source": [
    "#real y[3]\n",
    "y[3]"
   ]
  },
  {
   "cell_type": "code",
   "execution_count": null,
   "id": "08259efd",
   "metadata": {},
   "outputs": [],
   "source": []
  }
 ],
 "metadata": {
  "kernelspec": {
   "display_name": "Python [conda env:pythonAdv] *",
   "language": "python",
   "name": "conda-env-pythonAdv-py"
  },
  "language_info": {
   "codemirror_mode": {
    "name": "ipython",
    "version": 3
   },
   "file_extension": ".py",
   "mimetype": "text/x-python",
   "name": "python",
   "nbconvert_exporter": "python",
   "pygments_lexer": "ipython3",
   "version": "3.6.13"
  }
 },
 "nbformat": 4,
 "nbformat_minor": 5
}
