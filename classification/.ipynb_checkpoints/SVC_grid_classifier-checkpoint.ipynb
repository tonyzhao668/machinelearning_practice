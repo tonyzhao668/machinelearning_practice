{
 "cells": [
  {
   "cell_type": "code",
   "execution_count": 1,
   "id": "c8117639",
   "metadata": {},
   "outputs": [],
   "source": [
    "import numpy as np\n",
    "import pandas as pd\n",
    "import matplotlib.pyplot as plt\n",
    "\n",
    "from matplotlib import style\n",
    "style.use(\"ggplot\")"
   ]
  },
  {
   "cell_type": "markdown",
   "id": "0d873a2e",
   "metadata": {},
   "source": [
    "## SVC_GridSearchCV"
   ]
  },
  {
   "cell_type": "code",
   "execution_count": 2,
   "id": "261347ab",
   "metadata": {},
   "outputs": [
    {
     "data": {
      "image/png": "[encoded data removed]",
      "text/plain": [
       "<Figure size 432x288 with 1 Axes>"
      ]
     },
     "metadata": {},
     "output_type": "display_data"
    }
   ],
   "source": [
    "from sklearn.datasets import make_blobs\n",
    "X, y = make_blobs(n_samples=100, centers=2, random_state=0, cluster_std=.95)\n",
    "plt.scatter(X[:, 0], X[:, 1], c=y, s=100, cmap=\"bwr\");\n",
    "plt.show()"
   ]
  },
  {
   "cell_type": "code",
   "execution_count": 3,
   "id": "64ab3e60",
   "metadata": {},
   "outputs": [],
   "source": [
    "# Split data into training and testing\n",
    "from sklearn.model_selection import train_test_split\n",
    "X_train, X_test, y_train, y_test = train_test_split(X, y, random_state=42)"
   ]
  },
  {
   "cell_type": "code",
   "execution_count": 4,
   "id": "d546ab2b",
   "metadata": {},
   "outputs": [
    {
     "data": {
      "text/plain": [
       "SVC(kernel='linear')"
      ]
     },
     "execution_count": 4,
     "metadata": {},
     "output_type": "execute_result"
    }
   ],
   "source": [
    "# Create the SVC Model\n",
    "from sklearn.svm import SVC \n",
    "model = SVC(kernel='linear')\n",
    "model"
   ]
  },
  {
   "cell_type": "code",
   "execution_count": 6,
   "id": "90a00ed2",
   "metadata": {},
   "outputs": [],
   "source": [
    "# Create the GridSearch estimator along with a parameter object containing the values to adjust\n",
    "from sklearn.model_selection import GridSearchCV\n",
    "param_grid = {'C': [1, 5, 10, 50],\n",
    "              'gamma': [0.0001, 0.0005, 0.001, 0.005]}\n",
    "grid = GridSearchCV(model, param_grid, verbose=3)"
   ]
  },
  {
   "cell_type": "code",
   "execution_count": 7,
   "id": "342c06fe",
   "metadata": {},
   "outputs": [
    {
     "name": "stdout",
     "output_type": "stream",
     "text": [
      "Fitting 5 folds for each of 16 candidates, totalling 80 fits\n",
      "[CV 1/5] END .................C=1, gamma=0.0001;, score=1.000 total time=   0.0s\n",
      "[CV 2/5] END .................C=1, gamma=0.0001;, score=0.867 total time=   0.0s\n",
      "[CV 3/5] END .................C=1, gamma=0.0001;, score=0.800 total time=   0.0s\n",
      "[CV 4/5] END .................C=1, gamma=0.0001;, score=0.933 total time=   0.0s\n",
      "[CV 5/5] END .................C=1, gamma=0.0001;, score=1.000 total time=   0.0s\n",
      "[CV 1/5] END .................C=1, gamma=0.0005;, score=1.000 total time=   0.0s\n",
      "[CV 2/5] END .................C=1, gamma=0.0005;, score=0.867 total time=   0.0s\n",
      "[CV 3/5] END .................C=1, gamma=0.0005;, score=0.800 total time=   0.0s\n",
      "[CV 4/5] END .................C=1, gamma=0.0005;, score=0.933 total time=   0.0s\n",
      "[CV 5/5] END .................C=1, gamma=0.0005;, score=1.000 total time=   0.0s\n",
      "[CV 1/5] END ..................C=1, gamma=0.001;, score=1.000 total time=   0.0s\n",
      "[CV 2/5] END ..................C=1, gamma=0.001;, score=0.867 total time=   0.0s\n",
      "[CV 3/5] END ..................C=1, gamma=0.001;, score=0.800 total time=   0.0s\n",
      "[CV 4/5] END ..................C=1, gamma=0.001;, score=0.933 total time=   0.0s\n",
      "[CV 5/5] END ..................C=1, gamma=0.001;, score=1.000 total time=   0.0s\n",
      "[CV 1/5] END ..................C=1, gamma=0.005;, score=1.000 total time=   0.0s\n",
      "[CV 2/5] END ..................C=1, gamma=0.005;, score=0.867 total time=   0.0s\n",
      "[CV 3/5] END ..................C=1, gamma=0.005;, score=0.800 total time=   0.0s\n",
      "[CV 4/5] END ..................C=1, gamma=0.005;, score=0.933 total time=   0.0s\n",
      "[CV 5/5] END ..................C=1, gamma=0.005;, score=1.000 total time=   0.0s\n",
      "[CV 1/5] END .................C=5, gamma=0.0001;, score=1.000 total time=   0.0s\n",
      "[CV 2/5] END .................C=5, gamma=0.0001;, score=0.867 total time=   0.0s\n",
      "[CV 3/5] END .................C=5, gamma=0.0001;, score=0.867 total time=   0.0s\n",
      "[CV 4/5] END .................C=5, gamma=0.0001;, score=0.933 total time=   0.0s\n",
      "[CV 5/5] END .................C=5, gamma=0.0001;, score=1.000 total time=   0.0s\n",
      "[CV 1/5] END .................C=5, gamma=0.0005;, score=1.000 total time=   0.0s\n",
      "[CV 2/5] END .................C=5, gamma=0.0005;, score=0.867 total time=   0.0s\n",
      "[CV 3/5] END .................C=5, gamma=0.0005;, score=0.867 total time=   0.0s\n",
      "[CV 4/5] END .................C=5, gamma=0.0005;, score=0.933 total time=   0.0s\n",
      "[CV 5/5] END .................C=5, gamma=0.0005;, score=1.000 total time=   0.0s\n",
      "[CV 1/5] END ..................C=5, gamma=0.001;, score=1.000 total time=   0.0s\n",
      "[CV 2/5] END ..................C=5, gamma=0.001;, score=0.867 total time=   0.0s\n",
      "[CV 3/5] END ..................C=5, gamma=0.001;, score=0.867 total time=   0.0s\n",
      "[CV 4/5] END ..................C=5, gamma=0.001;, score=0.933 total time=   0.0s\n",
      "[CV 5/5] END ..................C=5, gamma=0.001;, score=1.000 total time=   0.0s\n",
      "[CV 1/5] END ..................C=5, gamma=0.005;, score=1.000 total time=   0.0s\n",
      "[CV 2/5] END ..................C=5, gamma=0.005;, score=0.867 total time=   0.0s\n",
      "[CV 3/5] END ..................C=5, gamma=0.005;, score=0.867 total time=   0.0s\n",
      "[CV 4/5] END ..................C=5, gamma=0.005;, score=0.933 total time=   0.0s\n",
      "[CV 5/5] END ..................C=5, gamma=0.005;, score=1.000 total time=   0.0s\n",
      "[CV 1/5] END ................C=10, gamma=0.0001;, score=1.000 total time=   0.0s\n",
      "[CV 2/5] END ................C=10, gamma=0.0001;, score=0.867 total time=   0.0s\n",
      "[CV 3/5] END ................C=10, gamma=0.0001;, score=0.867 total time=   0.0s\n",
      "[CV 4/5] END ................C=10, gamma=0.0001;, score=0.933 total time=   0.0s\n",
      "[CV 5/5] END ................C=10, gamma=0.0001;, score=1.000 total time=   0.0s\n",
      "[CV 1/5] END ................C=10, gamma=0.0005;, score=1.000 total time=   0.0s\n",
      "[CV 2/5] END ................C=10, gamma=0.0005;, score=0.867 total time=   0.0s\n",
      "[CV 3/5] END ................C=10, gamma=0.0005;, score=0.867 total time=   0.0s\n",
      "[CV 4/5] END ................C=10, gamma=0.0005;, score=0.933 total time=   0.0s\n",
      "[CV 5/5] END ................C=10, gamma=0.0005;, score=1.000 total time=   0.0s\n",
      "[CV 1/5] END .................C=10, gamma=0.001;, score=1.000 total time=   0.0s\n",
      "[CV 2/5] END .................C=10, gamma=0.001;, score=0.867 total time=   0.0s\n",
      "[CV 3/5] END .................C=10, gamma=0.001;, score=0.867 total time=   0.0s\n",
      "[CV 4/5] END .................C=10, gamma=0.001;, score=0.933 total time=   0.0s\n",
      "[CV 5/5] END .................C=10, gamma=0.001;, score=1.000 total time=   0.0s\n",
      "[CV 1/5] END .................C=10, gamma=0.005;, score=1.000 total time=   0.0s\n",
      "[CV 2/5] END .................C=10, gamma=0.005;, score=0.867 total time=   0.0s\n",
      "[CV 3/5] END .................C=10, gamma=0.005;, score=0.867 total time=   0.0s\n",
      "[CV 4/5] END .................C=10, gamma=0.005;, score=0.933 total time=   0.0s\n",
      "[CV 5/5] END .................C=10, gamma=0.005;, score=1.000 total time=   0.0s\n",
      "[CV 1/5] END ................C=50, gamma=0.0001;, score=1.000 total time=   0.0s\n",
      "[CV 2/5] END ................C=50, gamma=0.0001;, score=0.800 total time=   0.0s\n",
      "[CV 3/5] END ................C=50, gamma=0.0001;, score=0.867 total time=   0.0s\n",
      "[CV 4/5] END ................C=50, gamma=0.0001;, score=0.933 total time=   0.0s\n",
      "[CV 5/5] END ................C=50, gamma=0.0001;, score=1.000 total time=   0.0s\n",
      "[CV 1/5] END ................C=50, gamma=0.0005;, score=1.000 total time=   0.0s\n",
      "[CV 2/5] END ................C=50, gamma=0.0005;, score=0.800 total time=   0.0s\n",
      "[CV 3/5] END ................C=50, gamma=0.0005;, score=0.867 total time=   0.0s\n",
      "[CV 4/5] END ................C=50, gamma=0.0005;, score=0.933 total time=   0.0s\n",
      "[CV 5/5] END ................C=50, gamma=0.0005;, score=1.000 total time=   0.0s\n",
      "[CV 1/5] END .................C=50, gamma=0.001;, score=1.000 total time=   0.0s\n",
      "[CV 2/5] END .................C=50, gamma=0.001;, score=0.800 total time=   0.0s\n",
      "[CV 3/5] END .................C=50, gamma=0.001;, score=0.867 total time=   0.0s\n",
      "[CV 4/5] END .................C=50, gamma=0.001;, score=0.933 total time=   0.0s\n",
      "[CV 5/5] END .................C=50, gamma=0.001;, score=1.000 total time=   0.0s\n",
      "[CV 1/5] END .................C=50, gamma=0.005;, score=1.000 total time=   0.0s\n",
      "[CV 2/5] END .................C=50, gamma=0.005;, score=0.800 total time=   0.0s\n",
      "[CV 3/5] END .................C=50, gamma=0.005;, score=0.867 total time=   0.0s\n",
      "[CV 4/5] END .................C=50, gamma=0.005;, score=0.933 total time=   0.0s\n",
      "[CV 5/5] END .................C=50, gamma=0.005;, score=1.000 total time=   0.0s\n"
     ]
    },
    {
     "data": {
      "text/plain": [
       "GridSearchCV(estimator=SVC(kernel='linear'),\n",
       "             param_grid={'C': [1, 5, 10, 50],\n",
       "                         'gamma': [0.0001, 0.0005, 0.001, 0.005]},\n",
       "             verbose=3)"
      ]
     },
     "execution_count": 7,
     "metadata": {},
     "output_type": "execute_result"
    }
   ],
   "source": [
    "# Fit the model using the grid search estimator. \n",
    "# This will take the SVC model and try each combination of parameters\n",
    "grid.fit(X_train, y_train)"
   ]
  },
  {
   "cell_type": "code",
   "execution_count": 8,
   "id": "559f7284",
   "metadata": {},
   "outputs": [
    {
     "name": "stdout",
     "output_type": "stream",
     "text": [
      "{'C': 5, 'gamma': 0.0001}\n"
     ]
    }
   ],
   "source": [
    "# List the best parameters for this dataset\n",
    "print(grid.best_params_)"
   ]
  },
  {
   "cell_type": "code",
   "execution_count": 9,
   "id": "e5e64bd9",
   "metadata": {},
   "outputs": [
    {
     "name": "stdout",
     "output_type": "stream",
     "text": [
      "0.9333333333333333\n"
     ]
    }
   ],
   "source": [
    "# List the best score\n",
    "print(grid.best_score_)"
   ]
  },
  {
   "cell_type": "code",
   "execution_count": 10,
   "id": "3b74bb6d",
   "metadata": {},
   "outputs": [],
   "source": [
    "# Make predictions with the hypertuned model\n",
    "predictions = grid.predict(X_test)"
   ]
  },
  {
   "cell_type": "code",
   "execution_count": 11,
   "id": "e4961bc3",
   "metadata": {},
   "outputs": [
    {
     "name": "stdout",
     "output_type": "stream",
     "text": [
      "              precision    recall  f1-score   support\n",
      "\n",
      "        blue       0.83      1.00      0.91        10\n",
      "         red       1.00      0.87      0.93        15\n",
      "\n",
      "    accuracy                           0.92        25\n",
      "   macro avg       0.92      0.93      0.92        25\n",
      "weighted avg       0.93      0.92      0.92        25\n",
      "\n"
     ]
    }
   ],
   "source": [
    "# Calculate classification report\n",
    "from sklearn.metrics import classification_report\n",
    "print(classification_report(y_test, predictions,\n",
    "                            target_names=[\"blue\", \"red\"]))"
   ]
  },
  {
   "cell_type": "markdown",
   "id": "91df4592",
   "metadata": {},
   "source": [
    "## sample of diabete data with gridSearchcv"
   ]
  },
  {
   "cell_type": "code",
   "execution_count": 12,
   "id": "df7a69f3",
   "metadata": {},
   "outputs": [
    {
     "data": {
      "text/html": [
       "<div>\n",
       "<style scoped>\n",
       "    .dataframe tbody tr th:only-of-type {\n",
       "        vertical-align: middle;\n",
       "    }\n",
       "\n",
       "    .dataframe tbody tr th {\n",
       "        vertical-align: top;\n",
       "    }\n",
       "\n",
       "    .dataframe thead th {\n",
       "        text-align: right;\n",
       "    }\n",
       "</style>\n",
       "<table border=\"1\" class=\"dataframe\">\n",
       "  <thead>\n",
       "    <tr style=\"text-align: right;\">\n",
       "      <th></th>\n",
       "      <th>Pregnancies</th>\n",
       "      <th>Glucose</th>\n",
       "      <th>BloodPressure</th>\n",
       "      <th>SkinThickness</th>\n",
       "      <th>Insulin</th>\n",
       "      <th>BMI</th>\n",
       "      <th>DiabetesPedigreeFunction</th>\n",
       "      <th>Age</th>\n",
       "      <th>Outcome</th>\n",
       "    </tr>\n",
       "  </thead>\n",
       "  <tbody>\n",
       "    <tr>\n",
       "      <th>0</th>\n",
       "      <td>6</td>\n",
       "      <td>148</td>\n",
       "      <td>72</td>\n",
       "      <td>35</td>\n",
       "      <td>0</td>\n",
       "      <td>33.6</td>\n",
       "      <td>0.627</td>\n",
       "      <td>50</td>\n",
       "      <td>1</td>\n",
       "    </tr>\n",
       "    <tr>\n",
       "      <th>1</th>\n",
       "      <td>1</td>\n",
       "      <td>85</td>\n",
       "      <td>66</td>\n",
       "      <td>29</td>\n",
       "      <td>0</td>\n",
       "      <td>26.6</td>\n",
       "      <td>0.351</td>\n",
       "      <td>31</td>\n",
       "      <td>0</td>\n",
       "    </tr>\n",
       "    <tr>\n",
       "      <th>2</th>\n",
       "      <td>8</td>\n",
       "      <td>183</td>\n",
       "      <td>64</td>\n",
       "      <td>0</td>\n",
       "      <td>0</td>\n",
       "      <td>23.3</td>\n",
       "      <td>0.672</td>\n",
       "      <td>32</td>\n",
       "      <td>1</td>\n",
       "    </tr>\n",
       "    <tr>\n",
       "      <th>3</th>\n",
       "      <td>1</td>\n",
       "      <td>89</td>\n",
       "      <td>66</td>\n",
       "      <td>23</td>\n",
       "      <td>94</td>\n",
       "      <td>28.1</td>\n",
       "      <td>0.167</td>\n",
       "      <td>21</td>\n",
       "      <td>0</td>\n",
       "    </tr>\n",
       "    <tr>\n",
       "      <th>4</th>\n",
       "      <td>0</td>\n",
       "      <td>137</td>\n",
       "      <td>40</td>\n",
       "      <td>35</td>\n",
       "      <td>168</td>\n",
       "      <td>43.1</td>\n",
       "      <td>2.288</td>\n",
       "      <td>33</td>\n",
       "      <td>1</td>\n",
       "    </tr>\n",
       "  </tbody>\n",
       "</table>\n",
       "</div>"
      ],
      "text/plain": [
       "   Pregnancies  Glucose  BloodPressure  SkinThickness  Insulin   BMI  \\\n",
       "0            6      148             72             35        0  33.6   \n",
       "1            1       85             66             29        0  26.6   \n",
       "2            8      183             64              0        0  23.3   \n",
       "3            1       89             66             23       94  28.1   \n",
       "4            0      137             40             35      168  43.1   \n",
       "\n",
       "   DiabetesPedigreeFunction  Age  Outcome  \n",
       "0                     0.627   50        1  \n",
       "1                     0.351   31        0  \n",
       "2                     0.672   32        1  \n",
       "3                     0.167   21        0  \n",
       "4                     2.288   33        1  "
      ]
     },
     "execution_count": 12,
     "metadata": {},
     "output_type": "execute_result"
    }
   ],
   "source": [
    "df = pd.read_csv( \"data/diabetes.csv\")\n",
    "df.head()"
   ]
  },
  {
   "cell_type": "code",
   "execution_count": 13,
   "id": "816b7f68",
   "metadata": {},
   "outputs": [],
   "source": [
    "target = df[\"Outcome\"]\n",
    "target_names = [\"negative\", \"positive\"]"
   ]
  },
  {
   "cell_type": "code",
   "execution_count": 14,
   "id": "064c16a9",
   "metadata": {},
   "outputs": [
    {
     "data": {
      "text/html": [
       "<div>\n",
       "<style scoped>\n",
       "    .dataframe tbody tr th:only-of-type {\n",
       "        vertical-align: middle;\n",
       "    }\n",
       "\n",
       "    .dataframe tbody tr th {\n",
       "        vertical-align: top;\n",
       "    }\n",
       "\n",
       "    .dataframe thead th {\n",
       "        text-align: right;\n",
       "    }\n",
       "</style>\n",
       "<table border=\"1\" class=\"dataframe\">\n",
       "  <thead>\n",
       "    <tr style=\"text-align: right;\">\n",
       "      <th></th>\n",
       "      <th>Pregnancies</th>\n",
       "      <th>Glucose</th>\n",
       "      <th>BloodPressure</th>\n",
       "      <th>SkinThickness</th>\n",
       "      <th>Insulin</th>\n",
       "      <th>BMI</th>\n",
       "      <th>DiabetesPedigreeFunction</th>\n",
       "      <th>Age</th>\n",
       "    </tr>\n",
       "  </thead>\n",
       "  <tbody>\n",
       "    <tr>\n",
       "      <th>0</th>\n",
       "      <td>6</td>\n",
       "      <td>148</td>\n",
       "      <td>72</td>\n",
       "      <td>35</td>\n",
       "      <td>0</td>\n",
       "      <td>33.6</td>\n",
       "      <td>0.627</td>\n",
       "      <td>50</td>\n",
       "    </tr>\n",
       "    <tr>\n",
       "      <th>1</th>\n",
       "      <td>1</td>\n",
       "      <td>85</td>\n",
       "      <td>66</td>\n",
       "      <td>29</td>\n",
       "      <td>0</td>\n",
       "      <td>26.6</td>\n",
       "      <td>0.351</td>\n",
       "      <td>31</td>\n",
       "    </tr>\n",
       "    <tr>\n",
       "      <th>2</th>\n",
       "      <td>8</td>\n",
       "      <td>183</td>\n",
       "      <td>64</td>\n",
       "      <td>0</td>\n",
       "      <td>0</td>\n",
       "      <td>23.3</td>\n",
       "      <td>0.672</td>\n",
       "      <td>32</td>\n",
       "    </tr>\n",
       "    <tr>\n",
       "      <th>3</th>\n",
       "      <td>1</td>\n",
       "      <td>89</td>\n",
       "      <td>66</td>\n",
       "      <td>23</td>\n",
       "      <td>94</td>\n",
       "      <td>28.1</td>\n",
       "      <td>0.167</td>\n",
       "      <td>21</td>\n",
       "    </tr>\n",
       "    <tr>\n",
       "      <th>4</th>\n",
       "      <td>0</td>\n",
       "      <td>137</td>\n",
       "      <td>40</td>\n",
       "      <td>35</td>\n",
       "      <td>168</td>\n",
       "      <td>43.1</td>\n",
       "      <td>2.288</td>\n",
       "      <td>33</td>\n",
       "    </tr>\n",
       "  </tbody>\n",
       "</table>\n",
       "</div>"
      ],
      "text/plain": [
       "   Pregnancies  Glucose  BloodPressure  SkinThickness  Insulin   BMI  \\\n",
       "0            6      148             72             35        0  33.6   \n",
       "1            1       85             66             29        0  26.6   \n",
       "2            8      183             64              0        0  23.3   \n",
       "3            1       89             66             23       94  28.1   \n",
       "4            0      137             40             35      168  43.1   \n",
       "\n",
       "   DiabetesPedigreeFunction  Age  \n",
       "0                     0.627   50  \n",
       "1                     0.351   31  \n",
       "2                     0.672   32  \n",
       "3                     0.167   21  \n",
       "4                     2.288   33  "
      ]
     },
     "execution_count": 14,
     "metadata": {},
     "output_type": "execute_result"
    }
   ],
   "source": [
    "data = df.drop(\"Outcome\", axis=1)\n",
    "feature_names = data.columns\n",
    "data.head()"
   ]
  },
  {
   "cell_type": "code",
   "execution_count": 16,
   "id": "0dbbd209",
   "metadata": {},
   "outputs": [],
   "source": [
    "from sklearn.model_selection import train_test_split\n",
    "Xd_train, Xd_test, yd_train, yd_test = train_test_split(data, target, random_state=42)"
   ]
  },
  {
   "cell_type": "code",
   "execution_count": 18,
   "id": "b1a04db6",
   "metadata": {},
   "outputs": [],
   "source": [
    "# Support vector machine linear classifier\n",
    "from sklearn.svm import SVC \n",
    "modeld = SVC(kernel='linear')"
   ]
  },
  {
   "cell_type": "code",
   "execution_count": 21,
   "id": "917e2a39",
   "metadata": {},
   "outputs": [],
   "source": [
    "# Create the GridSearch estimator along with a parameter object containing the values to adjust\n",
    "from sklearn.model_selection import GridSearchCV\n",
    "param_grid = {'C': [1, 5, 10],\n",
    "              'gamma': [0.0001, 0.001, 0.01]}\n",
    "grid2 = GridSearchCV(modeld, param_grid, verbose=3)"
   ]
  },
  {
   "cell_type": "code",
   "execution_count": 22,
   "id": "490f9fa4",
   "metadata": {},
   "outputs": [
    {
     "name": "stdout",
     "output_type": "stream",
     "text": [
      "Fitting 5 folds for each of 9 candidates, totalling 45 fits\n",
      "[CV 1/5] END .................C=1, gamma=0.0001;, score=0.793 total time=   4.3s\n",
      "[CV 2/5] END .................C=1, gamma=0.0001;, score=0.757 total time=   3.7s\n",
      "[CV 3/5] END .................C=1, gamma=0.0001;, score=0.809 total time=   1.4s\n",
      "[CV 4/5] END .................C=1, gamma=0.0001;, score=0.722 total time=   1.4s\n",
      "[CV 5/5] END .................C=1, gamma=0.0001;, score=0.765 total time=   2.0s\n",
      "[CV 1/5] END ..................C=1, gamma=0.001;, score=0.793 total time=   4.2s\n",
      "[CV 2/5] END ..................C=1, gamma=0.001;, score=0.757 total time=   3.8s\n",
      "[CV 3/5] END ..................C=1, gamma=0.001;, score=0.809 total time=   1.6s\n",
      "[CV 4/5] END ..................C=1, gamma=0.001;, score=0.722 total time=   1.8s\n",
      "[CV 5/5] END ..................C=1, gamma=0.001;, score=0.765 total time=   2.1s\n",
      "[CV 1/5] END ...................C=1, gamma=0.01;, score=0.793 total time=   4.2s\n",
      "[CV 2/5] END ...................C=1, gamma=0.01;, score=0.757 total time=   3.9s\n",
      "[CV 3/5] END ...................C=1, gamma=0.01;, score=0.809 total time=   1.8s\n",
      "[CV 4/5] END ...................C=1, gamma=0.01;, score=0.722 total time=   1.7s\n",
      "[CV 5/5] END ...................C=1, gamma=0.01;, score=0.765 total time=   2.1s\n",
      "[CV 1/5] END .................C=5, gamma=0.0001;, score=0.793 total time=  22.5s\n",
      "[CV 2/5] END .................C=5, gamma=0.0001;, score=0.748 total time=  10.3s\n",
      "[CV 3/5] END .................C=5, gamma=0.0001;, score=0.817 total time=  10.7s\n",
      "[CV 4/5] END .................C=5, gamma=0.0001;, score=0.722 total time=  10.0s\n",
      "[CV 5/5] END .................C=5, gamma=0.0001;, score=0.757 total time=  12.0s\n",
      "[CV 1/5] END ..................C=5, gamma=0.001;, score=0.793 total time=  22.6s\n",
      "[CV 2/5] END ..................C=5, gamma=0.001;, score=0.748 total time=  10.3s\n",
      "[CV 3/5] END ..................C=5, gamma=0.001;, score=0.817 total time=  10.6s\n",
      "[CV 4/5] END ..................C=5, gamma=0.001;, score=0.722 total time=  10.1s\n",
      "[CV 5/5] END ..................C=5, gamma=0.001;, score=0.757 total time=  11.5s\n",
      "[CV 1/5] END ...................C=5, gamma=0.01;, score=0.793 total time=  22.9s\n",
      "[CV 2/5] END ...................C=5, gamma=0.01;, score=0.748 total time=  10.4s\n",
      "[CV 3/5] END ...................C=5, gamma=0.01;, score=0.817 total time=  10.8s\n",
      "[CV 4/5] END ...................C=5, gamma=0.01;, score=0.722 total time=  10.2s\n",
      "[CV 5/5] END ...................C=5, gamma=0.01;, score=0.757 total time=  11.4s\n",
      "[CV 1/5] END ................C=10, gamma=0.0001;, score=0.793 total time=  25.5s\n",
      "[CV 2/5] END ................C=10, gamma=0.0001;, score=0.757 total time=  24.4s\n",
      "[CV 3/5] END ................C=10, gamma=0.0001;, score=0.809 total time=  18.1s\n",
      "[CV 4/5] END ................C=10, gamma=0.0001;, score=0.730 total time=  26.4s\n",
      "[CV 5/5] END ................C=10, gamma=0.0001;, score=0.757 total time=  10.4s\n",
      "[CV 1/5] END .................C=10, gamma=0.001;, score=0.793 total time=  24.6s\n",
      "[CV 2/5] END .................C=10, gamma=0.001;, score=0.757 total time=  24.4s\n",
      "[CV 3/5] END .................C=10, gamma=0.001;, score=0.809 total time=  19.5s\n",
      "[CV 4/5] END .................C=10, gamma=0.001;, score=0.730 total time=  26.3s\n",
      "[CV 5/5] END .................C=10, gamma=0.001;, score=0.757 total time=  10.3s\n",
      "[CV 1/5] END ..................C=10, gamma=0.01;, score=0.793 total time=  24.8s\n",
      "[CV 2/5] END ..................C=10, gamma=0.01;, score=0.757 total time=  27.3s\n",
      "[CV 3/5] END ..................C=10, gamma=0.01;, score=0.809 total time=  17.3s\n",
      "[CV 4/5] END ..................C=10, gamma=0.01;, score=0.730 total time=  27.2s\n",
      "[CV 5/5] END ..................C=10, gamma=0.01;, score=0.757 total time=  10.4s\n"
     ]
    },
    {
     "data": {
      "text/plain": [
       "GridSearchCV(estimator=SVC(kernel='linear'),\n",
       "             param_grid={'C': [1, 5, 10], 'gamma': [0.0001, 0.001, 0.01]},\n",
       "             verbose=3)"
      ]
     },
     "execution_count": 22,
     "metadata": {},
     "output_type": "execute_result"
    }
   ],
   "source": [
    "# Fit the model using the grid search estimator. \n",
    "# This will take the SVC model and try each combination of parameters\n",
    "grid2.fit(X_train, y_train)"
   ]
  },
  {
   "cell_type": "code",
   "execution_count": 25,
   "id": "b1f11449",
   "metadata": {},
   "outputs": [
    {
     "name": "stdout",
     "output_type": "stream",
     "text": [
      "{'C': 1, 'gamma': 0.0001}\n"
     ]
    }
   ],
   "source": [
    "# List the best parameters for this dataset\n",
    "print(grid2.best_params_)"
   ]
  },
  {
   "cell_type": "code",
   "execution_count": 28,
   "id": "9d32b44e",
   "metadata": {},
   "outputs": [],
   "source": [
    "# Make predictions with the hypertuned model\n",
    "predictions = grid2.predict(Xd_test)"
   ]
  },
  {
   "cell_type": "code",
   "execution_count": 30,
   "id": "9e3c66ae",
   "metadata": {},
   "outputs": [
    {
     "name": "stdout",
     "output_type": "stream",
     "text": [
      "Test Acc: 0.7291666666666666\n"
     ]
    }
   ],
   "source": [
    "print(f'Test Acc: {grid2.score(Xd_test, yd_test)}')"
   ]
  },
  {
   "cell_type": "code",
   "execution_count": 31,
   "id": "f8324d82",
   "metadata": {},
   "outputs": [
    {
     "name": "stdout",
     "output_type": "stream",
     "text": [
      "              precision    recall  f1-score   support\n",
      "\n",
      "        blue       0.79      0.78      0.79       123\n",
      "         red       0.62      0.64      0.63        69\n",
      "\n",
      "    accuracy                           0.73       192\n",
      "   macro avg       0.71      0.71      0.71       192\n",
      "weighted avg       0.73      0.73      0.73       192\n",
      "\n"
     ]
    }
   ],
   "source": [
    "# Calculate classification report\n",
    "from sklearn.metrics import classification_report\n",
    "print(classification_report(yd_test, predictions,\n",
    "                            target_names=[\"blue\", \"red\"]))"
   ]
  },
  {
   "cell_type": "markdown",
   "id": "d2a5b7b1",
   "metadata": {},
   "source": [
    "## save the trained model"
   ]
  },
  {
   "cell_type": "code",
   "execution_count": 33,
   "id": "81b6b17b",
   "metadata": {},
   "outputs": [],
   "source": [
    "import pickle\n",
    "# save the model to disk\n",
    "filename = 'grid2_model.sav'\n",
    "pickle.dump(grid2, open(filename, 'wb'))"
   ]
  },
  {
   "cell_type": "code",
   "execution_count": 34,
   "id": "95fa775e",
   "metadata": {},
   "outputs": [
    {
     "name": "stdout",
     "output_type": "stream",
     "text": [
      "0.7291666666666666\n"
     ]
    }
   ],
   "source": [
    "#reload in the above model\n",
    "loaded_model = pickle.load(open(filename, 'rb'))\n",
    "result = loaded_model.score(Xd_test, yd_test)\n",
    "print(result)"
   ]
  },
  {
   "cell_type": "code",
   "execution_count": null,
   "id": "1168d4a5",
   "metadata": {},
   "outputs": [],
   "source": []
  }
 ],
 "metadata": {
  "kernelspec": {
   "display_name": "Python [conda env:pythonAdv] *",
   "language": "python",
   "name": "conda-env-pythonAdv-py"
  },
  "language_info": {
   "codemirror_mode": {
    "name": "ipython",
    "version": 3
   },
   "file_extension": ".py",
   "mimetype": "text/x-python",
   "name": "python",
   "nbconvert_exporter": "python",
   "pygments_lexer": "ipython3",
   "version": "3.6.13"
  }
 },
 "nbformat": 4,
 "nbformat_minor": 5
}
